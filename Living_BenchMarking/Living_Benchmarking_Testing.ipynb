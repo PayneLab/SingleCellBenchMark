{
 "cells": [
  {
   "cell_type": "code",
   "execution_count": 1,
   "metadata": {},
   "outputs": [],
   "source": [
    "import os\n",
    "import mokapot\n",
    "import numpy as np\n",
    "import pandas as pd\n",
    "import matplotlib.pyplot as plt\n",
    "import sys\n",
    "sys.path.append(\"..\")\n",
    "sys.path\n",
    "import data_loader as dl\n",
    "import megascript_loader as ml"
   ]
  },
  {
   "cell_type": "markdown",
   "metadata": {},
   "source": [
    "# Making our Figure with Your Data - a tutorial\n",
    "\n",
    "This notebook describes how you can compare data from an algorithm to output for algorithms that have been previously benchmarked. \n",
    "\n",
    "In order to compare your program's output to our benchmarked data, you will need to run the same raw files  through your algorithm. Begin by downloading six 2ng and six 0.2ng files from MassIVE (MSV000087689). Run these through your program and save the files. \n",
    "\n",
    "To accuratly run your files against ours, each file will need to have a \"scan\", \"decoy\", \"peptide\", and some type of probability column.\n",
    "- \"scan\" is the scan number column . \n",
    "- \"decoy\" is a boolean column that tracks whether a scan was tagged as a decoy or not. True denotes a decoy.\n",
    "- \"peptide\" is the column that has a string with the peptide found for each scan\n",
    "- The probability column that presents the score/confidence that the tool gave to a specific scan. If your tool has a  qvalue or PEP value column, use this. All of the benchmarked data's probability column are scored on a scale where 0 is the best and 1 is the worst. You will want your data's probability column to be scaled this way as well. \n"
   ]
  },
  {
   "cell_type": "markdown",
   "metadata": {},
   "source": [
    "# Part 1 - Defining Your Variables\n",
    "\n",
    "The first thing that you have to do is to tell us where your data lives, and then we can get about parsing it and working to make the figure. Once you have ran the raw files and saved the correctly formatted output files, insert the file paths into the correct spot in the input_files list below. Make sure that the right file is loaded into the right spot or your tool's output will not be correctly compared to the benchmarked data.\n",
    "\n",
    "We will also ask you to type in the name of your probability column and the name of your tool.\n",
    "\n",
    "Afterwards, we will take your data paths and put them into a list. This will make it easier for us to parse your data and make sure each file is compared to the right benchmarked files. "
   ]
  },
  {
   "cell_type": "code",
   "execution_count": 2,
   "metadata": {},
   "outputs": [],
   "source": [
    "#please fill in the actual file paths to each of these output files on your computer. Each of these files are\n",
    "#the names of the raw files that you would have ran through your tool.\n",
    "\n",
    "Ex_Auto_J3_30umTB_2ngQC_60m_1 = 'benchmark_test_file.csv'\n",
    "Ex_Auto_J3_30umTB_2ngQC_60m_2 = 'benchmark_test_file.csv'\n",
    "Ex_Auto_K13_30umTA_2ngQC_60m_1 = 'benchmark_test_file.csv'\n",
    "Ex_Auto_K13_30umTA_2ngQC_60m_2 = 'benchmark_test_file.csv'\n",
    "Ex_Auto_W17_30umTA_2ngQC_60m_3 = 'benchmark_test_file.csv'\n",
    "Ex_Auto_W17_30umTA_2ngQC_60m_4 = 'benchmark_test_file.csv'\n",
    "\n",
    "Ex_Auto_J3_30umTB_02ngQC_60m_1 = 'benchmark_test_file.csv'\n",
    "Ex_Auto_J3_30umTB_02ngQC_60m_2 = 'benchmark_test_file.csv'\n",
    "Ex_Auto_K13_30umTA_02ngQC_60m_1 = 'benchmark_test_file.csv'\n",
    "Ex_Auto_K13_30umTA_02ngQC_60m_2 = 'benchmark_test_file.csv'\n",
    "Ex_Auto_W17_30umTA_02ngQC_60m_3 = 'benchmark_test_file.csv'\n",
    "Ex_Auto_W17_30umTA_02ngQC_60m_4 = 'benchmark_test_file.csv'"
   ]
  },
  {
   "cell_type": "code",
   "execution_count": 3,
   "metadata": {},
   "outputs": [],
   "source": [
    "#Type in the name of your probability column and your tool. Afterwards, run the cell. \n",
    "\n",
    "#probability_column = \"put your probabiliy column name here\" \n",
    "#tool_name = \"type the name of your tool\"\n",
    "\n",
    "probability_column = \"probability\" #delete\n",
    "tool_name = \"New_Tool\" #Delete"
   ]
  },
  {
   "cell_type": "code",
   "execution_count": 4,
   "metadata": {},
   "outputs": [],
   "source": [
    "#Here we are simply storing your file paths into a dictionary. This will help us to make sure we compare\n",
    "#your data to the correctly benchmarked files. There is nothing you need to edit here. Simply run the cell.\n",
    "\n",
    "input_files = {} \n",
    "    #2ng files\n",
    "input_files[\"2ng_rep1\"] = Ex_Auto_J3_30umTB_2ngQC_60m_1\n",
    "input_files[\"2ng_rep2\"] = Ex_Auto_J3_30umTB_2ngQC_60m_2\n",
    "input_files[\"2ng_rep3\"] = Ex_Auto_K13_30umTA_2ngQC_60m_1\n",
    "input_files[\"2ng_rep4\"] = Ex_Auto_K13_30umTA_2ngQC_60m_2\n",
    "input_files[\"2ng_rep5\"] = Ex_Auto_W17_30umTA_2ngQC_60m_3\n",
    "input_files[\"2ng_rep6\"] = Ex_Auto_W17_30umTA_2ngQC_60m_4\n",
    "\n",
    "    #0.2ng files\n",
    "input_files[\"0.2ng_rep1\"] = Ex_Auto_J3_30umTB_02ngQC_60m_1\n",
    "input_files[\"0.2ng_rep2\"] = Ex_Auto_J3_30umTB_02ngQC_60m_2\n",
    "input_files[\"0.2ng_rep3\"] = Ex_Auto_K13_30umTA_02ngQC_60m_1\n",
    "input_files[\"0.2ng_rep4\"] = Ex_Auto_K13_30umTA_02ngQC_60m_2\n",
    "input_files[\"0.2ng_rep5\"] = Ex_Auto_W17_30umTA_02ngQC_60m_3\n",
    "input_files[\"0.2ng_rep6\"] = Ex_Auto_W17_30umTA_02ngQC_60m_4\n"
   ]
  },
  {
   "cell_type": "markdown",
   "metadata": {},
   "source": [
    "# Part 2 - Parse Your Data Into A Dataframe. \n",
    "\n",
    "Below we are going to take your input files and get them into a data frames. Each dataframe that we make will be saved. \n",
    "\n",
    "Our filter function will drop any scans that have been flagged as decoys. We will also ensure that you do not have any duplicate scan numbers. "
   ]
  },
  {
   "cell_type": "code",
   "execution_count": 5,
   "metadata": {},
   "outputs": [],
   "source": [
    "#No changes need to be made here. Please just run the cell. \n",
    "\n",
    "formatted_files = ml.filter_input(input_files, probability_column) "
   ]
  },
  {
   "cell_type": "code",
   "execution_count": 6,
   "metadata": {},
   "outputs": [
    {
     "data": {
      "text/plain": [
       "{'2ng_rep1': 'benchmark_test_file.csv',\n",
       " '2ng_rep2': 'benchmark_test_file.csv',\n",
       " '2ng_rep3': 'benchmark_test_file.csv',\n",
       " '2ng_rep4': 'benchmark_test_file.csv',\n",
       " '2ng_rep5': 'benchmark_test_file.csv',\n",
       " '2ng_rep6': 'benchmark_test_file.csv',\n",
       " '0.2ng_rep1': 'benchmark_test_file.csv',\n",
       " '0.2ng_rep2': 'benchmark_test_file.csv',\n",
       " '0.2ng_rep3': 'benchmark_test_file.csv',\n",
       " '0.2ng_rep4': 'benchmark_test_file.csv',\n",
       " '0.2ng_rep5': 'benchmark_test_file.csv',\n",
       " '0.2ng_rep6': 'benchmark_test_file.csv'}"
      ]
     },
     "execution_count": 6,
     "metadata": {},
     "output_type": "execute_result"
    }
   ],
   "source": [
    "input_files"
   ]
  },
  {
   "cell_type": "markdown",
   "metadata": {},
   "source": [
    "Now let's just look at one of your dfs/tables to make sure everying parsed correctly.\n",
    "You should have a scan and a peptide column as well as the column that you chose for the probability. "
   ]
  },
  {
   "cell_type": "code",
   "execution_count": 7,
   "metadata": {
    "scrolled": true
   },
   "outputs": [
    {
     "data": {
      "text/html": [
       "<div>\n",
       "<style scoped>\n",
       "    .dataframe tbody tr th:only-of-type {\n",
       "        vertical-align: middle;\n",
       "    }\n",
       "\n",
       "    .dataframe tbody tr th {\n",
       "        vertical-align: top;\n",
       "    }\n",
       "\n",
       "    .dataframe thead th {\n",
       "        text-align: right;\n",
       "    }\n",
       "</style>\n",
       "<table border=\"1\" class=\"dataframe\">\n",
       "  <thead>\n",
       "    <tr style=\"text-align: right;\">\n",
       "      <th></th>\n",
       "      <th>scan</th>\n",
       "      <th>peptide</th>\n",
       "      <th>probability</th>\n",
       "    </tr>\n",
       "  </thead>\n",
       "  <tbody>\n",
       "  </tbody>\n",
       "</table>\n",
       "</div>"
      ],
      "text/plain": [
       "Empty DataFrame\n",
       "Columns: [scan, peptide, probability]\n",
       "Index: []"
      ]
     },
     "execution_count": 7,
     "metadata": {},
     "output_type": "execute_result"
    }
   ],
   "source": [
    "#No need to change anything, simply run the cell to view one of your dataframes.\n",
    "\n",
    "formatted_files[\"2ng_rep1\"]"
   ]
  },
  {
   "cell_type": "markdown",
   "metadata": {},
   "source": [
    "# Part 3 - Make the MegaScripts\n",
    "For each raw file, we will join your output with our output data into a megaScript. This will allow you to see what your tools scans are finding relative to the tools that we benchamarked.\n",
    "To make the megascripts we will first read in our output for a specific raw file. We will then take our output and join your data to make the megascript. \n",
    "\n",
    "Each of the megascripts will be saved as \"benchmark_MegaScript_\" + file name + \".csv\". The file name correlates to the name of the raw files. For example, if you want to look at all the data that came from the Ex_Auto_J3_30umTB_2ngQC_60m_1 file, we can view that megascript by reading in the \"benchmark_MegaScript_Ex_Auto_J3_30umTB_2ngQC_60m_1.csv\" file.\n",
    "\n",
    "\n"
   ]
  },
  {
   "cell_type": "code",
   "execution_count": 8,
   "metadata": {
    "scrolled": true
   },
   "outputs": [],
   "source": [
    "#You do not need to input anything. Run the cell to make all your megascripts. \n",
    "\n",
    "ml.make_megascript(formatted_files, tool_name)"
   ]
  },
  {
   "cell_type": "markdown",
   "metadata": {},
   "source": [
    "We will look at one of our final megaScripts. You will see that there are 2 levels of heading for our megaScripts. We can see the probability and peptide that was found for each algorithm at a scan number. At scans where the algorithm did have an output for that scan number, the table will simply have \"Nan\". There will be spots where some tools do not have values and others did. \n",
    "\n",
    "Note: when saving a multiindexed dataframe to a .csv file, the format is not fully saved. We have to do some formatting to get it to look the way it was originally. "
   ]
  },
  {
   "cell_type": "code",
   "execution_count": 9,
   "metadata": {},
   "outputs": [
    {
     "data": {
      "text/html": [
       "<div>\n",
       "<style scoped>\n",
       "    .dataframe tbody tr th:only-of-type {\n",
       "        vertical-align: middle;\n",
       "    }\n",
       "\n",
       "    .dataframe tbody tr th {\n",
       "        vertical-align: top;\n",
       "    }\n",
       "\n",
       "    .dataframe thead tr th {\n",
       "        text-align: left;\n",
       "    }\n",
       "</style>\n",
       "<table border=\"1\" class=\"dataframe\">\n",
       "  <thead>\n",
       "    <tr>\n",
       "      <th></th>\n",
       "      <th>scan</th>\n",
       "      <th colspan=\"2\" halign=\"left\">MsFragger</th>\n",
       "      <th colspan=\"2\" halign=\"left\">MsgfPlus</th>\n",
       "      <th colspan=\"3\" halign=\"left\">MetaMorpheus</th>\n",
       "      <th colspan=\"2\" halign=\"left\">MaxQuant</th>\n",
       "      <th colspan=\"2\" halign=\"left\">New_Tool</th>\n",
       "    </tr>\n",
       "    <tr>\n",
       "      <th></th>\n",
       "      <th></th>\n",
       "      <th>peptide</th>\n",
       "      <th>Updated_probability</th>\n",
       "      <th>peptide</th>\n",
       "      <th>QValue</th>\n",
       "      <th>peptide</th>\n",
       "      <th>QValue</th>\n",
       "      <th>PEP</th>\n",
       "      <th>peptide</th>\n",
       "      <th>PEP</th>\n",
       "      <th>peptide</th>\n",
       "      <th>probability</th>\n",
       "    </tr>\n",
       "  </thead>\n",
       "  <tbody>\n",
       "    <tr>\n",
       "      <th>0</th>\n",
       "      <td>5</td>\n",
       "      <td>NaN</td>\n",
       "      <td>NaN</td>\n",
       "      <td>QSKSEHETSDAKKSVEDRGKRCPTPEIQK</td>\n",
       "      <td>0.086185</td>\n",
       "      <td>NaN</td>\n",
       "      <td>NaN</td>\n",
       "      <td>NaN</td>\n",
       "      <td>SSKAYYVLSDAAMSLQKYGR</td>\n",
       "      <td>3.24090</td>\n",
       "      <td>NaN</td>\n",
       "      <td>NaN</td>\n",
       "    </tr>\n",
       "    <tr>\n",
       "      <th>1</th>\n",
       "      <td>7</td>\n",
       "      <td>NaN</td>\n",
       "      <td>NaN</td>\n",
       "      <td>NaN</td>\n",
       "      <td>NaN</td>\n",
       "      <td>NaN</td>\n",
       "      <td>NaN</td>\n",
       "      <td>NaN</td>\n",
       "      <td>LSLLVAQEVTRLLDILGLTLVMK</td>\n",
       "      <td>5.57320</td>\n",
       "      <td>NaN</td>\n",
       "      <td>NaN</td>\n",
       "    </tr>\n",
       "    <tr>\n",
       "      <th>2</th>\n",
       "      <td>8</td>\n",
       "      <td>NaN</td>\n",
       "      <td>NaN</td>\n",
       "      <td>CTMAPFWAHSDPEEM+15.995QWR</td>\n",
       "      <td>0.307555</td>\n",
       "      <td>NaN</td>\n",
       "      <td>NaN</td>\n",
       "      <td>NaN</td>\n",
       "      <td>ELIVLLLVAAAHLR</td>\n",
       "      <td>0.45389</td>\n",
       "      <td>NaN</td>\n",
       "      <td>NaN</td>\n",
       "    </tr>\n",
       "    <tr>\n",
       "      <th>3</th>\n",
       "      <td>11</td>\n",
       "      <td>NaN</td>\n",
       "      <td>NaN</td>\n",
       "      <td>RTEDCGHCDFCRDMKK</td>\n",
       "      <td>0.303415</td>\n",
       "      <td>NaN</td>\n",
       "      <td>NaN</td>\n",
       "      <td>NaN</td>\n",
       "      <td>NaN</td>\n",
       "      <td>NaN</td>\n",
       "      <td>NaN</td>\n",
       "      <td>NaN</td>\n",
       "    </tr>\n",
       "    <tr>\n",
       "      <th>4</th>\n",
       "      <td>13</td>\n",
       "      <td>NaN</td>\n",
       "      <td>NaN</td>\n",
       "      <td>NaN</td>\n",
       "      <td>NaN</td>\n",
       "      <td>NaN</td>\n",
       "      <td>NaN</td>\n",
       "      <td>NaN</td>\n",
       "      <td>MMQCVLHVYK</td>\n",
       "      <td>0.11660</td>\n",
       "      <td>NaN</td>\n",
       "      <td>NaN</td>\n",
       "    </tr>\n",
       "    <tr>\n",
       "      <th>...</th>\n",
       "      <td>...</td>\n",
       "      <td>...</td>\n",
       "      <td>...</td>\n",
       "      <td>...</td>\n",
       "      <td>...</td>\n",
       "      <td>...</td>\n",
       "      <td>...</td>\n",
       "      <td>...</td>\n",
       "      <td>...</td>\n",
       "      <td>...</td>\n",
       "      <td>...</td>\n",
       "      <td>...</td>\n",
       "    </tr>\n",
       "    <tr>\n",
       "      <th>41802</th>\n",
       "      <td>9990</td>\n",
       "      <td>LDDPSCPRPECYR</td>\n",
       "      <td>0.0000</td>\n",
       "      <td>NaN</td>\n",
       "      <td>NaN</td>\n",
       "      <td>NaN</td>\n",
       "      <td>NaN</td>\n",
       "      <td>NaN</td>\n",
       "      <td>NaN</td>\n",
       "      <td>NaN</td>\n",
       "      <td>NaN</td>\n",
       "      <td>NaN</td>\n",
       "    </tr>\n",
       "    <tr>\n",
       "      <th>41803</th>\n",
       "      <td>9991</td>\n",
       "      <td>SDPVVSYR</td>\n",
       "      <td>0.0024</td>\n",
       "      <td>NaN</td>\n",
       "      <td>NaN</td>\n",
       "      <td>NaN</td>\n",
       "      <td>NaN</td>\n",
       "      <td>NaN</td>\n",
       "      <td>NaN</td>\n",
       "      <td>NaN</td>\n",
       "      <td>NaN</td>\n",
       "      <td>NaN</td>\n",
       "    </tr>\n",
       "    <tr>\n",
       "      <th>41804</th>\n",
       "      <td>9992</td>\n",
       "      <td>DTQEVPLEK</td>\n",
       "      <td>0.0022</td>\n",
       "      <td>NaN</td>\n",
       "      <td>NaN</td>\n",
       "      <td>NaN</td>\n",
       "      <td>NaN</td>\n",
       "      <td>NaN</td>\n",
       "      <td>NaN</td>\n",
       "      <td>NaN</td>\n",
       "      <td>NaN</td>\n",
       "      <td>NaN</td>\n",
       "    </tr>\n",
       "    <tr>\n",
       "      <th>41805</th>\n",
       "      <td>9994</td>\n",
       "      <td>RLEFENQK</td>\n",
       "      <td>0.3401</td>\n",
       "      <td>NaN</td>\n",
       "      <td>NaN</td>\n",
       "      <td>NaN</td>\n",
       "      <td>NaN</td>\n",
       "      <td>NaN</td>\n",
       "      <td>NaN</td>\n",
       "      <td>NaN</td>\n",
       "      <td>NaN</td>\n",
       "      <td>NaN</td>\n",
       "    </tr>\n",
       "    <tr>\n",
       "      <th>41806</th>\n",
       "      <td>9999</td>\n",
       "      <td>LGVTANDVK</td>\n",
       "      <td>0.0003</td>\n",
       "      <td>NaN</td>\n",
       "      <td>NaN</td>\n",
       "      <td>NaN</td>\n",
       "      <td>NaN</td>\n",
       "      <td>NaN</td>\n",
       "      <td>NaN</td>\n",
       "      <td>NaN</td>\n",
       "      <td>NaN</td>\n",
       "      <td>NaN</td>\n",
       "    </tr>\n",
       "  </tbody>\n",
       "</table>\n",
       "<p>41807 rows × 12 columns</p>\n",
       "</div>"
      ],
      "text/plain": [
       "       scan      MsFragger                                           MsgfPlus  \\\n",
       "                   peptide Updated_probability                        peptide   \n",
       "0         5            NaN                 NaN  QSKSEHETSDAKKSVEDRGKRCPTPEIQK   \n",
       "1         7            NaN                 NaN                            NaN   \n",
       "2         8            NaN                 NaN      CTMAPFWAHSDPEEM+15.995QWR   \n",
       "3        11            NaN                 NaN               RTEDCGHCDFCRDMKK   \n",
       "4        13            NaN                 NaN                            NaN   \n",
       "...     ...            ...                 ...                            ...   \n",
       "41802  9990  LDDPSCPRPECYR              0.0000                            NaN   \n",
       "41803  9991       SDPVVSYR              0.0024                            NaN   \n",
       "41804  9992      DTQEVPLEK              0.0022                            NaN   \n",
       "41805  9994       RLEFENQK              0.3401                            NaN   \n",
       "41806  9999      LGVTANDVK              0.0003                            NaN   \n",
       "\n",
       "                MetaMorpheus                            MaxQuant           \\\n",
       "         QValue      peptide QValue PEP                  peptide      PEP   \n",
       "0      0.086185          NaN    NaN NaN     SSKAYYVLSDAAMSLQKYGR  3.24090   \n",
       "1           NaN          NaN    NaN NaN  LSLLVAQEVTRLLDILGLTLVMK  5.57320   \n",
       "2      0.307555          NaN    NaN NaN           ELIVLLLVAAAHLR  0.45389   \n",
       "3      0.303415          NaN    NaN NaN                      NaN      NaN   \n",
       "4           NaN          NaN    NaN NaN               MMQCVLHVYK  0.11660   \n",
       "...         ...          ...    ...  ..                      ...      ...   \n",
       "41802       NaN          NaN    NaN NaN                      NaN      NaN   \n",
       "41803       NaN          NaN    NaN NaN                      NaN      NaN   \n",
       "41804       NaN          NaN    NaN NaN                      NaN      NaN   \n",
       "41805       NaN          NaN    NaN NaN                      NaN      NaN   \n",
       "41806       NaN          NaN    NaN NaN                      NaN      NaN   \n",
       "\n",
       "      New_Tool              \n",
       "       peptide probability  \n",
       "0          NaN         NaN  \n",
       "1          NaN         NaN  \n",
       "2          NaN         NaN  \n",
       "3          NaN         NaN  \n",
       "4          NaN         NaN  \n",
       "...        ...         ...  \n",
       "41802      NaN         NaN  \n",
       "41803      NaN         NaN  \n",
       "41804      NaN         NaN  \n",
       "41805      NaN         NaN  \n",
       "41806      NaN         NaN  \n",
       "\n",
       "[41807 rows x 12 columns]"
      ]
     },
     "execution_count": 9,
     "metadata": {},
     "output_type": "execute_result"
    }
   ],
   "source": [
    "#Formatting the megaScripts after it is read in from the csv.\n",
    "#Running this cell will take care of all the formatting; you do not need to change anything. \n",
    "\n",
    "df = pd.read_csv(\"benchmark_MegaScript_2ng_rep1.csv\", header=[0,1])\n",
    "df = df.drop(\"Unnamed: 0_level_0\", axis = 1, level = 0)\n",
    "df = df.rename(columns={'Unnamed: 1_level_1': \" \"})\n",
    "df"
   ]
  },
  {
   "cell_type": "markdown",
   "metadata": {},
   "source": [
    "# Part 4 - Make the Graphs\n",
    "We will now make the graphs that will show us how many PSMs at or below our 1% FDR cutoff each tool is finding for the relative raw files. We will make one graph for all the 2ng files and another for all the 0.2ng files. \n",
    "\n",
    "The graphs will save to your computer as '2ng_native_score.png' and '0.2ng_native_score.png'"
   ]
  },
  {
   "cell_type": "code",
   "execution_count": 10,
   "metadata": {},
   "outputs": [
    {
     "data": {
      "image/png": "[encoded data removed]",
      "text/plain": [
       "<Figure size 432x288 with 1 Axes>"
      ]
     },
     "metadata": {
      "needs_background": "light"
     },
     "output_type": "display_data"
    },
    {
     "data": {
      "text/plain": [
       "<Figure size 432x288 with 0 Axes>"
      ]
     },
     "metadata": {},
     "output_type": "display_data"
    }
   ],
   "source": [
    "#This cell makes the 2ng graph. Please just run this cell, there is no need to change anything.\n",
    "\n",
    "ml.make_2ng_graph(probability_column, tool_name) "
   ]
  },
  {
   "cell_type": "code",
   "execution_count": 11,
   "metadata": {},
   "outputs": [
    {
     "data": {
      "image/png": "[encoded data removed]",
      "text/plain": [
       "<Figure size 432x288 with 1 Axes>"
      ]
     },
     "metadata": {
      "needs_background": "light"
     },
     "output_type": "display_data"
    },
    {
     "data": {
      "text/plain": [
       "<Figure size 432x288 with 0 Axes>"
      ]
     },
     "metadata": {},
     "output_type": "display_data"
    }
   ],
   "source": [
    "#This cell makes the 0.2ng graph. Please just run this cell, there is no need to change anything.\n",
    "\n",
    "ml.make_02ng_graph(probability_column, tool_name)"
   ]
  }
 ],
 "metadata": {
  "kernelspec": {
   "display_name": "Python 3",
   "language": "python",
   "name": "python3"
  },
  "language_info": {
   "codemirror_mode": {
    "name": "ipython",
    "version": 3
   },
   "file_extension": ".py",
   "mimetype": "text/x-python",
   "name": "python",
   "nbconvert_exporter": "python",
   "pygments_lexer": "ipython3",
   "version": "3.8.3"
  }
 },
 "nbformat": 4,
 "nbformat_minor": 4
}
