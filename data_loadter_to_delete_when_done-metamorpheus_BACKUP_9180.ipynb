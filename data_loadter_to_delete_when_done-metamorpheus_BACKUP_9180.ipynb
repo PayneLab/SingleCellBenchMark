{
 "cells": [
  {
   "cell_type": "code",
<<<<<<< HEAD:data_loadter_to_delete_when_done-metamorpheus.ipynb
   "execution_count": 2,
=======
   "execution_count": 40,
>>>>>>> c2744ccc55abdbb586cb5d63bc95bcb5972525f3:metamorpheus_parser.ipynb
   "metadata": {},
   "outputs": [],
   "source": [
    "import pandas as pd\n"
   ]
  },
  {
   "cell_type": "code",
<<<<<<< HEAD:data_loadter_to_delete_when_done-metamorpheus.ipynb
   "execution_count": 11,
=======
   "execution_count": 46,
>>>>>>> c2744ccc55abdbb586cb5d63bc95bcb5972525f3:metamorpheus_parser.ipynb
   "metadata": {},
   "outputs": [],
   "source": [
    "mm_files = {}\n",
    "\n",
<<<<<<< HEAD:data_loadter_to_delete_when_done-metamorpheus.ipynb
    "mm_files[\"2ng\"] = 'data/MetaMorpheus/Ex_Auto_DrM3_30umT4_02ngQC_60m_half_PSMs.psmtsv.gz'\n",
    "mm_files[\".2ng\"] = 'data/MetaMorpheus/Ex_Auto_DrM3_30umT4_2ngQC_60m_half_PSMs.psmtsv.gz'\n",
=======
    "mm_files[\".2ng\"] = 'Ex_Auto_DrM3_30umT4_02ngQC_60m_half_PSMs.psmtsv.gz'\n",
    "mm_files[\"2ng\"] = 'Ex_Auto_DrM3_30umT4_2ngQC_60m_half_PSMs.psmtsv.gz'\n",
    "\n",
>>>>>>> c2744ccc55abdbb586cb5d63bc95bcb5972525f3:metamorpheus_parser.ipynb
    "input_file = mm_files.get('2ng')\n",
    "data = pd.read_csv(input_file, sep = '\\t')"
   ]
  },
  {
   "cell_type": "code",
<<<<<<< HEAD:data_loadter_to_delete_when_done-metamorpheus.ipynb
   "execution_count": 4,
=======
   "execution_count": 47,
>>>>>>> c2744ccc55abdbb586cb5d63bc95bcb5972525f3:metamorpheus_parser.ipynb
   "metadata": {},
   "outputs": [
    {
     "data": {
      "text/plain": [
       "Index(['File Name', 'Scan Number', 'Scan Retention Time',\n",
       "       'Num Experimental Peaks', 'Total Ion Current', 'Precursor Scan Number',\n",
       "       'Precursor Charge', 'Precursor MZ', 'Precursor Mass', 'Score',\n",
       "       'Delta Score', 'Notch', 'Base Sequence', 'Full Sequence',\n",
       "       'Essential Sequence', 'PSM Count (unambiguous, <0.01 q-value)', 'Mods',\n",
       "       'Mods Chemical Formulas', 'Mods Combined Chemical Formula',\n",
       "       'Num Variable Mods', 'Missed Cleavages', 'Peptide Monoisotopic Mass',\n",
       "       'Mass Diff (Da)', 'Mass Diff (ppm)', 'Protein Accession',\n",
       "       'Protein Name', 'Gene Name', 'Organism Name',\n",
       "       'Identified Sequence Variations', 'Splice Sites', 'Contaminant',\n",
       "       'Decoy', 'Peptide Description', 'Start and End Residues In Protein',\n",
       "       'Previous Amino Acid', 'Next Amino Acid', 'Theoreticals Searched',\n",
       "       'Decoy/Contaminant/Target', 'Matched Ion Series',\n",
       "       'Matched Ion Mass-To-Charge Ratios', 'Matched Ion Mass Diff (Da)',\n",
       "       'Matched Ion Mass Diff (Ppm)', 'Matched Ion Intensities',\n",
       "       'Matched Ion Counts', 'Normalized Spectral Angle', 'Localized Scores',\n",
       "       'Improvement Possible', 'Cumulative Target', 'Cumulative Decoy',\n",
       "       'QValue', 'Cumulative Target Notch', 'Cumulative Decoy Notch',\n",
       "       'QValue Notch', 'PEP', 'PEP_QValue'],\n",
       "      dtype='object')"
      ]
     },
<<<<<<< HEAD:data_loadter_to_delete_when_done-metamorpheus.ipynb
     "execution_count": 4,
=======
     "execution_count": 47,
>>>>>>> c2744ccc55abdbb586cb5d63bc95bcb5972525f3:metamorpheus_parser.ipynb
     "metadata": {},
     "output_type": "execute_result"
    }
   ],
   "source": [
    "data.columns"
   ]
  },
  {
   "cell_type": "code",
<<<<<<< HEAD:data_loadter_to_delete_when_done-metamorpheus.ipynb
   "execution_count": 17,
   "metadata": {},
   "outputs": [],
   "source": [
    "data = data.replace({\"Decoy\": {'Y': True, 'N': False}})"
   ]
  },
  {
   "cell_type": "code",
   "execution_count": 18,
=======
   "execution_count": 48,
>>>>>>> c2744ccc55abdbb586cb5d63bc95bcb5972525f3:metamorpheus_parser.ipynb
   "metadata": {},
   "outputs": [],
   "source": [
    "#uniform naming\n",
    "data_new = data.rename({\"Decoy\": \"decoy\", \"Scan Number\": \"scan\", \"Base Sequence\": \"peptide\"}, axis=1)"
   ]
  },
  {
   "cell_type": "code",
<<<<<<< HEAD:data_loadter_to_delete_when_done-metamorpheus.ipynb
   "execution_count": 19,
=======
   "execution_count": 49,
>>>>>>> c2744ccc55abdbb586cb5d63bc95bcb5972525f3:metamorpheus_parser.ipynb
   "metadata": {},
   "outputs": [
    {
     "data": {
      "text/html": [
       "<div>\n",
       "<style scoped>\n",
       "    .dataframe tbody tr th:only-of-type {\n",
       "        vertical-align: middle;\n",
       "    }\n",
       "\n",
       "    .dataframe tbody tr th {\n",
       "        vertical-align: top;\n",
       "    }\n",
       "\n",
       "    .dataframe thead th {\n",
       "        text-align: right;\n",
       "    }\n",
       "</style>\n",
       "<table border=\"1\" class=\"dataframe\">\n",
       "  <thead>\n",
       "    <tr style=\"text-align: right;\">\n",
       "      <th></th>\n",
       "      <th>decoy</th>\n",
       "      <th>scan</th>\n",
       "      <th>peptide</th>\n",
       "      <th>QValue</th>\n",
       "    </tr>\n",
       "  </thead>\n",
       "  <tbody>\n",
       "    <tr>\n",
       "      <th>0</th>\n",
       "      <td>False</td>\n",
       "      <td>14981</td>\n",
       "      <td>LVQDVANNTNEEAGDGTTTATVLAR</td>\n",
       "      <td>0.000001</td>\n",
       "    </tr>\n",
       "    <tr>\n",
       "      <th>1</th>\n",
       "      <td>False</td>\n",
       "      <td>10461</td>\n",
       "      <td>HVGDLGNVTADK</td>\n",
       "      <td>0.000002</td>\n",
       "    </tr>\n",
       "    <tr>\n",
       "      <th>2</th>\n",
<<<<<<< HEAD:data_loadter_to_delete_when_done-metamorpheus.ipynb
       "      <td>False</td>\n",
       "      <td>11773</td>\n",
       "      <td>PVSSAASVYAGAGGSGSR</td>\n",
       "      <td>0.000003</td>\n",
       "    </tr>\n",
       "    <tr>\n",
       "      <th>3</th>\n",
       "      <td>False</td>\n",
       "      <td>16343</td>\n",
       "      <td>VAPEEHPVLLTEAPLNPK</td>\n",
       "      <td>0.000073</td>\n",
=======
       "      <td>N</td>\n",
       "      <td>31383</td>\n",
       "      <td>TIGGGDDSFNTFFSETGAGK</td>\n",
       "      <td>0.000000</td>\n",
       "    </tr>\n",
       "    <tr>\n",
       "      <th>3</th>\n",
       "      <td>N</td>\n",
       "      <td>30597</td>\n",
       "      <td>GGMGSGGLATGIAGGLAGMGGIQNEK</td>\n",
       "      <td>0.000000</td>\n",
>>>>>>> c2744ccc55abdbb586cb5d63bc95bcb5972525f3:metamorpheus_parser.ipynb
       "    </tr>\n",
       "    <tr>\n",
       "      <th>4</th>\n",
       "      <td>False</td>\n",
       "      <td>14800</td>\n",
       "      <td>IEDLSQQAQLAAAEK</td>\n",
       "      <td>0.000001</td>\n",
       "    </tr>\n",
       "    <tr>\n",
       "      <th>...</th>\n",
       "      <td>...</td>\n",
       "      <td>...</td>\n",
       "      <td>...</td>\n",
       "      <td>...</td>\n",
       "    </tr>\n",
       "    <tr>\n",
<<<<<<< HEAD:data_loadter_to_delete_when_done-metamorpheus.ipynb
       "      <th>6809</th>\n",
       "      <td>False</td>\n",
       "      <td>17544</td>\n",
       "      <td>FGVIFAGAQK</td>\n",
       "      <td>0.135287</td>\n",
       "    </tr>\n",
       "    <tr>\n",
       "      <th>6810</th>\n",
       "      <td>True</td>\n",
       "      <td>8376</td>\n",
       "      <td>PGGSTGGRK</td>\n",
       "      <td>0.248739</td>\n",
       "    </tr>\n",
       "    <tr>\n",
       "      <th>6811</th>\n",
       "      <td>False</td>\n",
       "      <td>11620</td>\n",
       "      <td>VSAMSSPK</td>\n",
       "      <td>0.274533</td>\n",
       "    </tr>\n",
       "    <tr>\n",
       "      <th>6812</th>\n",
       "      <td>False</td>\n",
       "      <td>8946</td>\n",
       "      <td>LVDAGGVK</td>\n",
       "      <td>0.108670</td>\n",
       "    </tr>\n",
       "    <tr>\n",
       "      <th>6813</th>\n",
       "      <td>False</td>\n",
       "      <td>9430</td>\n",
       "      <td>QSAESVSK</td>\n",
       "      <td>0.247621</td>\n",
=======
       "      <th>24926</th>\n",
       "      <td>N</td>\n",
       "      <td>18301</td>\n",
       "      <td>DILHATFEESLDK</td>\n",
       "      <td>0.148627</td>\n",
       "    </tr>\n",
       "    <tr>\n",
       "      <th>24927</th>\n",
       "      <td>N</td>\n",
       "      <td>24504</td>\n",
       "      <td>DVDGFHVINVGR</td>\n",
       "      <td>0.148627</td>\n",
       "    </tr>\n",
       "    <tr>\n",
       "      <th>24928</th>\n",
       "      <td>Y</td>\n",
       "      <td>41778</td>\n",
       "      <td>ANLAEQNVVHLAELEHKTRVVEAEMSDLR</td>\n",
       "      <td>0.148652</td>\n",
       "    </tr>\n",
       "    <tr>\n",
       "      <th>24929</th>\n",
       "      <td>N</td>\n",
       "      <td>40038</td>\n",
       "      <td>EIEDAEKYSFMATVTK</td>\n",
       "      <td>0.148652</td>\n",
       "    </tr>\n",
       "    <tr>\n",
       "      <th>24930</th>\n",
       "      <td>N</td>\n",
       "      <td>21601</td>\n",
       "      <td>FDDSGSWRGR</td>\n",
       "      <td>0.148652</td>\n",
>>>>>>> c2744ccc55abdbb586cb5d63bc95bcb5972525f3:metamorpheus_parser.ipynb
       "    </tr>\n",
       "  </tbody>\n",
       "</table>\n",
       "<p>6814 rows × 4 columns</p>\n",
       "</div>"
      ],
      "text/plain": [
<<<<<<< HEAD:data_loadter_to_delete_when_done-metamorpheus.ipynb
       "      decoy   scan                    peptide  PEP_QValue\n",
       "0     False  14981  LVQDVANNTNEEAGDGTTTATVLAR    0.000001\n",
       "1     False  10461               HVGDLGNVTADK    0.000002\n",
       "2     False  11773         PVSSAASVYAGAGGSGSR    0.000003\n",
       "3     False  16343         VAPEEHPVLLTEAPLNPK    0.000073\n",
       "4     False  14800            IEDLSQQAQLAAAEK    0.000001\n",
       "...     ...    ...                        ...         ...\n",
       "6809  False  17544                 FGVIFAGAQK    0.135287\n",
       "6810   True   8376                  PGGSTGGRK    0.248739\n",
       "6811  False  11620                   VSAMSSPK    0.274533\n",
       "6812  False   8946                   LVDAGGVK    0.108670\n",
       "6813  False   9430                   QSAESVSK    0.247621\n",
=======
       "      decoy   scan                         peptide    QValue\n",
       "0         N  38422       AEGSDVANAVLDGADCIMLSGETAK  0.000000\n",
       "1         N  41542      SNYLLNTTIAGVEEADVVLLVGTNPR  0.000000\n",
       "2         N  31383            TIGGGDDSFNTFFSETGAGK  0.000000\n",
       "3         N  30597      GGMGSGGLATGIAGGLAGMGGIQNEK  0.000000\n",
       "4         N  31529  HIADLAGNSEVILPVPAFNVINGGSHAGNK  0.000000\n",
       "...     ...    ...                             ...       ...\n",
       "24926     N  18301                   DILHATFEESLDK  0.148627\n",
       "24927     N  24504                    DVDGFHVINVGR  0.148627\n",
       "24928     Y  41778   ANLAEQNVVHLAELEHKTRVVEAEMSDLR  0.148652\n",
       "24929     N  40038                EIEDAEKYSFMATVTK  0.148652\n",
       "24930     N  21601                      FDDSGSWRGR  0.148652\n",
>>>>>>> c2744ccc55abdbb586cb5d63bc95bcb5972525f3:metamorpheus_parser.ipynb
       "\n",
       "[6814 rows x 4 columns]"
      ]
     },
<<<<<<< HEAD:data_loadter_to_delete_when_done-metamorpheus.ipynb
     "execution_count": 19,
=======
     "execution_count": 49,
>>>>>>> c2744ccc55abdbb586cb5d63bc95bcb5972525f3:metamorpheus_parser.ipynb
     "metadata": {},
     "output_type": "execute_result"
    }
   ],
   "source": [
<<<<<<< HEAD:data_loadter_to_delete_when_done-metamorpheus.ipynb
    "data_new = data_new.filter((['decoy', 'scan', 'peptide','PEP_QValue' ]))"
=======
    "data_new.filter((['decoy', 'scan', 'peptide','QValue' ]))"
>>>>>>> c2744ccc55abdbb586cb5d63bc95bcb5972525f3:metamorpheus_parser.ipynb
   ]
  },
  {
   "cell_type": "code",
<<<<<<< HEAD:data_loadter_to_delete_when_done-metamorpheus.ipynb
   "execution_count": null,
   "metadata": {},
   "outputs": [],
   "source": []
  },
  {
   "cell_type": "code",
   "execution_count": 70,
   "metadata": {},
   "outputs": [],
   "source": [
    "#dropping decoys\n",
    "decoys_dropped_df = data_new[data_new.decoy != 'N']\n",
    "\n",
    "#dropping duplicate scans\n",
    "no_duplicates_df = decoys_dropped_df.drop_duplicates(subset=['scan'])\n",
    "\n",
    "#dropping duplicate sequences\n",
    "only_unique_df = no_duplicates_df.drop_duplicates(subset=['peptide'])"
   ]
  },
  {
   "cell_type": "code",
   "execution_count": 64,
=======
   "execution_count": 50,
>>>>>>> c2744ccc55abdbb586cb5d63bc95bcb5972525f3:metamorpheus_parser.ipynb
   "metadata": {},
   "outputs": [
    {
     "name": "stdout",
     "output_type": "stream",
     "text": [
      "24931\n",
      "21444\n",
      "16306\n",
      "12239\n"
     ]
    }
   ],
   "source": [
    "print(len(data_new))\n",
    "#dropping decoys\n",
    "decoys_dropped_df = data_new[data_new.decoy == 'N']\n",
    "\n",
    "print(len(decoys_dropped_df))\n",
    "\n",
    "#dropping duplicate scans\n",
    "no_duplicates_df = decoys_dropped_df.drop_duplicates(subset=['scan'])\n",
    "\n",
    "print(len(no_duplicates_df))\n",
    "\n",
    "#dropping duplicate sequences\n",
    "only_unique_df = no_duplicates_df.drop_duplicates(subset=['peptide'])\n",
    "print(len(only_unique_df))"
   ]
  },
  {
   "cell_type": "code",
   "execution_count": null,
   "metadata": {},
   "outputs": [],
   "source": []
  },
  {
   "cell_type": "code",
   "execution_count": null,
   "metadata": {},
   "outputs": [],
   "source": []
  }
 ],
 "metadata": {
  "kernelspec": {
   "display_name": "Python 3",
   "language": "python",
   "name": "python3"
  },
  "language_info": {
   "codemirror_mode": {
    "name": "ipython",
    "version": 3
   },
   "file_extension": ".py",
   "mimetype": "text/x-python",
   "name": "python",
   "nbconvert_exporter": "python",
   "pygments_lexer": "ipython3",
   "version": "3.8.3"
  }
 },
 "nbformat": 4,
 "nbformat_minor": 4
}
