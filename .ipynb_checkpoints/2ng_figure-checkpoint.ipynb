{
 "cells": [
  {
   "cell_type": "code",
   "execution_count": 10,
   "metadata": {},
   "outputs": [],
   "source": [
    "import pandas as pd\n",
    "import data_loader as dl\n",
    "import altair as alt"
   ]
  },
  {
   "cell_type": "code",
   "execution_count": 2,
   "metadata": {},
   "outputs": [],
   "source": [
    "def filter_data(df, cutoff):\n",
    "    #drop decoy\n",
    "    df = df[df[\"decoy\"]==False]\n",
    "    #drop duplicate scans\n",
    "    df = df.drop_duplicates(subset=[\"scan\"], keep=\"first\") #keep highest coring\n",
    "    #filter based on qvalue\n",
    "    df = df[df[df.columns[3]] <= cutoff]\n",
    "    return df\n"
   ]
  },
  {
   "cell_type": "code",
   "execution_count": 3,
   "metadata": {},
   "outputs": [],
   "source": [
    "msgf = dl.clean_msgfplus(\"2ng\")\n",
    "msgf_filter = filter_data(msgf, .01)\n"
   ]
  },
  {
   "cell_type": "code",
   "execution_count": 12,
   "metadata": {},
   "outputs": [
    {
     "data": {
      "text/html": [
       "<div>\n",
       "<style scoped>\n",
       "    .dataframe tbody tr th:only-of-type {\n",
       "        vertical-align: middle;\n",
       "    }\n",
       "\n",
       "    .dataframe tbody tr th {\n",
       "        vertical-align: top;\n",
       "    }\n",
       "\n",
       "    .dataframe thead th {\n",
       "        text-align: right;\n",
       "    }\n",
       "</style>\n",
       "<table border=\"1\" class=\"dataframe\">\n",
       "  <thead>\n",
       "    <tr style=\"text-align: right;\">\n",
       "      <th></th>\n",
       "      <th>decoy</th>\n",
       "      <th>scan</th>\n",
       "      <th>peptide</th>\n",
       "      <th>PEP.QValue</th>\n",
       "    </tr>\n",
       "  </thead>\n",
       "  <tbody>\n",
       "    <tr>\n",
       "      <th>12545</th>\n",
       "      <td>False</td>\n",
       "      <td>26346</td>\n",
       "      <td>AAAAAAAAAAGAAGGR</td>\n",
       "      <td>0.000000</td>\n",
       "    </tr>\n",
       "    <tr>\n",
       "      <th>12546</th>\n",
       "      <td>False</td>\n",
       "      <td>30199</td>\n",
       "      <td>TSLALDESLFR</td>\n",
       "      <td>0.000000</td>\n",
       "    </tr>\n",
       "    <tr>\n",
       "      <th>12547</th>\n",
       "      <td>False</td>\n",
       "      <td>13193</td>\n",
       "      <td>ELQNEVEK</td>\n",
       "      <td>0.001448</td>\n",
       "    </tr>\n",
       "    <tr>\n",
       "      <th>12548</th>\n",
       "      <td>False</td>\n",
       "      <td>27829</td>\n",
       "      <td>GFAYIEFSDK</td>\n",
       "      <td>0.000000</td>\n",
       "    </tr>\n",
       "    <tr>\n",
       "      <th>12550</th>\n",
       "      <td>False</td>\n",
       "      <td>37540</td>\n",
       "      <td>VLLESEQFLTELTR</td>\n",
       "      <td>0.000000</td>\n",
       "    </tr>\n",
       "    <tr>\n",
       "      <th>...</th>\n",
       "      <td>...</td>\n",
       "      <td>...</td>\n",
       "      <td>...</td>\n",
       "      <td>...</td>\n",
       "    </tr>\n",
       "    <tr>\n",
       "      <th>48798</th>\n",
       "      <td>False</td>\n",
       "      <td>14359</td>\n",
       "      <td>YISAAPGAEAK</td>\n",
       "      <td>0.000149</td>\n",
       "    </tr>\n",
       "    <tr>\n",
       "      <th>48822</th>\n",
       "      <td>False</td>\n",
       "      <td>29781</td>\n",
       "      <td>YIMVPSGNMGVFDPTEIHNR</td>\n",
       "      <td>0.000000</td>\n",
       "    </tr>\n",
       "    <tr>\n",
       "      <th>48841</th>\n",
       "      <td>False</td>\n",
       "      <td>30015</td>\n",
       "      <td>YLVQDTDEFILPTGANK</td>\n",
       "      <td>0.000783</td>\n",
       "    </tr>\n",
       "    <tr>\n",
       "      <th>48857</th>\n",
       "      <td>False</td>\n",
       "      <td>15759</td>\n",
       "      <td>YQIDDKPNNQIR</td>\n",
       "      <td>0.000050</td>\n",
       "    </tr>\n",
       "    <tr>\n",
       "      <th>48864</th>\n",
       "      <td>False</td>\n",
       "      <td>15324</td>\n",
       "      <td>YRPGTVALR</td>\n",
       "      <td>0.000050</td>\n",
       "    </tr>\n",
       "  </tbody>\n",
       "</table>\n",
       "<p>14642 rows × 4 columns</p>\n",
       "</div>"
      ],
      "text/plain": [
       "       decoy   scan               peptide  PEP.QValue\n",
       "12545  False  26346      AAAAAAAAAAGAAGGR    0.000000\n",
       "12546  False  30199           TSLALDESLFR    0.000000\n",
       "12547  False  13193              ELQNEVEK    0.001448\n",
       "12548  False  27829            GFAYIEFSDK    0.000000\n",
       "12550  False  37540        VLLESEQFLTELTR    0.000000\n",
       "...      ...    ...                   ...         ...\n",
       "48798  False  14359           YISAAPGAEAK    0.000149\n",
       "48822  False  29781  YIMVPSGNMGVFDPTEIHNR    0.000000\n",
       "48841  False  30015     YLVQDTDEFILPTGANK    0.000783\n",
       "48857  False  15759          YQIDDKPNNQIR    0.000050\n",
       "48864  False  15324             YRPGTVALR    0.000050\n",
       "\n",
       "[14642 rows x 4 columns]"
      ]
     },
     "execution_count": 12,
     "metadata": {},
     "output_type": "execute_result"
    }
   ],
   "source": [
    "spec = dl.clean_spectromine(\"2ng\")\n",
    "spec_filter = filter_data(spec, .01)"
   ]
  },
  {
   "cell_type": "code",
   "execution_count": 5,
   "metadata": {},
   "outputs": [],
   "source": [
    "msf = dl.clean_msfragger(\"2ng\")\n",
    "msf_filter = filter_data(msf, .01)"
   ]
  },
  {
   "cell_type": "code",
   "execution_count": 6,
   "metadata": {},
   "outputs": [],
   "source": [
    "meta = dl.clean_metamorph(\"2ng\")\n",
    "meta_filter = filter_data(meta, .01)"
   ]
  },
  {
   "cell_type": "code",
   "execution_count": 8,
   "metadata": {},
   "outputs": [
    {
     "name": "stdout",
     "output_type": "stream",
     "text": [
      ".2ng\n",
      "2ng\n"
     ]
    }
   ],
   "source": [
    "#look through all the files and get pep and scan #s\n",
    "files = [\".2ng\", \"2ng\"]\n",
    "\n",
    "file_names = []\n",
    "prog_type = []\n",
    "pep =[]\n",
    "scan = []\n",
    "\n",
    "for file in files:\n",
    "    print(file)\n",
    "    file_names.append(file)\n",
    "    prog_type.append(\"msgf\")\n",
    "    msgf = dl.clean_msgfplus(\"2ng\")\n",
    "    msgf_filter = filter_data(msgf, .01)\n",
    "    pep.append(msgf_filter[\"peptide\"].nunique())\n",
    "    scan.append(msgf_filter[\"scan\"].nunique())\n",
    "\n",
    "    prog_type.append(\"spectro\")\n",
    "    file_names.append(file)\n",
    "    spec = dl.clean_spectromine(\"2ng\")\n",
    "    spec_filter = filter_data(spec, .01)\n",
    "    pep.append(spec_filter[\"peptide\"].nunique())\n",
    "    scan.append(spec_filter[\"scan\"].nunique())\n",
    "\n",
    "    prog_type.append(\"msfragger\")\n",
    "    file_names.append(file)\n",
    "    msf = dl.clean_msfragger(\"2ng\")\n",
    "    msf_filter = filter_data(msf, .01)\n",
    "    pep.append(msf_filter[\"peptide\"].nunique())\n",
    "    scan.append(msf_filter[\"scan\"].nunique())\n",
    "\n",
    "    prog_type.append(\"metamorph\")\n",
    "    file_names.append(file)\n",
    "    meta = dl.clean_metamorph(\"2ng\")\n",
    "    meta_filter = filter_data(meta, .01)\n",
    "    pep.append(meta_filter[\"peptide\"].nunique())\n",
    "    scan.append(meta_filter[\"scan\"].nunique())\n",
    "\n"
   ]
  },
  {
   "cell_type": "code",
   "execution_count": 9,
   "metadata": {},
   "outputs": [],
   "source": [
    "source = pd.DataFrame({\n",
    "    'file': file_names,\n",
    "    'prog_type': prog_type,\n",
    "    \n",
    "    \"pep\":pep,\n",
    "    \"scan\":scan\n",
    "})"
   ]
  },
  {
   "cell_type": "code",
   "execution_count": 11,
   "metadata": {},
   "outputs": [
    {
     "data": {
      "text/html": [
       "\n",
       "<div id=\"altair-viz-66c72ab91008434aaf120a0e56d27af4\"></div>\n",
       "<script type=\"text/javascript\">\n",
       "  (function(spec, embedOpt){\n",
       "    let outputDiv = document.currentScript.previousElementSibling;\n",
       "    if (outputDiv.id !== \"altair-viz-66c72ab91008434aaf120a0e56d27af4\") {\n",
       "      outputDiv = document.getElementById(\"altair-viz-66c72ab91008434aaf120a0e56d27af4\");\n",
       "    }\n",
       "    const paths = {\n",
       "      \"vega\": \"https://cdn.jsdelivr.net/npm//vega@5?noext\",\n",
       "      \"vega-lib\": \"https://cdn.jsdelivr.net/npm//vega-lib?noext\",\n",
       "      \"vega-lite\": \"https://cdn.jsdelivr.net/npm//vega-lite@4.8.1?noext\",\n",
       "      \"vega-embed\": \"https://cdn.jsdelivr.net/npm//vega-embed@6?noext\",\n",
       "    };\n",
       "\n",
       "    function loadScript(lib) {\n",
       "      return new Promise(function(resolve, reject) {\n",
       "        var s = document.createElement('script');\n",
       "        s.src = paths[lib];\n",
       "        s.async = true;\n",
       "        s.onload = () => resolve(paths[lib]);\n",
       "        s.onerror = () => reject(`Error loading script: ${paths[lib]}`);\n",
       "        document.getElementsByTagName(\"head\")[0].appendChild(s);\n",
       "      });\n",
       "    }\n",
       "\n",
       "    function showError(err) {\n",
       "      outputDiv.innerHTML = `<div class=\"error\" style=\"color:red;\">${err}</div>`;\n",
       "      throw err;\n",
       "    }\n",
       "\n",
       "    function displayChart(vegaEmbed) {\n",
       "      vegaEmbed(outputDiv, spec, embedOpt)\n",
       "        .catch(err => showError(`Javascript Error: ${err.message}<br>This usually means there's a typo in your chart specification. See the javascript console for the full traceback.`));\n",
       "    }\n",
       "\n",
       "    if(typeof define === \"function\" && define.amd) {\n",
       "      requirejs.config({paths});\n",
       "      require([\"vega-embed\"], displayChart, err => showError(`Error loading script: ${err.message}`));\n",
       "    } else if (typeof vegaEmbed === \"function\") {\n",
       "      displayChart(vegaEmbed);\n",
       "    } else {\n",
       "      loadScript(\"vega\")\n",
       "        .then(() => loadScript(\"vega-lite\"))\n",
       "        .then(() => loadScript(\"vega-embed\"))\n",
       "        .catch(showError)\n",
       "        .then(() => displayChart(vegaEmbed));\n",
       "    }\n",
       "  })({\"config\": {\"view\": {\"continuousWidth\": 400, \"continuousHeight\": 300}}, \"data\": {\"name\": \"data-cb46dcc1c5c42018d70755d018064833\"}, \"mark\": \"bar\", \"encoding\": {\"column\": {\"type\": \"nominal\", \"field\": \"file\"}, \"x\": {\"type\": \"nominal\", \"field\": \"prog_type\"}, \"y\": {\"type\": \"quantitative\", \"field\": \"scan\"}}, \"$schema\": \"https://vega.github.io/schema/vega-lite/v4.8.1.json\", \"datasets\": {\"data-cb46dcc1c5c42018d70755d018064833\": [{\"file\": \".2ng\", \"prog_type\": \"msgf\", \"pep\": 4089, \"scan\": 4385}, {\"file\": \".2ng\", \"prog_type\": \"spectro\", \"pep\": 10921, \"scan\": 14642}, {\"file\": \".2ng\", \"prog_type\": \"msfragger\", \"pep\": 0, \"scan\": 0}, {\"file\": \".2ng\", \"prog_type\": \"metamorph\", \"pep\": 3893, \"scan\": 4632}, {\"file\": \"2ng\", \"prog_type\": \"msgf\", \"pep\": 4089, \"scan\": 4385}, {\"file\": \"2ng\", \"prog_type\": \"spectro\", \"pep\": 10921, \"scan\": 14642}, {\"file\": \"2ng\", \"prog_type\": \"msfragger\", \"pep\": 0, \"scan\": 0}, {\"file\": \"2ng\", \"prog_type\": \"metamorph\", \"pep\": 3893, \"scan\": 4632}]}}, {\"mode\": \"vega-lite\"});\n",
       "</script>"
      ],
      "text/plain": [
       "alt.Chart(...)"
      ]
     },
     "execution_count": 11,
     "metadata": {},
     "output_type": "execute_result"
    }
   ],
   "source": [
    "#completely filtered\n",
    "alt.Chart(source).mark_bar().encode(\n",
    "    x='prog_type',\n",
    "    y='scan',\n",
    "    column=\"file\"\n",
    ")"
   ]
  },
  {
   "cell_type": "code",
   "execution_count": 17,
   "metadata": {},
   "outputs": [],
   "source": [
    "def filter_data_no_cut(df):\n",
    "    #drop decoy\n",
    "    df = df[df[\"decoy\"]==False]\n",
    "    #drop duplicate scans\n",
    "    df = df.drop_duplicates(subset=[\"scan\"], keep=\"first\") #keep highest coring\n",
    "    #filter based on qvalue\n",
    "#     df = df[df[df.columns[3]] <= cutoff]\n",
    "    return df"
   ]
  },
  {
   "cell_type": "code",
   "execution_count": 18,
   "metadata": {},
   "outputs": [
    {
     "name": "stdout",
     "output_type": "stream",
     "text": [
      ".2ng\n",
      "2ng\n"
     ]
    }
   ],
   "source": [
    "#look through all the files and get pep and scan #s\n",
    "files = [\".2ng\", \"2ng\"]\n",
    "\n",
    "file_names = []\n",
    "prog_type = []\n",
    "pep =[]\n",
    "scan = []\n",
    "\n",
    "for file in files:\n",
    "    print(file)\n",
    "    file_names.append(file)\n",
    "    prog_type.append(\"msgf\")\n",
    "    msgf = dl.clean_msgfplus(file)\n",
    "    msgf_filter = filter_data_no_cut(msgf)\n",
    "    pep.append(msgf_filter[\"peptide\"].nunique())\n",
    "    scan.append(msgf_filter[\"scan\"].nunique())\n",
    "\n",
    "    prog_type.append(\"spectro\")\n",
    "    file_names.append(file)\n",
    "    spec = dl.clean_spectromine(file)\n",
    "    spec_filter = filter_data_no_cut(spec)\n",
    "    pep.append(spec_filter[\"peptide\"].nunique())\n",
    "    scan.append(spec_filter[\"scan\"].nunique())\n",
    "\n",
    "    prog_type.append(\"msfragger\")\n",
    "    file_names.append(file)\n",
    "    msf = dl.clean_msfragger(file)\n",
    "    msf_filter = filter_data_no_cut(msf)\n",
    "    pep.append(msf_filter[\"peptide\"].nunique())\n",
    "    scan.append(msf_filter[\"scan\"].nunique())\n",
    "\n",
    "    prog_type.append(\"metamorph\")\n",
    "    file_names.append(file)\n",
    "    meta = dl.clean_metamorph(file)\n",
    "    meta_filter = filter_data_no_cut(meta)\n",
    "    pep.append(meta_filter[\"peptide\"].nunique())\n",
    "    scan.append(meta_filter[\"scan\"].nunique())\n"
   ]
  },
  {
   "cell_type": "code",
   "execution_count": 19,
   "metadata": {},
   "outputs": [],
   "source": [
    "source2 = pd.DataFrame({\n",
    "    'file': file_names,\n",
    "    'prog_type': prog_type,\n",
    "    \n",
    "    \"pep\":pep,\n",
    "    \"scan\":scan\n",
    "})"
   ]
  },
  {
   "cell_type": "code",
   "execution_count": 20,
   "metadata": {},
   "outputs": [
    {
     "data": {
      "text/html": [
       "\n",
       "<div id=\"altair-viz-602d06947b364cf69bf9209c7950c4a1\"></div>\n",
       "<script type=\"text/javascript\">\n",
       "  (function(spec, embedOpt){\n",
       "    let outputDiv = document.currentScript.previousElementSibling;\n",
       "    if (outputDiv.id !== \"altair-viz-602d06947b364cf69bf9209c7950c4a1\") {\n",
       "      outputDiv = document.getElementById(\"altair-viz-602d06947b364cf69bf9209c7950c4a1\");\n",
       "    }\n",
       "    const paths = {\n",
       "      \"vega\": \"https://cdn.jsdelivr.net/npm//vega@5?noext\",\n",
       "      \"vega-lib\": \"https://cdn.jsdelivr.net/npm//vega-lib?noext\",\n",
       "      \"vega-lite\": \"https://cdn.jsdelivr.net/npm//vega-lite@4.8.1?noext\",\n",
       "      \"vega-embed\": \"https://cdn.jsdelivr.net/npm//vega-embed@6?noext\",\n",
       "    };\n",
       "\n",
       "    function loadScript(lib) {\n",
       "      return new Promise(function(resolve, reject) {\n",
       "        var s = document.createElement('script');\n",
       "        s.src = paths[lib];\n",
       "        s.async = true;\n",
       "        s.onload = () => resolve(paths[lib]);\n",
       "        s.onerror = () => reject(`Error loading script: ${paths[lib]}`);\n",
       "        document.getElementsByTagName(\"head\")[0].appendChild(s);\n",
       "      });\n",
       "    }\n",
       "\n",
       "    function showError(err) {\n",
       "      outputDiv.innerHTML = `<div class=\"error\" style=\"color:red;\">${err}</div>`;\n",
       "      throw err;\n",
       "    }\n",
       "\n",
       "    function displayChart(vegaEmbed) {\n",
       "      vegaEmbed(outputDiv, spec, embedOpt)\n",
       "        .catch(err => showError(`Javascript Error: ${err.message}<br>This usually means there's a typo in your chart specification. See the javascript console for the full traceback.`));\n",
       "    }\n",
       "\n",
       "    if(typeof define === \"function\" && define.amd) {\n",
       "      requirejs.config({paths});\n",
       "      require([\"vega-embed\"], displayChart, err => showError(`Error loading script: ${err.message}`));\n",
       "    } else if (typeof vegaEmbed === \"function\") {\n",
       "      displayChart(vegaEmbed);\n",
       "    } else {\n",
       "      loadScript(\"vega\")\n",
       "        .then(() => loadScript(\"vega-lite\"))\n",
       "        .then(() => loadScript(\"vega-embed\"))\n",
       "        .catch(showError)\n",
       "        .then(() => displayChart(vegaEmbed));\n",
       "    }\n",
       "  })({\"config\": {\"view\": {\"continuousWidth\": 400, \"continuousHeight\": 300}}, \"data\": {\"name\": \"data-c151436e21760242ab3c30904a686229\"}, \"mark\": \"bar\", \"encoding\": {\"column\": {\"type\": \"nominal\", \"field\": \"file\"}, \"x\": {\"type\": \"nominal\", \"field\": \"prog_type\"}, \"y\": {\"type\": \"quantitative\", \"field\": \"scan\"}}, \"$schema\": \"https://vega.github.io/schema/vega-lite/v4.8.1.json\", \"datasets\": {\"data-c151436e21760242ab3c30904a686229\": [{\"file\": \".2ng\", \"prog_type\": \"msgf\", \"pep\": 9027, \"scan\": 10152}, {\"file\": \".2ng\", \"prog_type\": \"spectro\", \"pep\": 16185, \"scan\": 20126}, {\"file\": \".2ng\", \"prog_type\": \"msfragger\", \"pep\": 11502, \"scan\": 13487}, {\"file\": \".2ng\", \"prog_type\": \"metamorph\", \"pep\": 4708, \"scan\": 5568}, {\"file\": \"2ng\", \"prog_type\": \"msgf\", \"pep\": 9027, \"scan\": 10152}, {\"file\": \"2ng\", \"prog_type\": \"spectro\", \"pep\": 16185, \"scan\": 20126}, {\"file\": \"2ng\", \"prog_type\": \"msfragger\", \"pep\": 11502, \"scan\": 13487}, {\"file\": \"2ng\", \"prog_type\": \"metamorph\", \"pep\": 4708, \"scan\": 5568}]}}, {\"mode\": \"vega-lite\"});\n",
       "</script>"
      ],
      "text/plain": [
       "alt.Chart(...)"
      ]
     },
     "execution_count": 20,
     "metadata": {},
     "output_type": "execute_result"
    }
   ],
   "source": [
    "#completely filtered\n",
    "alt.Chart(source2).mark_bar().encode(\n",
    "    x='prog_type',\n",
    "    y='scan',\n",
    "    column=\"file\"\n",
    ")"
   ]
  }
 ],
 "metadata": {
  "kernelspec": {
   "display_name": "Python 3",
   "language": "python",
   "name": "python3"
  },
  "language_info": {
   "codemirror_mode": {
    "name": "ipython",
    "version": 3
   },
   "file_extension": ".py",
   "mimetype": "text/x-python",
   "name": "python",
   "nbconvert_exporter": "python",
   "pygments_lexer": "ipython3",
   "version": "3.8.3"
  }
 },
 "nbformat": 4,
 "nbformat_minor": 4
}
