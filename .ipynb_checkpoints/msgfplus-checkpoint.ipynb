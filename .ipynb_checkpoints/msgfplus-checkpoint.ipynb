{
 "cells": [
  {
   "cell_type": "code",
   "execution_count": 1,
   "metadata": {},
   "outputs": [],
   "source": [
    "import pandas as pd"
   ]
  },
  {
   "cell_type": "code",
   "execution_count": 2,
   "metadata": {},
   "outputs": [],
   "source": [
    "import data_loader"
   ]
  },
  {
   "cell_type": "code",
   "execution_count": 3,
   "metadata": {},
   "outputs": [
    {
     "name": "stdout",
     "output_type": "stream",
     "text": [
      "Number of unique peptides:  607 Number of unique spectra:  624\n"
     ]
    }
   ],
   "source": [
    "df = data_loader.load_and_clean(1)\n",
    "data_loader.print_stats(df)"
   ]
  },
  {
   "cell_type": "code",
   "execution_count": 4,
   "metadata": {},
   "outputs": [
    {
     "name": "stdout",
     "output_type": "stream",
     "text": [
      "Number of unique peptides:  2068 Number of unique spectra:  2290\n"
     ]
    }
   ],
   "source": [
    "df = data_loader.load_and_clean(2)\n",
    "data_loader.print_stats(df)"
   ]
  },
  {
   "cell_type": "code",
   "execution_count": 5,
   "metadata": {},
   "outputs": [
    {
     "name": "stdout",
     "output_type": "stream",
     "text": [
      "Number of unique peptides:  1641 Number of unique spectra:  1759\n"
     ]
    }
   ],
   "source": [
    "df = data_loader.load_and_clean(3)\n",
    "data_loader.print_stats(df)"
   ]
  },
  {
   "cell_type": "code",
   "execution_count": 6,
   "metadata": {},
   "outputs": [
    {
     "name": "stdout",
     "output_type": "stream",
     "text": [
      "Number of unique peptides:  1446 Number of unique spectra:  1547\n"
     ]
    }
   ],
   "source": [
    "df = data_loader.load_and_clean(4)\n",
    "data_loader.print_stats(df)"
   ]
  },
  {
   "cell_type": "code",
   "execution_count": 7,
   "metadata": {},
   "outputs": [
    {
     "name": "stdout",
     "output_type": "stream",
     "text": [
      "Number of unique peptides:  1472 Number of unique spectra:  1571\n"
     ]
    }
   ],
   "source": [
    "df = data_loader.load_and_clean(5)\n",
    "data_loader.print_stats(df)"
   ]
  },
  {
   "cell_type": "code",
   "execution_count": 8,
   "metadata": {},
   "outputs": [
    {
     "name": "stdout",
     "output_type": "stream",
     "text": [
      "Number of unique peptides:  8755 Number of unique spectra:  9577\n"
     ]
    }
   ],
   "source": [
    "df = data_loader.load_and_clean(6)\n",
    "data_loader.print_stats(df)"
   ]
  },
  {
   "cell_type": "code",
   "execution_count": 9,
   "metadata": {},
   "outputs": [
    {
     "name": "stdout",
     "output_type": "stream",
     "text": [
      "Number of unique peptides:  8653 Number of unique spectra:  9521\n"
     ]
    }
   ],
   "source": [
    "df = data_loader.load_and_clean(7)\n",
    "data_loader.print_stats(df)"
   ]
  },
  {
   "cell_type": "code",
   "execution_count": 10,
   "metadata": {},
   "outputs": [
    {
     "name": "stdout",
     "output_type": "stream",
     "text": [
      "Number of unique peptides:  8911 Number of unique spectra:  9800\n"
     ]
    }
   ],
   "source": [
    "df = data_loader.load_and_clean(8)\n",
    "data_loader.print_stats(df)"
   ]
  },
  {
   "cell_type": "code",
   "execution_count": 11,
   "metadata": {},
   "outputs": [
    {
     "name": "stdout",
     "output_type": "stream",
     "text": [
      "Number of unique peptides:  8752 Number of unique spectra:  9595\n"
     ]
    }
   ],
   "source": [
    "df = data_loader.load_and_clean(9)\n",
    "data_loader.print_stats(df)"
   ]
  },
  {
   "cell_type": "code",
   "execution_count": 12,
   "metadata": {},
   "outputs": [
    {
     "name": "stdout",
     "output_type": "stream",
     "text": [
      "Number of unique peptides:  8591 Number of unique spectra:  9455\n"
     ]
    }
   ],
   "source": [
    "df = data_loader.load_and_clean(10)\n",
    "data_loader.print_stats(df)"
   ]
  },
  {
   "cell_type": "code",
   "execution_count": 13,
   "metadata": {},
   "outputs": [
    {
     "name": "stdout",
     "output_type": "stream",
     "text": [
      "Number of unique peptides:  5437 Number of unique spectra:  5774\n"
     ]
    }
   ],
   "source": [
    "df = data_loader.load_and_clean(11)\n",
    "data_loader.print_stats(df)"
   ]
  },
  {
   "cell_type": "code",
   "execution_count": null,
   "metadata": {},
   "outputs": [],
   "source": []
  },
  {
   "cell_type": "code",
   "execution_count": null,
   "metadata": {},
   "outputs": [],
   "source": []
  },
  {
   "cell_type": "code",
   "execution_count": null,
   "metadata": {},
   "outputs": [],
   "source": []
  },
  {
   "cell_type": "code",
   "execution_count": null,
   "metadata": {},
   "outputs": [],
   "source": []
  },
  {
   "cell_type": "code",
   "execution_count": null,
   "metadata": {},
   "outputs": [],
   "source": []
  },
  {
   "cell_type": "code",
   "execution_count": 14,
   "metadata": {},
   "outputs": [],
   "source": [
    "#Find how many unique peptides there are\n",
    "unique_pep = df['new_peptide'].nunique()\n",
    "number_uniq_pep = df['new_peptide'].nunique()\n",
    "\n",
    "#fine how many unique spectra there are\n",
    "number_spectra = df[\"SpecID\"].nunique()"
   ]
  },
  {
   "cell_type": "code",
   "execution_count": 15,
   "metadata": {},
   "outputs": [
    {
     "name": "stdout",
     "output_type": "stream",
     "text": [
      "5437 5774\n"
     ]
    }
   ],
   "source": [
    "print(number_uniq_pep, number_spectra)"
   ]
  }
 ],
 "metadata": {
  "kernelspec": {
   "display_name": "Python 3",
   "language": "python",
   "name": "python3"
  },
  "language_info": {
   "codemirror_mode": {
    "name": "ipython",
    "version": 3
   },
   "file_extension": ".py",
   "mimetype": "text/x-python",
   "name": "python",
   "nbconvert_exporter": "python",
   "pygments_lexer": "ipython3",
   "version": "3.8.3"
  }
 },
 "nbformat": 4,
 "nbformat_minor": 4
}
