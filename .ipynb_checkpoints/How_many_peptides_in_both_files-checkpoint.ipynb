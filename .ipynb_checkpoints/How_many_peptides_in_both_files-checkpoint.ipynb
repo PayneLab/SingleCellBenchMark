{
 "cells": [
  {
   "cell_type": "code",
   "execution_count": 1,
   "metadata": {},
   "outputs": [],
   "source": [
    "import pandas as pd\n",
    "import numpy as np\n",
    "import data_loader as dl"
   ]
  },
  {
   "cell_type": "code",
   "execution_count": 103,
   "metadata": {},
   "outputs": [],
   "source": [
    "bulk = pd.read_csv(\"~/Payne/bulk_data_vs_2ng/PRF_Q_2019_R_OHI_92_47583_psm.tsv\", sep=\"\\t\")\n",
    "ng = pd.read_csv(\"~/Payne/bulk_data_vs_2ng/Ex_Auto_DrM3_30umT4_2ngQC_60m_half_PSMs.psmtsv.gz\", sep=\"\\t\")"
   ]
  },
  {
   "cell_type": "code",
   "execution_count": 98,
   "metadata": {},
   "outputs": [],
   "source": [
    "def format_oxidation(row, column, to_replace):\n",
    "    peptide = row[column]\n",
    "#     print(to_replace)\n",
    "    replace_with = \"+15.995\"\n",
    "    if pd.isna(peptide):\n",
    "        new_pep = peptide\n",
    "    else:\n",
    "        if to_replace in peptide:\n",
    "            new_pep = peptide.replace(to_replace, replace_with)\n",
    "        else:\n",
    "            new_pep = peptide\n",
    "    return new_pep\n",
    "\n",
    "def format_carbamidomethyl(row, column, to_replace):\n",
    "    peptide = row[column]\n",
    "#     print(to_replace)\n",
    "    replace_with = \"\"\n",
    "    if pd.isna(peptide):\n",
    "        new_pep = peptide\n",
    "    else:\n",
    "        if to_replace in peptide:\n",
    "            new_pep = peptide.replace(to_replace, replace_with)\n",
    "        else:\n",
    "            new_pep = peptide\n",
    "    return new_pep\n",
    "\n",
    "def format_modification(row, column):\n",
    "    peptide = row[column]\n",
    "    if pd.isna(peptide):\n",
    "        return(peptide)\n",
    "    else:\n",
    "        if \"147\" in peptide:\n",
    "            peptide = peptide.replace(\"[147]\", \"+15.995\")\n",
    "        if \"160\" in peptide:\n",
    "            peptide = peptide.replace(\"[160]\", \"\")\n",
    "        else:\n",
    "            return(peptide)\n",
    "    return(peptide)"
   ]
  },
  {
   "cell_type": "code",
   "execution_count": 104,
   "metadata": {},
   "outputs": [],
   "source": [
    "bulk[\"temp\"] =  bulk.apply(lambda row: format_modification(row, \"Modified Peptide\"), axis=1)"
   ]
  },
  {
   "cell_type": "code",
   "execution_count": null,
   "metadata": {},
   "outputs": [],
   "source": [
    "ng = "
   ]
  },
  {
   "cell_type": "code",
   "execution_count": 107,
   "metadata": {},
   "outputs": [
    {
     "data": {
      "text/plain": [
       "8272"
      ]
     },
     "execution_count": 107,
     "metadata": {},
     "output_type": "execute_result"
    }
   ],
   "source": [
    "len(list(set(ng[\"Base Sequence\"]).intersection(set(bulk[\"Peptide\"]))))"
   ]
  },
  {
   "cell_type": "code",
   "execution_count": null,
   "metadata": {},
   "outputs": [],
   "source": []
  }
 ],
 "metadata": {
  "kernelspec": {
   "display_name": "Python 3",
   "language": "python",
   "name": "python3"
  },
  "language_info": {
   "codemirror_mode": {
    "name": "ipython",
    "version": 3
   },
   "file_extension": ".py",
   "mimetype": "text/x-python",
   "name": "python",
   "nbconvert_exporter": "python",
   "pygments_lexer": "ipython3",
   "version": "3.8.3"
  }
 },
 "nbformat": 4,
 "nbformat_minor": 4
}
