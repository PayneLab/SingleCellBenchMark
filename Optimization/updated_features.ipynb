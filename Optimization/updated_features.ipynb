{
 "cells": [
  {
   "cell_type": "markdown",
   "metadata": {},
   "source": [
    "The purpose of this notebook is to test whether adding the addition features of the number of max consecutive y peaks, percent of y peaks in a ladder, and the absolute difference between predicted retention time and actual retention time, helps MokaPot to score more PSMs below a certain cuttoff. "
   ]
  },
  {
   "cell_type": "code",
   "execution_count": 1,
   "metadata": {},
   "outputs": [],
   "source": [
    "import os\n",
    "import mokapot\n",
    "import numpy as np\n",
    "import pandas as pd\n",
    "import matplotlib.pyplot as plt\n",
    "import sys\n",
    "sys.path.append(\"..\")\n",
    "sys.path\n",
    "import data_loader as dl\n",
    "import scipy.stats as stats"
   ]
  },
  {
   "cell_type": "markdown",
   "metadata": {},
   "source": [
    "The purpose of this function is to clean up the original 'before' data so that we are not counting decoys or duplicate scans. AutoRT will not accept \"U\"s in the peptide sequence, so we are removing one scan from our data set that has this in it. "
   ]
  },
  {
   "cell_type": "code",
   "execution_count": 2,
   "metadata": {},
   "outputs": [],
   "source": [
    "def filter_data(df, prob_column):\n",
    "     #drop decoys\n",
    "    df = df[df[\"decoy\"]== False]\n",
    "    #sort by qvalue\n",
    "    df = df.sort_values(prob_column)\n",
    "    #Drop duplicates\n",
    "    df = df.drop_duplicates(subset=[\"scan\"], keep=\"first\") #keep highest scoring\n",
    "    \n",
    "    df = df.loc[~(df[\"Peptide\"].str.contains(\"U\"))] #removing the U\n",
    "\n",
    "    return df"
   ]
  },
  {
   "cell_type": "markdown",
   "metadata": {},
   "source": [
    "This gives us the before data. It will not be run through MokaPot. It's purpose is to give us the ability to count how many PSMs originally are at or under a specific cutoff and compare that to the number we get after we run the data through MokaPot. "
   ]
  },
  {
   "cell_type": "code",
   "execution_count": 3,
   "metadata": {},
   "outputs": [],
   "source": [
    "def get_PreMokaPot_data(file):\n",
    "    data = dl.clean_metamorph(file)\n",
    "    data = filter_data(data,'QValue')\n",
    "    return data"
   ]
  },
  {
   "cell_type": "markdown",
   "metadata": {},
   "source": [
    "This reads in and cleans the data that will be run through MokaPot. MetaMorphues has a special output file that is formatted to be able to run through MokaPot."
   ]
  },
  {
   "cell_type": "code",
   "execution_count": 4,
   "metadata": {},
   "outputs": [],
   "source": [
    "def get_data_for_MokaPot(file):\n",
    "    df_2 = dl.get_pin_file(file)\n",
    "    df_2 = df_2.iloc[1: :]\n",
    "    df_2 = df_2.drop_duplicates(subset=[\"ScanNr\"], keep=\"first\")\n",
    "    \n",
    "    df_2 = df_2.loc[~(df_2[\"Peptide\"].str.contains(\"U\"))] #removing the U\n",
    "    \n",
    "    return df_2"
   ]
  },
  {
   "cell_type": "markdown",
   "metadata": {},
   "source": [
    "This function gives us the absolute difference between the actual retention time and the predicted retention time. *must be the absolute vaule, we do not want negative numbers. "
   ]
  },
  {
   "cell_type": "code",
   "execution_count": 5,
   "metadata": {},
   "outputs": [],
   "source": [
    "def calculate_diff(row):\n",
    "    num = row['y'] - row['y_pred']\n",
    "    if num < 0:\n",
    "        num = num * (-1)\n",
    "    return num"
   ]
  },
  {
   "cell_type": "markdown",
   "metadata": {},
   "source": [
    "MetaMorpheus gives an output file that is specifically formatted for MokaPot. However, this file does not have q values, which we need to compare the before and after data. However, once the decoys are dropped from both files, the regular before file and the specailly formatted file contain the same scan numbers.\n",
    "The before file is used to compute the number of max consecutive y peaks and \"perc_in_ladder\". These columns are then taken and then added to the specially formatted file. \n",
    "\n",
    "Here we read in the speically formatted file and the file that has the additional feature columns in it. Decoys are dropped from both of them, giving us the same number of scans in both file. We splice out the scan, max_consecutive_y, and \"perc_in_ladder\" columns. These columns are then joined with the formatted file based on their scan numbers. We can use this file to run through MokaPot and compare if the extra feature columns help MokaPot to score more PSMs below our cutoff. "
   ]
  },
  {
   "cell_type": "code",
   "execution_count": 6,
   "metadata": {},
   "outputs": [],
   "source": [
    "def get_peaks_data(file):\n",
    "\n",
    "    data = pd.read_csv(\"peaks_files/\" + file + \"_peaks_data.csv\", low_memory=False)\n",
    "    \n",
    "    #Removing the U to match the data coming from AutoRT\n",
    "    data = data.loc[~(data[\"peptide\"].str.contains(\"U\"))] #removing the U\n",
    "    \n",
    "    data.loc[(data[\"peptide\"].str.contains(\"U\"))] #DELETE debugging here.  \n",
    "    \n",
    "    #Change the ladder column tye to float \n",
    "    data = data.astype({\"perc_in_ladder\": float})\n",
    "    \n",
    "    #sort based on the probability column\n",
    "    data = data.sort_values('QValue')\n",
    "    #drop duplicate scans\n",
    "    data = data.drop_duplicates(subset=[\"scan\"], keep=\"first\") #keep highest scoring\n",
    "    \n",
    "    data = data.rename(columns = {\"scan\": \"ScanNr\"})\n",
    "    data = data.filter(['ScanNr', 'max_consecutive_y', 'max_consecutive_b', 'perc_in_ladder'])\n",
    "    data = data.set_index(\"ScanNr\")\n",
    "    \n",
    "    #setting up the data from the pin file\n",
    "    df_2 = dl.get_pin_file(file)\n",
    "    df_2 = df_2.iloc[1: :]\n",
    "    df_2 = df_2.loc[~(df_2[\"Peptide\"].str.contains(\"U\"))] #removing the U\n",
    "    df_2 = df_2.astype({\"ScanNr\": int})\n",
    "    df_2 = df_2.drop_duplicates(subset=[\"ScanNr\"], keep=\"first\")\n",
    "    df_2 = df_2.set_index(\"ScanNr\")\n",
    "    \n",
    "    \n",
    "    joined_df = df_2.join(data, how = \"outer\")\n",
    "    joined_df.reset_index(inplace=True)\n",
    "    \n",
    "    return joined_df\n",
    "    "
   ]
  },
  {
   "cell_type": "markdown",
   "metadata": {},
   "source": [
    "Here we read in the speically formatted file and the file that has the additional feature columns in it. Decoys are dropped from both of them, giving us the same number of scans in both file. We splice out the scan, and difference columns. These columns are then joined with the formatted file based on their scan numbers. We can use this file to run through MokaPot and compare if the extra feature columns help MokaPot to score more PSMs below our cutoff."
   ]
  },
  {
   "cell_type": "code",
   "execution_count": 7,
   "metadata": {},
   "outputs": [],
   "source": [
    "#Retriving and formatting the df that has the retention time info in it. Also doing the math to get \n",
    "#the difference colum\n",
    "\n",
    "def retrive_RT_df(file):\n",
    "    \n",
    "    file_path = \"predicted_data/\" + file + \"_predicted/test.tsv\"\n",
    "    \n",
    "    data = pd.read_csv(file_path, sep = \"\\t\", low_memory=False )    \n",
    "    \n",
    "    #sort based on the probability column\n",
    "    data = data.sort_values('QValue')\n",
    "    #drop duplicate scans\n",
    "    data = data.drop_duplicates(subset=[\"scan\"], keep=\"first\") #keep highest scoring\n",
    "    #changing the type\n",
    "    data = data.astype({'y_pred': float})\n",
    "    \n",
    "    #calculating the difference column\n",
    "    data['difference'] = data.apply(calculate_diff, axis = 1)\n",
    "    \n",
    "    data = data.rename(columns = {\"scan\": \"ScanNr\"})\n",
    "    data = data.filter(['ScanNr', 'difference'])\n",
    "    data = data.set_index(\"ScanNr\")\n",
    "    return data\n"
   ]
  },
  {
   "cell_type": "code",
   "execution_count": 8,
   "metadata": {},
   "outputs": [],
   "source": [
    "def get_retentionTime_data(file):\n",
    "\n",
    "    data = retrive_RT_df(file)\n",
    "    \n",
    "    #setting up the data from the pin file\n",
    "    df_2 = dl.get_pin_file(file)\n",
    "    df_2 = df_2.iloc[1: :]\n",
    "    df_2 = df_2.astype({\"ScanNr\": int})\n",
    "    df_2 = df_2.drop_duplicates(subset=[\"ScanNr\"], keep=\"first\")\n",
    "    df_2 = df_2.loc[~(df_2[\"Peptide\"].str.contains(\"U\"))] #removing the U\n",
    "    df_2 = df_2.set_index(\"ScanNr\")\n",
    "    \n",
    "    \n",
    "    joined_df = df_2.join(data, how = \"outer\")\n",
    "    joined_df.reset_index(inplace=True)\n",
    "    \n",
    "    return joined_df"
   ]
  },
  {
   "cell_type": "markdown",
   "metadata": {},
   "source": [
    "Taking the dataframe that has the peaks features added on and joining the additional retention time differnce column onto it. Returning the joined dataframe"
   ]
  },
  {
   "cell_type": "code",
   "execution_count": 9,
   "metadata": {},
   "outputs": [],
   "source": [
    "def get_all_features_data(peaksData, RTdata):\n",
    "    RTdata = RTdata.filter(['ScanNr', 'difference'])\n",
    "    RTdata = RTdata.set_index(\"ScanNr\")\n",
    "    RTdata = RTdata.astype({'difference': float})\n",
    "    \n",
    "    peaksData = peaksData.set_index(\"ScanNr\")\n",
    "    peaksData = peaksData.astype({'perc_in_ladder': float})\n",
    "    \n",
    "    joined_df = peaksData.join(RTdata, how = \"outer\")\n",
    "    joined_df.reset_index(inplace=True)\n",
    "    \n",
    "    return joined_df\n",
    "   \n",
    "    "
   ]
  },
  {
   "cell_type": "markdown",
   "metadata": {},
   "source": [
    "This function helps us to put the error bars on the box plot"
   ]
  },
  {
   "cell_type": "code",
   "execution_count": 10,
   "metadata": {},
   "outputs": [],
   "source": [
    "def label_diff(x1, x2, pval, column):\n",
    "  # statistical annotation\n",
    "    y, h, col = column.max() + 50, 2, 'k'\n",
    "    plt.plot([x1, x1, x2, x2], [y, y+h, y+h, y], lw=1.5, c=col)\n",
    "    plt.text((x1+x2)*.5, y+h, pval, ha='center', va='bottom', color=col)  \n"
   ]
  },
  {
   "cell_type": "code",
   "execution_count": 11,
   "metadata": {},
   "outputs": [],
   "source": [
    "#calculate the t-test and return the pvalue\n",
    "from decimal import Decimal\n",
    "def calc_pval(col1, col2):\n",
    "    t_test = stats.ttest_ind(col1, col2)\n",
    "    pval = '%.2E' % Decimal((t_test.pvalue))\n",
    "    return pval"
   ]
  },
  {
   "cell_type": "markdown",
   "metadata": {},
   "source": [
    "In order to tell if the new added features are helping MokaPot to score the PSMs higher, we run the program 25 times and look at the average scores. We read in the data for the pin file, the regular data, and the data that has the added features. Because MokaPot gives an output file that is already formatted for MokaPot, we have to splice out the extra columns and joing them with the pin file."
   ]
  },
  {
   "cell_type": "code",
   "execution_count": 12,
   "metadata": {},
   "outputs": [],
   "source": [
    "file_names =[\"2ng_rep1\"]"
   ]
  },
  {
   "cell_type": "code",
   "execution_count": 13,
   "metadata": {},
   "outputs": [
    {
     "name": "stdout",
     "output_type": "stream",
     "text": [
      "Warning: IRLS did not converge with maxIter = 50\n",
      "Warning: IRLS did not converge with maxIter = 50\n",
      "Warning: IRLS did not converge with maxIter = 50\n",
      "Warning: IRLS did not converge with maxIter = 50\n",
      "Warning: IRLS did not converge with maxIter = 50\n",
      "Warning: IRLS did not converge with maxIter = 50\n",
      "Warning: IRLS did not converge with maxIter = 50\n",
      "Warning: IRLS did not converge with maxIter = 50\n",
      "Warning: IRLS did not converge with maxIter = 50\n",
      "Warning: IRLS did not converge with maxIter = 50\n",
      "Warning: IRLS did not converge with maxIter = 50\n",
      "Warning: IRLS did not converge with maxIter = 50\n",
      "Warning: IRLS did not converge with maxIter = 50\n",
      "Warning: IRLS did not converge with maxIter = 50\n",
      "Warning: IRLS did not converge with maxIter = 50\n",
      "Warning: IRLS did not converge with maxIter = 50\n",
      "Warning: IRLS did not converge with maxIter = 50\n",
      "Warning: IRLS did not converge with maxIter = 50\n",
      "Warning: IRLS did not converge with maxIter = 50\n",
      "Warning: IRLS did not converge with maxIter = 50\n",
      "Warning: IRLS did not converge with maxIter = 50\n",
      "Warning: IRLS did not converge with maxIter = 50\n",
      "Warning: IRLS did not converge with maxIter = 50\n",
      "Warning: IRLS did not converge with maxIter = 50\n",
      "without added feat: 14383\n",
      "with all added feat: 14802\n",
      "finished round 1\n",
      "Warning: IRLS did not converge with maxIter = 50\n",
      "without added feat: 14630\n",
      "with all added feat: 14795\n",
      "finished round 2\n",
      "without added feat: 14392\n",
      "with all added feat: 14441\n",
      "finished round 3\n",
      "without added feat: 14640\n",
      "with all added feat: 14827\n",
      "finished round 4\n",
      "without added feat: 14363\n",
      "with all added feat: 14510\n",
      "finished round 5\n",
      "without added feat: 14672\n",
      "with all added feat: 14822\n",
      "finished round 6\n",
      "without added feat: 14319\n",
      "with all added feat: 14823\n",
      "finished round 7\n",
      "without added feat: 14378\n",
      "with all added feat: 14814\n",
      "finished round 8\n",
      "without added feat: 14372\n",
      "with all added feat: 14819\n",
      "finished round 9\n",
      "Warning: IRLS did not converge with maxIter = 50\n",
      "Warning: IRLS did not converge with maxIter = 50\n",
      "Warning: IRLS did not converge with maxIter = 50\n",
      "Warning: IRLS did not converge with maxIter = 50\n",
      "Warning: IRLS did not converge with maxIter = 50\n",
      "Warning: IRLS did not converge with maxIter = 50\n",
      "Warning: IRLS did not converge with maxIter = 50\n",
      "Warning: IRLS did not converge with maxIter = 50\n",
      "Warning: IRLS did not converge with maxIter = 50\n",
      "Warning: IRLS did not converge with maxIter = 50\n",
      "Warning: IRLS did not converge with maxIter = 50\n",
      "Warning: IRLS did not converge with maxIter = 50\n",
      "Warning: IRLS did not converge with maxIter = 50\n",
      "Warning: IRLS did not converge with maxIter = 50\n",
      "Warning: IRLS did not converge with maxIter = 50\n",
      "Warning: IRLS did not converge with maxIter = 50\n",
      "Warning: IRLS did not converge with maxIter = 50\n",
      "Warning: IRLS did not converge with maxIter = 50\n",
      "Warning: IRLS did not converge with maxIter = 50\n",
      "Warning: IRLS did not converge with maxIter = 50\n",
      "Warning: IRLS did not converge with maxIter = 50\n",
      "Warning: IRLS did not converge with maxIter = 50\n",
      "Warning: IRLS did not converge with maxIter = 50\n",
      "Warning: IRLS did not converge with maxIter = 50\n",
      "without added feat: 14344\n",
      "with all added feat: 14826\n",
      "finished round 10\n",
      "without added feat: 14206\n",
      "with all added feat: 14823\n",
      "finished round 11\n",
      "without added feat: 14416\n",
      "with all added feat: 14811\n",
      "finished round 12\n",
      "without added feat: 14678\n",
      "with all added feat: 14835\n",
      "finished round 13\n",
      "without added feat: 14210\n",
      "with all added feat: 14826\n",
      "finished round 14\n",
      "Warning: IRLS did not converge with maxIter = 50\n",
      "Warning: IRLS did not converge with maxIter = 50\n",
      "Warning: IRLS did not converge with maxIter = 50\n",
      "Warning: IRLS did not converge with maxIter = 50\n",
      "Warning: IRLS did not converge with maxIter = 50\n",
      "Warning: IRLS did not converge with maxIter = 50\n",
      "Warning: IRLS did not converge with maxIter = 50\n",
      "Warning: IRLS did not converge with maxIter = 50\n",
      "Warning: IRLS did not converge with maxIter = 50\n",
      "Warning: IRLS did not converge with maxIter = 50\n",
      "Warning: IRLS did not converge with maxIter = 50\n",
      "Warning: IRLS did not converge with maxIter = 50\n",
      "Warning: IRLS did not converge with maxIter = 50\n",
      "Warning: IRLS did not converge with maxIter = 50\n",
      "Warning: IRLS did not converge with maxIter = 50\n",
      "Warning: IRLS did not converge with maxIter = 50\n",
      "Warning: IRLS did not converge with maxIter = 50\n",
      "Warning: IRLS did not converge with maxIter = 50\n",
      "Warning: IRLS did not converge with maxIter = 50\n",
      "Warning: IRLS did not converge with maxIter = 50\n",
      "Warning: IRLS did not converge with maxIter = 50\n",
      "Warning: IRLS did not converge with maxIter = 50\n",
      "Warning: IRLS did not converge with maxIter = 50\n",
      "Warning: IRLS did not converge with maxIter = 50\n",
      "Warning: IRLS did not converge with maxIter = 50\n",
      "Warning: IRLS did not converge with maxIter = 50\n",
      "without added feat: 14331\n",
      "with all added feat: 14767\n",
      "finished round 15\n",
      "without added feat: 14331\n",
      "with all added feat: 14832\n",
      "finished round 16\n",
      "without added feat: 14678\n",
      "with all added feat: 14781\n",
      "finished round 17\n",
      "without added feat: 14149\n",
      "with all added feat: 14829\n",
      "finished round 18\n",
      "without added feat: 14410\n",
      "with all added feat: 14827\n",
      "finished round 19\n",
      "without added feat: 14343\n",
      "with all added feat: 14820\n",
      "finished round 20\n",
      "Warning: IRLS did not converge with maxIter = 50\n",
      "without added feat: 14395\n",
      "with all added feat: 14688\n",
      "finished round 21\n",
      "without added feat: 14376\n",
      "with all added feat: 14822\n",
      "finished round 22\n",
      "without added feat: 14396\n",
      "with all added feat: 14837\n",
      "finished round 23\n",
      "without added feat: 14383\n",
      "with all added feat: 14829\n",
      "finished round 24\n",
      "without added feat: 14693\n",
      "with all added feat: 14843\n",
      "finished round 25\n"
     ]
    }
   ],
   "source": [
    "limit = 25\n",
    "file_number = 0\n",
    "all_results = pd.DataFrame()\n",
    "\n",
    "\n",
    "for file in file_names:\n",
    "    file_number +=1\n",
    "    rounds = 0\n",
    "    \n",
    "    no_addedFeats_list = []\n",
    "    #peaks_feature_list = []\n",
    "    #RT_feature_list = []\n",
    "    all_features_list = []\n",
    "    \n",
    "    #original_MM = get_PreMokaPot_data('2ng_rep1')\n",
    "    regular_df = get_data_for_MokaPot(file)\n",
    "    peaks_df = get_peaks_data(file)\n",
    "    RT_df = get_retentionTime_data(file)\n",
    "    all_feats_df = get_all_features_data(peaks_df, RT_df)\n",
    "    \n",
    "    all_feats_df.to_csv(\"deleteMe.csv\")\n",
    "\n",
    "    while rounds < limit:\n",
    "\n",
    "        #regular data, no additional features\n",
    "        mm_for_MP = mokapot.read_pin(regular_df) \n",
    "        regular_results, models = mokapot.brew(mm_for_MP)\n",
    "\n",
    "        #all the additional features\n",
    "        all_features_MP = mokapot.read_pin(all_feats_df)\n",
    "        allAdded_results, models = mokapot.brew(all_features_MP)\n",
    "\n",
    "\n",
    "        no_addedFeats_list.append(len(regular_results.psms[regular_results.psms['mokapot q-value'] <= 0.01]))\n",
    "        print(\"without added feat: \" + str(len(regular_results.psms[regular_results.psms['mokapot q-value'] <= 0.01])))\n",
    "\n",
    "        all_features_list.append(len(allAdded_results.psms[allAdded_results.psms['mokapot q-value'] <= 0.01]))\n",
    "        print(\"with all added feat: \" + str(len(allAdded_results.psms[allAdded_results.psms['mokapot q-value'] <= 0.01])))\n",
    "\n",
    "        rounds+= 1\n",
    "        print(\"finished round \" + str(rounds))\n",
    "    \n",
    "    #adding the new results to the df with all the PSMs found\n",
    "    all_results[file + \" None\"] = no_addedFeats_list\n",
    "    all_results[file + \" All\"] = all_features_list\n",
    "\n",
    "    "
   ]
  },
  {
   "cell_type": "markdown",
   "metadata": {},
   "source": [
    "Making the graph that shows a box plot of number of PSMs under the cutoff for 25 runs without extra features and with the extra features. "
   ]
  },
  {
   "cell_type": "code",
   "execution_count": 14,
   "metadata": {},
   "outputs": [
    {
     "data": {
      "image/png": "[encoded data removed]",
      "text/plain": [
       "<Figure size 432x288 with 1 Axes>"
      ]
     },
     "metadata": {
      "needs_background": "light"
     },
     "output_type": "display_data"
    }
   ],
   "source": [
    "import seaborn as sns\n",
    "\n",
    "results = all_results[['2ng_rep1 None', '2ng_rep1 All']]\n",
    "results.rename(columns={'2ng_rep1 None': 'Before Additional Features', \n",
    "                         '2ng_rep1 All':'After Additional Features'}, inplace = True)\n",
    "\n",
    "features_plot = sns.boxplot(data=results, showfliers=False)\n",
    "features_plot = sns.stripplot(data=results, jitter=True, color=\".3\")\n",
    "features_plot.set(ylabel = \"Number of PSMs\")\n",
    "features_plot.set(xlabel = \"Presence of Features\")\n",
    "plt.title(\"Impact of Additional Features on mokapot Rescoring\")\n",
    "\n",
    "\n",
    "pval = calc_pval(results['Before Additional Features'], results['After Additional Features'])\n",
    "label_diff(0,1, \"t-test p-value \" + str(pval), results['After Additional Features'])\n",
    "\n",
    "figure3 = plt.gcf()\n",
    "figure3.savefig('Figure3', dpi=300, bbox_inches='tight')\n",
    "\n",
    "plt.show()"
   ]
  },
  {
   "cell_type": "markdown",
   "metadata": {},
   "source": [
    "# Caluclations"
   ]
  },
  {
   "cell_type": "code",
   "execution_count": 42,
   "metadata": {},
   "outputs": [],
   "source": [
    "import statistics as stats"
   ]
  },
  {
   "cell_type": "markdown",
   "metadata": {},
   "source": [
    "Reading in the megaScript to find the orginal number of PSMs from the MetaMorpheus file before mokapot or additional features."
   ]
  },
  {
   "cell_type": "code",
   "execution_count": 43,
   "metadata": {},
   "outputs": [],
   "source": [
    "#read in the megaScript and reformat it\n",
    "def clean_meagScript(file):\n",
    "    df = pd.read_csv(file, low_memory=False,  header=[0,1])\n",
    "    df.drop(columns = {\"Unnamed: 0_level_0\"})\n",
    "    return df"
   ]
  },
  {
   "cell_type": "markdown",
   "metadata": {},
   "source": [
    "Slicing out the qvalues from MetaMorpheus Counting how many are at or under the cutoff"
   ]
  },
  {
   "cell_type": "code",
   "execution_count": 44,
   "metadata": {},
   "outputs": [],
   "source": [
    "def get_mm_Qval_len(df, cutoff):\n",
    "    #drop decoys\n",
    "    df = df[df[\"decoy\"]==False]\n",
    "    #sort by qvalue\n",
    "    df = df.sort_values(\"QValue\")\n",
    "    #drop duplicate scans\n",
    "    df = df.drop_duplicates(subset=[\"scan\"], keep=\"first\") #keep highest scoring\n",
    "    \n",
    "    mm_qval = df[\"QValue\"] \n",
    "    mm_under_cutoff = len(mm_qval.loc[mm_qval <= cutoff])\n",
    "    return mm_under_cutoff"
   ]
  },
  {
   "cell_type": "code",
   "execution_count": 45,
   "metadata": {},
   "outputs": [
    {
     "data": {
      "text/plain": [
       "12446"
      ]
     },
     "execution_count": 45,
     "metadata": {},
     "output_type": "execute_result"
    }
   ],
   "source": [
    "original_df = dl.clean_metamorph('2ng_rep1')\n",
    "original_psms =  get_mm_Qval_len(original_df, 0.01)\n",
    "original_psms"
   ]
  },
  {
   "cell_type": "code",
   "execution_count": 46,
   "metadata": {},
   "outputs": [
    {
     "data": {
      "text/plain": [
       "14785.96"
      ]
     },
     "execution_count": 46,
     "metadata": {},
     "output_type": "execute_result"
    }
   ],
   "source": [
    "avg_after = results['After Additional Features'].mean()\n",
    "avg_after"
   ]
  },
  {
   "cell_type": "code",
   "execution_count": 47,
   "metadata": {},
   "outputs": [
    {
     "data": {
      "text/plain": [
       "14419.52"
      ]
     },
     "execution_count": 47,
     "metadata": {},
     "output_type": "execute_result"
    }
   ],
   "source": [
    "avg_before = results['Before Additional Features'].mean()\n",
    "avg_before"
   ]
  },
  {
   "cell_type": "code",
   "execution_count": 48,
   "metadata": {},
   "outputs": [
    {
     "data": {
      "text/plain": [
       "1973.5200000000004"
      ]
     },
     "execution_count": 48,
     "metadata": {},
     "output_type": "execute_result"
    }
   ],
   "source": [
    "#The change from metamorpheus results to mokapot results\n",
    "\n",
    "mokapot_minus_metamorpheus = avg_before - original_psms\n",
    "mokapot_minus_metamorpheus"
   ]
  },
  {
   "cell_type": "code",
   "execution_count": 49,
   "metadata": {},
   "outputs": [
    {
     "data": {
      "text/plain": [
       "2339.959999999999"
      ]
     },
     "execution_count": 49,
     "metadata": {},
     "output_type": "execute_result"
    }
   ],
   "source": [
    "#The change from metamorpheus results to additional feature results\n",
    "\n",
    "extraFeatures_minus_metamorpheus = avg_after - original_psms\n",
    "extraFeatures_minus_metamorpheus"
   ]
  },
  {
   "cell_type": "code",
   "execution_count": 50,
   "metadata": {},
   "outputs": [
    {
     "data": {
      "text/plain": [
       "366.4399999999987"
      ]
     },
     "execution_count": 50,
     "metadata": {},
     "output_type": "execute_result"
    }
   ],
   "source": [
    "#The change from mokapot results to additional feature results\n",
    "\n",
    "extraFeatures_minus_avgBefore = avg_after - avg_before\n",
    "extraFeatures_minus_avgBefore"
   ]
  },
  {
   "cell_type": "code",
   "execution_count": 51,
   "metadata": {},
   "outputs": [
    {
     "data": {
      "text/plain": [
       "0.15856660774546041"
      ]
     },
     "execution_count": 51,
     "metadata": {},
     "output_type": "execute_result"
    }
   ],
   "source": [
    "#Calculating the percent increase of the change from MetaMorpheus to mokapot\n",
    "mokapot_increase_over_mm = mokapot_minus_metamorpheus/original_psms\n",
    "mokapot_increase_over_mm"
   ]
  },
  {
   "cell_type": "code",
   "execution_count": 52,
   "metadata": {},
   "outputs": [
    {
     "data": {
      "text/plain": [
       "0.18800899887514053"
      ]
     },
     "execution_count": 52,
     "metadata": {},
     "output_type": "execute_result"
    }
   ],
   "source": [
    "#Calculating the percent increase of the change from MetaMorphues to adding additional features\n",
    "features_increase_over_mm = extraFeatures_minus_metamorpheus/original_psms\n",
    "features_increase_over_mm"
   ]
  },
  {
   "cell_type": "code",
   "execution_count": 53,
   "metadata": {},
   "outputs": [
    {
     "data": {
      "text/plain": [
       "0.029442391129680112"
      ]
     },
     "execution_count": 53,
     "metadata": {},
     "output_type": "execute_result"
    }
   ],
   "source": [
    "#Calculating the percent increase from mokapot to additional features in mokapot\n",
    "features_increase_over_mm - mokapot_increase_over_mm"
   ]
  },
  {
   "cell_type": "code",
   "execution_count": 54,
   "metadata": {},
   "outputs": [
    {
     "data": {
      "text/plain": [
       "0.18567838177469628"
      ]
     },
     "execution_count": 54,
     "metadata": {},
     "output_type": "execute_result"
    }
   ],
   "source": [
    "#Calculating the extra increase that additional features gives mokapot beyond what it was able to do with\n",
    "#the features given from MetaMorphues alone\n",
    "extraFeatures_minus_avgBefore/mokapot_minus_metamorpheus"
   ]
  },
  {
   "cell_type": "code",
   "execution_count": null,
   "metadata": {},
   "outputs": [],
   "source": []
  }
 ],
 "metadata": {
  "kernelspec": {
   "display_name": "Python 3",
   "language": "python",
   "name": "python3"
  },
  "language_info": {
   "codemirror_mode": {
    "name": "ipython",
    "version": 3
   },
   "file_extension": ".py",
   "mimetype": "text/x-python",
   "name": "python",
   "nbconvert_exporter": "python",
   "pygments_lexer": "ipython3",
   "version": "3.8.3"
  }
 },
 "nbformat": 4,
 "nbformat_minor": 4
}
