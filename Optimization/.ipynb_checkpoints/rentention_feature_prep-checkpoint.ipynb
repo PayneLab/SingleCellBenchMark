{
 "cells": [
  {
   "cell_type": "markdown",
   "metadata": {},
   "source": [
    "The purpose of this notebook is to prep the files to be able to use AutoRT. The first part prepares the data that we use to train AutoRT.\n",
    "The second part gets each individual file ready to run through AutoRT. The modifications must be specified a specific way. The peptide column must be titled \"x\" and the actual retention time must be titled \"y\". "
   ]
  },
  {
   "cell_type": "code",
   "execution_count": 1,
   "metadata": {},
   "outputs": [],
   "source": [
    "import os\n",
    "import mokapot\n",
    "import numpy as np\n",
    "import pandas as pd\n",
    "import matplotlib.pyplot as plt\n",
    "import sys\n",
    "sys.path.append(\"..\")\n",
    "sys.path\n",
    "import data_loader as dl"
   ]
  },
  {
   "cell_type": "markdown",
   "metadata": {},
   "source": [
    "The purpose of this function is to clean up the original 'before' data so that we are not counting decoys or duplicate scans."
   ]
  },
  {
   "cell_type": "code",
   "execution_count": 2,
   "metadata": {},
   "outputs": [],
   "source": [
    "def filter_data(df, prob_column):\n",
    "    #drop decoys\n",
    "    df = df[df[\"decoy\"]==False]\n",
    "    #sort by qvalue\n",
    "    df = df.sort_values(prob_column)\n",
    "    #drop duplicate scans\n",
    "    df = df.drop_duplicates(subset=[\"scan\"], keep=\"first\") #keep highest scoring\n",
    "    \n",
    "    return df"
   ]
  },
  {
   "cell_type": "markdown",
   "metadata": {},
   "source": [
    "AutoRT requries that all modifications be input as numbers. Here we are formatting the modifications as needed. 1 represents oxidation and 2 represents carbamidomethyl. "
   ]
  },
  {
   "cell_type": "code",
   "execution_count": 3,
   "metadata": {},
   "outputs": [],
   "source": [
    "def format_oxidation(row, column, to_replace):\n",
    "    peptide = row[column]\n",
    "    replace_with = \"1\"\n",
    "    if pd.isna(peptide):\n",
    "        new_pep = peptide\n",
    "    else:\n",
    "        if to_replace in peptide:\n",
    "            new_pep = peptide.replace(to_replace, replace_with)\n",
    "        else:\n",
    "            new_pep = peptide\n",
    "    return new_pep\n",
    "\n",
    "\n",
    "def format_carbamidomethyl(row, column, to_replace):\n",
    "    peptide = row[column]\n",
    "    replace_with = \"2\"\n",
    "    if pd.isna(peptide):\n",
    "        new_pep = peptide\n",
    "    else:\n",
    "        if to_replace in peptide:\n",
    "            new_pep = peptide.replace(to_replace, replace_with)\n",
    "        else:\n",
    "            new_pep = peptide\n",
    "    return new_pep\n",
    "\n",
    "\n",
    "def format_carbamidomethyl2(row, column, to_replace):\n",
    "    peptide = row[column]\n",
    "    replace_with = \"3\"\n",
    "    if pd.isna(peptide):\n",
    "        new_pep = peptide\n",
    "    else:\n",
    "        if to_replace in peptide:\n",
    "            new_pep = peptide.replace(to_replace, replace_with)\n",
    "        else:\n",
    "            new_pep = peptide\n",
    "    return new_pep"
   ]
  },
  {
   "cell_type": "markdown",
   "metadata": {},
   "source": [
    "Occasionally we are given back multiple peptides. We take the first one and use it, as AutoRT will not know what to do with multiple peptides seperated by a \"|\""
   ]
  },
  {
   "cell_type": "code",
   "execution_count": 4,
   "metadata": {},
   "outputs": [],
   "source": [
    "#pulling only one peptide out\n",
    "def format_peptide(row):\n",
    "    string = row\n",
    "    if '|' in string:\n",
    "        spot = string.find('|')\n",
    "        string = string[ :spot]\n",
    "    \n",
    "    return string"
   ]
  },
  {
   "cell_type": "markdown",
   "metadata": {},
   "source": [
    "Only pulling the scans with a qvalue of 0 to give to AutoRT to train on. "
   ]
  },
  {
   "cell_type": "code",
   "execution_count": 5,
   "metadata": {},
   "outputs": [],
   "source": [
    "#pulling the best scans based off of qvalue. \n",
    "df = dl.clean_metamorph(\"2ng_rep5\")\n",
    "df = filter_data(df, \"QValue\")\n",
    "#Taking only the best scoring\n",
    "df = df[df[\"QValue\"]== 0.0]\n",
    "\n",
    "df[\"RT_formatted_peptides\"] = df[\"Full Sequence\"].apply(format_peptide)\n",
    "\n",
    "df[\"RT_formatted_peptides\"] = df.apply(lambda row: format_oxidation(row, \"RT_formatted_peptides\", \"[Common Variable:Oxidation on M]\"), axis=1)\n",
    "df[\"RT_formatted_peptides\"] = df.apply(lambda row: format_carbamidomethyl(row, \"RT_formatted_peptides\", \"[Common Fixed:Carbamidomethyl on C]\"), axis=1)\n"
   ]
  },
  {
   "cell_type": "code",
   "execution_count": 6,
   "metadata": {},
   "outputs": [
    {
     "data": {
      "text/html": [
       "<div>\n",
       "<style scoped>\n",
       "    .dataframe tbody tr th:only-of-type {\n",
       "        vertical-align: middle;\n",
       "    }\n",
       "\n",
       "    .dataframe tbody tr th {\n",
       "        vertical-align: top;\n",
       "    }\n",
       "\n",
       "    .dataframe thead th {\n",
       "        text-align: right;\n",
       "    }\n",
       "</style>\n",
       "<table border=\"1\" class=\"dataframe\">\n",
       "  <thead>\n",
       "    <tr style=\"text-align: right;\">\n",
       "      <th></th>\n",
       "      <th>x</th>\n",
       "      <th>y</th>\n",
       "    </tr>\n",
       "  </thead>\n",
       "  <tbody>\n",
       "    <tr>\n",
       "      <th>0</th>\n",
       "      <td>LVQDVANNTNEEAGDGTTTATVLAR</td>\n",
       "      <td>54.35835</td>\n",
       "    </tr>\n",
       "    <tr>\n",
       "      <th>7285</th>\n",
       "      <td>ELTSTC2SPIISK</td>\n",
       "      <td>46.61025</td>\n",
       "    </tr>\n",
       "    <tr>\n",
       "      <th>7286</th>\n",
       "      <td>MLVSGAGDIK</td>\n",
       "      <td>46.86372</td>\n",
       "    </tr>\n",
       "    <tr>\n",
       "      <th>7287</th>\n",
       "      <td>GDFC2IQVGR</td>\n",
       "      <td>55.17063</td>\n",
       "    </tr>\n",
       "    <tr>\n",
       "      <th>7288</th>\n",
       "      <td>TLQTISLLGYMK</td>\n",
       "      <td>86.17753</td>\n",
       "    </tr>\n",
       "    <tr>\n",
       "      <th>...</th>\n",
       "      <td>...</td>\n",
       "      <td>...</td>\n",
       "    </tr>\n",
       "    <tr>\n",
       "      <th>3647</th>\n",
       "      <td>VAQVAEITYGQK</td>\n",
       "      <td>46.79825</td>\n",
       "    </tr>\n",
       "    <tr>\n",
       "      <th>3634</th>\n",
       "      <td>MIAAVDTDSPR</td>\n",
       "      <td>41.81118</td>\n",
       "    </tr>\n",
       "    <tr>\n",
       "      <th>3646</th>\n",
       "      <td>SITILSTPEGTSAAC2K</td>\n",
       "      <td>57.68496</td>\n",
       "    </tr>\n",
       "    <tr>\n",
       "      <th>3645</th>\n",
       "      <td>IWSVPNASC2VQVVR</td>\n",
       "      <td>69.54589</td>\n",
       "    </tr>\n",
       "    <tr>\n",
       "      <th>3644</th>\n",
       "      <td>TISLTDFLAEDGGTGGGSTYVSK</td>\n",
       "      <td>85.74695</td>\n",
       "    </tr>\n",
       "  </tbody>\n",
       "</table>\n",
       "<p>10138 rows × 2 columns</p>\n",
       "</div>"
      ],
      "text/plain": [
       "                              x         y\n",
       "0     LVQDVANNTNEEAGDGTTTATVLAR  54.35835\n",
       "7285              ELTSTC2SPIISK  46.61025\n",
       "7286                 MLVSGAGDIK  46.86372\n",
       "7287                 GDFC2IQVGR  55.17063\n",
       "7288               TLQTISLLGYMK  86.17753\n",
       "...                         ...       ...\n",
       "3647               VAQVAEITYGQK  46.79825\n",
       "3634                MIAAVDTDSPR  41.81118\n",
       "3646          SITILSTPEGTSAAC2K  57.68496\n",
       "3645            IWSVPNASC2VQVVR  69.54589\n",
       "3644    TISLTDFLAEDGGTGGGSTYVSK  85.74695\n",
       "\n",
       "[10138 rows x 2 columns]"
      ]
     },
     "execution_count": 6,
     "metadata": {},
     "output_type": "execute_result"
    }
   ],
   "source": [
    "df = df.filter(['RT_formatted_peptides', 'Scan Retention Time'])\n",
    "df.rename(columns = {'RT_formatted_peptides' : 'x', 'Scan Retention Time': \"y\"}, inplace = True)\n",
    "df.to_csv(\"RT_training.tsv\", sep ='\\t')"
   ]
  },
  {
   "cell_type": "code",
   "execution_count": null,
   "metadata": {},
   "outputs": [],
   "source": []
  },
  {
   "cell_type": "markdown",
   "metadata": {},
   "source": [
    "Formatting the 2ng file to be able to be ran through AutoRT"
   ]
  },
  {
   "cell_type": "code",
   "execution_count": 7,
   "metadata": {},
   "outputs": [],
   "source": [
    "all_files = [\"2ng_rep1\", \"2ng_rep2\", \"2ng_rep3\", \"2ng_rep4\", \"2ng_rep5\", \"2ng_rep6\", \n",
    "             \"0.2ng_rep1\", \"0.2ng_rep2\", \"0.2ng_rep3\", \"0.2ng_rep4\", \"0.2ng_rep5\", \"0.2ng_rep6\"]"
   ]
  },
  {
   "cell_type": "markdown",
   "metadata": {},
   "source": [
    "AutoRT will not accept the amino acid \"U\". There are only 2 scans that have this is all of our data, so we just remove them. \n",
    "Going through all of the files and preparing the files to be able to be run though AutoRT"
   ]
  },
  {
   "cell_type": "code",
   "execution_count": 8,
   "metadata": {},
   "outputs": [],
   "source": [
    "#Getting the data to predict\n",
    "for file in all_files:\n",
    "    df = dl.clean_metamorph(file)\n",
    "\n",
    "    df = df.loc[~(df[\"peptide\"].str.contains(\"U\"))] #removing the U\n",
    "\n",
    "    df[\"RT_formatted_peptides\"] = df[\"Full Sequence\"].apply(format_peptide)\n",
    "\n",
    "\n",
    "    #formatting the modifications\n",
    "    df[\"RT_formatted_peptides\"] = df.apply(lambda row: format_oxidation(row, \"RT_formatted_peptides\", \"[Common Variable:Oxidation on M]\"), axis=1)\n",
    "    df[\"RT_formatted_peptides\"] = df.apply(lambda row: format_carbamidomethyl(row, \"RT_formatted_peptides\", \"[Common Fixed:Carbamidomethyl on C]\"), axis=1)\n",
    "    df[\"RT_formatted_peptides\"] = df.apply(lambda row: format_carbamidomethyl2(row, \"RT_formatted_peptides\", \"[Common Fixed:Carbamidomethyl on U]\"), axis=1)\n",
    "\n",
    "    \n",
    "    df.rename(columns = {'RT_formatted_peptides' : 'x', 'Scan Retention Time': \"y\"}, inplace = True)\n",
    "\n",
    "    df.to_csv(\"data_for_AutoRT/\" + file + \"_to_predict.tsv\", sep='\\t') "
   ]
  },
  {
   "cell_type": "code",
   "execution_count": null,
   "metadata": {},
   "outputs": [],
   "source": []
  }
 ],
 "metadata": {
  "kernelspec": {
   "display_name": "Python 3",
   "language": "python",
   "name": "python3"
  },
  "language_info": {
   "codemirror_mode": {
    "name": "ipython",
    "version": 3
   },
   "file_extension": ".py",
   "mimetype": "text/x-python",
   "name": "python",
   "nbconvert_exporter": "python",
   "pygments_lexer": "ipython3",
   "version": "3.8.3"
  }
 },
 "nbformat": 4,
 "nbformat_minor": 4
}
