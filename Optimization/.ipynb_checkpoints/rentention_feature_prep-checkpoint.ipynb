{
 "cells": [
  {
   "cell_type": "markdown",
   "metadata": {},
   "source": [
    "The purpose of this notebook is to prep the files to be able to use AutoRT. The first part prepares the data that we use to train AutoRT.\n",
    "The second part gets each individual file ready to run through AutoRT. The modifications must be specified a specific way. The peptide column must be titled \"x\" and the actual retention time must be titled \"y\". "
   ]
  },
  {
   "cell_type": "code",
   "execution_count": 1,
   "metadata": {},
   "outputs": [],
   "source": [
    "import os\n",
    "import mokapot\n",
    "import numpy as np\n",
    "import pandas as pd\n",
    "import matplotlib.pyplot as plt\n",
    "import sys\n",
    "sys.path.append(\"..\")\n",
    "sys.path\n",
    "import data_loader as dl"
   ]
  },
  {
   "cell_type": "markdown",
   "metadata": {},
   "source": [
    "The purpose of this function is to clean up the original 'before' data so that we are not counting decoys or duplicate scans."
   ]
  },
  {
   "cell_type": "code",
   "execution_count": 2,
   "metadata": {},
   "outputs": [],
   "source": [
    "def filter_data(df, prob_column):\n",
    "    #drop decoys\n",
    "    df = df[df[\"decoy\"]==False]\n",
    "    #sort by qvalue\n",
    "    df = df.sort_values(prob_column)\n",
    "    #drop duplicate scans\n",
    "    df = df.drop_duplicates(subset=[\"scan\"], keep=\"first\") #keep highest scoring\n",
    "    \n",
    "    return df"
   ]
  },
  {
   "cell_type": "markdown",
   "metadata": {},
   "source": [
    "AutoRT requries that all modifications be input as numbers. Here we are formatting the modifications as needed. 1 represents oxidation and 2 represents carbamidomethyl. "
   ]
  },
  {
   "cell_type": "code",
   "execution_count": 3,
   "metadata": {},
   "outputs": [],
   "source": [
    "def format_oxidation(row, column, to_replace):\n",
    "    peptide = row[column]\n",
    "    replace_with = \"1\"\n",
    "    if pd.isna(peptide):\n",
    "        new_pep = peptide\n",
    "    else:\n",
    "        if to_replace in peptide:\n",
    "            new_pep = peptide.replace(to_replace, replace_with)\n",
    "        else:\n",
    "            new_pep = peptide\n",
    "    return new_pep\n",
    "\n",
    "\n",
    "def format_carbamidomethyl(row, column, to_replace):\n",
    "    peptide = row[column]\n",
    "    replace_with = \"2\"\n",
    "    if pd.isna(peptide):\n",
    "        new_pep = peptide\n",
    "    else:\n",
    "        if to_replace in peptide:\n",
    "            new_pep = peptide.replace(to_replace, replace_with)\n",
    "        else:\n",
    "            new_pep = peptide\n",
    "    return new_pep\n",
    "\n",
    "\n",
    "def format_carbamidomethyl2(row, column, to_replace):\n",
    "    peptide = row[column]\n",
    "    replace_with = \"3\"\n",
    "    if pd.isna(peptide):\n",
    "        new_pep = peptide\n",
    "    else:\n",
    "        if to_replace in peptide:\n",
    "            new_pep = peptide.replace(to_replace, replace_with)\n",
    "        else:\n",
    "            new_pep = peptide\n",
    "    return new_pep"
   ]
  },
  {
   "cell_type": "markdown",
   "metadata": {},
   "source": [
    "Occasionally we are given back multiple peptides. We take the first one and use it, as AutoRT will not know what to do with multiple peptides seperated by a \"|\""
   ]
  },
  {
   "cell_type": "code",
   "execution_count": 4,
   "metadata": {},
   "outputs": [],
   "source": [
    "#pulling only one peptide out\n",
    "def format_peptide(row):\n",
    "    string = row\n",
    "    if '|' in string:\n",
    "        spot = string.find('|')\n",
    "        string = string[ :spot]\n",
    "    \n",
    "    return string"
   ]
  },
  {
   "cell_type": "markdown",
   "metadata": {},
   "source": [
    "Only pulling the scans with a qvalue of 0 to give to AutoRT to train on. "
   ]
  },
  {
   "cell_type": "code",
   "execution_count": 5,
   "metadata": {},
   "outputs": [
    {
     "name": "stderr",
     "output_type": "stream",
     "text": [
      "/Users/daishavanderwatt/anaconda3/lib/python3.8/site-packages/IPython/core/interactiveshell.py:3263: DtypeWarning: Columns (11,19,20,21,22,23) have mixed types.Specify dtype option on import or set low_memory=False.\n",
      "  if (await self.run_code(code, result,  async_=asy)):\n"
     ]
    }
   ],
   "source": [
    "#pulling the best scans based off of qvalue. \n",
    "df = dl.clean_metamorph(\"2ng_rep5\")\n",
    "df = filter_data(df, \"QValue\")\n",
    "#Taking only the best scoring\n",
    "df = df[df[\"QValue\"]== 0.0]\n",
    "\n",
    "df[\"RT_formatted_peptides\"] = df[\"Full Sequence\"].apply(format_peptide)\n",
    "\n",
    "df[\"RT_formatted_peptides\"] = df.apply(lambda row: format_oxidation(row, \"RT_formatted_peptides\", \"[Common Variable:Oxidation on M]\"), axis=1)\n",
    "df[\"RT_formatted_peptides\"] = df.apply(lambda row: format_carbamidomethyl(row, \"RT_formatted_peptides\", \"[Common Fixed:Carbamidomethyl on C]\"), axis=1)\n"
   ]
  },
  {
   "cell_type": "code",
   "execution_count": 6,
   "metadata": {},
   "outputs": [],
   "source": [
    "df = df.filter(['RT_formatted_peptides', 'Scan Retention Time'])\n",
    "df.rename(columns = {'RT_formatted_peptides' : 'x', 'Scan Retention Time': \"y\"}, inplace = True)\n",
    "df.to_csv(\"RT_test.tsv\", sep ='\\t')"
   ]
  },
  {
   "cell_type": "code",
   "execution_count": null,
   "metadata": {},
   "outputs": [],
   "source": []
  },
  {
   "cell_type": "markdown",
   "metadata": {},
   "source": [
    "Formatting the 2ng file to be able to be ran through AutoRT"
   ]
  },
  {
   "cell_type": "code",
   "execution_count": 7,
   "metadata": {},
   "outputs": [],
   "source": [
    "all_files = [\"2ng_rep1\", \"2ng_rep2\", \"2ng_rep3\", \"2ng_rep4\", \"2ng_rep5\", \"2ng_rep6\", \n",
    "             \"0.2ng_rep1\", \"0.2ng_rep2\", \"0.2ng_rep3\", \"0.2ng_rep4\", \"0.2ng_rep5\", \"0.2ng_rep6\"]"
   ]
  },
  {
   "cell_type": "markdown",
   "metadata": {},
   "source": [
    "AutoRT will not accept the amino acid \"U\". There are only 2 scans that have this is all of our data, so we just remove them. "
   ]
  },
  {
   "cell_type": "code",
   "execution_count": 8,
   "metadata": {},
   "outputs": [
    {
     "name": "stderr",
     "output_type": "stream",
     "text": [
      "/Users/daishavanderwatt/anaconda3/lib/python3.8/site-packages/IPython/core/interactiveshell.py:3263: DtypeWarning: Columns (19) have mixed types.Specify dtype option on import or set low_memory=False.\n",
      "  if (await self.run_code(code, result,  async_=asy)):\n",
      "/Users/daishavanderwatt/anaconda3/lib/python3.8/site-packages/IPython/core/interactiveshell.py:3263: DtypeWarning: Columns (11,19,21,22,23) have mixed types.Specify dtype option on import or set low_memory=False.\n",
      "  if (await self.run_code(code, result,  async_=asy)):\n",
      "/Users/daishavanderwatt/anaconda3/lib/python3.8/site-packages/IPython/core/interactiveshell.py:3263: DtypeWarning: Columns (20) have mixed types.Specify dtype option on import or set low_memory=False.\n",
      "  if (await self.run_code(code, result,  async_=asy)):\n",
      "/Users/daishavanderwatt/anaconda3/lib/python3.8/site-packages/IPython/core/interactiveshell.py:3263: DtypeWarning: Columns (19,20) have mixed types.Specify dtype option on import or set low_memory=False.\n",
      "  if (await self.run_code(code, result,  async_=asy)):\n"
     ]
    }
   ],
   "source": [
    "#Getting the data to predict\n",
    "for file in all_files:\n",
    "    df = dl.clean_metamorph(file)\n",
    "\n",
    "    df = df.loc[~(df[\"peptide\"].str.contains(\"U\"))] #removing the U\n",
    "\n",
    "    df[\"RT_formatted_peptides\"] = df[\"Full Sequence\"].apply(format_peptide)\n",
    "\n",
    "\n",
    "    #formatting the modifications\n",
    "    df[\"RT_formatted_peptides\"] = df.apply(lambda row: format_oxidation(row, \"RT_formatted_peptides\", \"[Common Variable:Oxidation on M]\"), axis=1)\n",
    "    df[\"RT_formatted_peptides\"] = df.apply(lambda row: format_carbamidomethyl(row, \"RT_formatted_peptides\", \"[Common Fixed:Carbamidomethyl on C]\"), axis=1)\n",
    "    df[\"RT_formatted_peptides\"] = df.apply(lambda row: format_carbamidomethyl2(row, \"RT_formatted_peptides\", \"[Common Fixed:Carbamidomethyl on U]\"), axis=1)\n",
    "\n",
    "    \n",
    "    df.rename(columns = {'RT_formatted_peptides' : 'x', 'Scan Retention Time': \"y\"}, inplace = True)\n",
    "\n",
    "    df.to_csv(\"data_for_AutoRT/\" + file + \"_to_predict.tsv\", sep='\\t') "
   ]
  },
  {
   "cell_type": "code",
   "execution_count": null,
   "metadata": {},
   "outputs": [],
   "source": []
  }
 ],
 "metadata": {
  "kernelspec": {
   "display_name": "Python 3",
   "language": "python",
   "name": "python3"
  },
  "language_info": {
   "codemirror_mode": {
    "name": "ipython",
    "version": 3
   },
   "file_extension": ".py",
   "mimetype": "text/x-python",
   "name": "python",
   "nbconvert_exporter": "python",
   "pygments_lexer": "ipython3",
   "version": "3.8.3"
  }
 },
 "nbformat": 4,
 "nbformat_minor": 4
}
