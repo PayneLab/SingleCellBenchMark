{
 "cells": [
  {
   "cell_type": "markdown",
   "metadata": {},
   "source": [
    "The purpose of this notebook is to test whether adding addition features of the number of max consecutive y peaks and \"perc_in_ladder\"(need to say better) helps MokaPot to score more PSMs at or below a certain cuttoff. "
   ]
  },
  {
   "cell_type": "code",
   "execution_count": 4,
   "metadata": {},
   "outputs": [],
   "source": [
    "import os\n",
    "import mokapot\n",
    "import numpy as np\n",
    "import pandas as pd\n",
    "import matplotlib.pyplot as plt\n",
    "import sys\n",
    "sys.path.append(\"..\")\n",
    "sys.path\n",
    "import data_loader as dl\n",
    "import scipy.stats as stats"
   ]
  },
  {
   "cell_type": "markdown",
   "metadata": {},
   "source": [
    "The purpose of this function is to clean up the original 'before' data so that we are not counting decoys or duplicate scans. AutoRT will not accept \"U\"s in the peptide sequence, so we are removing one scan from our data set that has this in it. "
   ]
  },
  {
   "cell_type": "code",
   "execution_count": 5,
   "metadata": {},
   "outputs": [],
   "source": [
    "def filter_data(df, prob_column):\n",
    "     #drop decoys\n",
    "    df = df[df[\"decoy\"]== False]\n",
    "    #sort by qvalue\n",
    "    df = df.sort_values(prob_column)\n",
    "    #Drop duplicates\n",
    "    df = df.drop_duplicates(subset=[\"scan\"], keep=\"first\") #keep highest scoring\n",
    "    \n",
    "    df = df.loc[~(df[\"Peptide\"].str.contains(\"U\"))] #removing the U\n",
    "\n",
    "    return df"
   ]
  },
  {
   "cell_type": "code",
   "execution_count": null,
   "metadata": {},
   "outputs": [],
   "source": []
  },
  {
   "cell_type": "markdown",
   "metadata": {},
   "source": [
    "This gives us the before data. It will not be run through MokaPot. It's purpose is to give us the ability to count how many PSMs originally are at or under a specific cutoff and compare that to the number we get after we run the data through MokaPot. "
   ]
  },
  {
   "cell_type": "code",
   "execution_count": 6,
   "metadata": {},
   "outputs": [],
   "source": [
    "def get_PreMokaPot_data(file):\n",
    "    data = dl.clean_metamorph(file)\n",
    "    data = filter_data(data,'QValue')\n",
    "    return data"
   ]
  },
  {
   "cell_type": "markdown",
   "metadata": {},
   "source": [
    "This reads in and cleans the data that will be run through MokaPot. MetaMorphues has a special output file that is formatted to be able to run through MokaPot."
   ]
  },
  {
   "cell_type": "code",
   "execution_count": 7,
   "metadata": {},
   "outputs": [],
   "source": [
    "def get_data_for_MokaPot(file):\n",
    "    df_2 = dl.get_pin_file(file)\n",
    "    df_2 = df_2.iloc[1: :]\n",
    "    df_2 = df_2.drop_duplicates(subset=[\"ScanNr\"], keep=\"first\")\n",
    "    \n",
    "    df_2 = df_2.loc[~(df_2[\"Peptide\"].str.contains(\"U\"))] #removing the U\n",
    "    \n",
    "    return df_2"
   ]
  },
  {
   "cell_type": "markdown",
   "metadata": {},
   "source": [
    "This function gives us the absolute difference between the actual retention time and the predicted retention time. *must be the absolute vaule, we do not want negative numbers. "
   ]
  },
  {
   "cell_type": "code",
   "execution_count": 8,
   "metadata": {},
   "outputs": [],
   "source": [
    "def calculate_diff(row):\n",
    "    num = row['y'] - row['y_pred']\n",
    "    if num < 0:\n",
    "        num = num * (-1)\n",
    "    return num"
   ]
  },
  {
   "cell_type": "markdown",
   "metadata": {},
   "source": [
    "MetaMorpheus gives an output file that is specifically formatted for MokaPot. However, this file does not have q values, which we need to compare the before and after data. However, once the decoys are dropped from both files, the regular before file and the specailly formatted file contain the same scan numbers.\n",
    "The before file is used to compute the number of max consecutive y peaks and \"perc_in_ladder\". These columns are then taken and then added to the specially formatted file. \n",
    "\n",
    "Here we read in the speically formatted file and the file that has the additional feature columns in it. Decoys are dropped from both of them, giving us the same number of scans in both file. We splice out the scan, max_consecutive_y, and \"perc_in_ladder\" columns. These columns are then joined with the formatted file based on their scan numbers. We can use this file to run through MokaPot and compare if the extra feature columns help MokaPot to score more PSMs below our cutoff. "
   ]
  },
  {
   "cell_type": "code",
   "execution_count": 9,
   "metadata": {},
   "outputs": [],
   "source": [
    "def get_peaks_data(file):\n",
    "\n",
    "    data = pd.read_csv(\"peaks_files/\" + file + \"_peaks_data.csv\", low_memory=False)\n",
    "    \n",
    "    #Removing the U to match the data coming from AutoRT\n",
    "    data = data.loc[~(data[\"peptide\"].str.contains(\"U\"))] #removing the U\n",
    "    \n",
    "    data.loc[(data[\"peptide\"].str.contains(\"U\"))] #DELETE debugging here.  \n",
    "    \n",
    "    #Change the ladder column tye to float \n",
    "    data = data.astype({\"perc_in_ladder\": float})\n",
    "    \n",
    "    #sort based on the probability column\n",
    "    data = data.sort_values('QValue')\n",
    "    #drop duplicate scans\n",
    "    data = data.drop_duplicates(subset=[\"scan\"], keep=\"first\") #keep highest scoring\n",
    "    \n",
    "    data = data.rename(columns = {\"scan\": \"ScanNr\"})\n",
    "    data = data.filter(['ScanNr', 'max_consecutive_y', 'max_consecutive_b', 'perc_in_ladder'])\n",
    "    data = data.set_index(\"ScanNr\")\n",
    "    \n",
    "    #setting up the data from the pin file\n",
    "    df_2 = dl.get_pin_file(file)\n",
    "    df_2 = df_2.iloc[1: :]\n",
    "    df_2 = df_2.loc[~(df_2[\"Peptide\"].str.contains(\"U\"))] #removing the U\n",
    "    df_2 = df_2.astype({\"ScanNr\": int})\n",
    "    df_2 = df_2.drop_duplicates(subset=[\"ScanNr\"], keep=\"first\")\n",
    "    df_2 = df_2.set_index(\"ScanNr\")\n",
    "    \n",
    "    \n",
    "    joined_df = df_2.join(data, how = \"outer\")\n",
    "    joined_df.reset_index(inplace=True)\n",
    "    \n",
    "    return joined_df\n",
    "    "
   ]
  },
  {
   "cell_type": "markdown",
   "metadata": {},
   "source": [
    "Here we read in the speically formatted file and the file that has the additional feature columns in it. Decoys are dropped from both of them, giving us the same number of scans in both file. We splice out the scan, and difference columns. These columns are then joined with the formatted file based on their scan numbers. We can use this file to run through MokaPot and compare if the extra feature columns help MokaPot to score more PSMs below our cutoff."
   ]
  },
  {
   "cell_type": "code",
   "execution_count": 10,
   "metadata": {},
   "outputs": [],
   "source": [
    "#Retriving and formatting the df that has the retention time info in it. Also doing the math to get \n",
    "#the difference colum\n",
    "\n",
    "def retrive_RT_df(file):\n",
    "    \n",
    "    file_path = \"predicted_data/\" + file + \"_predicted/test.tsv\"\n",
    "    \n",
    "    data = pd.read_csv(file_path, sep = \"\\t\", low_memory=False )    \n",
    "    \n",
    "    #sort based on the probability column\n",
    "    data = data.sort_values('QValue')\n",
    "    #drop duplicate scans\n",
    "    data = data.drop_duplicates(subset=[\"scan\"], keep=\"first\") #keep highest scoring\n",
    "    #changing the type\n",
    "    data = data.astype({'y_pred': float})\n",
    "    \n",
    "    #calculating the difference column\n",
    "    data['difference'] = data.apply(calculate_diff, axis = 1)\n",
    "    \n",
    "    data = data.rename(columns = {\"scan\": \"ScanNr\"})\n",
    "    data = data.filter(['ScanNr', 'difference'])\n",
    "    data = data.set_index(\"ScanNr\")\n",
    "    return data\n"
   ]
  },
  {
   "cell_type": "code",
   "execution_count": 11,
   "metadata": {},
   "outputs": [],
   "source": [
    "def get_retentionTime_data(file):\n",
    "\n",
    "    data = retrive_RT_df(file)\n",
    "    \n",
    "    #setting up the data from the pin file\n",
    "    df_2 = dl.get_pin_file(file)\n",
    "    df_2 = df_2.iloc[1: :]\n",
    "    df_2 = df_2.astype({\"ScanNr\": int})\n",
    "    df_2 = df_2.drop_duplicates(subset=[\"ScanNr\"], keep=\"first\")\n",
    "    df_2 = df_2.loc[~(df_2[\"Peptide\"].str.contains(\"U\"))] #removing the U\n",
    "    df_2 = df_2.set_index(\"ScanNr\")\n",
    "    \n",
    "    \n",
    "    joined_df = df_2.join(data, how = \"outer\")\n",
    "    joined_df.reset_index(inplace=True)\n",
    "    \n",
    "    return joined_df"
   ]
  },
  {
   "cell_type": "markdown",
   "metadata": {},
   "source": [
    "Taking the dataframe that has the peaks features added on and joining the additional retention time differnce column onto it. Returning the joined dataframe"
   ]
  },
  {
   "cell_type": "code",
   "execution_count": 12,
   "metadata": {},
   "outputs": [],
   "source": [
    "def get_all_features_data(peaksData, RTdata):\n",
    "    RTdata = RTdata.filter(['ScanNr', 'difference'])\n",
    "    RTdata = RTdata.set_index(\"ScanNr\")\n",
    "    RTdata = RTdata.astype({'difference': float})\n",
    "    \n",
    "    peaksData = peaksData.set_index(\"ScanNr\")\n",
    "    peaksData = peaksData.astype({'perc_in_ladder': float})\n",
    "    \n",
    "    joined_df = peaksData.join(RTdata, how = \"outer\")\n",
    "    joined_df.reset_index(inplace=True)\n",
    "    \n",
    "    return joined_df\n",
    "   \n",
    "    "
   ]
  },
  {
   "cell_type": "code",
   "execution_count": 2,
   "metadata": {},
   "outputs": [],
   "source": [
    "#Read all the files into a list here\n",
    "file_names = [\"2ng_rep1\", \"2ng_rep2\", \"2ng_rep3\", \"2ng_rep4\", \"2ng_rep5\", \"2ng_rep6\", \n",
    "              \"0.2ng_rep1\", \"0.2ng_rep2\", \"0.2ng_rep3\", \"0.2ng_rep4\", \"0.2ng_rep5\", \"0.2ng_rep6\"]"
   ]
  },
  {
   "cell_type": "markdown",
   "metadata": {},
   "source": [
    "In order to tell if the new added features are helping MokaPot to score the PSMs higher, we run the program a certain number of times and look at the average scores.\n",
    "We read in the data for the pin file, the regular data, and the data that has the added features. Because MokaPot gives an output file that is already formatted for MokaPot, we have to splice out the extra columns and joing them with the pin file."
   ]
  },
  {
   "cell_type": "code",
   "execution_count": 3,
   "metadata": {
    "scrolled": true
   },
   "outputs": [
    {
     "ename": "NameError",
     "evalue": "name 'pd' is not defined",
     "output_type": "error",
     "traceback": [
      "\u001b[0;31m---------------------------------------------------------------------------\u001b[0m",
      "\u001b[0;31mNameError\u001b[0m                                 Traceback (most recent call last)",
      "\u001b[0;32m<ipython-input-3-14e72fc4e029>\u001b[0m in \u001b[0;36m<module>\u001b[0;34m\u001b[0m\n\u001b[1;32m      1\u001b[0m \u001b[0mlimit\u001b[0m \u001b[0;34m=\u001b[0m \u001b[0;36m25\u001b[0m\u001b[0;34m\u001b[0m\u001b[0;34m\u001b[0m\u001b[0m\n\u001b[1;32m      2\u001b[0m \u001b[0mfile_number\u001b[0m \u001b[0;34m=\u001b[0m \u001b[0;36m0\u001b[0m\u001b[0;34m\u001b[0m\u001b[0;34m\u001b[0m\u001b[0m\n\u001b[0;32m----> 3\u001b[0;31m \u001b[0mall_results\u001b[0m \u001b[0;34m=\u001b[0m \u001b[0mpd\u001b[0m\u001b[0;34m.\u001b[0m\u001b[0mDataFrame\u001b[0m\u001b[0;34m(\u001b[0m\u001b[0;34m)\u001b[0m\u001b[0;34m\u001b[0m\u001b[0;34m\u001b[0m\u001b[0m\n\u001b[0m\u001b[1;32m      4\u001b[0m \u001b[0;34m\u001b[0m\u001b[0m\n\u001b[1;32m      5\u001b[0m \u001b[0;34m\u001b[0m\u001b[0m\n",
      "\u001b[0;31mNameError\u001b[0m: name 'pd' is not defined"
     ]
    }
   ],
   "source": [
    "limit = 25\n",
    "file_number = 0\n",
    "all_results = pd.DataFrame()\n",
    "\n",
    "\n",
    "for file in file_names:\n",
    "    file_number +=1\n",
    "    rounds = 0\n",
    "    print(\"running \" + file)\n",
    "    \n",
    "    no_addedFeats_list = []\n",
    "    #peaks_feature_list = []\n",
    "    #RT_feature_list = []\n",
    "    all_features_list = []\n",
    "    \n",
    "    #original_MM = get_PreMokaPot_data('2ng_rep1')\n",
    "    regular_df = get_data_for_MokaPot(file)\n",
    "    peaks_df = get_peaks_data(file)\n",
    "    RT_df = get_retentionTime_data(file)\n",
    "    all_feats_df = get_all_features_data(peaks_df, RT_df)\n",
    "\n",
    "\n",
    "    while rounds < limit:\n",
    "\n",
    "        #regular data, no additional features\n",
    "        mm_for_MP = mokapot.read_pin(regular_df) \n",
    "        regular_results, models = mokapot.brew(mm_for_MP)\n",
    "\n",
    "        #just the peaks features\n",
    "#         mm_peaksFeat_MP = mokapot.read_pin(peaks_df) \n",
    "#         peaksAdded_results, added_models = mokapot.brew(mm_peaksFeat_MP)\n",
    "\n",
    "        #just the retention time feature\n",
    "#         mm_RT_feat_MP = mokapot.read_pin(RT_df)\n",
    "#         RTadded_results, models = mokapot.brew(mm_RT_feat_MP)\n",
    "\n",
    "        #all the additional features\n",
    "        all_features_MP = mokapot.read_pin(all_feats_df)\n",
    "        allAdded_results, models = mokapot.brew(all_features_MP)\n",
    "\n",
    "\n",
    "        no_addedFeats_list.append(len(regular_results.psms[regular_results.psms['mokapot q-value'] <= 0.01]))\n",
    "        print(\"without added feat: \" + str(len(regular_results.psms[regular_results.psms['mokapot q-value'] <= 0.01])))\n",
    "\n",
    "#         peaks_feature_list.append(len(peaksAdded_results.psms[peaksAdded_results.psms['mokapot q-value'] <= 0.01]))\n",
    "#         print(\"with peaks feat: \" + str(len(peaksAdded_results.psms[peaksAdded_results.psms['mokapot q-value'] <= 0.01])))\n",
    "\n",
    "#         RT_feature_list.append(len(RTadded_results.psms[RTadded_results.psms['mokapot q-value'] <= 0.01]))\n",
    "#         print(\"with RT feat: \" + str(len(RTadded_results.psms[RTadded_results.psms['mokapot q-value'] <= 0.01])))\n",
    "\n",
    "        all_features_list.append(len(allAdded_results.psms[allAdded_results.psms['mokapot q-value'] <= 0.01]))\n",
    "        print(\"with all added feat: \" + str(len(allAdded_results.psms[allAdded_results.psms['mokapot q-value'] <= 0.01])))\n",
    "\n",
    "        rounds+= 1\n",
    "        print(\"finished round \" + str(rounds))\n",
    "    \n",
    "    #adding the new results to the df with all the PSMs found\n",
    "    all_results[file + \" None\"] = no_addedFeats_list\n",
    "    all_results[file + \" All\"] = all_features_list\n",
    "\n",
    "    "
   ]
  },
  {
   "cell_type": "markdown",
   "metadata": {},
   "source": [
    "Making the graph for the average number of PSMs at or under a 0.01 cutoff. Standard deviation is given as well."
   ]
  },
  {
   "cell_type": "code",
   "execution_count": null,
   "metadata": {},
   "outputs": [],
   "source": [
    "df = pd.DataFrame(list(zip(no_addedFeats_list, all_features_list)),\n",
    "               columns =['No Features', 'All Features'])"
   ]
  },
  {
   "cell_type": "markdown",
   "metadata": {},
   "source": [
    "This function helps us to put the error bars on the box plot"
   ]
  },
  {
   "cell_type": "code",
   "execution_count": 83,
   "metadata": {},
   "outputs": [],
   "source": [
    "def label_diff(x1, x2, pval, column):\n",
    "  # statistical annotation\n",
    "    y, h, col = column.max() + 50, 2, 'k'\n",
    "    plt.plot([x1, x1, x2, x2], [y, y+h, y+h, y], lw=1.5, c=col)\n",
    "    plt.text((x1+x2)*.5, y+h, pval, ha='center', va='bottom', color=col)  \n"
   ]
  },
  {
   "cell_type": "code",
   "execution_count": 66,
   "metadata": {},
   "outputs": [],
   "source": [
    "#calculate the t-test and return the pvalue\n",
    "from decimal import Decimal\n",
    "def calc_pval(col1, col2):\n",
    "    t_test = stats.ttest_ind(col1, col2)\n",
    "    pval = '%.2E' % Decimal((t_test.pvalue))\n",
    "    return pval"
   ]
  },
  {
   "cell_type": "code",
   "execution_count": 20,
   "metadata": {},
   "outputs": [
    {
     "data": {
      "image/png": "[encoded data removed]",
      "text/plain": [
       "<Figure size 432x288 with 1 Axes>"
      ]
     },
     "metadata": {
      "needs_background": "light"
     },
     "output_type": "display_data"
    }
   ],
   "source": [
    "import seaborn as sns\n",
    "\n",
    "# segment = all_results[['2ng_rep1 None', '2ng_rep1 All', '2ng_rep2 None', '2ng_rep2 All',\n",
    "#        '2ng_rep3 None', '2ng_rep3 All', '2ng_rep4 None', '2ng_rep4 All',\n",
    "#        '2ng_rep5 None', '2ng_rep5 All', '2ng_rep6 None', '2ng_rep6 All']]\n",
    "\n",
    "segment = all_results[['2ng_rep1 None', '2ng_rep1 All', '2ng_rep2 None', '2ng_rep2 All',\n",
    "       '2ng_rep3 None', '2ng_rep3 All', '2ng_rep4 None', '2ng_rep4 All',\n",
    "       '2ng_rep6 None', '2ng_rep6 All']]\n",
    "\n",
    "features_plot = sns.boxplot(data=segment, showfliers=False)\n",
    "features_plot = sns.stripplot(data=segment, jitter=True, color=\".3\")\n",
    "features_plot.set(ylabel = \"Number of PSMs per scan\")\n",
    "features_plot.set(xlabel = \"Presence of Features\")\n",
    "\n",
    "\n",
    "pval = calc_pval(all_results[\"2ng_rep1 None\"], all_results[\"2ng_rep1 All\"])\n",
    "label_diff(0,1, pval, \"2ng_rep1 All\")\n",
    "\n",
    "pval = calc_pval(all_results[\"2ng_rep2 None\"], all_results[\"2ng_rep2 All\"])\n",
    "label_diff(2,3, pval, \"2ng_rep2 All\")\n",
    "\n",
    "calc_pval(all_results[\"2ng_rep3 None\"], all_results[\"2ng_rep2 All\"])\n",
    "label_diff(4,5, pval, \"2ng_rep3 All\")\n",
    "\n",
    "pval = calc_pval(all_results[\"2ng_rep4 None\"], all_results[\"2ng_rep4 All\"])\n",
    "label_diff(6,7, pval, \"2ng_rep4 All\")\n",
    "\n",
    "# pval = calc_pval(all_results[\"2ng_rep5 None\"], all_results[\"2ng_rep5 All\"])\n",
    "# label_diff(8,9, pval, \"2ng_rep5 All\")\n",
    "\n",
    "pval = calc_pval(all_results[\"2ng_rep6 None\"], all_results[\"2ng_rep6 All\"])\n",
    "label_diff(10,11, pval, \"2ng_rep6 All\")\n",
    "\n",
    "\n",
    "plt.show()"
   ]
  },
  {
   "cell_type": "code",
   "execution_count": null,
   "metadata": {},
   "outputs": [],
   "source": []
  },
  {
   "cell_type": "code",
   "execution_count": 21,
   "metadata": {},
   "outputs": [
    {
     "data": {
      "image/png": "[encoded data removed]",
      "text/plain": [
       "<Figure size 432x288 with 1 Axes>"
      ]
     },
     "metadata": {
      "needs_background": "light"
     },
     "output_type": "display_data"
    }
   ],
   "source": [
    "import seaborn as sns\n",
    "\n",
    "point2ng_df = all_results[['0.2ng_rep1 None', '0.2ng_rep1 All', '0.2ng_rep2 None', \n",
    "                           '0.2ng_rep2 All', '0.2ng_rep3 None', '0.2ng_rep3 All', \n",
    "                           '0.2ng_rep4 None', '0.2ng_rep4 All', '0.2ng_rep5 None', \n",
    "                           '0.2ng_rep5 All', '0.2ng_rep6 None', '0.2ng_rep6 All']]\n",
    "test = all_results[['0.2ng_rep4 None', '0.2ng_rep4 All']]\n",
    "\n",
    "features_plot = sns.boxplot(data=point2ng_df, showfliers=False)\n",
    "features_plot = sns.stripplot(data=point2ng_df, jitter=True, color=\".3\")\n",
    "features_plot.set(ylabel = \"Number of PSMs per scan\")\n",
    "features_plot.set(xlabel = \"Presence of Features\")\n",
    "\n",
    "\n",
    "pval = calc_pval(all_results['0.2ng_rep1 None'], all_results['0.2ng_rep1 All'])\n",
    "label_diff(0,1, pval, \"0.2ng_rep1 All\")\n",
    "\n",
    "pval = calc_pval(all_results[\"0.2ng_rep2 None\"], all_results[\"0.2ng_rep2 All\"])\n",
    "label_diff(2,3, pval, \"0.2ng_rep2 All\")\n",
    "\n",
    "calc_pval(all_results[\"0.2ng_rep3 None\"], all_results[\"0.2ng_rep3 All\"])\n",
    "label_diff(4,5, pval, \"0.2ng_rep3 All\")\n",
    "\n",
    "pval = calc_pval(all_results[\"0.2ng_rep4 None\"], all_results[\"0.2ng_rep4 All\"])\n",
    "label_diff(6,7, pval, \"0.2ng_rep4 All\")\n",
    "\n",
    "pval = calc_pval(all_results[\"0.2ng_rep5 None\"], all_results[\"0.2ng_rep5 All\"])\n",
    "label_diff(8,9, pval, \"0.2ng_rep5 All\")\n",
    "\n",
    "pval = calc_pval(all_results[\"0.2ng_rep6 None\"], all_results[\"0.2ng_rep6 All\"])\n",
    "label_diff(10,11, pval, \"0.2ng_rep6 All\")\n",
    "\n",
    "plt.show()"
   ]
  },
  {
   "cell_type": "code",
   "execution_count": 25,
   "metadata": {},
   "outputs": [
    {
     "data": {
      "image/png": "[encoded data removed]",
      "text/plain": [
       "<Figure size 432x288 with 1 Axes>"
      ]
     },
     "metadata": {
      "needs_background": "light"
     },
     "output_type": "display_data"
    }
   ],
   "source": [
    "import statistics as stats\n",
    "\n",
    "avg1 = stats.mean(all_results['2ng_rep1 All']) - stats.mean(all_results['2ng_rep1 None'])\n",
    "avg2 = stats.mean(all_results['2ng_rep2 All']) - stats.mean(all_results['2ng_rep2 None'])\n",
    "avg3 = stats.mean(all_results['2ng_rep3 All']) - stats.mean(all_results['2ng_rep3 None'])\n",
    "avg4 = stats.mean(all_results['2ng_rep4 All']) - stats.mean(all_results['2ng_rep4 None'])\n",
    "#avg5 = stats.mean(all_results['2ng_rep5 All']) - stats.mean(all_results['2ng_rep5 None'])\n",
    "avg6 = stats.mean(all_results['2ng_rep6 All']) - stats.mean(all_results['2ng_rep6 None'])\n",
    "fig = plt.figure()\n",
    "ax = fig.add_axes([0,0,1,1])\n",
    "increases = [avg1, avg2, avg3, avg4, avg6] #fix rep5\n",
    "tools = [\"2ng_rep1\", \"2ng_rep2\", \"2ng_rep3\", \"2ng_rep4\",  \"2ng_rep6\"] #fix rep5\n",
    "ax.bar(tools, increases)\n",
    "plt.ylabel('average increase')\n",
    "plt.xlabel('2ng files')\n",
    "#plt.xlabel('Number of PSMs using native score and 0.01 cutoff')\n",
    "plt.title('Average increase in # PSMs after additional features and MokaPot')\n",
    "plt.show()"
   ]
  },
  {
   "cell_type": "code",
   "execution_count": 15,
   "metadata": {},
   "outputs": [],
   "source": [
    "file_names =[\"2ng_rep5\"]"
   ]
  },
  {
   "cell_type": "code",
   "execution_count": 17,
   "metadata": {},
   "outputs": [
    {
     "name": "stdout",
     "output_type": "stream",
     "text": [
      "running 2ng_rep5\n",
      "without added feat: 16748\n",
      "with all added feat: 16903\n",
      "finished round 1\n",
      "without added feat: 16743\n",
      "with all added feat: 16913\n",
      "finished round 2\n",
      "without added feat: 16718\n",
      "with all added feat: 16918\n",
      "finished round 3\n",
      "without added feat: 16752\n",
      "with all added feat: 16907\n",
      "finished round 4\n",
      "without added feat: 16777\n",
      "with all added feat: 16893\n",
      "finished round 5\n",
      "without added feat: 16746\n",
      "with all added feat: 16885\n",
      "finished round 6\n",
      "without added feat: 16737\n",
      "with all added feat: 16898\n",
      "finished round 7\n",
      "without added feat: 16734\n",
      "with all added feat: 16911\n",
      "finished round 8\n",
      "without added feat: 16767\n",
      "with all added feat: 16886\n",
      "finished round 9\n"
     ]
    },
    {
     "ename": "KeyboardInterrupt",
     "evalue": "",
     "output_type": "error",
     "traceback": [
      "\u001b[0;31m---------------------------------------------------------------------------\u001b[0m",
      "\u001b[0;31mKeyboardInterrupt\u001b[0m                         Traceback (most recent call last)",
      "\u001b[0;32m<ipython-input-17-eb2f2e8cd32b>\u001b[0m in \u001b[0;36m<module>\u001b[0;34m\u001b[0m\n\u001b[1;32m     26\u001b[0m         \u001b[0;31m#regular data, no additional features\u001b[0m\u001b[0;34m\u001b[0m\u001b[0;34m\u001b[0m\u001b[0;34m\u001b[0m\u001b[0m\n\u001b[1;32m     27\u001b[0m         \u001b[0mmm_for_MP\u001b[0m \u001b[0;34m=\u001b[0m \u001b[0mmokapot\u001b[0m\u001b[0;34m.\u001b[0m\u001b[0mread_pin\u001b[0m\u001b[0;34m(\u001b[0m\u001b[0mregular_df\u001b[0m\u001b[0;34m)\u001b[0m\u001b[0;34m\u001b[0m\u001b[0;34m\u001b[0m\u001b[0m\n\u001b[0;32m---> 28\u001b[0;31m         \u001b[0mregular_results\u001b[0m\u001b[0;34m,\u001b[0m \u001b[0mmodels\u001b[0m \u001b[0;34m=\u001b[0m \u001b[0mmokapot\u001b[0m\u001b[0;34m.\u001b[0m\u001b[0mbrew\u001b[0m\u001b[0;34m(\u001b[0m\u001b[0mmm_for_MP\u001b[0m\u001b[0;34m)\u001b[0m\u001b[0;34m\u001b[0m\u001b[0;34m\u001b[0m\u001b[0m\n\u001b[0m\u001b[1;32m     29\u001b[0m \u001b[0;34m\u001b[0m\u001b[0m\n\u001b[1;32m     30\u001b[0m         \u001b[0;31m#just the peaks features\u001b[0m\u001b[0;34m\u001b[0m\u001b[0;34m\u001b[0m\u001b[0;34m\u001b[0m\u001b[0m\n",
      "\u001b[0;32m~/anaconda3/lib/python3.8/site-packages/mokapot/brew.py\u001b[0m in \u001b[0;36mbrew\u001b[0;34m(psms, model, test_fdr, folds, max_workers)\u001b[0m\n\u001b[1;32m    100\u001b[0m             \u001b[0mmap_fun\u001b[0m \u001b[0;34m=\u001b[0m \u001b[0mprc\u001b[0m\u001b[0;34m.\u001b[0m\u001b[0mmap\u001b[0m\u001b[0;34m\u001b[0m\u001b[0;34m\u001b[0m\u001b[0m\n\u001b[1;32m    101\u001b[0m \u001b[0;34m\u001b[0m\u001b[0m\n\u001b[0;32m--> 102\u001b[0;31m         \u001b[0mmodels\u001b[0m \u001b[0;34m=\u001b[0m \u001b[0mlist\u001b[0m\u001b[0;34m(\u001b[0m\u001b[0mmap_fun\u001b[0m\u001b[0;34m(\u001b[0m\u001b[0;34m*\u001b[0m\u001b[0mmap_args\u001b[0m\u001b[0;34m)\u001b[0m\u001b[0;34m)\u001b[0m\u001b[0;34m\u001b[0m\u001b[0;34m\u001b[0m\u001b[0m\n\u001b[0m\u001b[1;32m    103\u001b[0m \u001b[0;34m\u001b[0m\u001b[0m\n\u001b[1;32m    104\u001b[0m     \u001b[0;31m# Determine if the models need to be reset:\u001b[0m\u001b[0;34m\u001b[0m\u001b[0;34m\u001b[0m\u001b[0;34m\u001b[0m\u001b[0m\n",
      "\u001b[0;32m~/anaconda3/lib/python3.8/site-packages/mokapot/brew.py\u001b[0m in \u001b[0;36m_fit_model\u001b[0;34m(train_set, model, fold)\u001b[0m\n\u001b[1;32m    256\u001b[0m     \u001b[0mreset\u001b[0m \u001b[0;34m=\u001b[0m \u001b[0;32mFalse\u001b[0m\u001b[0;34m\u001b[0m\u001b[0;34m\u001b[0m\u001b[0m\n\u001b[1;32m    257\u001b[0m     \u001b[0;32mtry\u001b[0m\u001b[0;34m:\u001b[0m\u001b[0;34m\u001b[0m\u001b[0;34m\u001b[0m\u001b[0m\n\u001b[0;32m--> 258\u001b[0;31m         \u001b[0mmodel\u001b[0m\u001b[0;34m.\u001b[0m\u001b[0mfit\u001b[0m\u001b[0;34m(\u001b[0m\u001b[0mtrain_set\u001b[0m\u001b[0;34m)\u001b[0m\u001b[0;34m\u001b[0m\u001b[0;34m\u001b[0m\u001b[0m\n\u001b[0m\u001b[1;32m    259\u001b[0m     \u001b[0;32mexcept\u001b[0m \u001b[0mRuntimeError\u001b[0m \u001b[0;32mas\u001b[0m \u001b[0mmsg\u001b[0m\u001b[0;34m:\u001b[0m\u001b[0;34m\u001b[0m\u001b[0;34m\u001b[0m\u001b[0m\n\u001b[1;32m    260\u001b[0m         \u001b[0;32mif\u001b[0m \u001b[0mstr\u001b[0m\u001b[0;34m(\u001b[0m\u001b[0mmsg\u001b[0m\u001b[0;34m)\u001b[0m \u001b[0;34m!=\u001b[0m \u001b[0;34m\"Model performs worse after training.\"\u001b[0m\u001b[0;34m:\u001b[0m\u001b[0;34m\u001b[0m\u001b[0;34m\u001b[0m\u001b[0m\n",
      "\u001b[0;32m~/anaconda3/lib/python3.8/site-packages/mokapot/model.py\u001b[0m in \u001b[0;36mfit\u001b[0;34m(self, psms)\u001b[0m\n\u001b[1;32m    289\u001b[0m \u001b[0;34m\u001b[0m\u001b[0m\n\u001b[1;32m    290\u001b[0m         \u001b[0;31m# Prepare the model:\u001b[0m\u001b[0;34m\u001b[0m\u001b[0;34m\u001b[0m\u001b[0;34m\u001b[0m\u001b[0m\n\u001b[0;32m--> 291\u001b[0;31m         \u001b[0mmodel\u001b[0m \u001b[0;34m=\u001b[0m \u001b[0m_find_hyperparameters\u001b[0m\u001b[0;34m(\u001b[0m\u001b[0mself\u001b[0m\u001b[0;34m,\u001b[0m \u001b[0mnorm_feat\u001b[0m\u001b[0;34m,\u001b[0m \u001b[0mstart_labels\u001b[0m\u001b[0;34m)\u001b[0m\u001b[0;34m\u001b[0m\u001b[0;34m\u001b[0m\u001b[0m\n\u001b[0m\u001b[1;32m    292\u001b[0m \u001b[0;34m\u001b[0m\u001b[0m\n\u001b[1;32m    293\u001b[0m         \u001b[0;31m# Begin training loop\u001b[0m\u001b[0;34m\u001b[0m\u001b[0;34m\u001b[0m\u001b[0;34m\u001b[0m\u001b[0m\n",
      "\u001b[0;32m~/anaconda3/lib/python3.8/site-packages/mokapot/model.py\u001b[0m in \u001b[0;36m_find_hyperparameters\u001b[0;34m(model, features, labels)\u001b[0m\n\u001b[1;32m    617\u001b[0m \u001b[0;34m\u001b[0m\u001b[0m\n\u001b[1;32m    618\u001b[0m         \u001b[0;31m# Fit the model\u001b[0m\u001b[0;34m\u001b[0m\u001b[0;34m\u001b[0m\u001b[0;34m\u001b[0m\u001b[0m\n\u001b[0;32m--> 619\u001b[0;31m         \u001b[0mmodel\u001b[0m\u001b[0;34m.\u001b[0m\u001b[0mestimator\u001b[0m\u001b[0;34m.\u001b[0m\u001b[0mfit\u001b[0m\u001b[0;34m(\u001b[0m\u001b[0mcv_samples\u001b[0m\u001b[0;34m,\u001b[0m \u001b[0mcv_targ\u001b[0m\u001b[0;34m)\u001b[0m\u001b[0;34m\u001b[0m\u001b[0;34m\u001b[0m\u001b[0m\n\u001b[0m\u001b[1;32m    620\u001b[0m \u001b[0;34m\u001b[0m\u001b[0m\n\u001b[1;32m    621\u001b[0m         \u001b[0;31m# Extract the best params.\u001b[0m\u001b[0;34m\u001b[0m\u001b[0;34m\u001b[0m\u001b[0;34m\u001b[0m\u001b[0m\n",
      "\u001b[0;32m~/anaconda3/lib/python3.8/site-packages/sklearn/utils/validation.py\u001b[0m in \u001b[0;36minner_f\u001b[0;34m(*args, **kwargs)\u001b[0m\n\u001b[1;32m     71\u001b[0m                           FutureWarning)\n\u001b[1;32m     72\u001b[0m         \u001b[0mkwargs\u001b[0m\u001b[0;34m.\u001b[0m\u001b[0mupdate\u001b[0m\u001b[0;34m(\u001b[0m\u001b[0;34m{\u001b[0m\u001b[0mk\u001b[0m\u001b[0;34m:\u001b[0m \u001b[0marg\u001b[0m \u001b[0;32mfor\u001b[0m \u001b[0mk\u001b[0m\u001b[0;34m,\u001b[0m \u001b[0marg\u001b[0m \u001b[0;32min\u001b[0m \u001b[0mzip\u001b[0m\u001b[0;34m(\u001b[0m\u001b[0msig\u001b[0m\u001b[0;34m.\u001b[0m\u001b[0mparameters\u001b[0m\u001b[0;34m,\u001b[0m \u001b[0margs\u001b[0m\u001b[0;34m)\u001b[0m\u001b[0;34m}\u001b[0m\u001b[0;34m)\u001b[0m\u001b[0;34m\u001b[0m\u001b[0;34m\u001b[0m\u001b[0m\n\u001b[0;32m---> 73\u001b[0;31m         \u001b[0;32mreturn\u001b[0m \u001b[0mf\u001b[0m\u001b[0;34m(\u001b[0m\u001b[0;34m**\u001b[0m\u001b[0mkwargs\u001b[0m\u001b[0;34m)\u001b[0m\u001b[0;34m\u001b[0m\u001b[0;34m\u001b[0m\u001b[0m\n\u001b[0m\u001b[1;32m     74\u001b[0m     \u001b[0;32mreturn\u001b[0m \u001b[0minner_f\u001b[0m\u001b[0;34m\u001b[0m\u001b[0;34m\u001b[0m\u001b[0m\n\u001b[1;32m     75\u001b[0m \u001b[0;34m\u001b[0m\u001b[0m\n",
      "\u001b[0;32m~/anaconda3/lib/python3.8/site-packages/sklearn/model_selection/_search.py\u001b[0m in \u001b[0;36mfit\u001b[0;34m(self, X, y, groups, **fit_params)\u001b[0m\n\u001b[1;32m    734\u001b[0m                 \u001b[0;32mreturn\u001b[0m \u001b[0mresults\u001b[0m\u001b[0;34m\u001b[0m\u001b[0;34m\u001b[0m\u001b[0m\n\u001b[1;32m    735\u001b[0m \u001b[0;34m\u001b[0m\u001b[0m\n\u001b[0;32m--> 736\u001b[0;31m             \u001b[0mself\u001b[0m\u001b[0;34m.\u001b[0m\u001b[0m_run_search\u001b[0m\u001b[0;34m(\u001b[0m\u001b[0mevaluate_candidates\u001b[0m\u001b[0;34m)\u001b[0m\u001b[0;34m\u001b[0m\u001b[0;34m\u001b[0m\u001b[0m\n\u001b[0m\u001b[1;32m    737\u001b[0m \u001b[0;34m\u001b[0m\u001b[0m\n\u001b[1;32m    738\u001b[0m         \u001b[0;31m# For multi-metric evaluation, store the best_index_, best_params_ and\u001b[0m\u001b[0;34m\u001b[0m\u001b[0;34m\u001b[0m\u001b[0;34m\u001b[0m\u001b[0m\n",
      "\u001b[0;32m~/anaconda3/lib/python3.8/site-packages/sklearn/model_selection/_search.py\u001b[0m in \u001b[0;36m_run_search\u001b[0;34m(self, evaluate_candidates)\u001b[0m\n\u001b[1;32m   1186\u001b[0m     \u001b[0;32mdef\u001b[0m \u001b[0m_run_search\u001b[0m\u001b[0;34m(\u001b[0m\u001b[0mself\u001b[0m\u001b[0;34m,\u001b[0m \u001b[0mevaluate_candidates\u001b[0m\u001b[0;34m)\u001b[0m\u001b[0;34m:\u001b[0m\u001b[0;34m\u001b[0m\u001b[0;34m\u001b[0m\u001b[0m\n\u001b[1;32m   1187\u001b[0m         \u001b[0;34m\"\"\"Search all candidates in param_grid\"\"\"\u001b[0m\u001b[0;34m\u001b[0m\u001b[0;34m\u001b[0m\u001b[0m\n\u001b[0;32m-> 1188\u001b[0;31m         \u001b[0mevaluate_candidates\u001b[0m\u001b[0;34m(\u001b[0m\u001b[0mParameterGrid\u001b[0m\u001b[0;34m(\u001b[0m\u001b[0mself\u001b[0m\u001b[0;34m.\u001b[0m\u001b[0mparam_grid\u001b[0m\u001b[0;34m)\u001b[0m\u001b[0;34m)\u001b[0m\u001b[0;34m\u001b[0m\u001b[0;34m\u001b[0m\u001b[0m\n\u001b[0m\u001b[1;32m   1189\u001b[0m \u001b[0;34m\u001b[0m\u001b[0m\n\u001b[1;32m   1190\u001b[0m \u001b[0;34m\u001b[0m\u001b[0m\n",
      "\u001b[0;32m~/anaconda3/lib/python3.8/site-packages/sklearn/model_selection/_search.py\u001b[0m in \u001b[0;36mevaluate_candidates\u001b[0;34m(candidate_params)\u001b[0m\n\u001b[1;32m    706\u001b[0m                               n_splits, n_candidates, n_candidates * n_splits))\n\u001b[1;32m    707\u001b[0m \u001b[0;34m\u001b[0m\u001b[0m\n\u001b[0;32m--> 708\u001b[0;31m                 out = parallel(delayed(_fit_and_score)(clone(base_estimator),\n\u001b[0m\u001b[1;32m    709\u001b[0m                                                        \u001b[0mX\u001b[0m\u001b[0;34m,\u001b[0m \u001b[0my\u001b[0m\u001b[0;34m,\u001b[0m\u001b[0;34m\u001b[0m\u001b[0;34m\u001b[0m\u001b[0m\n\u001b[1;32m    710\u001b[0m                                                        \u001b[0mtrain\u001b[0m\u001b[0;34m=\u001b[0m\u001b[0mtrain\u001b[0m\u001b[0;34m,\u001b[0m \u001b[0mtest\u001b[0m\u001b[0;34m=\u001b[0m\u001b[0mtest\u001b[0m\u001b[0;34m,\u001b[0m\u001b[0;34m\u001b[0m\u001b[0;34m\u001b[0m\u001b[0m\n",
      "\u001b[0;32m~/anaconda3/lib/python3.8/site-packages/joblib/parallel.py\u001b[0m in \u001b[0;36m__call__\u001b[0;34m(self, iterable)\u001b[0m\n\u001b[1;32m   1030\u001b[0m                 \u001b[0mself\u001b[0m\u001b[0;34m.\u001b[0m\u001b[0m_iterating\u001b[0m \u001b[0;34m=\u001b[0m \u001b[0mself\u001b[0m\u001b[0;34m.\u001b[0m\u001b[0m_original_iterator\u001b[0m \u001b[0;32mis\u001b[0m \u001b[0;32mnot\u001b[0m \u001b[0;32mNone\u001b[0m\u001b[0;34m\u001b[0m\u001b[0;34m\u001b[0m\u001b[0m\n\u001b[1;32m   1031\u001b[0m \u001b[0;34m\u001b[0m\u001b[0m\n\u001b[0;32m-> 1032\u001b[0;31m             \u001b[0;32mwhile\u001b[0m \u001b[0mself\u001b[0m\u001b[0;34m.\u001b[0m\u001b[0mdispatch_one_batch\u001b[0m\u001b[0;34m(\u001b[0m\u001b[0miterator\u001b[0m\u001b[0;34m)\u001b[0m\u001b[0;34m:\u001b[0m\u001b[0;34m\u001b[0m\u001b[0;34m\u001b[0m\u001b[0m\n\u001b[0m\u001b[1;32m   1033\u001b[0m                 \u001b[0;32mpass\u001b[0m\u001b[0;34m\u001b[0m\u001b[0;34m\u001b[0m\u001b[0m\n\u001b[1;32m   1034\u001b[0m \u001b[0;34m\u001b[0m\u001b[0m\n",
      "\u001b[0;32m~/anaconda3/lib/python3.8/site-packages/joblib/parallel.py\u001b[0m in \u001b[0;36mdispatch_one_batch\u001b[0;34m(self, iterator)\u001b[0m\n\u001b[1;32m    845\u001b[0m                 \u001b[0;32mreturn\u001b[0m \u001b[0;32mFalse\u001b[0m\u001b[0;34m\u001b[0m\u001b[0;34m\u001b[0m\u001b[0m\n\u001b[1;32m    846\u001b[0m             \u001b[0;32melse\u001b[0m\u001b[0;34m:\u001b[0m\u001b[0;34m\u001b[0m\u001b[0;34m\u001b[0m\u001b[0m\n\u001b[0;32m--> 847\u001b[0;31m                 \u001b[0mself\u001b[0m\u001b[0;34m.\u001b[0m\u001b[0m_dispatch\u001b[0m\u001b[0;34m(\u001b[0m\u001b[0mtasks\u001b[0m\u001b[0;34m)\u001b[0m\u001b[0;34m\u001b[0m\u001b[0;34m\u001b[0m\u001b[0m\n\u001b[0m\u001b[1;32m    848\u001b[0m                 \u001b[0;32mreturn\u001b[0m \u001b[0;32mTrue\u001b[0m\u001b[0;34m\u001b[0m\u001b[0;34m\u001b[0m\u001b[0m\n\u001b[1;32m    849\u001b[0m \u001b[0;34m\u001b[0m\u001b[0m\n",
      "\u001b[0;32m~/anaconda3/lib/python3.8/site-packages/joblib/parallel.py\u001b[0m in \u001b[0;36m_dispatch\u001b[0;34m(self, batch)\u001b[0m\n\u001b[1;32m    763\u001b[0m         \u001b[0;32mwith\u001b[0m \u001b[0mself\u001b[0m\u001b[0;34m.\u001b[0m\u001b[0m_lock\u001b[0m\u001b[0;34m:\u001b[0m\u001b[0;34m\u001b[0m\u001b[0;34m\u001b[0m\u001b[0m\n\u001b[1;32m    764\u001b[0m             \u001b[0mjob_idx\u001b[0m \u001b[0;34m=\u001b[0m \u001b[0mlen\u001b[0m\u001b[0;34m(\u001b[0m\u001b[0mself\u001b[0m\u001b[0;34m.\u001b[0m\u001b[0m_jobs\u001b[0m\u001b[0;34m)\u001b[0m\u001b[0;34m\u001b[0m\u001b[0;34m\u001b[0m\u001b[0m\n\u001b[0;32m--> 765\u001b[0;31m             \u001b[0mjob\u001b[0m \u001b[0;34m=\u001b[0m \u001b[0mself\u001b[0m\u001b[0;34m.\u001b[0m\u001b[0m_backend\u001b[0m\u001b[0;34m.\u001b[0m\u001b[0mapply_async\u001b[0m\u001b[0;34m(\u001b[0m\u001b[0mbatch\u001b[0m\u001b[0;34m,\u001b[0m \u001b[0mcallback\u001b[0m\u001b[0;34m=\u001b[0m\u001b[0mcb\u001b[0m\u001b[0;34m)\u001b[0m\u001b[0;34m\u001b[0m\u001b[0;34m\u001b[0m\u001b[0m\n\u001b[0m\u001b[1;32m    766\u001b[0m             \u001b[0;31m# A job can complete so quickly than its callback is\u001b[0m\u001b[0;34m\u001b[0m\u001b[0;34m\u001b[0m\u001b[0;34m\u001b[0m\u001b[0m\n\u001b[1;32m    767\u001b[0m             \u001b[0;31m# called before we get here, causing self._jobs to\u001b[0m\u001b[0;34m\u001b[0m\u001b[0;34m\u001b[0m\u001b[0;34m\u001b[0m\u001b[0m\n",
      "\u001b[0;32m~/anaconda3/lib/python3.8/site-packages/joblib/_parallel_backends.py\u001b[0m in \u001b[0;36mapply_async\u001b[0;34m(self, func, callback)\u001b[0m\n\u001b[1;32m    206\u001b[0m     \u001b[0;32mdef\u001b[0m \u001b[0mapply_async\u001b[0m\u001b[0;34m(\u001b[0m\u001b[0mself\u001b[0m\u001b[0;34m,\u001b[0m \u001b[0mfunc\u001b[0m\u001b[0;34m,\u001b[0m \u001b[0mcallback\u001b[0m\u001b[0;34m=\u001b[0m\u001b[0;32mNone\u001b[0m\u001b[0;34m)\u001b[0m\u001b[0;34m:\u001b[0m\u001b[0;34m\u001b[0m\u001b[0;34m\u001b[0m\u001b[0m\n\u001b[1;32m    207\u001b[0m         \u001b[0;34m\"\"\"Schedule a func to be run\"\"\"\u001b[0m\u001b[0;34m\u001b[0m\u001b[0;34m\u001b[0m\u001b[0m\n\u001b[0;32m--> 208\u001b[0;31m         \u001b[0mresult\u001b[0m \u001b[0;34m=\u001b[0m \u001b[0mImmediateResult\u001b[0m\u001b[0;34m(\u001b[0m\u001b[0mfunc\u001b[0m\u001b[0;34m)\u001b[0m\u001b[0;34m\u001b[0m\u001b[0;34m\u001b[0m\u001b[0m\n\u001b[0m\u001b[1;32m    209\u001b[0m         \u001b[0;32mif\u001b[0m \u001b[0mcallback\u001b[0m\u001b[0;34m:\u001b[0m\u001b[0;34m\u001b[0m\u001b[0;34m\u001b[0m\u001b[0m\n\u001b[1;32m    210\u001b[0m             \u001b[0mcallback\u001b[0m\u001b[0;34m(\u001b[0m\u001b[0mresult\u001b[0m\u001b[0;34m)\u001b[0m\u001b[0;34m\u001b[0m\u001b[0;34m\u001b[0m\u001b[0m\n",
      "\u001b[0;32m~/anaconda3/lib/python3.8/site-packages/joblib/_parallel_backends.py\u001b[0m in \u001b[0;36m__init__\u001b[0;34m(self, batch)\u001b[0m\n\u001b[1;32m    570\u001b[0m         \u001b[0;31m# Don't delay the application, to avoid keeping the input\u001b[0m\u001b[0;34m\u001b[0m\u001b[0;34m\u001b[0m\u001b[0;34m\u001b[0m\u001b[0m\n\u001b[1;32m    571\u001b[0m         \u001b[0;31m# arguments in memory\u001b[0m\u001b[0;34m\u001b[0m\u001b[0;34m\u001b[0m\u001b[0;34m\u001b[0m\u001b[0m\n\u001b[0;32m--> 572\u001b[0;31m         \u001b[0mself\u001b[0m\u001b[0;34m.\u001b[0m\u001b[0mresults\u001b[0m \u001b[0;34m=\u001b[0m \u001b[0mbatch\u001b[0m\u001b[0;34m(\u001b[0m\u001b[0;34m)\u001b[0m\u001b[0;34m\u001b[0m\u001b[0;34m\u001b[0m\u001b[0m\n\u001b[0m\u001b[1;32m    573\u001b[0m \u001b[0;34m\u001b[0m\u001b[0m\n\u001b[1;32m    574\u001b[0m     \u001b[0;32mdef\u001b[0m \u001b[0mget\u001b[0m\u001b[0;34m(\u001b[0m\u001b[0mself\u001b[0m\u001b[0;34m)\u001b[0m\u001b[0;34m:\u001b[0m\u001b[0;34m\u001b[0m\u001b[0;34m\u001b[0m\u001b[0m\n",
      "\u001b[0;32m~/anaconda3/lib/python3.8/site-packages/joblib/parallel.py\u001b[0m in \u001b[0;36m__call__\u001b[0;34m(self)\u001b[0m\n\u001b[1;32m    250\u001b[0m         \u001b[0;31m# change the default number of processes to -1\u001b[0m\u001b[0;34m\u001b[0m\u001b[0;34m\u001b[0m\u001b[0;34m\u001b[0m\u001b[0m\n\u001b[1;32m    251\u001b[0m         \u001b[0;32mwith\u001b[0m \u001b[0mparallel_backend\u001b[0m\u001b[0;34m(\u001b[0m\u001b[0mself\u001b[0m\u001b[0;34m.\u001b[0m\u001b[0m_backend\u001b[0m\u001b[0;34m,\u001b[0m \u001b[0mn_jobs\u001b[0m\u001b[0;34m=\u001b[0m\u001b[0mself\u001b[0m\u001b[0;34m.\u001b[0m\u001b[0m_n_jobs\u001b[0m\u001b[0;34m)\u001b[0m\u001b[0;34m:\u001b[0m\u001b[0;34m\u001b[0m\u001b[0;34m\u001b[0m\u001b[0m\n\u001b[0;32m--> 252\u001b[0;31m             return [func(*args, **kwargs)\n\u001b[0m\u001b[1;32m    253\u001b[0m                     for func, args, kwargs in self.items]\n\u001b[1;32m    254\u001b[0m \u001b[0;34m\u001b[0m\u001b[0m\n",
      "\u001b[0;32m~/anaconda3/lib/python3.8/site-packages/joblib/parallel.py\u001b[0m in \u001b[0;36m<listcomp>\u001b[0;34m(.0)\u001b[0m\n\u001b[1;32m    250\u001b[0m         \u001b[0;31m# change the default number of processes to -1\u001b[0m\u001b[0;34m\u001b[0m\u001b[0;34m\u001b[0m\u001b[0;34m\u001b[0m\u001b[0m\n\u001b[1;32m    251\u001b[0m         \u001b[0;32mwith\u001b[0m \u001b[0mparallel_backend\u001b[0m\u001b[0;34m(\u001b[0m\u001b[0mself\u001b[0m\u001b[0;34m.\u001b[0m\u001b[0m_backend\u001b[0m\u001b[0;34m,\u001b[0m \u001b[0mn_jobs\u001b[0m\u001b[0;34m=\u001b[0m\u001b[0mself\u001b[0m\u001b[0;34m.\u001b[0m\u001b[0m_n_jobs\u001b[0m\u001b[0;34m)\u001b[0m\u001b[0;34m:\u001b[0m\u001b[0;34m\u001b[0m\u001b[0;34m\u001b[0m\u001b[0m\n\u001b[0;32m--> 252\u001b[0;31m             return [func(*args, **kwargs)\n\u001b[0m\u001b[1;32m    253\u001b[0m                     for func, args, kwargs in self.items]\n\u001b[1;32m    254\u001b[0m \u001b[0;34m\u001b[0m\u001b[0m\n",
      "\u001b[0;32m~/anaconda3/lib/python3.8/site-packages/sklearn/model_selection/_validation.py\u001b[0m in \u001b[0;36m_fit_and_score\u001b[0;34m(estimator, X, y, scorer, train, test, verbose, parameters, fit_params, return_train_score, return_parameters, return_n_test_samples, return_times, return_estimator, error_score)\u001b[0m\n\u001b[1;32m    529\u001b[0m             \u001b[0mestimator\u001b[0m\u001b[0;34m.\u001b[0m\u001b[0mfit\u001b[0m\u001b[0;34m(\u001b[0m\u001b[0mX_train\u001b[0m\u001b[0;34m,\u001b[0m \u001b[0;34m**\u001b[0m\u001b[0mfit_params\u001b[0m\u001b[0;34m)\u001b[0m\u001b[0;34m\u001b[0m\u001b[0;34m\u001b[0m\u001b[0m\n\u001b[1;32m    530\u001b[0m         \u001b[0;32melse\u001b[0m\u001b[0;34m:\u001b[0m\u001b[0;34m\u001b[0m\u001b[0;34m\u001b[0m\u001b[0m\n\u001b[0;32m--> 531\u001b[0;31m             \u001b[0mestimator\u001b[0m\u001b[0;34m.\u001b[0m\u001b[0mfit\u001b[0m\u001b[0;34m(\u001b[0m\u001b[0mX_train\u001b[0m\u001b[0;34m,\u001b[0m \u001b[0my_train\u001b[0m\u001b[0;34m,\u001b[0m \u001b[0;34m**\u001b[0m\u001b[0mfit_params\u001b[0m\u001b[0;34m)\u001b[0m\u001b[0;34m\u001b[0m\u001b[0;34m\u001b[0m\u001b[0m\n\u001b[0m\u001b[1;32m    532\u001b[0m \u001b[0;34m\u001b[0m\u001b[0m\n\u001b[1;32m    533\u001b[0m     \u001b[0;32mexcept\u001b[0m \u001b[0mException\u001b[0m \u001b[0;32mas\u001b[0m \u001b[0me\u001b[0m\u001b[0;34m:\u001b[0m\u001b[0;34m\u001b[0m\u001b[0;34m\u001b[0m\u001b[0m\n",
      "\u001b[0;32m~/anaconda3/lib/python3.8/site-packages/sklearn/svm/_classes.py\u001b[0m in \u001b[0;36mfit\u001b[0;34m(self, X, y, sample_weight)\u001b[0m\n\u001b[1;32m    231\u001b[0m         \u001b[0mself\u001b[0m\u001b[0;34m.\u001b[0m\u001b[0mclasses_\u001b[0m \u001b[0;34m=\u001b[0m \u001b[0mnp\u001b[0m\u001b[0;34m.\u001b[0m\u001b[0munique\u001b[0m\u001b[0;34m(\u001b[0m\u001b[0my\u001b[0m\u001b[0;34m)\u001b[0m\u001b[0;34m\u001b[0m\u001b[0;34m\u001b[0m\u001b[0m\n\u001b[1;32m    232\u001b[0m \u001b[0;34m\u001b[0m\u001b[0m\n\u001b[0;32m--> 233\u001b[0;31m         self.coef_, self.intercept_, self.n_iter_ = _fit_liblinear(\n\u001b[0m\u001b[1;32m    234\u001b[0m             \u001b[0mX\u001b[0m\u001b[0;34m,\u001b[0m \u001b[0my\u001b[0m\u001b[0;34m,\u001b[0m \u001b[0mself\u001b[0m\u001b[0;34m.\u001b[0m\u001b[0mC\u001b[0m\u001b[0;34m,\u001b[0m \u001b[0mself\u001b[0m\u001b[0;34m.\u001b[0m\u001b[0mfit_intercept\u001b[0m\u001b[0;34m,\u001b[0m \u001b[0mself\u001b[0m\u001b[0;34m.\u001b[0m\u001b[0mintercept_scaling\u001b[0m\u001b[0;34m,\u001b[0m\u001b[0;34m\u001b[0m\u001b[0;34m\u001b[0m\u001b[0m\n\u001b[1;32m    235\u001b[0m             \u001b[0mself\u001b[0m\u001b[0;34m.\u001b[0m\u001b[0mclass_weight\u001b[0m\u001b[0;34m,\u001b[0m \u001b[0mself\u001b[0m\u001b[0;34m.\u001b[0m\u001b[0mpenalty\u001b[0m\u001b[0;34m,\u001b[0m \u001b[0mself\u001b[0m\u001b[0;34m.\u001b[0m\u001b[0mdual\u001b[0m\u001b[0;34m,\u001b[0m \u001b[0mself\u001b[0m\u001b[0;34m.\u001b[0m\u001b[0mverbose\u001b[0m\u001b[0;34m,\u001b[0m\u001b[0;34m\u001b[0m\u001b[0;34m\u001b[0m\u001b[0m\n",
      "\u001b[0;32m~/anaconda3/lib/python3.8/site-packages/sklearn/svm/_base.py\u001b[0m in \u001b[0;36m_fit_liblinear\u001b[0;34m(X, y, C, fit_intercept, intercept_scaling, class_weight, penalty, dual, verbose, max_iter, tol, random_state, multi_class, loss, epsilon, sample_weight)\u001b[0m\n\u001b[1;32m    928\u001b[0m                              \" class: %r\" % classes_[0])\n\u001b[1;32m    929\u001b[0m \u001b[0;34m\u001b[0m\u001b[0m\n\u001b[0;32m--> 930\u001b[0;31m         class_weight_ = compute_class_weight(class_weight, classes=classes_,\n\u001b[0m\u001b[1;32m    931\u001b[0m                                              y=y)\n\u001b[1;32m    932\u001b[0m     \u001b[0;32melse\u001b[0m\u001b[0;34m:\u001b[0m\u001b[0;34m\u001b[0m\u001b[0;34m\u001b[0m\u001b[0m\n",
      "\u001b[0;32m~/anaconda3/lib/python3.8/site-packages/sklearn/utils/validation.py\u001b[0m in \u001b[0;36minner_f\u001b[0;34m(*args, **kwargs)\u001b[0m\n\u001b[1;32m     71\u001b[0m                           FutureWarning)\n\u001b[1;32m     72\u001b[0m         \u001b[0mkwargs\u001b[0m\u001b[0;34m.\u001b[0m\u001b[0mupdate\u001b[0m\u001b[0;34m(\u001b[0m\u001b[0;34m{\u001b[0m\u001b[0mk\u001b[0m\u001b[0;34m:\u001b[0m \u001b[0marg\u001b[0m \u001b[0;32mfor\u001b[0m \u001b[0mk\u001b[0m\u001b[0;34m,\u001b[0m \u001b[0marg\u001b[0m \u001b[0;32min\u001b[0m \u001b[0mzip\u001b[0m\u001b[0;34m(\u001b[0m\u001b[0msig\u001b[0m\u001b[0;34m.\u001b[0m\u001b[0mparameters\u001b[0m\u001b[0;34m,\u001b[0m \u001b[0margs\u001b[0m\u001b[0;34m)\u001b[0m\u001b[0;34m}\u001b[0m\u001b[0;34m)\u001b[0m\u001b[0;34m\u001b[0m\u001b[0;34m\u001b[0m\u001b[0m\n\u001b[0;32m---> 73\u001b[0;31m         \u001b[0;32mreturn\u001b[0m \u001b[0mf\u001b[0m\u001b[0;34m(\u001b[0m\u001b[0;34m**\u001b[0m\u001b[0mkwargs\u001b[0m\u001b[0;34m)\u001b[0m\u001b[0;34m\u001b[0m\u001b[0;34m\u001b[0m\u001b[0m\n\u001b[0m\u001b[1;32m     74\u001b[0m     \u001b[0;32mreturn\u001b[0m \u001b[0minner_f\u001b[0m\u001b[0;34m\u001b[0m\u001b[0;34m\u001b[0m\u001b[0m\n\u001b[1;32m     75\u001b[0m \u001b[0;34m\u001b[0m\u001b[0m\n",
      "\u001b[0;32m~/anaconda3/lib/python3.8/site-packages/sklearn/utils/class_weight.py\u001b[0m in \u001b[0;36mcompute_class_weight\u001b[0;34m(class_weight, classes, y)\u001b[0m\n\u001b[1;32m     41\u001b[0m     \u001b[0;32mfrom\u001b[0m \u001b[0;34m.\u001b[0m\u001b[0;34m.\u001b[0m\u001b[0mpreprocessing\u001b[0m \u001b[0;32mimport\u001b[0m \u001b[0mLabelEncoder\u001b[0m\u001b[0;34m\u001b[0m\u001b[0;34m\u001b[0m\u001b[0m\n\u001b[1;32m     42\u001b[0m \u001b[0;34m\u001b[0m\u001b[0m\n\u001b[0;32m---> 43\u001b[0;31m     \u001b[0;32mif\u001b[0m \u001b[0mset\u001b[0m\u001b[0;34m(\u001b[0m\u001b[0my\u001b[0m\u001b[0;34m)\u001b[0m \u001b[0;34m-\u001b[0m \u001b[0mset\u001b[0m\u001b[0;34m(\u001b[0m\u001b[0mclasses\u001b[0m\u001b[0;34m)\u001b[0m\u001b[0;34m:\u001b[0m\u001b[0;34m\u001b[0m\u001b[0;34m\u001b[0m\u001b[0m\n\u001b[0m\u001b[1;32m     44\u001b[0m         raise ValueError(\"classes should include all valid labels that can \"\n\u001b[1;32m     45\u001b[0m                          \"be in y\")\n",
      "\u001b[0;31mKeyboardInterrupt\u001b[0m: "
     ]
    }
   ],
   "source": [
    "limit = 25\n",
    "file_number = 0\n",
    "all_results = pd.DataFrame()\n",
    "\n",
    "\n",
    "for file in file_names:\n",
    "    file_number +=1\n",
    "    rounds = 0\n",
    "    print(\"running \" + file)\n",
    "    \n",
    "    no_addedFeats_list = []\n",
    "    #peaks_feature_list = []\n",
    "    #RT_feature_list = []\n",
    "    all_features_list = []\n",
    "    \n",
    "    #original_MM = get_PreMokaPot_data('2ng_rep1')\n",
    "    regular_df = get_data_for_MokaPot(file)\n",
    "    peaks_df = get_peaks_data(file)\n",
    "    RT_df = get_retentionTime_data(file)\n",
    "    all_feats_df = get_all_features_data(peaks_df, RT_df)\n",
    "    \n",
    "    all_feats_df.to_csv(\"deleteMe.csv\")\n",
    "\n",
    "    while rounds < limit:\n",
    "\n",
    "        #regular data, no additional features\n",
    "        mm_for_MP = mokapot.read_pin(regular_df) \n",
    "        regular_results, models = mokapot.brew(mm_for_MP)\n",
    "\n",
    "        #just the peaks features\n",
    "        #mm_peaksFeat_MP = mokapot.read_pin(peaks_df) \n",
    "        #peaksAdded_results, added_models = mokapot.brew(mm_peaksFeat_MP)\n",
    "\n",
    "        #just the retention time feature\n",
    "        #mm_RT_feat_MP = mokapot.read_pin(RT_df)\n",
    "        #RTadded_results, models = mokapot.brew(mm_RT_feat_MP)\n",
    "\n",
    "        #all the additional features\n",
    "        all_features_MP = mokapot.read_pin(all_feats_df)\n",
    "        allAdded_results, models = mokapot.brew(all_features_MP)\n",
    "\n",
    "\n",
    "        no_addedFeats_list.append(len(regular_results.psms[regular_results.psms['mokapot q-value'] <= 0.01]))\n",
    "        print(\"without added feat: \" + str(len(regular_results.psms[regular_results.psms['mokapot q-value'] <= 0.01])))\n",
    "\n",
    "#         peaks_feature_list.append(len(peaksAdded_results.psms[peaksAdded_results.psms['mokapot q-value'] <= 0.01]))\n",
    "#         print(\"with peaks feat: \" + str(len(peaksAdded_results.psms[peaksAdded_results.psms['mokapot q-value'] <= 0.01])))\n",
    "\n",
    "#         RT_feature_list.append(len(RTadded_results.psms[RTadded_results.psms['mokapot q-value'] <= 0.01]))\n",
    "#         print(\"with RT feat: \" + str(len(RTadded_results.psms[RTadded_results.psms['mokapot q-value'] <= 0.01])))\n",
    "\n",
    "        all_features_list.append(len(allAdded_results.psms[allAdded_results.psms['mokapot q-value'] <= 0.01]))\n",
    "        print(\"with all added feat: \" + str(len(allAdded_results.psms[allAdded_results.psms['mokapot q-value'] <= 0.01])))\n",
    "\n",
    "        rounds+= 1\n",
    "        print(\"finished round \" + str(rounds))\n",
    "    \n",
    "    #adding the new results to the df with all the PSMs found\n",
    "    all_results[file + \" None\"] = no_addedFeats_list\n",
    "    all_results[file + \" All\"] = all_features_list\n",
    "\n",
    "    "
   ]
  },
  {
   "cell_type": "code",
   "execution_count": 172,
   "metadata": {},
   "outputs": [
    {
     "data": {
      "image/png": "[encoded data removed]",
      "text/plain": [
       "<Figure size 432x288 with 1 Axes>"
      ]
     },
     "metadata": {
      "needs_background": "light"
     },
     "output_type": "display_data"
    }
   ],
   "source": [
    "import seaborn as sns\n",
    "\n",
    "results = all_results[['2ng_rep1 None', '2ng_rep1 All']]\n",
    "results.rename(columns={'2ng_rep1 None': 'Before Additional Features', \n",
    "                         '2ng_rep1 All':'After Additional Features'}, inplace = True)\n",
    "\n",
    "features_plot = sns.boxplot(data=results, showfliers=False)\n",
    "features_plot = sns.stripplot(data=results, jitter=True, color=\".3\")\n",
    "features_plot.set(ylabel = \"Number of PSMs\")\n",
    "features_plot.set(xlabel = \"Presence of Features\")\n",
    "plt.title(\"Impact of Additional Features on mokapot Rescoring\")\n",
    "\n",
    "\n",
    "pval = calc_pval(results['Before Additional Features'], results['After Additional Features'])\n",
    "label_diff(0,1, \"t-test p-value \" + str(pval), results['After Additional Features'])\n",
    "\n",
    "figure3 = plt.gcf()\n",
    "figure3.savefig('Figure3', dpi=300, bbox_inches='tight')\n",
    "\n",
    "plt.show()"
   ]
  },
  {
   "cell_type": "code",
   "execution_count": 171,
   "metadata": {},
   "outputs": [],
   "source": [
    "#additional way of making the graph label. PIck one and delete the other. \n",
    "def label_diff(x1, x2, pval, column):\n",
    "  # statistical annotation\n",
    "    y, h, col = column.max() + 75, 2, 'k'\n",
    "    plt.plot([x1, x1, x2, x2], [y, y+50, y+50, y], lw=1.5, c=col)\n",
    "    plt.text((x1+x2)*.5, y+h, pval, ha='center', va='bottom', color=col)  "
   ]
  },
  {
   "cell_type": "code",
   "execution_count": 180,
   "metadata": {},
   "outputs": [],
   "source": [
    "import statistics as stats"
   ]
  },
  {
   "cell_type": "markdown",
   "metadata": {},
   "source": [
    "Calculating the average % increase that adding additional features to mokapot gives us"
   ]
  },
  {
   "cell_type": "code",
   "execution_count": 183,
   "metadata": {},
   "outputs": [
    {
     "data": {
      "text/plain": [
       "0.02104670306865895"
      ]
     },
     "execution_count": 183,
     "metadata": {},
     "output_type": "execute_result"
    }
   ],
   "source": [
    "diff_features = []\n",
    "for i, count in enumerate(all_results['2ng_rep1 None']) :\n",
    "    additional_feat_count = all_results['2ng_rep1 All'][i]\n",
    "    var = (additional_feat_count - count) / additional_feat_count\n",
    "    diff_features.append(var)\n",
    "#now avg difference\n",
    "diff_feats_average = stats.mean(diff_features)\n",
    "diff_feats_average"
   ]
  },
  {
   "cell_type": "code",
   "execution_count": null,
   "metadata": {},
   "outputs": [],
   "source": []
  }
 ],
 "metadata": {
  "kernelspec": {
   "display_name": "Python 3",
   "language": "python",
   "name": "python3"
  },
  "language_info": {
   "codemirror_mode": {
    "name": "ipython",
    "version": 3
   },
   "file_extension": ".py",
   "mimetype": "text/x-python",
   "name": "python",
   "nbconvert_exporter": "python",
   "pygments_lexer": "ipython3",
   "version": "3.8.3"
  }
 },
 "nbformat": 4,
 "nbformat_minor": 4
}
