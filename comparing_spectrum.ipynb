{
 "cells": [
  {
   "cell_type": "code",
   "execution_count": 13,
   "metadata": {},
   "outputs": [],
   "source": [
    "import pandas as pd\n",
    "import numpy as np\n",
    "import data_loader as dl\n",
    "import matplotlib.pyplot as plt\n",
    "import statistics as st\n",
    "import seaborn as sns"
   ]
  },
  {
   "cell_type": "code",
   "execution_count": 2,
   "metadata": {},
   "outputs": [],
   "source": [
    "def format_oxidation(row, column, to_replace):\n",
    "    peptide = row[column]\n",
    "#     print(to_replace)\n",
    "    replace_with = \"+15.995\"\n",
    "    if pd.isna(peptide):\n",
    "        new_pep = peptide\n",
    "    else:\n",
    "        if to_replace in peptide:\n",
    "            new_pep = peptide.replace(to_replace, replace_with)\n",
    "        else:\n",
    "            new_pep = peptide\n",
    "    return new_pep\n",
    "\n",
    "def format_carbamidomethyl(row, column, to_replace):\n",
    "    peptide = row[column]\n",
    "#     print(to_replace)\n",
    "    replace_with = \"\"\n",
    "    if pd.isna(peptide):\n",
    "        new_pep = peptide\n",
    "    else:\n",
    "        if to_replace in peptide:\n",
    "            new_pep = peptide.replace(to_replace, replace_with)\n",
    "        else:\n",
    "            new_pep = peptide\n",
    "    return new_pep\n"
   ]
  },
  {
   "cell_type": "code",
   "execution_count": 3,
   "metadata": {},
   "outputs": [],
   "source": [
    "def clean_MM(input_file):\n",
    "    data = pd.read_csv(input_file, sep = '\\t')\n",
    "\n",
    "    #make a new col that includes modifide peptides\n",
    "    data['temp_peptide'] = data.apply(lambda row: format_oxidation(row, \"Full Sequence\", \"[Common Variable:Oxidation on M]\"), axis=1)\n",
    "    data[\"temp2\"] = data.apply(lambda row: format_carbamidomethyl(row, \"temp_peptide\", \"[Common Fixed:Carbamidomethyl on C]\"), axis=1)\n",
    "\n",
    "    data = data.replace({\"Decoy\": {'Y': True, 'N': False}})\n",
    "    #uniform naming\n",
    "    data_new = data.rename({\"Decoy\": \"decoy\", \"Scan Number\": \"scan\", \"temp2\": \"peptide\", 'PEP_QValue': 'probability'}, axis=1)\n",
    "    data_new = data_new.filter((['decoy', 'scan', 'peptide','probability', \n",
    "                                 \"Matched Ion Series\", 'Matched Ion Intensities', 'Matched Ion Counts', 'Matched Ion Mass Diff (Ppm)']))\n",
    "\n",
    "    return data_new\n"
   ]
  },
  {
   "cell_type": "code",
   "execution_count": 4,
   "metadata": {},
   "outputs": [],
   "source": [
    "def filter_data(df):\n",
    "    df = df[df[\"decoy\"]==False]\n",
    "    df = df.sort_values(\"probability\")\n",
    "    df = df.drop_duplicates(subset=[\"scan\"], keep=\"first\") #keep highest scoring\n",
    "    df = df.sort_values(\"probability\")\n",
    "    df = df.drop_duplicates(subset=[\"peptide\"], keep=\"first\")#I only want unique peptides (we should double check this. I just don't know how to deal with duplicate peptides)\n",
    "    df = df[df[\"probability\"] <= .01]\n",
    "    return df"
   ]
  },
  {
   "cell_type": "code",
   "execution_count": 5,
   "metadata": {},
   "outputs": [
    {
     "name": "stderr",
     "output_type": "stream",
     "text": [
      "/opt/anaconda3/lib/python3.8/site-packages/IPython/core/interactiveshell.py:3263: DtypeWarning: Columns (11,19,20,21,22,23) have mixed types.Specify dtype option on import or set low_memory=False.\n",
      "  if (await self.run_code(code, result,  async_=asy)):\n"
     ]
    }
   ],
   "source": [
    "small = clean_MM(\"~/Payne/bulk_data_vs_2ng/Ex_Auto_DrM3_30umT4_2ngQC_60m_half_PSMs.psmtsv.gz\")\n",
    "large = clean_MM(\"~/Payne/bulk_data_vs_2ng/metamorpheus_output/AllPSMs2.psmtsv\")\n",
    "\n",
    "small = filter_data(small)\n",
    "large = filter_data(large)"
   ]
  },
  {
   "cell_type": "code",
   "execution_count": 6,
   "metadata": {},
   "outputs": [
    {
     "data": {
      "text/plain": [
       "5555"
      ]
     },
     "execution_count": 6,
     "metadata": {},
     "output_type": "execute_result"
    }
   ],
   "source": [
    "#how many match?\n",
    "pep_in_both = list(set(small[\"peptide\"]).intersection(set(large[\"peptide\"])))\n",
    "len(pep_in_both)"
   ]
  },
  {
   "cell_type": "code",
   "execution_count": 7,
   "metadata": {},
   "outputs": [],
   "source": [
    "small = small.loc[small['peptide'].isin(pep_in_both)]\n",
    "large = large.loc[large['peptide'].isin(pep_in_both)]"
   ]
  },
  {
   "cell_type": "code",
   "execution_count": 8,
   "metadata": {},
   "outputs": [],
   "source": [
    "def count_Y(row):\n",
    "    count = row['Matched Ion Series'].count(\"y\")\n",
    "    return(count)\n",
    "\n",
    "def count_B(row):\n",
    "    count = row['Matched Ion Series'].count(\"b\")\n",
    "    return(count)"
   ]
  },
  {
   "cell_type": "code",
   "execution_count": 9,
   "metadata": {},
   "outputs": [],
   "source": [
    "#count y and b peaks\n",
    "small[\"b_peaks\"] = small.apply(count_B, axis=1)\n",
    "small[\"y_peaks\"] = small.apply(count_Y, axis=1)\n",
    "small[\"y_peaks\"] = small.apply(count_Y, axis=1)\n",
    "\n",
    "#count y and b peaks\n",
    "large[\"b_peaks\"] = large.apply(count_B, axis=1)\n",
    "large[\"y_peaks\"] = large.apply(count_Y, axis=1)\n"
   ]
  },
  {
   "cell_type": "code",
   "execution_count": 10,
   "metadata": {},
   "outputs": [],
   "source": [
    "#for each protein count number of peaks for bulk and single cell, and get the difference\n",
    "\n",
    "#give them the same index (index by peptide name)\n",
    "new_small = small.set_index(\"peptide\")\n",
    "new_large = large.set_index(\"peptide\")\n",
    "both = pd.merge(left=new_small, right=new_large,suffixes=('_small', '_large'), left_index=True, right_index=True, how=\"outer\")\n",
    "# # small[\"Matched Ion Counts\"]- large[\"Matched Ion Counts\"]\n",
    "both[\"diff_total\"] = both[\"Matched Ion Counts_small\"] - both[\"Matched Ion Counts_large\"]\n",
    "both[\"diff_y\"] = both[\"y_peaks_small\"] - both[\"y_peaks_large\"]\n",
    "both[\"diff_b\"] = both[\"b_peaks_small\"] - both[\"b_peaks_large\"]\n",
    "####\n",
    "#0 mean that they have the same number of peaks\n",
    "# positive means that sc spectrum had more peaks\n",
    "# negative means that bulk had more peaks"
   ]
  },
  {
   "cell_type": "code",
   "execution_count": 14,
   "metadata": {},
   "outputs": [
    {
     "data": {
      "text/html": [
       "<div>\n",
       "<style scoped>\n",
       "    .dataframe tbody tr th:only-of-type {\n",
       "        vertical-align: middle;\n",
       "    }\n",
       "\n",
       "    .dataframe tbody tr th {\n",
       "        vertical-align: top;\n",
       "    }\n",
       "\n",
       "    .dataframe thead th {\n",
       "        text-align: right;\n",
       "    }\n",
       "</style>\n",
       "<table border=\"1\" class=\"dataframe\">\n",
       "  <thead>\n",
       "    <tr style=\"text-align: right;\">\n",
       "      <th></th>\n",
       "      <th>y_peaks_small</th>\n",
       "      <th>y_peaks_large</th>\n",
       "      <th>b_peaks_large</th>\n",
       "      <th>b_peaks_small</th>\n",
       "    </tr>\n",
       "    <tr>\n",
       "      <th>peptide</th>\n",
       "      <th></th>\n",
       "      <th></th>\n",
       "      <th></th>\n",
       "      <th></th>\n",
       "    </tr>\n",
       "  </thead>\n",
       "  <tbody>\n",
       "    <tr>\n",
       "      <th>AAAAAAAAAPAAAATAPTTAATTAATAAQ</th>\n",
       "      <td>2</td>\n",
       "      <td>2</td>\n",
       "      <td>11</td>\n",
       "      <td>10</td>\n",
       "    </tr>\n",
       "    <tr>\n",
       "      <th>AAAAAAALQAK</th>\n",
       "      <td>10</td>\n",
       "      <td>7</td>\n",
       "      <td>5</td>\n",
       "      <td>5</td>\n",
       "    </tr>\n",
       "    <tr>\n",
       "      <th>AAAAADLANR</th>\n",
       "      <td>7</td>\n",
       "      <td>5</td>\n",
       "      <td>3</td>\n",
       "      <td>3</td>\n",
       "    </tr>\n",
       "    <tr>\n",
       "      <th>AAAEVNQDYGLDPK</th>\n",
       "      <td>9</td>\n",
       "      <td>9</td>\n",
       "      <td>3</td>\n",
       "      <td>4</td>\n",
       "    </tr>\n",
       "    <tr>\n",
       "      <th>AAAFEQLQK</th>\n",
       "      <td>7</td>\n",
       "      <td>7</td>\n",
       "      <td>2</td>\n",
       "      <td>2</td>\n",
       "    </tr>\n",
       "    <tr>\n",
       "      <th>AAAIGIDLGTTYSCVGVFQHGK</th>\n",
       "      <td>12</td>\n",
       "      <td>8</td>\n",
       "      <td>1</td>\n",
       "      <td>3</td>\n",
       "    </tr>\n",
       "    <tr>\n",
       "      <th>AAALEFLNR</th>\n",
       "      <td>8</td>\n",
       "      <td>6</td>\n",
       "      <td>2</td>\n",
       "      <td>2</td>\n",
       "    </tr>\n",
       "    <tr>\n",
       "      <th>AAAPAPEEEMDECEQALAAEPK</th>\n",
       "      <td>12</td>\n",
       "      <td>16</td>\n",
       "      <td>3</td>\n",
       "      <td>9</td>\n",
       "    </tr>\n",
       "    <tr>\n",
       "      <th>AAAPAPVSEAVCR</th>\n",
       "      <td>7</td>\n",
       "      <td>10</td>\n",
       "      <td>4</td>\n",
       "      <td>4</td>\n",
       "    </tr>\n",
       "    <tr>\n",
       "      <th>AADAEAEVASLNR</th>\n",
       "      <td>6</td>\n",
       "      <td>9</td>\n",
       "      <td>2</td>\n",
       "      <td>2</td>\n",
       "    </tr>\n",
       "    <tr>\n",
       "      <th>AADALEEQQR</th>\n",
       "      <td>6</td>\n",
       "      <td>7</td>\n",
       "      <td>4</td>\n",
       "      <td>3</td>\n",
       "    </tr>\n",
       "    <tr>\n",
       "      <th>AADIDQEVK</th>\n",
       "      <td>8</td>\n",
       "      <td>8</td>\n",
       "      <td>2</td>\n",
       "      <td>3</td>\n",
       "    </tr>\n",
       "    <tr>\n",
       "      <th>AADPPAENSSAPEAEQGGAE</th>\n",
       "      <td>8</td>\n",
       "      <td>9</td>\n",
       "      <td>13</td>\n",
       "      <td>7</td>\n",
       "    </tr>\n",
       "    <tr>\n",
       "      <th>AAEAAAAPAESAAPAAGEEPSKEEGEPK</th>\n",
       "      <td>4</td>\n",
       "      <td>15</td>\n",
       "      <td>5</td>\n",
       "      <td>5</td>\n",
       "    </tr>\n",
       "    <tr>\n",
       "      <th>AAECNIVVTQPR</th>\n",
       "      <td>10</td>\n",
       "      <td>9</td>\n",
       "      <td>1</td>\n",
       "      <td>5</td>\n",
       "    </tr>\n",
       "    <tr>\n",
       "      <th>AAEDDEDDDVDTK</th>\n",
       "      <td>11</td>\n",
       "      <td>11</td>\n",
       "      <td>5</td>\n",
       "      <td>2</td>\n",
       "    </tr>\n",
       "    <tr>\n",
       "      <th>AAELIANSLATAGDGLIELR</th>\n",
       "      <td>9</td>\n",
       "      <td>10</td>\n",
       "      <td>2</td>\n",
       "      <td>4</td>\n",
       "    </tr>\n",
       "    <tr>\n",
       "      <th>AAFDDAIAELDTLSEESYK</th>\n",
       "      <td>11</td>\n",
       "      <td>14</td>\n",
       "      <td>5</td>\n",
       "      <td>6</td>\n",
       "    </tr>\n",
       "    <tr>\n",
       "      <th>AAFTAFEEAQLPR</th>\n",
       "      <td>7</td>\n",
       "      <td>10</td>\n",
       "      <td>3</td>\n",
       "      <td>0</td>\n",
       "    </tr>\n",
       "    <tr>\n",
       "      <th>AAFVLPEFAR</th>\n",
       "      <td>6</td>\n",
       "      <td>6</td>\n",
       "      <td>2</td>\n",
       "      <td>3</td>\n",
       "    </tr>\n",
       "  </tbody>\n",
       "</table>\n",
       "</div>"
      ],
      "text/plain": [
       "                               y_peaks_small  y_peaks_large  b_peaks_large  \\\n",
       "peptide                                                                      \n",
       "AAAAAAAAAPAAAATAPTTAATTAATAAQ              2              2             11   \n",
       "AAAAAAALQAK                               10              7              5   \n",
       "AAAAADLANR                                 7              5              3   \n",
       "AAAEVNQDYGLDPK                             9              9              3   \n",
       "AAAFEQLQK                                  7              7              2   \n",
       "AAAIGIDLGTTYSCVGVFQHGK                    12              8              1   \n",
       "AAALEFLNR                                  8              6              2   \n",
       "AAAPAPEEEMDECEQALAAEPK                    12             16              3   \n",
       "AAAPAPVSEAVCR                              7             10              4   \n",
       "AADAEAEVASLNR                              6              9              2   \n",
       "AADALEEQQR                                 6              7              4   \n",
       "AADIDQEVK                                  8              8              2   \n",
       "AADPPAENSSAPEAEQGGAE                       8              9             13   \n",
       "AAEAAAAPAESAAPAAGEEPSKEEGEPK               4             15              5   \n",
       "AAECNIVVTQPR                              10              9              1   \n",
       "AAEDDEDDDVDTK                             11             11              5   \n",
       "AAELIANSLATAGDGLIELR                       9             10              2   \n",
       "AAFDDAIAELDTLSEESYK                       11             14              5   \n",
       "AAFTAFEEAQLPR                              7             10              3   \n",
       "AAFVLPEFAR                                 6              6              2   \n",
       "\n",
       "                               b_peaks_small  \n",
       "peptide                                       \n",
       "AAAAAAAAAPAAAATAPTTAATTAATAAQ             10  \n",
       "AAAAAAALQAK                                5  \n",
       "AAAAADLANR                                 3  \n",
       "AAAEVNQDYGLDPK                             4  \n",
       "AAAFEQLQK                                  2  \n",
       "AAAIGIDLGTTYSCVGVFQHGK                     3  \n",
       "AAALEFLNR                                  2  \n",
       "AAAPAPEEEMDECEQALAAEPK                     9  \n",
       "AAAPAPVSEAVCR                              4  \n",
       "AADAEAEVASLNR                              2  \n",
       "AADALEEQQR                                 3  \n",
       "AADIDQEVK                                  3  \n",
       "AADPPAENSSAPEAEQGGAE                       7  \n",
       "AAEAAAAPAESAAPAAGEEPSKEEGEPK               5  \n",
       "AAECNIVVTQPR                               5  \n",
       "AAEDDEDDDVDTK                              2  \n",
       "AAELIANSLATAGDGLIELR                       4  \n",
       "AAFDDAIAELDTLSEESYK                        6  \n",
       "AAFTAFEEAQLPR                              0  \n",
       "AAFVLPEFAR                                 3  "
      ]
     },
     "execution_count": 14,
     "metadata": {},
     "output_type": "execute_result"
    }
   ],
   "source": [
    "both[[\"y_peaks_small\", \"y_peaks_large\", \"b_peaks_large\", \"b_peaks_small\"]].head(20)"
   ]
  },
  {
   "cell_type": "code",
   "execution_count": 15,
   "metadata": {},
   "outputs": [
    {
     "data": {
      "image/png": "[encoded data removed]",
      "text/plain": [
       "<Figure size 576x288 with 1 Axes>"
      ]
     },
     "metadata": {
      "needs_background": "light"
     },
     "output_type": "display_data"
    }
   ],
   "source": [
    "plot = sns.catplot(x=\"diff_total\", color= '#abc9ea', hue=None,\n",
    "                data=both, kind=\"count\",\n",
    "                height=4, aspect=2).set(title='all peaks in sc - all peaks in bulk')"
   ]
  },
  {
   "cell_type": "code",
   "execution_count": 16,
   "metadata": {},
   "outputs": [
    {
     "data": {
      "image/png": "[encoded data removed]",
      "text/plain": [
       "<Figure size 576x288 with 1 Axes>"
      ]
     },
     "metadata": {
      "needs_background": "light"
     },
     "output_type": "display_data"
    }
   ],
   "source": [
    "plot = sns.catplot(x=\"diff_y\", color= '#abc9ea', hue=None,\n",
    "                data=both, kind=\"count\",\n",
    "                height=4, aspect=2).set(title=\"y peaks in sc - y peaks in bulk\")"
   ]
  },
  {
   "cell_type": "code",
   "execution_count": 17,
   "metadata": {},
   "outputs": [
    {
     "data": {
      "image/png": "[encoded data removed]",
      "text/plain": [
       "<Figure size 576x288 with 1 Axes>"
      ]
     },
     "metadata": {
      "needs_background": "light"
     },
     "output_type": "display_data"
    }
   ],
   "source": [
    "plot = sns.catplot(x=\"diff_b\", color= '#abc9ea', hue=None,\n",
    "                data=both, kind=\"count\",\n",
    "                height=4, aspect=2).set(title=\"b peaks in sc - b peaks in bulk\")"
   ]
  },
  {
   "cell_type": "code",
   "execution_count": 18,
   "metadata": {},
   "outputs": [],
   "source": [
    "import numbers\n",
    "def get_intensities(row, small):\n",
    "    intensities = []\n",
    "    if small == True:\n",
    "        line = row[\"Matched Ion Intensities_small\"].split(\";\")\n",
    "    else:\n",
    "        line = row[\"Matched Ion Intensities_large\"].split(\";\")\n",
    "    for el in line:\n",
    "        el = el.strip('][').split(\",\")\n",
    "        for sub_el in el:\n",
    "            sub_el = sub_el.split(\":\")[1]\n",
    "            intensities.append(sub_el)\n",
    "    return intensities\n",
    "\n",
    "both[\"intensity_small\"] = both.apply(lambda row: get_intensities(row, small=True), axis=1)\n",
    "both[\"intensity_large\"] = both.apply(lambda row: get_intensities(row, small=False), axis=1)"
   ]
  },
  {
   "cell_type": "code",
   "execution_count": 19,
   "metadata": {},
   "outputs": [],
   "source": [
    "#get top 3 intensities\n",
    "def get_top3(row, size, top):\n",
    "    row['intensity_'+size].sort(key=int, reverse=True)\n",
    "    if top==True:\n",
    "        return3 = row['intensity_'+size][:3]\n",
    "        return3 = [float(i) for i in return3]\n",
    "    else:\n",
    "        return3 = row['intensity_'+size][-3:]\n",
    "        return3 = [float(i) for i in return3]\n",
    "        \n",
    "    return return3\n",
    "\n",
    "\n",
    "both[\"top3_small\"] = both.apply(lambda row: get_top3(row, size=\"small\", top=True), axis=1)\n",
    "both[\"bottom3_small\"] = both.apply(lambda row: get_top3(row, size='small', top=False), axis=1)\n",
    "both[\"top3_large\"] = both.apply(lambda row: get_top3(row, size=\"large\", top=True), axis=1)\n",
    "both[\"bottom3_large\"] = both.apply(lambda row: get_top3(row, size='large', top=False), axis=1)\n"
   ]
  },
  {
   "cell_type": "code",
   "execution_count": 20,
   "metadata": {},
   "outputs": [],
   "source": [
    "def get_intensity_diff(row, size):\n",
    "    intensity_diff = st.mean(row[\"top3_\"+size])/st.mean(row[\"bottom3_\"+size])\n",
    "    return intensity_diff\n",
    "\n",
    "both['intensity_diff_small'] = both.apply(lambda row: get_intensity_diff(row, size=\"small\"), axis=1)\n",
    "both['intensity_diff_large'] = both.apply(lambda row: get_intensity_diff(row, size=\"large\"), axis=1)\n"
   ]
  },
  {
   "cell_type": "code",
   "execution_count": 34,
   "metadata": {},
   "outputs": [
    {
     "data": {
      "text/plain": [
       "(-10.0, 50.0)"
      ]
     },
     "execution_count": 34,
     "metadata": {},
     "output_type": "execute_result"
    },
    {
     "data": {
      "image/png": "[encoded data removed]",
      "text/plain": [
       "<Figure size 432x288 with 1 Axes>"
      ]
     },
     "metadata": {
      "needs_background": "light"
     },
     "output_type": "display_data"
    }
   ],
   "source": [
    "both_plot = both[[\"intensity_diff_small\", \"intensity_diff_large\"]]\n",
    "ax = both_plot.plot.kde()\n",
    "ax.set_xlim(-10, 50)"
   ]
  },
  {
   "cell_type": "code",
   "execution_count": 22,
   "metadata": {},
   "outputs": [],
   "source": [
    "def count_len(row):\n",
    "    length = len(row[\"peptide\"])\n",
    "    return length\n",
    "\n",
    "small[\"len\"]= small.apply(lambda row: count_len(row), axis=1)\n",
    "small_7to14 = small[(small['len'] >=7) & (small['len'] <=14)]\n",
    "small_14to21 = small[(small['len'] >14) & (small['len'] <=21)]\n",
    "small_21to44 = small[(small['len'] >21) & (small['len'] <=44)]\n",
    "\n",
    "large[\"len\"]= large.apply(lambda row: count_len(row), axis=1)\n",
    "large_7to14 = large[(large['len'] >=7) & (large['len'] <=14)]\n",
    "large_14to21 = large[(large['len'] >14) & (large['len'] <=21)]\n",
    "large_21to44 = large[(large['len'] >21) & (large['len'] <=44)]"
   ]
  },
  {
   "cell_type": "code",
   "execution_count": null,
   "metadata": {},
   "outputs": [],
   "source": [
    "plot = sns.catplot(x=\"diff_b\", color= '#abc9ea', hue=None,\n",
    "                data=both, kind=\"count\",\n",
    "                height=4, aspect=2).set(title=\"b peaks in sc - b peaks in bulk\")"
   ]
  },
  {
   "cell_type": "code",
   "execution_count": 42,
   "metadata": {},
   "outputs": [
    {
     "data": {
      "text/plain": [
       "0        14\n",
       "8455      4\n",
       "8450      2\n",
       "9031      3\n",
       "10225     5\n",
       "         ..\n",
       "10954     1\n",
       "18272     1\n",
       "6810      2\n",
       "14450     5\n",
       "18209     1\n",
       "Name: b_peaks, Length: 5555, dtype: int64"
      ]
     },
     "execution_count": 42,
     "metadata": {},
     "output_type": "execute_result"
    }
   ],
   "source": [
    "x"
   ]
  },
  {
   "cell_type": "code",
   "execution_count": 44,
   "metadata": {},
   "outputs": [
    {
     "data": {
      "image/png": "[encoded data removed]",
      "text/plain": [
       "<Figure size 432x288 with 1 Axes>"
      ]
     },
     "metadata": {
      "needs_background": "light"
     },
     "output_type": "display_data"
    }
   ],
   "source": [
    "x = small[\"b_peaks\"]\n",
    "y = large[\"b_peaks\"]\n",
    "plt.hist([x, y], bins = 20)\n",
    "plt.legend(['SC', 'bulk'])\n",
    "plt.title(\"b peaks--peptide length: all\")\n",
    "\n",
    "plt.show()"
   ]
  },
  {
   "cell_type": "code",
   "execution_count": 24,
   "metadata": {},
   "outputs": [
    {
     "data": {
      "image/png": "[encoded data removed]",
      "text/plain": [
       "<Figure size 432x288 with 1 Axes>"
      ]
     },
     "metadata": {
      "needs_background": "light"
     },
     "output_type": "display_data"
    }
   ],
   "source": [
    "x = small_7to14[\"b_peaks\"]\n",
    "y = large_7to14[\"b_peaks\"]\n",
    "plt.hist([x, y], bins = 20)\n",
    "plt.legend(['SC', 'bulk'])\n",
    "plt.title(\"b peaks--peptide length: 7-14\")\n",
    "plt.show()"
   ]
  },
  {
   "cell_type": "code",
   "execution_count": 25,
   "metadata": {},
   "outputs": [
    {
     "data": {
      "image/png": "[encoded data removed]",
      "text/plain": [
       "<Figure size 432x288 with 1 Axes>"
      ]
     },
     "metadata": {
      "needs_background": "light"
     },
     "output_type": "display_data"
    }
   ],
   "source": [
    "x = small_14to21[\"b_peaks\"]\n",
    "y = large_14to21[\"b_peaks\"]\n",
    "plt.hist([x, y], bins = 20)\n",
    "plt.legend(['SC', 'bulk'])\n",
    "plt.title(\"b peaks--peptide length: 14-21\")\n",
    "plt.show()"
   ]
  },
  {
   "cell_type": "code",
   "execution_count": 26,
   "metadata": {},
   "outputs": [
    {
     "data": {
      "image/png": "[encoded data removed]",
      "text/plain": [
       "<Figure size 432x288 with 1 Axes>"
      ]
     },
     "metadata": {
      "needs_background": "light"
     },
     "output_type": "display_data"
    }
   ],
   "source": [
    "x = small_21to44[\"b_peaks\"]\n",
    "y = large_21to44[\"b_peaks\"]\n",
    "plt.hist([x, y], bins = 20)\n",
    "plt.legend(['SC', 'bulk'])\n",
    "plt.title(\"b peaks--peptide length: 21-44\")\n",
    "plt.show()"
   ]
  },
  {
   "cell_type": "code",
   "execution_count": 27,
   "metadata": {},
   "outputs": [
    {
     "data": {
      "image/png": "[encoded data removed]",
      "text/plain": [
       "<Figure size 432x288 with 1 Axes>"
      ]
     },
     "metadata": {
      "needs_background": "light"
     },
     "output_type": "display_data"
    }
   ],
   "source": [
    "x = small[\"y_peaks\"]\n",
    "y = large[\"y_peaks\"]\n",
    "plt.hist([x, y], bins = 20)\n",
    "plt.legend(['SC', 'bulk'])\n",
    "plt.title(\"y peaks--peptide length: all\")\n",
    "plt.show()"
   ]
  },
  {
   "cell_type": "code",
   "execution_count": 28,
   "metadata": {},
   "outputs": [
    {
     "data": {
      "image/png": "[encoded data removed]",
      "text/plain": [
       "<Figure size 432x288 with 1 Axes>"
      ]
     },
     "metadata": {
      "needs_background": "light"
     },
     "output_type": "display_data"
    }
   ],
   "source": [
    "x = small_7to14[\"y_peaks\"]\n",
    "y = large_7to14[\"y_peaks\"]\n",
    "plt.hist([x, y], bins = 20)\n",
    "plt.legend(['SC', 'bulk'])\n",
    "plt.title(\"y peaks--peptide length: 7-14\")\n",
    "plt.show()"
   ]
  },
  {
   "cell_type": "code",
   "execution_count": 29,
   "metadata": {},
   "outputs": [
    {
     "data": {
      "image/png": "[encoded data removed]",
      "text/plain": [
       "<Figure size 432x288 with 1 Axes>"
      ]
     },
     "metadata": {
      "needs_background": "light"
     },
     "output_type": "display_data"
    }
   ],
   "source": [
    "x = small_14to21[\"y_peaks\"]\n",
    "y = large_14to21[\"y_peaks\"]\n",
    "plt.hist([x, y], bins = 20)\n",
    "plt.legend(['SC', 'bulk'])\n",
    "plt.title(\"y peaks--peptide length: 14-21\")\n",
    "plt.show()"
   ]
  },
  {
   "cell_type": "code",
   "execution_count": 30,
   "metadata": {},
   "outputs": [
    {
     "data": {
      "image/png": "[encoded data removed]",
      "text/plain": [
       "<Figure size 432x288 with 1 Axes>"
      ]
     },
     "metadata": {
      "needs_background": "light"
     },
     "output_type": "display_data"
    }
   ],
   "source": [
    "x = small_21to44[\"y_peaks\"]\n",
    "y = large_21to44[\"y_peaks\"]\n",
    "plt.hist([x, y], bins = 20)\n",
    "plt.legend(['SC', 'bulk'])\n",
    "plt.title(\"y peaks--peptide length: 21-44\")\n",
    "plt.show()"
   ]
  },
  {
   "cell_type": "code",
   "execution_count": 38,
   "metadata": {},
   "outputs": [
    {
     "data": {
      "image/png": "[encoded data removed]",
      "text/plain": [
       "<Figure size 432x288 with 1 Axes>"
      ]
     },
     "metadata": {
      "needs_background": "light"
     },
     "output_type": "display_data"
    }
   ],
   "source": [
    "x = small[\"Matched Ion Counts\"]\n",
    "y = large[\"Matched Ion Counts\"]\n",
    "plt.hist([x, y], bins=20)\n",
    "plt.legend(['SC', 'bulk'])\n",
    "plt.title(\"y and b peaks\")\n",
    "plt.show()\n"
   ]
  }
 ],
 "metadata": {
  "kernelspec": {
   "display_name": "Python 3",
   "language": "python",
   "name": "python3"
  },
  "language_info": {
   "codemirror_mode": {
    "name": "ipython",
    "version": 3
   },
   "file_extension": ".py",
   "mimetype": "text/x-python",
   "name": "python",
   "nbconvert_exporter": "python",
   "pygments_lexer": "ipython3",
   "version": "3.8.3"
  }
 },
 "nbformat": 4,
 "nbformat_minor": 4
}
