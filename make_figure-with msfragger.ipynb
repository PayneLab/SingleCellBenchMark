{
 "cells": [
  {
   "cell_type": "code",
   "execution_count": 1,
   "metadata": {},
   "outputs": [],
   "source": [
    "import pandas as pd\n",
    "import altair as alt\n",
    "import data_loader"
   ]
  },
  {
   "cell_type": "code",
   "execution_count": 2,
   "metadata": {},
   "outputs": [
    {
     "name": "stdout",
     "output_type": "stream",
     "text": [
      "singleCell_1\n",
      "singleCell_2\n",
      "singleCell_3\n",
      "singleCell_4\n",
      "50ng_1\n",
      "50ng_2\n",
      "50ng_3\n",
      "50ng_4\n",
      "50ng_5\n"
     ]
    }
   ],
   "source": [
    "#look through all the files and get pep and scan #s\n",
    "files = [\"singleCell_1\", \"singleCell_2\", \"singleCell_3\", \"singleCell_4\", \n",
    "         \"50ng_1\", \"50ng_2\", \"50ng_3\", \"50ng_4\", \"50ng_5\"]\n",
    "\n",
    "file_names = []\n",
    "prog_type = []\n",
    "pep =[]\n",
    "scan = []\n",
    "\n",
    "for file in files:\n",
    "    print(file)\n",
    "    file_names.append(file)\n",
    "    prog_type.append(\"spectro\")\n",
    "    df = data_loader.parse_spectromine(file, .01)\n",
    "    pep.append(df['PEP.StrippedSequence'].nunique())\n",
    "    scan.append(df['PSM.MS2ScanNumber'].nunique())\n",
    "\n",
    "    prog_type.append(\"msgf\")\n",
    "    file_names.append(file)\n",
    "    df = data_loader.parse_msgfplus(file, .01)\n",
    "    pep.append(df['new_peptide'].nunique())\n",
    "    scan.append(df[\"SpecID\"].nunique())\n",
    "    \n",
    "    prog_type.append(\"msfragger\")\n",
    "    file_names.append(file)\n",
    "    df = data_loader.parse_msfragger(file, .01)\n",
    "    pep.append(df['Peptide'].nunique())\n",
    "    scan.append(df['Spectrum'].nunique())"
   ]
  },
  {
   "cell_type": "code",
   "execution_count": 3,
   "metadata": {},
   "outputs": [],
   "source": [
    "source = pd.DataFrame({\n",
    "    'file': file_names,\n",
    "    'prog_type': prog_type,\n",
    "    \n",
    "    \"pep\":pep,\n",
    "    \"scan\":scan\n",
    "})"
   ]
  },
  {
   "cell_type": "code",
   "execution_count": 5,
   "metadata": {},
   "outputs": [
    {
     "data": {
      "text/html": [
       "\n",
       "<div id=\"altair-viz-ce12a968bddf4c6e9060b87931a80652\"></div>\n",
       "<script type=\"text/javascript\">\n",
       "  (function(spec, embedOpt){\n",
       "    let outputDiv = document.currentScript.previousElementSibling;\n",
       "    if (outputDiv.id !== \"altair-viz-ce12a968bddf4c6e9060b87931a80652\") {\n",
       "      outputDiv = document.getElementById(\"altair-viz-ce12a968bddf4c6e9060b87931a80652\");\n",
       "    }\n",
       "    const paths = {\n",
       "      \"vega\": \"https://cdn.jsdelivr.net/npm//vega@5?noext\",\n",
       "      \"vega-lib\": \"https://cdn.jsdelivr.net/npm//vega-lib?noext\",\n",
       "      \"vega-lite\": \"https://cdn.jsdelivr.net/npm//vega-lite@4.8.1?noext\",\n",
       "      \"vega-embed\": \"https://cdn.jsdelivr.net/npm//vega-embed@6?noext\",\n",
       "    };\n",
       "\n",
       "    function loadScript(lib) {\n",
       "      return new Promise(function(resolve, reject) {\n",
       "        var s = document.createElement('script');\n",
       "        s.src = paths[lib];\n",
       "        s.async = true;\n",
       "        s.onload = () => resolve(paths[lib]);\n",
       "        s.onerror = () => reject(`Error loading script: ${paths[lib]}`);\n",
       "        document.getElementsByTagName(\"head\")[0].appendChild(s);\n",
       "      });\n",
       "    }\n",
       "\n",
       "    function showError(err) {\n",
       "      outputDiv.innerHTML = `<div class=\"error\" style=\"color:red;\">${err}</div>`;\n",
       "      throw err;\n",
       "    }\n",
       "\n",
       "    function displayChart(vegaEmbed) {\n",
       "      vegaEmbed(outputDiv, spec, embedOpt)\n",
       "        .catch(err => showError(`Javascript Error: ${err.message}<br>This usually means there's a typo in your chart specification. See the javascript console for the full traceback.`));\n",
       "    }\n",
       "\n",
       "    if(typeof define === \"function\" && define.amd) {\n",
       "      requirejs.config({paths});\n",
       "      require([\"vega-embed\"], displayChart, err => showError(`Error loading script: ${err.message}`));\n",
       "    } else if (typeof vegaEmbed === \"function\") {\n",
       "      displayChart(vegaEmbed);\n",
       "    } else {\n",
       "      loadScript(\"vega\")\n",
       "        .then(() => loadScript(\"vega-lite\"))\n",
       "        .then(() => loadScript(\"vega-embed\"))\n",
       "        .catch(showError)\n",
       "        .then(() => displayChart(vegaEmbed));\n",
       "    }\n",
       "  })({\"config\": {\"view\": {\"continuousWidth\": 400, \"continuousHeight\": 300}}, \"data\": {\"name\": \"data-a0dc9f337ea0cebc57e0abff9201fd94\"}, \"mark\": \"bar\", \"encoding\": {\"column\": {\"type\": \"nominal\", \"field\": \"file\"}, \"x\": {\"type\": \"nominal\", \"field\": \"prog_type\"}, \"y\": {\"type\": \"quantitative\", \"field\": \"scan\"}}, \"$schema\": \"https://vega.github.io/schema/vega-lite/v4.8.1.json\", \"datasets\": {\"data-a0dc9f337ea0cebc57e0abff9201fd94\": [{\"file\": \"singleCell_1\", \"prog_type\": \"spectro\", \"pep\": 2727, \"scan\": 3252}, {\"file\": \"singleCell_1\", \"prog_type\": \"msgf\", \"pep\": 2068, \"scan\": 2290}, {\"file\": \"singleCell_1\", \"prog_type\": \"msfragger\", \"pep\": 2828, \"scan\": 3260}, {\"file\": \"singleCell_2\", \"prog_type\": \"spectro\", \"pep\": 2515, \"scan\": 2909}, {\"file\": \"singleCell_2\", \"prog_type\": \"msgf\", \"pep\": 1641, \"scan\": 1759}, {\"file\": \"singleCell_2\", \"prog_type\": \"msfragger\", \"pep\": 2505, \"scan\": 2812}, {\"file\": \"singleCell_3\", \"prog_type\": \"spectro\", \"pep\": 2354, \"scan\": 2696}, {\"file\": \"singleCell_3\", \"prog_type\": \"msgf\", \"pep\": 1446, \"scan\": 1547}, {\"file\": \"singleCell_3\", \"prog_type\": \"msfragger\", \"pep\": 2363, \"scan\": 2622}, {\"file\": \"singleCell_4\", \"prog_type\": \"spectro\", \"pep\": 2254, \"scan\": 2578}, {\"file\": \"singleCell_4\", \"prog_type\": \"msgf\", \"pep\": 1472, \"scan\": 1571}, {\"file\": \"singleCell_4\", \"prog_type\": \"msfragger\", \"pep\": 2231, \"scan\": 2514}, {\"file\": \"50ng_1\", \"prog_type\": \"spectro\", \"pep\": 8541, \"scan\": 10713}, {\"file\": \"50ng_1\", \"prog_type\": \"msgf\", \"pep\": 8755, \"scan\": 9577}, {\"file\": \"50ng_1\", \"prog_type\": \"msfragger\", \"pep\": 8747, \"scan\": 10033}, {\"file\": \"50ng_2\", \"prog_type\": \"spectro\", \"pep\": 8374, \"scan\": 10554}, {\"file\": \"50ng_2\", \"prog_type\": \"msgf\", \"pep\": 8653, \"scan\": 9521}, {\"file\": \"50ng_2\", \"prog_type\": \"msfragger\", \"pep\": 8555, \"scan\": 9975}, {\"file\": \"50ng_3\", \"prog_type\": \"spectro\", \"pep\": 8941, \"scan\": 10861}, {\"file\": \"50ng_3\", \"prog_type\": \"msgf\", \"pep\": 8911, \"scan\": 9800}, {\"file\": \"50ng_3\", \"prog_type\": \"msfragger\", \"pep\": 9214, \"scan\": 10307}, {\"file\": \"50ng_4\", \"prog_type\": \"spectro\", \"pep\": 8642, \"scan\": 10619}, {\"file\": \"50ng_4\", \"prog_type\": \"msgf\", \"pep\": 8752, \"scan\": 9595}, {\"file\": \"50ng_4\", \"prog_type\": \"msfragger\", \"pep\": 8958, \"scan\": 10053}, {\"file\": \"50ng_5\", \"prog_type\": \"spectro\", \"pep\": 8463, \"scan\": 10438}, {\"file\": \"50ng_5\", \"prog_type\": \"msgf\", \"pep\": 8591, \"scan\": 9455}, {\"file\": \"50ng_5\", \"prog_type\": \"msfragger\", \"pep\": 8670, \"scan\": 9886}]}}, {\"mode\": \"vega-lite\"});\n",
       "</script>"
      ],
      "text/plain": [
       "alt.Chart(...)"
      ]
     },
     "execution_count": 5,
     "metadata": {},
     "output_type": "execute_result"
    }
   ],
   "source": [
    "#completely filtered\n",
    "alt.Chart(source).mark_bar().encode(\n",
    "    x='prog_type',\n",
    "    y='scan',\n",
    "    column=\"file\"\n",
    ")"
   ]
  },
  {
   "cell_type": "code",
   "execution_count": 6,
   "metadata": {},
   "outputs": [],
   "source": [
    "#data that has 2 ng"
   ]
  },
  {
   "cell_type": "code",
   "execution_count": 7,
   "metadata": {},
   "outputs": [
    {
     "name": "stdout",
     "output_type": "stream",
     "text": [
      "2ng\n",
      ".2ng\n"
     ]
    }
   ],
   "source": [
    "#look through all the files and get pep and scan #s\n",
    "files = [\"2ng\", \".2ng\"]\n",
    "\n",
    "file_names = []\n",
    "prog_type = []\n",
    "pep =[]\n",
    "scan = []\n",
    "\n",
    "for file in files:\n",
    "    print(file)\n",
    "    file_names.append(file)\n",
    "    prog_type.append(\"spectro\")\n",
    "    df = data_loader.parse_spectromine(file, .01)\n",
    "    pep.append(df['PEP.StrippedSequence'].nunique())\n",
    "    scan.append(df['PSM.MS2ScanNumber'].nunique())\n",
    "    \n",
    "    prog_type.append(\"msfragger\")\n",
    "    file_names.append(file)\n",
    "    df = data_loader.parse_msfragger(file, .01)\n",
    "    pep.append(df['Peptide'].nunique())\n",
    "    scan.append(df['Spectrum'].nunique())"
   ]
  },
  {
   "cell_type": "code",
   "execution_count": 10,
   "metadata": {},
   "outputs": [],
   "source": [
    "source = pd.DataFrame({\n",
    "    'file': file_names,\n",
    "    'prog_type': prog_type,\n",
    "    \n",
    "    \"pep\":pep,\n",
    "    \"scan\":scan\n",
    "})"
   ]
  },
  {
   "cell_type": "code",
   "execution_count": 11,
   "metadata": {},
   "outputs": [
    {
     "data": {
      "text/html": [
       "\n",
       "<div id=\"altair-viz-9ded5ad463c34513876cea7ad42ca476\"></div>\n",
       "<script type=\"text/javascript\">\n",
       "  (function(spec, embedOpt){\n",
       "    let outputDiv = document.currentScript.previousElementSibling;\n",
       "    if (outputDiv.id !== \"altair-viz-9ded5ad463c34513876cea7ad42ca476\") {\n",
       "      outputDiv = document.getElementById(\"altair-viz-9ded5ad463c34513876cea7ad42ca476\");\n",
       "    }\n",
       "    const paths = {\n",
       "      \"vega\": \"https://cdn.jsdelivr.net/npm//vega@5?noext\",\n",
       "      \"vega-lib\": \"https://cdn.jsdelivr.net/npm//vega-lib?noext\",\n",
       "      \"vega-lite\": \"https://cdn.jsdelivr.net/npm//vega-lite@4.8.1?noext\",\n",
       "      \"vega-embed\": \"https://cdn.jsdelivr.net/npm//vega-embed@6?noext\",\n",
       "    };\n",
       "\n",
       "    function loadScript(lib) {\n",
       "      return new Promise(function(resolve, reject) {\n",
       "        var s = document.createElement('script');\n",
       "        s.src = paths[lib];\n",
       "        s.async = true;\n",
       "        s.onload = () => resolve(paths[lib]);\n",
       "        s.onerror = () => reject(`Error loading script: ${paths[lib]}`);\n",
       "        document.getElementsByTagName(\"head\")[0].appendChild(s);\n",
       "      });\n",
       "    }\n",
       "\n",
       "    function showError(err) {\n",
       "      outputDiv.innerHTML = `<div class=\"error\" style=\"color:red;\">${err}</div>`;\n",
       "      throw err;\n",
       "    }\n",
       "\n",
       "    function displayChart(vegaEmbed) {\n",
       "      vegaEmbed(outputDiv, spec, embedOpt)\n",
       "        .catch(err => showError(`Javascript Error: ${err.message}<br>This usually means there's a typo in your chart specification. See the javascript console for the full traceback.`));\n",
       "    }\n",
       "\n",
       "    if(typeof define === \"function\" && define.amd) {\n",
       "      requirejs.config({paths});\n",
       "      require([\"vega-embed\"], displayChart, err => showError(`Error loading script: ${err.message}`));\n",
       "    } else if (typeof vegaEmbed === \"function\") {\n",
       "      displayChart(vegaEmbed);\n",
       "    } else {\n",
       "      loadScript(\"vega\")\n",
       "        .then(() => loadScript(\"vega-lite\"))\n",
       "        .then(() => loadScript(\"vega-embed\"))\n",
       "        .catch(showError)\n",
       "        .then(() => displayChart(vegaEmbed));\n",
       "    }\n",
       "  })({\"config\": {\"view\": {\"continuousWidth\": 400, \"continuousHeight\": 300}}, \"data\": {\"name\": \"data-ceb597735f268542c851ff8a04f4e348\"}, \"mark\": \"bar\", \"encoding\": {\"column\": {\"type\": \"nominal\", \"field\": \"file\"}, \"x\": {\"type\": \"nominal\", \"field\": \"prog_type\"}, \"y\": {\"type\": \"quantitative\", \"field\": \"scan\"}}, \"$schema\": \"https://vega.github.io/schema/vega-lite/v4.8.1.json\", \"datasets\": {\"data-ceb597735f268542c851ff8a04f4e348\": [{\"file\": \"2ng\", \"prog_type\": \"spectro\", \"pep\": 10921, \"scan\": 14642}, {\"file\": \"2ng\", \"prog_type\": \"msfragger\", \"pep\": 10938, \"scan\": 12806}, {\"file\": \".2ng\", \"prog_type\": \"spectro\", \"pep\": 4486, \"scan\": 5310}, {\"file\": \".2ng\", \"prog_type\": \"msfragger\", \"pep\": 4367, \"scan\": 4859}]}}, {\"mode\": \"vega-lite\"});\n",
       "</script>"
      ],
      "text/plain": [
       "alt.Chart(...)"
      ]
     },
     "execution_count": 11,
     "metadata": {},
     "output_type": "execute_result"
    }
   ],
   "source": [
    "#completely filtered\n",
    "alt.Chart(source).mark_bar().encode(\n",
    "    x='prog_type',\n",
    "    y='scan',\n",
    "    column=\"file\"\n",
    ")"
   ]
  },
  {
   "cell_type": "code",
   "execution_count": 8,
   "metadata": {},
   "outputs": [
    {
     "data": {
      "text/plain": [
       "12806"
      ]
     },
     "execution_count": 8,
     "metadata": {},
     "output_type": "execute_result"
    }
   ],
   "source": [
    "df = data_loader.parse_msfragger(\"2ng\", .01)\n",
    "df['Spectrum'].nunique()"
   ]
  },
  {
   "cell_type": "code",
   "execution_count": 9,
   "metadata": {},
   "outputs": [
    {
     "data": {
      "text/plain": [
       "10938"
      ]
     },
     "execution_count": 9,
     "metadata": {},
     "output_type": "execute_result"
    }
   ],
   "source": [
    "df['Peptide'].nunique()"
   ]
  }
 ],
 "metadata": {
  "kernelspec": {
   "display_name": "Python 3",
   "language": "python",
   "name": "python3"
  },
  "language_info": {
   "codemirror_mode": {
    "name": "ipython",
    "version": 3
   },
   "file_extension": ".py",
   "mimetype": "text/x-python",
   "name": "python",
   "nbconvert_exporter": "python",
   "pygments_lexer": "ipython3",
   "version": "3.8.3"
  }
 },
 "nbformat": 4,
 "nbformat_minor": 4
}
