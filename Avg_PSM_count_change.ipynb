{
 "cells": [
  {
   "cell_type": "code",
   "execution_count": 1,
   "metadata": {},
   "outputs": [],
   "source": [
    "import os\n",
    "import mokapot\n",
    "import numpy as np\n",
    "import pandas as pd\n",
    "import matplotlib.pyplot as plt\n",
    "import sys\n",
    "sys.path.append(\"..\")\n",
    "sys.path\n",
    "import data_loader as dl"
   ]
  },
  {
   "cell_type": "code",
   "execution_count": 2,
   "metadata": {},
   "outputs": [],
   "source": [
    "#read in the megaScript and reformat it\n",
    "def clean_meagScript(file):\n",
    "    df = pd.read_csv(file, low_memory=False,  header=[0,1])\n",
    "    df.drop(columns = {\"Unnamed: 0_level_0\"})\n",
    "    return df"
   ]
  },
  {
   "cell_type": "markdown",
   "metadata": {},
   "source": [
    "Slicing out the Peptide Prophet Probability values for MsFragger. There is no qvalue or PEP, so this is the row we are using. \n",
    "Counting how many are at or under the cutoff"
   ]
  },
  {
   "cell_type": "code",
   "execution_count": 3,
   "metadata": {},
   "outputs": [],
   "source": [
    "def get_msf_prob_len(df, cutoff):\n",
    "    msf_before = df[\"MsFragger\"]['Updated_probability']\n",
    "    msf_before =  msf_before.dropna()\n",
    "    before_under_cutoff = len(msf_before.loc[msf_before <= cutoff])\n",
    "    \n",
    "    msf_after = df[\"MsFragger\"]['mokapot q-value']\n",
    "    msf_after =  msf_after.dropna()\n",
    "    after_under_cutoff = len(msf_after.loc[msf_after <= cutoff])\n",
    "    \n",
    "    return (after_under_cutoff - before_under_cutoff)/before_under_cutoff"
   ]
  },
  {
   "cell_type": "markdown",
   "metadata": {},
   "source": [
    "Slicing out the qvalues from MetaMorpheus Counting how many are at or under the cutoff"
   ]
  },
  {
   "cell_type": "code",
   "execution_count": 4,
   "metadata": {},
   "outputs": [],
   "source": [
    "def get_mm_Qval_len(df, cutoff):\n",
    "    mm_before = df[\"MetaMorpheus\"][\"QValue\"] \n",
    "    mm_before =  mm_before.dropna() \n",
    "    before_under_cutoff = len(mm_before.loc[mm_before <= cutoff])\n",
    "    \n",
    "    mm_after = df[\"MetaMorpheus\"]['mokapot q-value'] \n",
    "    mm_after =  mm_after.dropna() \n",
    "    after_under_cutoff = len(mm_after.loc[mm_after <= cutoff])\n",
    "    \n",
    "    \n",
    "    return (after_under_cutoff - before_under_cutoff)/before_under_cutoff"
   ]
  },
  {
   "cell_type": "markdown",
   "metadata": {},
   "source": [
    "Slicing out the qvalues from MsgfPlus and counting how many are at or under the cutoff"
   ]
  },
  {
   "cell_type": "code",
   "execution_count": 5,
   "metadata": {},
   "outputs": [],
   "source": [
    "def get_msg_Qval_len(df, cutoff):\n",
    "    msg_before = df[\"MsgfPlus\"][\"QValue\"] \n",
    "    msg_before =  msg_before.dropna() \n",
    "    before_under_cutoff = len(msg_before.loc[msg_before <= cutoff])\n",
    "    \n",
    "    msg_after = df[\"MsgfPlus\"]['mokapot q-value'] \n",
    "    msg_after =  msg_after.dropna() \n",
    "    after_under_cutoff = len(msg_after.loc[msg_after <= cutoff])\n",
    "    \n",
    "    return (after_under_cutoff - before_under_cutoff)/before_under_cutoff"
   ]
  },
  {
   "cell_type": "markdown",
   "metadata": {},
   "source": [
    "Slicing out the PEP from MaxQuant. Counting how many are at or under the cutoff"
   ]
  },
  {
   "cell_type": "code",
   "execution_count": 14,
   "metadata": {},
   "outputs": [],
   "source": [
    "def get_mq_PEP_len(df, cutoff):\n",
    "    print(\"MQ:\")\n",
    "    mq_before = df[\"MaxQuant\"][\"PEP\"] \n",
    "    mq_before =  mq_before.dropna() \n",
    "    before_under_cutoff = len(mq_before.loc[mq_before <= cutoff])\n",
    "    print(\"val before is: \" + str(before_under_cutoff))\n",
    "    \n",
    "    \n",
    "    mq_after = df[\"MaxQuant\"]['mokapot q-value'] \n",
    "    mq_after =  mq_after.dropna() \n",
    "    after_under_cutoff = len(mq_after.loc[mq_after <= cutoff])\n",
    "    print(\"val after is: \" + str(after_under_cutoff))\n",
    "    \n",
    "    return (after_under_cutoff - before_under_cutoff)/before_under_cutoff"
   ]
  },
  {
   "cell_type": "markdown",
   "metadata": {},
   "source": [
    "This function gets the number of scan values that were at or below the cutoff for each tool and returns them."
   ]
  },
  {
   "cell_type": "code",
   "execution_count": 20,
   "metadata": {},
   "outputs": [],
   "source": [
    "def get_file_values(file, cutoff):\n",
    "    df = clean_meagScript(file)\n",
    "    msf = get_msf_prob_len(df, cutoff)\n",
    "    MM_QVal = get_mm_Qval_len(df, cutoff)\n",
    "    msg_QVal = get_msg_Qval_len(df, cutoff)\n",
    "    MQ_PEP = get_mq_PEP_len(df, cutoff)\n",
    "    values_list = {\"msf\" : msf, \"MM_QVal\" : MM_QVal, \"msg_QVal\" : msg_QVal, \"MQ_PEP\" : MQ_PEP}\n",
    "    return values_list"
   ]
  },
  {
   "cell_type": "code",
   "execution_count": 25,
   "metadata": {},
   "outputs": [],
   "source": [
    "def get_avg(group):\n",
    "    \n",
    "    total = 0\n",
    "    for val in group:\n",
    "        total += val\n",
    "\n",
    "\n",
    "    increase = total/(len(group))\n",
    "    return increase"
   ]
  },
  {
   "cell_type": "markdown",
   "metadata": {},
   "source": [
    "Reading in the data and making the graph for the 2ng data at a certain cutoff"
   ]
  },
  {
   "cell_type": "code",
   "execution_count": 22,
   "metadata": {},
   "outputs": [
    {
     "name": "stdout",
     "output_type": "stream",
     "text": [
      "MQ:\n",
      "val before is: 7900\n",
      "val after is: 11720\n",
      "MQ:\n",
      "val before is: 8210\n",
      "val after is: 11101\n",
      "MQ:\n",
      "val before is: 6067\n",
      "val after is: 9407\n",
      "MQ:\n",
      "val before is: 6401\n",
      "val after is: 9052\n",
      "MQ:\n",
      "val before is: 11196\n",
      "val after is: 14040\n",
      "MQ:\n",
      "val before is: 10361\n",
      "val after is: 13151\n"
     ]
    },
    {
     "data": {
      "image/png": "[encoded data removed]",
      "text/plain": [
       "<Figure size 432x288 with 1 Axes>"
      ]
     },
     "metadata": {
      "needs_background": "light"
     },
     "output_type": "display_data"
    }
   ],
   "source": [
    "File1 = get_file_values(\"MokaPot/MegaScript_2ng_rep1.csv\", 0.01)\n",
    "File2 = get_file_values(\"MokaPot/MegaScript_2ng_rep2.csv\", 0.01)\n",
    "File3 = get_file_values(\"MokaPot/MegaScript_2ng_rep3.csv\", 0.01)\n",
    "File4 = get_file_values(\"MokaPot/MegaScript_2ng_rep4.csv\", 0.01)\n",
    "File5 = get_file_values(\"MokaPot/MegaScript_2ng_rep5.csv\", 0.01)\n",
    "File6 = get_file_values(\"MokaPot/MegaScript_2ng_rep6.csv\", 0.01)\n",
    "\n",
    " \n",
    "# set width of bars\n",
    "barWidth = 0.15\n",
    " \n",
    "# set heights of bars\n",
    "msf_prob = [File1['msf'], File2['msf'], File3['msf'], File4['msf'], File5['msf'], File6['msf']]\n",
    "MM_qval = [File1['MM_QVal'], File2['MM_QVal'], File3['MM_QVal'], File4['MM_QVal'], File5['MM_QVal'], File6['MM_QVal']]\n",
    "msg_qval = [File1['msg_QVal'], File2['msg_QVal'], File3['msg_QVal'], File4['msg_QVal'], File5['msg_QVal'], File6['msg_QVal']]\n",
    "mq_PEP = [File1['MQ_PEP'], File2['MQ_PEP'], File3['MQ_PEP'], File4['MQ_PEP'], File5['MQ_PEP'], File6['MQ_PEP']]\n",
    "\n",
    "\n",
    "# Set position of bar on X axis\n",
    "r1 = np.arange(len(msf_prob))\n",
    "r2 = [x + barWidth for x in r1]\n",
    "r3 = [x + barWidth for x in r2]\n",
    "r4 = [x + barWidth for x in r3]\n",
    "\n",
    " \n",
    "# Make the plot\n",
    "plt.bar(r1, msf_prob, width=barWidth, edgecolor='white', label='MsFragger Peptide Prophet Probability')\n",
    "plt.bar(r2, MM_qval, width=barWidth, edgecolor='white', label='MetaMorpheus Q-Value')\n",
    "plt.bar(r3, msg_qval, width=barWidth, edgecolor='white', label='MsgfPlus Q-Value')\n",
    "plt.bar(r4, mq_PEP, width=barWidth, edgecolor='white', label='MaxQuant PEP')\n",
    " \n",
    "# Add xticks on the middle of the group bars\n",
    "plt.ylabel(' Number of PSMs')\n",
    "plt.xlabel('Number of PSMs using native score and 0.01 cutoff')\n",
    "plt.title('2ng')\n",
    "plt.xticks([r + barWidth for r in range(len(msf_prob))], ['File1', 'File2', 'File3', 'File4', 'File5', 'File6'])\n",
    " \n",
    "# Create legend & Show graphic\n",
    "plt.legend(loc = \"upper right\", bbox_to_anchor=(1.73, 1))\n",
    "figure1_1 = plt.gcf()\n",
    "#figure1_1.savefig('2ng_PSM_native_score.png', dpi=300, bbox_inches='tight')\n",
    "plt.show()\n"
   ]
  },
  {
   "cell_type": "code",
   "execution_count": 34,
   "metadata": {},
   "outputs": [
    {
     "data": {
      "image/png": "[encoded data removed]",
      "text/plain": [
       "<Figure size 432x288 with 1 Axes>"
      ]
     },
     "metadata": {
      "needs_background": "light"
     },
     "output_type": "display_data"
    }
   ],
   "source": [
    "#getting the average % increase of PSMs after MokaPot\n",
    "msf_avg = get_avg(msf_prob)\n",
    "mm_avg = get_avg(MM_qval)\n",
    "msg_avg = get_avg(msg_qval)\n",
    "mq_avg = get_avg(mq_PEP)\n",
    "\n",
    "fig = plt.figure()\n",
    "ax = fig.add_axes([0,0,1,1])\n",
    "increases = [msf_avg, mm_avg, msg_avg, mq_avg]\n",
    "tools = ['msf', 'mm', 'msg', 'mq']\n",
    "ax.bar(tools, increases)\n",
    "plt.ylabel('average percent')\n",
    "#plt.xlabel('Number of PSMs using native score and 0.01 cutoff')\n",
    "plt.title('Average % increase in # PSMs after MokaPot')\n",
    "plt.show()"
   ]
  },
  {
   "cell_type": "code",
   "execution_count": 16,
   "metadata": {},
   "outputs": [
    {
     "name": "stdout",
     "output_type": "stream",
     "text": [
      "0.00243656528314569\n",
      "0.0022220323049312023\n",
      "-0.0010427528675703858\n",
      "-0.00010613457864572278\n",
      "0.0030131034966014996\n",
      "7.467702188036741e-05\n"
     ]
    }
   ],
   "source": [
    "for val in msg_qval:\n",
    "    print(val)"
   ]
  },
  {
   "cell_type": "code",
   "execution_count": 90,
   "metadata": {},
   "outputs": [],
   "source": [
    "def total_avg(group):\n",
    "\n",
    "    total = 0\n",
    "    for val in group:\n",
    "       # print(val)\n",
    "        total += val\n",
    "\n",
    "    return str(total)"
   ]
  },
  {
   "cell_type": "code",
   "execution_count": 91,
   "metadata": {},
   "outputs": [
    {
     "name": "stdout",
     "output_type": "stream",
     "text": [
      "0.21839245408360664\n"
     ]
    }
   ],
   "source": [
    "msf_total = total_avg(msf_prob)\n",
    "MM_total = total_avg(MM_qval)\n",
    "msg_total = total_avg(msg_qval)\n",
    "mq_total = total_avg(mq_PEP)\n",
    "\n",
    "total = float(msf_total) + float(MM_total) + float(msf_total) + float(mq_total)\n",
    "total_avg = total/(len(msf_prob) + len(MM_qval) + len(msg_qval) + len(mq_PEP))\n",
    "print(total_avg)"
   ]
  },
  {
   "cell_type": "code",
   "execution_count": null,
   "metadata": {},
   "outputs": [],
   "source": []
  }
 ],
 "metadata": {
  "kernelspec": {
   "display_name": "Python 3",
   "language": "python",
   "name": "python3"
  },
  "language_info": {
   "codemirror_mode": {
    "name": "ipython",
    "version": 3
   },
   "file_extension": ".py",
   "mimetype": "text/x-python",
   "name": "python",
   "nbconvert_exporter": "python",
   "pygments_lexer": "ipython3",
   "version": "3.8.3"
  }
 },
 "nbformat": 4,
 "nbformat_minor": 4
}
