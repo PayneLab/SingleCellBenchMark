{
 "cells": [
  {
   "cell_type": "markdown",
   "metadata": {},
   "source": [
    "The purpose of this notebook is to calculate the average increase in PSMs each tool finds under a 0.01 cutoff after having been resored though mokapot. "
   ]
  },
  {
   "cell_type": "code",
   "execution_count": 1,
   "metadata": {},
   "outputs": [],
   "source": [
    "import os\n",
    "import mokapot\n",
    "import numpy as np\n",
    "import pandas as pd\n",
    "import matplotlib.pyplot as plt\n",
    "import sys\n",
    "sys.path.append(\"..\")\n",
    "sys.path\n",
    "import data_loader as dl"
   ]
  },
  {
   "cell_type": "code",
   "execution_count": 2,
   "metadata": {},
   "outputs": [],
   "source": [
    "#read in the megaScript and reformat it\n",
    "def clean_meagScript(file):\n",
    "    df = pd.read_csv(file, low_memory=False,  header=[0,1])\n",
    "    df.drop(columns = {\"Unnamed: 0_level_0\"})\n",
    "    return df"
   ]
  },
  {
   "cell_type": "markdown",
   "metadata": {},
   "source": [
    "Slicing out the Peptide Prophet Probability values for MsFragger. There is no qvalue or PEP, so this is the row we are using. \n",
    "Counting how many are at or under the cutoff"
   ]
  },
  {
   "cell_type": "code",
   "execution_count": 3,
   "metadata": {},
   "outputs": [],
   "source": [
    "def get_msf_prob_len(df, cutoff):\n",
    "    msf_before = df[\"MsFragger\"]['Updated_probability']\n",
    "    #msf_before =  msf_before.dropna()\n",
    "    before_under_cutoff = len(msf_before.loc[msf_before <= cutoff])\n",
    "    \n",
    "    msf_after = df[\"MsFragger\"]['mokapot q-value']\n",
    "    #msf_after =  msf_after.dropna()\n",
    "    after_under_cutoff = len(msf_after.loc[msf_after <= cutoff])\n",
    "    \n",
    "    return (after_under_cutoff - before_under_cutoff)/before_under_cutoff"
   ]
  },
  {
   "cell_type": "markdown",
   "metadata": {},
   "source": [
    "Slicing out the qvalues from MetaMorpheus Counting how many are at or under the cutoff"
   ]
  },
  {
   "cell_type": "code",
   "execution_count": 4,
   "metadata": {},
   "outputs": [],
   "source": [
    "def get_mm_Qval_len(df, cutoff):\n",
    "    mm_before = df[\"MetaMorpheus\"][\"QValue\"] \n",
    "    #mm_before =  mm_before.dropna() \n",
    "    before_under_cutoff = len(mm_before.loc[mm_before <= cutoff])\n",
    "    \n",
    "    mm_after = df[\"MetaMorpheus\"]['mokapot q-value'] \n",
    "    #mm_after =  mm_after.dropna() \n",
    "    after_under_cutoff = len(mm_after.loc[mm_after <= cutoff])\n",
    "    \n",
    "    \n",
    "    return (after_under_cutoff - before_under_cutoff)/before_under_cutoff"
   ]
  },
  {
   "cell_type": "markdown",
   "metadata": {},
   "source": [
    "Slicing out the qvalues from MsgfPlus and counting how many are at or under the cutoff"
   ]
  },
  {
   "cell_type": "code",
   "execution_count": 5,
   "metadata": {},
   "outputs": [],
   "source": [
    "def get_msg_Qval_len(df, cutoff):\n",
    "    msg_before = df[\"MsgfPlus\"][\"QValue\"] \n",
    "    #msg_before =  msg_before.dropna() \n",
    "    before_under_cutoff = len(msg_before.loc[msg_before <= cutoff])\n",
    "    \n",
    "    msg_after = df[\"MsgfPlus\"]['mokapot q-value'] \n",
    "    #msg_after =  msg_after.dropna() \n",
    "    after_under_cutoff = len(msg_after.loc[msg_after <= cutoff])\n",
    "    \n",
    "    return (after_under_cutoff - before_under_cutoff)/before_under_cutoff"
   ]
  },
  {
   "cell_type": "markdown",
   "metadata": {},
   "source": [
    "Slicing out the PEP from MaxQuant. Counting how many are at or under the cutoff"
   ]
  },
  {
   "cell_type": "code",
   "execution_count": 6,
   "metadata": {},
   "outputs": [],
   "source": [
    "def get_mq_PEP_len(df, cutoff):\n",
    "    mq_before = df[\"MaxQuant\"][\"PEP\"] \n",
    "    #mq_before =  mq_before.dropna() \n",
    "    before_under_cutoff = len(mq_before.loc[mq_before <= cutoff])\n",
    "    \n",
    "    mq_after = df[\"MaxQuant\"]['mokapot q-value'] \n",
    "    #mq_after =  mq_after.dropna() \n",
    "    after_under_cutoff = len(mq_after.loc[mq_after <= cutoff])\n",
    "    \n",
    "    return (after_under_cutoff - before_under_cutoff)/before_under_cutoff"
   ]
  },
  {
   "cell_type": "markdown",
   "metadata": {},
   "source": [
    "This function gets the number of scan values that were at or below the cutoff for each tool and returns them."
   ]
  },
  {
   "cell_type": "code",
   "execution_count": 7,
   "metadata": {},
   "outputs": [],
   "source": [
    "def get_file_values(file, cutoff):\n",
    "    df = clean_meagScript(file)\n",
    "    msf = get_msf_prob_len(df, cutoff)\n",
    "    MM_QVal = get_mm_Qval_len(df, cutoff)\n",
    "    msg_QVal = get_msg_Qval_len(df, cutoff)\n",
    "    MQ_PEP = get_mq_PEP_len(df, cutoff)\n",
    "    values_list = {\"msf\" : msf, \"MM_QVal\" : MM_QVal, \"msg_QVal\" : msg_QVal, \"MQ_PEP\" : MQ_PEP}\n",
    "    return values_list"
   ]
  },
  {
   "cell_type": "markdown",
   "metadata": {},
   "source": [
    "Reading in the data and making the graph for the 2ng data at a certain cutoff"
   ]
  },
  {
   "cell_type": "code",
   "execution_count": 8,
   "metadata": {},
   "outputs": [
    {
     "name": "stderr",
     "output_type": "stream",
     "text": [
      "/Users/daishavanderwatt/anaconda3/lib/python3.8/site-packages/pandas/core/generic.py:3936: PerformanceWarning: dropping on a non-lexsorted multi-index without a level parameter may impact performance.\n",
      "  obj = obj._drop_axis(labels, axis, level=level, errors=errors)\n"
     ]
    },
    {
     "data": {
      "image/png": "[encoded data removed]",
      "text/plain": [
       "<Figure size 432x288 with 1 Axes>"
      ]
     },
     "metadata": {
      "needs_background": "light"
     },
     "output_type": "display_data"
    }
   ],
   "source": [
    "File1 = get_file_values(\"MokaPot/MegaScript_2ng_rep1.csv\", 0.01)\n",
    "File2 = get_file_values(\"MokaPot/MegaScript_2ng_rep2.csv\", 0.01)\n",
    "File3 = get_file_values(\"MokaPot/MegaScript_2ng_rep3.csv\", 0.01)\n",
    "File4 = get_file_values(\"MokaPot/MegaScript_2ng_rep4.csv\", 0.01)\n",
    "File5 = get_file_values(\"MokaPot/MegaScript_2ng_rep5.csv\", 0.01)\n",
    "File6 = get_file_values(\"MokaPot/MegaScript_2ng_rep6.csv\", 0.01)\n",
    "\n",
    " \n",
    "# set width of bars\n",
    "barWidth = 0.15\n",
    " \n",
    "# set heights of bars\n",
    "msf_prob_2ng = [File1['msf'], File2['msf'], File3['msf'], File4['msf'], File5['msf'], File6['msf']]\n",
    "MM_qval_2ng = [File1['MM_QVal'], File2['MM_QVal'], File3['MM_QVal'], File4['MM_QVal'], File5['MM_QVal'], File6['MM_QVal']]\n",
    "msg_qval_2ng = [File1['msg_QVal'], File2['msg_QVal'], File3['msg_QVal'], File4['msg_QVal'], File5['msg_QVal'], File6['msg_QVal']]\n",
    "mq_PEP_2ng = [File1['MQ_PEP'], File2['MQ_PEP'], File3['MQ_PEP'], File4['MQ_PEP'], File5['MQ_PEP'], File6['MQ_PEP']]\n",
    "\n",
    "\n",
    "# Set position of bar on X axis\n",
    "r1 = np.arange(len(msf_prob_2ng))\n",
    "r2 = [x + barWidth for x in r1]\n",
    "r3 = [x + barWidth for x in r2]\n",
    "r4 = [x + barWidth for x in r3]\n",
    "\n",
    " \n",
    "# Make the plot\n",
    "plt.bar(r1, msf_prob_2ng, width=barWidth, edgecolor='white', label='MsFragger Peptide Prophet Probability')\n",
    "plt.bar(r2, MM_qval_2ng, width=barWidth, edgecolor='white', label='MetaMorpheus Q-Value')\n",
    "plt.bar(r3, msg_qval_2ng, width=barWidth, edgecolor='white', label='MsgfPlus Q-Value')\n",
    "plt.bar(r4, mq_PEP_2ng, width=barWidth, edgecolor='white', label='MaxQuant PEP')\n",
    " \n",
    "# Add xticks on the middle of the group bars\n",
    "plt.ylabel(' Number of PSMs')\n",
    "plt.xlabel('Number of PSMs using native score and 0.01 cutoff')\n",
    "plt.title('2ng')\n",
    "plt.xticks([r + barWidth for r in range(len(msf_prob_2ng))], ['File1', 'File2', 'File3', 'File4', 'File5', 'File6'])\n",
    " \n",
    "# Create legend & Show graphic\n",
    "plt.legend(loc = \"upper right\", bbox_to_anchor=(1.73, 1))\n",
    "figure1_1 = plt.gcf()\n",
    "plt.show()\n"
   ]
  },
  {
   "cell_type": "code",
   "execution_count": 9,
   "metadata": {},
   "outputs": [
    {
     "data": {
      "image/png": "[encoded data removed]",
      "text/plain": [
       "<Figure size 432x288 with 1 Axes>"
      ]
     },
     "metadata": {
      "needs_background": "light"
     },
     "output_type": "display_data"
    }
   ],
   "source": [
    "import statistics as stats\n",
    "#getting the average % increase of PSMs after MokaPot\n",
    "msf_avg = stats.mean(msf_prob_2ng)\n",
    "mm_avg = stats.mean(MM_qval_2ng)\n",
    "msg_avg = stats.mean(msg_qval_2ng)\n",
    "mq_avg = stats.mean(mq_PEP_2ng)\n",
    "\n",
    "fig = plt.figure()\n",
    "ax = fig.add_axes([0,0,1,1])\n",
    "increases = [msf_avg, mm_avg, msg_avg, mq_avg]\n",
    "tools = ['msf', 'mm', 'msg', 'mq']\n",
    "ax.bar(tools, increases)\n",
    "plt.ylabel('average percent')\n",
    "#plt.xlabel('Number of PSMs using native score and 0.01 cutoff')\n",
    "plt.title('Average % increase in # PSMs after MokaPot')\n",
    "plt.show()"
   ]
  },
  {
   "cell_type": "code",
   "execution_count": 10,
   "metadata": {},
   "outputs": [
    {
     "name": "stdout",
     "output_type": "stream",
     "text": [
      "MM avg: 0.11526412358685195\n",
      "msg avg: 0.001099581776723775\n",
      "msf_avg: 0.18344271595220346\n",
      "mq_avg: 0.4075631862471546\n"
     ]
    }
   ],
   "source": [
    "print(\"MM avg: \" + str(mm_avg))\n",
    "print(\"msg avg: \" + str(msg_avg))\n",
    "print(\"msf_avg: \" + str(msf_avg))\n",
    "print(\"mq_avg: \" + str(mq_avg))"
   ]
  },
  {
   "cell_type": "markdown",
   "metadata": {},
   "source": [
    "Doing calculations and graphs for the 0.2ng data"
   ]
  },
  {
   "cell_type": "code",
   "execution_count": 11,
   "metadata": {},
   "outputs": [
    {
     "data": {
      "image/png": "[encoded data removed]",
      "text/plain": [
       "<Figure size 432x288 with 1 Axes>"
      ]
     },
     "metadata": {
      "needs_background": "light"
     },
     "output_type": "display_data"
    }
   ],
   "source": [
    "File7 = get_file_values(\"MokaPot/MegaScript_0.2ng_rep1.csv\", 0.01)\n",
    "File8 = get_file_values(\"MokaPot/MegaScript_0.2ng_rep2.csv\", 0.01)\n",
    "File9 = get_file_values(\"MokaPot/MegaScript_0.2ng_rep3.csv\", 0.01)\n",
    "File10 = get_file_values(\"MokaPot/MegaScript_0.2ng_rep4.csv\", 0.01)\n",
    "File11 = get_file_values(\"MokaPot/MegaScript_0.2ng_rep5.csv\", 0.01)\n",
    "File12 = get_file_values(\"MokaPot/MegaScript_0.2ng_rep6.csv\", 0.01)\n",
    "\n",
    " \n",
    "# set width of bars\n",
    "barWidth = 0.15\n",
    " \n",
    "# set heights of bars\n",
    "msf_prob_02ng = [File7['msf'], File8['msf'], File9['msf'], File10['msf'], File11['msf'], File12['msf']]\n",
    "\n",
    "MM_qval_02ng = [File7['MM_QVal'], File8['MM_QVal'], File9['MM_QVal'], File10['MM_QVal'], File11['MM_QVal'], File12['MM_QVal']]\n",
    "\n",
    "msg_qval_02ng = [File7['msg_QVal'], File8['msg_QVal'], File9['msg_QVal'], File10['msg_QVal'], File11['msg_QVal'], File12['msg_QVal']]\n",
    "\n",
    "mq_PEP_02ng = [File7['MQ_PEP'], File8['MQ_PEP'], File9['MQ_PEP'], File10['MQ_PEP'], File11['MQ_PEP'], File12['MQ_PEP']]\n",
    "\n",
    "\n",
    "# Set position of bar on X axis\n",
    "r1 = np.arange(len(msf_prob_02ng))\n",
    "r2 = [x + barWidth for x in r1]\n",
    "r3 = [x + barWidth for x in r2]\n",
    "r4 = [x + barWidth for x in r3]\n",
    "\n",
    " \n",
    "# Make the plot\n",
    "plt.bar(r1, msf_prob_02ng, width=barWidth, edgecolor='white', label='MsFragger Peptide Prophet Probability')\n",
    "plt.bar(r2, MM_qval_02ng, width=barWidth, edgecolor='white', label='MetaMorpheus Q-Value')\n",
    "plt.bar(r3, msg_qval_02ng, width=barWidth, edgecolor='white', label='MsgfPlus Q-Value')\n",
    "plt.bar(r4, mq_PEP_02ng, width=barWidth, edgecolor='white', label='MaxQuant PEP')\n",
    " \n",
    "# Add xticks on the middle of the group bars\n",
    "plt.ylabel(' Number of PSMs')\n",
    "plt.xlabel('Number of PSMs using native score and 0.01 cutoff')\n",
    "plt.title('2ng')\n",
    "plt.xticks([r + barWidth for r in range(len(msf_prob_02ng))], ['File1', 'File2', 'File3', 'File4', 'File5', 'File6'])\n",
    " \n",
    "# Create legend & Show graphic\n",
    "plt.legend(loc = \"upper right\", bbox_to_anchor=(1.73, 1))\n",
    "figure1_1 = plt.gcf()\n",
    "#figure1_1.savefig('2ng_PSM_native_score.png', dpi=300, bbox_inches='tight')\n",
    "plt.show()"
   ]
  },
  {
   "cell_type": "code",
   "execution_count": 12,
   "metadata": {},
   "outputs": [
    {
     "data": {
      "image/png": "[encoded data removed]",
      "text/plain": [
       "<Figure size 432x288 with 1 Axes>"
      ]
     },
     "metadata": {
      "needs_background": "light"
     },
     "output_type": "display_data"
    }
   ],
   "source": [
    "import statistics as stats\n",
    "#getting the average % increase of PSMs after MokaPot\n",
    "msf_avg = stats.mean(msf_prob_02ng)\n",
    "mm_avg = stats.mean(MM_qval_02ng)\n",
    "msg_avg = stats.mean(msg_qval_02ng)\n",
    "mq_avg = stats.mean(mq_PEP_02ng)\n",
    "\n",
    "fig = plt.figure()\n",
    "ax = fig.add_axes([0,0,1,1])\n",
    "increases = [msf_avg, mm_avg, msg_avg, mq_avg]\n",
    "tools = ['msf', 'mm', 'msg', 'mq']\n",
    "ax.bar(tools, increases)\n",
    "plt.ylabel('average percent')\n",
    "#plt.xlabel('Number of PSMs using native score and 0.01 cutoff')\n",
    "plt.title('Average % increase in # PSMs after MokaPot')\n",
    "plt.show()"
   ]
  },
  {
   "cell_type": "code",
   "execution_count": 13,
   "metadata": {},
   "outputs": [
    {
     "name": "stdout",
     "output_type": "stream",
     "text": [
      "MM avg: 0.07544962441812451\n",
      "msg avg: -0.0009413467196535334\n",
      "msf_avg: 0.1991745220549629\n",
      "mq_avg: 0.5450552128008768\n"
     ]
    }
   ],
   "source": [
    "print(\"MM avg: \" + str(mm_avg))\n",
    "print(\"msg avg: \" + str(msg_avg))\n",
    "print(\"msf_avg: \" + str(msf_avg))\n",
    "print(\"mq_avg: \" + str(mq_avg))"
   ]
  }
 ],
 "metadata": {
  "kernelspec": {
   "display_name": "Python 3",
   "language": "python",
   "name": "python3"
  },
  "language_info": {
   "codemirror_mode": {
    "name": "ipython",
    "version": 3
   },
   "file_extension": ".py",
   "mimetype": "text/x-python",
   "name": "python",
   "nbconvert_exporter": "python",
   "pygments_lexer": "ipython3",
   "version": "3.8.3"
  }
 },
 "nbformat": 4,
 "nbformat_minor": 4
}
