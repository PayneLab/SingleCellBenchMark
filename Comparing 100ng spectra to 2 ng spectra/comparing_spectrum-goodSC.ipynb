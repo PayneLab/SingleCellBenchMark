{
 "cells": [
  {
   "cell_type": "code",
   "execution_count": 1,
   "metadata": {},
   "outputs": [],
   "source": [
    "import pandas as pd\n",
    "import numpy as np\n",
    "import matplotlib.pyplot as plt\n",
    "import statistics as st\n",
    "import seaborn as sns\n",
    "import sys\n",
    "sys.path.append(\"..\")\n",
    "import data_loader"
   ]
  },
  {
   "cell_type": "code",
   "execution_count": 2,
   "metadata": {},
   "outputs": [],
   "source": [
    "def format_oxidation(row, column, to_replace):\n",
    "    peptide = row[column]\n",
    "#     print(to_replace)\n",
    "    replace_with = \"+15.995\"\n",
    "    if pd.isna(peptide):\n",
    "        new_pep = peptide\n",
    "    else:\n",
    "        if to_replace in peptide:\n",
    "            new_pep = peptide.replace(to_replace, replace_with)\n",
    "        else:\n",
    "            new_pep = peptide\n",
    "    return new_pep\n",
    "\n",
    "def format_carbamidomethyl(row, column, to_replace):\n",
    "    peptide = row[column]\n",
    "#     print(to_replace)\n",
    "    replace_with = \"\"\n",
    "    if pd.isna(peptide):\n",
    "        new_pep = peptide\n",
    "    else:\n",
    "        if to_replace in peptide:\n",
    "            new_pep = peptide.replace(to_replace, replace_with)\n",
    "        else:\n",
    "            new_pep = peptide\n",
    "    return new_pep\n"
   ]
  },
  {
   "cell_type": "code",
   "execution_count": 3,
   "metadata": {},
   "outputs": [],
   "source": [
    "def clean_MM(input_file):\n",
    "    data = pd.read_csv(input_file, sep = '\\t')\n",
    "\n",
    "    #make a new col that includes modifide peptides\n",
    "    data['temp_peptide'] = data.apply(lambda row: format_oxidation(row, \"Full Sequence\", \"[Common Variable:Oxidation on M]\"), axis=1)\n",
    "    data[\"temp2\"] = data.apply(lambda row: format_carbamidomethyl(row, \"temp_peptide\", \"[Common Fixed:Carbamidomethyl on C]\"), axis=1)\n",
    "\n",
    "    data = data.replace({\"Decoy\": {'Y': True, 'N': False}})\n",
    "    #uniform naming\n",
    "    data_new = data.rename({\"Decoy\": \"decoy\", \"Scan Number\": \"scan\", \"temp2\": \"peptide\", 'PEP_QValue': 'probability'}, axis=1)\n",
    "    data_new = data_new.filter((['decoy', 'scan', 'peptide','probability', \n",
    "                                 \"Matched Ion Series\", 'Matched Ion Intensities', 'Matched Ion Counts', 'Matched Ion Mass Diff (Ppm)']))\n",
    "\n",
    "    return data_new\n"
   ]
  },
  {
   "cell_type": "code",
   "execution_count": 4,
   "metadata": {},
   "outputs": [],
   "source": [
    "def filter_data(df, SC):\n",
    "    df = df[df[\"decoy\"]==False]\n",
    "    df = df.sort_values(\"probability\")\n",
    "    df = df.drop_duplicates(subset=[\"scan\"], keep=\"first\") #keep highest scoring\n",
    "    df = df.sort_values(\"probability\")\n",
    "    df = df.drop_duplicates(subset=[\"peptide\"], keep=\"first\")#I only want unique peptides \n",
    "    if SC==True: \n",
    "        df = df[(df[\"probability\"] <= .01)]\n",
    "    else:\n",
    "        df = df[df[\"probability\"] <= .01]\n",
    "    return df\n"
   ]
  },
  {
   "cell_type": "code",
   "execution_count": 5,
   "metadata": {},
   "outputs": [
    {
     "name": "stderr",
     "output_type": "stream",
     "text": [
      "/opt/anaconda3/lib/python3.8/site-packages/IPython/core/interactiveshell.py:3263: DtypeWarning: Columns (11,19,20,21,22,23) have mixed types.Specify dtype option on import or set low_memory=False.\n",
      "  if (await self.run_code(code, result,  async_=asy)):\n"
     ]
    }
   ],
   "source": [
    "small = clean_MM(\"~/Payne/bulk_data_vs_2ng/Ex_Auto_DrM3_30umT4_2ngQC_60m_half_PSMs.psmtsv.gz\")\n",
    "large = clean_MM(\"~/Payne/bulk_data_vs_2ng/metamorpheus_output/AllPSMs2.psmtsv\")\n",
    "\n",
    "small = filter_data(small, SC=True)\n",
    "large = filter_data(large, SC=False)"
   ]
  },
  {
   "cell_type": "code",
   "execution_count": 6,
   "metadata": {},
   "outputs": [
    {
     "data": {
      "text/html": [
       "<div>\n",
       "<style scoped>\n",
       "    .dataframe tbody tr th:only-of-type {\n",
       "        vertical-align: middle;\n",
       "    }\n",
       "\n",
       "    .dataframe tbody tr th {\n",
       "        vertical-align: top;\n",
       "    }\n",
       "\n",
       "    .dataframe thead th {\n",
       "        text-align: right;\n",
       "    }\n",
       "</style>\n",
       "<table border=\"1\" class=\"dataframe\">\n",
       "  <thead>\n",
       "    <tr style=\"text-align: right;\">\n",
       "      <th></th>\n",
       "      <th>decoy</th>\n",
       "      <th>scan</th>\n",
       "      <th>peptide</th>\n",
       "      <th>probability</th>\n",
       "      <th>Matched Ion Series</th>\n",
       "      <th>Matched Ion Intensities</th>\n",
       "      <th>Matched Ion Counts</th>\n",
       "      <th>Matched Ion Mass Diff (Ppm)</th>\n",
       "    </tr>\n",
       "  </thead>\n",
       "  <tbody>\n",
       "    <tr>\n",
       "      <th>14488</th>\n",
       "      <td>False</td>\n",
       "      <td>16175</td>\n",
       "      <td>FDGVQDPR</td>\n",
       "      <td>0.009731</td>\n",
       "      <td>[b2+1, b3+1];[y1+1, y2+1, y4+1, y6+1, y7+1]</td>\n",
       "      <td>[b2+1:1685, b3+1:1912];[y1+1:4175, y2+1:15665,...</td>\n",
       "      <td>7</td>\n",
       "      <td>[b2+1:3.25, b3+1:5.79];[y1+1:2.40, y2+1:2.84, ...</td>\n",
       "    </tr>\n",
       "    <tr>\n",
       "      <th>18209</th>\n",
       "      <td>False</td>\n",
       "      <td>18353</td>\n",
       "      <td>SPAHYAGYWK</td>\n",
       "      <td>0.009820</td>\n",
       "      <td>[b4+1];[y1+1, y2+1, y4+1, y5+1, y6+1]</td>\n",
       "      <td>[b4+1:2260];[y1+1:7158, y2+1:1922, y4+1:1315, ...</td>\n",
       "      <td>6</td>\n",
       "      <td>[b4+1:6.42];[y1+1:3.89, y2+1:3.92, y4+1:-1.98,...</td>\n",
       "    </tr>\n",
       "    <tr>\n",
       "      <th>14587</th>\n",
       "      <td>False</td>\n",
       "      <td>40505</td>\n",
       "      <td>DPTAVIFGEDVAFGGVFR</td>\n",
       "      <td>0.009887</td>\n",
       "      <td>[b2+1, b4+1, b5+1, b6+1];[y11+1, y12+1, y13+1]</td>\n",
       "      <td>[b2+1:2425, b4+1:1643, b5+1:2738, b6+1:1169];[...</td>\n",
       "      <td>7</td>\n",
       "      <td>[b2+1:3.49, b4+1:0.81, b5+1:3.38, b6+1:9.05];[...</td>\n",
       "    </tr>\n",
       "    <tr>\n",
       "      <th>14075</th>\n",
       "      <td>False</td>\n",
       "      <td>30563</td>\n",
       "      <td>EQQHVM+15.995EELFQSSFR</td>\n",
       "      <td>0.009910</td>\n",
       "      <td>[b7+1, b8+1];[y1+1, y4+1, y5+1, y6+1, y7+1]</td>\n",
       "      <td>[b7+1:877, b8+1:1369];[y1+1:1228, y4+1:3003, y...</td>\n",
       "      <td>7</td>\n",
       "      <td>[b7+1:0.78, b8+1:2.60];[y1+1:2.31, y4+1:6.37, ...</td>\n",
       "    </tr>\n",
       "    <tr>\n",
       "      <th>18845</th>\n",
       "      <td>False</td>\n",
       "      <td>13999</td>\n",
       "      <td>EGGGGKRK</td>\n",
       "      <td>0.009977</td>\n",
       "      <td>[b1+1, b2+1, b4+1];[y1+1, y4+1, y6+1]</td>\n",
       "      <td>[b1+1:1421, b2+1:4242, b4+1:1758];[y1+1:12799,...</td>\n",
       "      <td>6</td>\n",
       "      <td>[b1+1:1.74, b2+1:1.40, b4+1:3.14];[y1+1:3.06, ...</td>\n",
       "    </tr>\n",
       "  </tbody>\n",
       "</table>\n",
       "</div>"
      ],
      "text/plain": [
       "       decoy   scan                 peptide  probability  \\\n",
       "14488  False  16175                FDGVQDPR     0.009731   \n",
       "18209  False  18353              SPAHYAGYWK     0.009820   \n",
       "14587  False  40505      DPTAVIFGEDVAFGGVFR     0.009887   \n",
       "14075  False  30563  EQQHVM+15.995EELFQSSFR     0.009910   \n",
       "18845  False  13999                EGGGGKRK     0.009977   \n",
       "\n",
       "                                   Matched Ion Series  \\\n",
       "14488     [b2+1, b3+1];[y1+1, y2+1, y4+1, y6+1, y7+1]   \n",
       "18209           [b4+1];[y1+1, y2+1, y4+1, y5+1, y6+1]   \n",
       "14587  [b2+1, b4+1, b5+1, b6+1];[y11+1, y12+1, y13+1]   \n",
       "14075     [b7+1, b8+1];[y1+1, y4+1, y5+1, y6+1, y7+1]   \n",
       "18845           [b1+1, b2+1, b4+1];[y1+1, y4+1, y6+1]   \n",
       "\n",
       "                                 Matched Ion Intensities  Matched Ion Counts  \\\n",
       "14488  [b2+1:1685, b3+1:1912];[y1+1:4175, y2+1:15665,...                   7   \n",
       "18209  [b4+1:2260];[y1+1:7158, y2+1:1922, y4+1:1315, ...                   6   \n",
       "14587  [b2+1:2425, b4+1:1643, b5+1:2738, b6+1:1169];[...                   7   \n",
       "14075  [b7+1:877, b8+1:1369];[y1+1:1228, y4+1:3003, y...                   7   \n",
       "18845  [b1+1:1421, b2+1:4242, b4+1:1758];[y1+1:12799,...                   6   \n",
       "\n",
       "                             Matched Ion Mass Diff (Ppm)  \n",
       "14488  [b2+1:3.25, b3+1:5.79];[y1+1:2.40, y2+1:2.84, ...  \n",
       "18209  [b4+1:6.42];[y1+1:3.89, y2+1:3.92, y4+1:-1.98,...  \n",
       "14587  [b2+1:3.49, b4+1:0.81, b5+1:3.38, b6+1:9.05];[...  \n",
       "14075  [b7+1:0.78, b8+1:2.60];[y1+1:2.31, y4+1:6.37, ...  \n",
       "18845  [b1+1:1.74, b2+1:1.40, b4+1:3.14];[y1+1:3.06, ...  "
      ]
     },
     "execution_count": 6,
     "metadata": {},
     "output_type": "execute_result"
    }
   ],
   "source": [
    "small.tail()"
   ]
  },
  {
   "cell_type": "code",
   "execution_count": 7,
   "metadata": {},
   "outputs": [
    {
     "data": {
      "text/plain": [
       "5555"
      ]
     },
     "execution_count": 7,
     "metadata": {},
     "output_type": "execute_result"
    }
   ],
   "source": [
    "#how many match?\n",
    "pep_in_both = list(set(small[\"peptide\"]).intersection(set(large[\"peptide\"])))\n",
    "len(pep_in_both)"
   ]
  },
  {
   "cell_type": "code",
   "execution_count": 8,
   "metadata": {},
   "outputs": [],
   "source": [
    "small = small.loc[small['peptide'].isin(pep_in_both)]\n",
    "large = large.loc[large['peptide'].isin(pep_in_both)]"
   ]
  },
  {
   "cell_type": "code",
   "execution_count": 9,
   "metadata": {},
   "outputs": [],
   "source": [
    "def count_Y(row):\n",
    "    count = row['Matched Ion Series'].count(\"y\")\n",
    "    return(count)\n",
    "\n",
    "def count_B(row):\n",
    "    count = row['Matched Ion Series'].count(\"b\")\n",
    "    return(count)"
   ]
  },
  {
   "cell_type": "code",
   "execution_count": 10,
   "metadata": {},
   "outputs": [],
   "source": [
    "#count y and b peaks\n",
    "small[\"b_peaks\"] = small.apply(count_B, axis=1)\n",
    "small[\"y_peaks\"] = small.apply(count_Y, axis=1)\n",
    "small[\"y_peaks\"] = small.apply(count_Y, axis=1)\n",
    "\n",
    "#count y and b peaks\n",
    "large[\"b_peaks\"] = large.apply(count_B, axis=1)\n",
    "large[\"y_peaks\"] = large.apply(count_Y, axis=1)\n"
   ]
  },
  {
   "cell_type": "code",
   "execution_count": 11,
   "metadata": {},
   "outputs": [
    {
     "data": {
      "image/png": "[encoded data removed]",
      "text/plain": [
       "<Figure size 576x288 with 1 Axes>"
      ]
     },
     "metadata": {
      "needs_background": "light"
     },
     "output_type": "display_data"
    }
   ],
   "source": [
    "#How many y and b peaks are there on average?\n",
    "plot = sns.catplot(x=\"y_peaks\", color= '#abc9ea', hue=None,\n",
    "                data=large, kind=\"count\",\n",
    "                height=4, aspect=2).set(title='How many Y peaks there are in bulk')"
   ]
  },
  {
   "cell_type": "code",
   "execution_count": 12,
   "metadata": {},
   "outputs": [
    {
     "data": {
      "image/png": "[encoded data removed]",
      "text/plain": [
       "<Figure size 576x288 with 1 Axes>"
      ]
     },
     "metadata": {
      "needs_background": "light"
     },
     "output_type": "display_data"
    }
   ],
   "source": [
    "plot = sns.catplot(x=\"b_peaks\", color= '#abc9ea', hue=None,\n",
    "                data=large, kind=\"count\",\n",
    "                height=4, aspect=2).set(title='How many B peaks there are in bulk')"
   ]
  },
  {
   "cell_type": "code",
   "execution_count": 13,
   "metadata": {},
   "outputs": [],
   "source": [
    "#for each protein count number of peaks for bulk and single cell, and get the difference\n",
    "\n",
    "#give them the same index (index by peptide name)\n",
    "new_small = small.set_index(\"peptide\")\n",
    "new_large = large.set_index(\"peptide\")\n",
    "both = pd.merge(left=new_small, right=new_large,suffixes=('_small', '_large'), left_index=True, right_index=True, how=\"outer\")\n",
    "# # small[\"Matched Ion Counts\"]- large[\"Matched Ion Counts\"]\n",
    "both[\"diff_total\"] = both[\"Matched Ion Counts_large\"] - both[\"Matched Ion Counts_small\"] \n",
    "both[\"diff_y\"] = both[\"y_peaks_large\"] - both[\"y_peaks_small\"]\n",
    "both[\"diff_b\"] = both[\"b_peaks_large\"] - both[\"b_peaks_small\"]\n",
    "####\n",
    "#0 mean that they have the same number of peaks\n",
    "# positive means that sc spectrum had more peaks\n",
    "# negative means that bulk had more peaks"
   ]
  },
  {
   "cell_type": "code",
   "execution_count": 14,
   "metadata": {},
   "outputs": [
    {
     "data": {
      "text/plain": [
       "5555"
      ]
     },
     "execution_count": 14,
     "metadata": {},
     "output_type": "execute_result"
    }
   ],
   "source": [
    "len(both)"
   ]
  },
  {
   "cell_type": "code",
   "execution_count": 15,
   "metadata": {},
   "outputs": [
    {
     "data": {
      "image/png": "[encoded data removed]",
      "text/plain": [
       "<Figure size 576x288 with 1 Axes>"
      ]
     },
     "metadata": {
      "needs_background": "light"
     },
     "output_type": "display_data"
    }
   ],
   "source": [
    "plot = sns.catplot(x=\"diff_total\", color= '#abc9ea', hue=None,\n",
    "                data=both, kind=\"count\",\n",
    "                height=4, aspect=2).set(title='all peaks in bulk - all peaks in sc')"
   ]
  },
  {
   "cell_type": "code",
   "execution_count": 16,
   "metadata": {},
   "outputs": [
    {
     "data": {
      "image/png": "[encoded data removed]",
      "text/plain": [
       "<Figure size 576x288 with 1 Axes>"
      ]
     },
     "metadata": {
      "needs_background": "light"
     },
     "output_type": "display_data"
    }
   ],
   "source": [
    "plot = sns.catplot(x=\"diff_y\", color= '#abc9ea', hue=None,\n",
    "                data=both, kind=\"count\",\n",
    "                height=4, aspect=2).set(title=\"y peaks in bulk - y peaks in sc\")"
   ]
  },
  {
   "cell_type": "code",
   "execution_count": 17,
   "metadata": {},
   "outputs": [
    {
     "data": {
      "text/plain": [
       "12.169216921692168"
      ]
     },
     "execution_count": 17,
     "metadata": {},
     "output_type": "execute_result"
    }
   ],
   "source": [
    "(len(both[both['diff_y']>=3]) *100)/len(both)"
   ]
  },
  {
   "cell_type": "code",
   "execution_count": 18,
   "metadata": {},
   "outputs": [
    {
     "data": {
      "text/plain": [
       "7.110711071107111"
      ]
     },
     "execution_count": 18,
     "metadata": {},
     "output_type": "execute_result"
    }
   ],
   "source": [
    "(len(both[both['diff_b']>=3]) *100)/len(both)"
   ]
  },
  {
   "cell_type": "code",
   "execution_count": 19,
   "metadata": {},
   "outputs": [
    {
     "data": {
      "image/png": "[encoded data removed]",
      "text/plain": [
       "<Figure size 576x288 with 1 Axes>"
      ]
     },
     "metadata": {
      "needs_background": "light"
     },
     "output_type": "display_data"
    }
   ],
   "source": [
    "plot = sns.catplot(x=\"diff_b\", color= '#abc9ea', hue=None,\n",
    "                data=both, kind=\"count\",\n",
    "                height=4, aspect=2).set(title=\"b peaks in bulk - b peaks in sc\")"
   ]
  },
  {
   "cell_type": "code",
   "execution_count": 20,
   "metadata": {},
   "outputs": [
    {
     "data": {
      "text/html": [
       "<div>\n",
       "<style scoped>\n",
       "    .dataframe tbody tr th:only-of-type {\n",
       "        vertical-align: middle;\n",
       "    }\n",
       "\n",
       "    .dataframe tbody tr th {\n",
       "        vertical-align: top;\n",
       "    }\n",
       "\n",
       "    .dataframe thead th {\n",
       "        text-align: right;\n",
       "    }\n",
       "</style>\n",
       "<table border=\"1\" class=\"dataframe\">\n",
       "  <thead>\n",
       "    <tr style=\"text-align: right;\">\n",
       "      <th></th>\n",
       "      <th>scan_small</th>\n",
       "      <th>scan_large</th>\n",
       "    </tr>\n",
       "    <tr>\n",
       "      <th>peptide</th>\n",
       "      <th></th>\n",
       "      <th></th>\n",
       "    </tr>\n",
       "  </thead>\n",
       "  <tbody>\n",
       "    <tr>\n",
       "      <th>AADALEEQQR</th>\n",
       "      <td>13554</td>\n",
       "      <td>17742</td>\n",
       "    </tr>\n",
       "    <tr>\n",
       "      <th>AADPPAENSSAPEAEQGGAE</th>\n",
       "      <td>14754</td>\n",
       "      <td>33659</td>\n",
       "    </tr>\n",
       "    <tr>\n",
       "      <th>AAELIANSLATAGDGLIELR</th>\n",
       "      <td>37759</td>\n",
       "      <td>89377</td>\n",
       "    </tr>\n",
       "    <tr>\n",
       "      <th>AAHSEGNTTAGLDM+15.995R</th>\n",
       "      <td>14765</td>\n",
       "      <td>12228</td>\n",
       "    </tr>\n",
       "    <tr>\n",
       "      <th>AAQDRDQIYR</th>\n",
       "      <td>12667</td>\n",
       "      <td>12415</td>\n",
       "    </tr>\n",
       "    <tr>\n",
       "      <th>...</th>\n",
       "      <td>...</td>\n",
       "      <td>...</td>\n",
       "    </tr>\n",
       "    <tr>\n",
       "      <th>YQQAGLPLIVLAGK</th>\n",
       "      <td>32736</td>\n",
       "      <td>78848</td>\n",
       "    </tr>\n",
       "    <tr>\n",
       "      <th>YRPGTVALR</th>\n",
       "      <td>15415</td>\n",
       "      <td>21547</td>\n",
       "    </tr>\n",
       "    <tr>\n",
       "      <th>YSDFEWLR</th>\n",
       "      <td>30647</td>\n",
       "      <td>68539</td>\n",
       "    </tr>\n",
       "    <tr>\n",
       "      <th>YTPSGQAGAAASESLFVSNHAY</th>\n",
       "      <td>26668</td>\n",
       "      <td>63116</td>\n",
       "    </tr>\n",
       "    <tr>\n",
       "      <th>YVPPAAGR</th>\n",
       "      <td>13071</td>\n",
       "      <td>17870</td>\n",
       "    </tr>\n",
       "  </tbody>\n",
       "</table>\n",
       "<p>704 rows × 2 columns</p>\n",
       "</div>"
      ],
      "text/plain": [
       "                        scan_small  scan_large\n",
       "peptide                                       \n",
       "AADALEEQQR                   13554       17742\n",
       "AADPPAENSSAPEAEQGGAE         14754       33659\n",
       "AAELIANSLATAGDGLIELR         37759       89377\n",
       "AAHSEGNTTAGLDM+15.995R       14765       12228\n",
       "AAQDRDQIYR                   12667       12415\n",
       "...                            ...         ...\n",
       "YQQAGLPLIVLAGK               32736       78848\n",
       "YRPGTVALR                    15415       21547\n",
       "YSDFEWLR                     30647       68539\n",
       "YTPSGQAGAAASESLFVSNHAY       26668       63116\n",
       "YVPPAAGR                     13071       17870\n",
       "\n",
       "[704 rows x 2 columns]"
      ]
     },
     "execution_count": 20,
     "metadata": {},
     "output_type": "execute_result"
    }
   ],
   "source": [
    "# get exmaple spectra\n",
    "missing_1y = both[both['diff_y']==1]\n",
    "missing_1y[[\"scan_small\", \"scan_large\"]]"
   ]
  },
  {
   "cell_type": "code",
   "execution_count": 21,
   "metadata": {},
   "outputs": [
    {
     "data": {
      "text/html": [
       "<div>\n",
       "<style scoped>\n",
       "    .dataframe tbody tr th:only-of-type {\n",
       "        vertical-align: middle;\n",
       "    }\n",
       "\n",
       "    .dataframe tbody tr th {\n",
       "        vertical-align: top;\n",
       "    }\n",
       "\n",
       "    .dataframe thead th {\n",
       "        text-align: right;\n",
       "    }\n",
       "</style>\n",
       "<table border=\"1\" class=\"dataframe\">\n",
       "  <thead>\n",
       "    <tr style=\"text-align: right;\">\n",
       "      <th></th>\n",
       "      <th>scan_small</th>\n",
       "      <th>scan_large</th>\n",
       "    </tr>\n",
       "    <tr>\n",
       "      <th>peptide</th>\n",
       "      <th></th>\n",
       "      <th></th>\n",
       "    </tr>\n",
       "  </thead>\n",
       "  <tbody>\n",
       "    <tr>\n",
       "      <th>AAAPAPEEEMDECEQALAAEPK</th>\n",
       "      <td>25480</td>\n",
       "      <td>60913</td>\n",
       "    </tr>\n",
       "    <tr>\n",
       "      <th>AAQLIGTCSQNVAAIQEQVLGLGALR</th>\n",
       "      <td>38709</td>\n",
       "      <td>91231</td>\n",
       "    </tr>\n",
       "    <tr>\n",
       "      <th>AASDIAMTELPPTHPIR</th>\n",
       "      <td>22357</td>\n",
       "      <td>53742</td>\n",
       "    </tr>\n",
       "    <tr>\n",
       "      <th>AAVENLPTFLVELSR</th>\n",
       "      <td>39832</td>\n",
       "      <td>91823</td>\n",
       "    </tr>\n",
       "    <tr>\n",
       "      <th>ACANPAAGSVILLENLR</th>\n",
       "      <td>33280</td>\n",
       "      <td>77325</td>\n",
       "    </tr>\n",
       "    <tr>\n",
       "      <th>...</th>\n",
       "      <td>...</td>\n",
       "      <td>...</td>\n",
       "    </tr>\n",
       "    <tr>\n",
       "      <th>YHTINGHNCEVK</th>\n",
       "      <td>10968</td>\n",
       "      <td>7601</td>\n",
       "    </tr>\n",
       "    <tr>\n",
       "      <th>YIMVPSGNMGVFDPTEIHNR</th>\n",
       "      <td>29781</td>\n",
       "      <td>73857</td>\n",
       "    </tr>\n",
       "    <tr>\n",
       "      <th>YLLSQSSPAPLTAAEEELR</th>\n",
       "      <td>31249</td>\n",
       "      <td>76336</td>\n",
       "    </tr>\n",
       "    <tr>\n",
       "      <th>YSNDPVVASLAQDIFK</th>\n",
       "      <td>39068</td>\n",
       "      <td>88663</td>\n",
       "    </tr>\n",
       "    <tr>\n",
       "      <th>YSVQLLTPANLLAK</th>\n",
       "      <td>33574</td>\n",
       "      <td>81305</td>\n",
       "    </tr>\n",
       "  </tbody>\n",
       "</table>\n",
       "<p>167 rows × 2 columns</p>\n",
       "</div>"
      ],
      "text/plain": [
       "                            scan_small  scan_large\n",
       "peptide                                           \n",
       "AAAPAPEEEMDECEQALAAEPK           25480       60913\n",
       "AAQLIGTCSQNVAAIQEQVLGLGALR       38709       91231\n",
       "AASDIAMTELPPTHPIR                22357       53742\n",
       "AAVENLPTFLVELSR                  39832       91823\n",
       "ACANPAAGSVILLENLR                33280       77325\n",
       "...                                ...         ...\n",
       "YHTINGHNCEVK                     10968        7601\n",
       "YIMVPSGNMGVFDPTEIHNR             29781       73857\n",
       "YLLSQSSPAPLTAAEEELR              31249       76336\n",
       "YSNDPVVASLAQDIFK                 39068       88663\n",
       "YSVQLLTPANLLAK                   33574       81305\n",
       "\n",
       "[167 rows x 2 columns]"
      ]
     },
     "execution_count": 21,
     "metadata": {},
     "output_type": "execute_result"
    }
   ],
   "source": [
    "missing_4y = both[both['diff_y']==4]\n",
    "missing_4y[[\"scan_small\", \"scan_large\"]]"
   ]
  },
  {
   "cell_type": "code",
   "execution_count": 22,
   "metadata": {},
   "outputs": [],
   "source": [
    "import numbers\n",
    "def get_intensities(row, small):\n",
    "    intensities = []\n",
    "    if small == True:\n",
    "        line = row[\"Matched Ion Intensities_small\"].split(\";\")\n",
    "    else:\n",
    "        line = row[\"Matched Ion Intensities_large\"].split(\";\")\n",
    "    for el in line:\n",
    "        el = el.strip('][').split(\",\")\n",
    "        for sub_el in el:\n",
    "            sub_el = sub_el.split(\":\")[1]\n",
    "            intensities.append(sub_el)\n",
    "    return intensities\n",
    "\n",
    "both[\"intensity_small\"] = both.apply(lambda row: get_intensities(row, small=True), axis=1)\n",
    "both[\"intensity_large\"] = both.apply(lambda row: get_intensities(row, small=False), axis=1)"
   ]
  },
  {
   "cell_type": "code",
   "execution_count": 23,
   "metadata": {},
   "outputs": [],
   "source": [
    "#get top 3 intensities\n",
    "def get_top3(row, size, top):\n",
    "    row['intensity_'+size].sort(key=int, reverse=True)\n",
    "    if top==True:\n",
    "        return3 = row['intensity_'+size][:3]\n",
    "        return3 = [float(i) for i in return3]\n",
    "    else:\n",
    "        return3 = row['intensity_'+size][-3:]\n",
    "        return3 = [float(i) for i in return3]\n",
    "        \n",
    "    return return3\n",
    "\n",
    "\n",
    "both[\"top3_small\"] = both.apply(lambda row: get_top3(row, size=\"small\", top=True), axis=1)\n",
    "both[\"bottom3_small\"] = both.apply(lambda row: get_top3(row, size='small', top=False), axis=1)\n",
    "both[\"top3_large\"] = both.apply(lambda row: get_top3(row, size=\"large\", top=True), axis=1)\n",
    "both[\"bottom3_large\"] = both.apply(lambda row: get_top3(row, size='large', top=False), axis=1)\n"
   ]
  },
  {
   "cell_type": "code",
   "execution_count": 24,
   "metadata": {},
   "outputs": [],
   "source": [
    "def get_intensity_diff(row, size):\n",
    "    intensity_diff = st.mean(row[\"top3_\"+size])/st.mean(row[\"bottom3_\"+size])\n",
    "    return intensity_diff\n",
    "\n",
    "both['intensity_diff_small'] = both.apply(lambda row: get_intensity_diff(row, size=\"small\"), axis=1)\n",
    "both['intensity_diff_large'] = both.apply(lambda row: get_intensity_diff(row, size=\"large\"), axis=1)\n"
   ]
  },
  {
   "cell_type": "code",
   "execution_count": 25,
   "metadata": {},
   "outputs": [
    {
     "data": {
      "image/png": "[encoded data removed]",
      "text/plain": [
       "<Figure size 432x288 with 1 Axes>"
      ]
     },
     "metadata": {
      "needs_background": "light"
     },
     "output_type": "display_data"
    }
   ],
   "source": [
    "x = both[\"intensity_diff_small\"]\n",
    "y = both[\"intensity_diff_large\"]\n",
    "plt.hist([x, y], bins = 20)\n",
    "plt.legend(['SC intensity difference', 'bulk intensity difference'])\n",
    "plt.title(\"intensity differennce\")\n",
    "plt.xlim([0,15])\n",
    "plt.show()"
   ]
  },
  {
   "cell_type": "code",
   "execution_count": 26,
   "metadata": {},
   "outputs": [
    {
     "data": {
      "image/png": "[encoded data removed]",
      "text/plain": [
       "<Figure size 432x288 with 1 Axes>"
      ]
     },
     "metadata": {
      "needs_background": "light"
     },
     "output_type": "display_data"
    }
   ],
   "source": [
    "both[\"intensity_diff_ratio\"] = both[\"intensity_diff_large\"]/both[\"intensity_diff_small\"]\n",
    "\n",
    "\n",
    "plt.hist([both[\"intensity_diff_ratio\"]])\n",
    "plt.title(\"intensity differennce ratio\")\n",
    "plt.show()"
   ]
  },
  {
   "cell_type": "code",
   "execution_count": 27,
   "metadata": {},
   "outputs": [
    {
     "data": {
      "text/plain": [
       "peptide\n",
       "AAAAAAAAAPAAAATAPTTAATTAATAAQ    1.503775\n",
       "AAAAAAALQAK                      0.645296\n",
       "AAAAADLANR                       1.171410\n",
       "AAAEVNQDYGLDPK                   0.795051\n",
       "AAAFEQLQK                        1.339527\n",
       "                                   ...   \n",
       "YYPTEDVPR                        0.560569\n",
       "YYPTEDVPRK                       0.782096\n",
       "YYTPTISR                         1.280410\n",
       "YYTSASGDEMVSLK                   0.134647\n",
       "YYVTIIDAPGHR                     1.279673\n",
       "Name: intensity_diff_ratio, Length: 5555, dtype: float64"
      ]
     },
     "execution_count": 27,
     "metadata": {},
     "output_type": "execute_result"
    }
   ],
   "source": [
    "both['intensity_diff_ratio']"
   ]
  },
  {
   "cell_type": "code",
   "execution_count": 28,
   "metadata": {},
   "outputs": [],
   "source": [
    "#example of 1:1 and 2:1"
   ]
  },
  {
   "cell_type": "code",
   "execution_count": 29,
   "metadata": {},
   "outputs": [
    {
     "data": {
      "text/html": [
       "<div>\n",
       "<style scoped>\n",
       "    .dataframe tbody tr th:only-of-type {\n",
       "        vertical-align: middle;\n",
       "    }\n",
       "\n",
       "    .dataframe tbody tr th {\n",
       "        vertical-align: top;\n",
       "    }\n",
       "\n",
       "    .dataframe thead th {\n",
       "        text-align: right;\n",
       "    }\n",
       "</style>\n",
       "<table border=\"1\" class=\"dataframe\">\n",
       "  <thead>\n",
       "    <tr style=\"text-align: right;\">\n",
       "      <th></th>\n",
       "      <th>decoy_small</th>\n",
       "      <th>scan_small</th>\n",
       "      <th>probability_small</th>\n",
       "      <th>Matched Ion Series_small</th>\n",
       "      <th>Matched Ion Intensities_small</th>\n",
       "      <th>Matched Ion Counts_small</th>\n",
       "      <th>Matched Ion Mass Diff (Ppm)_small</th>\n",
       "      <th>b_peaks_small</th>\n",
       "      <th>y_peaks_small</th>\n",
       "      <th>decoy_large</th>\n",
       "      <th>...</th>\n",
       "      <th>diff_b</th>\n",
       "      <th>intensity_small</th>\n",
       "      <th>intensity_large</th>\n",
       "      <th>top3_small</th>\n",
       "      <th>bottom3_small</th>\n",
       "      <th>top3_large</th>\n",
       "      <th>bottom3_large</th>\n",
       "      <th>intensity_diff_small</th>\n",
       "      <th>intensity_diff_large</th>\n",
       "      <th>intensity_diff_ratio</th>\n",
       "    </tr>\n",
       "    <tr>\n",
       "      <th>peptide</th>\n",
       "      <th></th>\n",
       "      <th></th>\n",
       "      <th></th>\n",
       "      <th></th>\n",
       "      <th></th>\n",
       "      <th></th>\n",
       "      <th></th>\n",
       "      <th></th>\n",
       "      <th></th>\n",
       "      <th></th>\n",
       "      <th></th>\n",
       "      <th></th>\n",
       "      <th></th>\n",
       "      <th></th>\n",
       "      <th></th>\n",
       "      <th></th>\n",
       "      <th></th>\n",
       "      <th></th>\n",
       "      <th></th>\n",
       "      <th></th>\n",
       "      <th></th>\n",
       "    </tr>\n",
       "  </thead>\n",
       "  <tbody>\n",
       "  </tbody>\n",
       "</table>\n",
       "<p>0 rows × 30 columns</p>\n",
       "</div>"
      ],
      "text/plain": [
       "Empty DataFrame\n",
       "Columns: [decoy_small, scan_small, probability_small, Matched Ion Series_small, Matched Ion Intensities_small, Matched Ion Counts_small, Matched Ion Mass Diff (Ppm)_small, b_peaks_small, y_peaks_small, decoy_large, scan_large, probability_large, Matched Ion Series_large, Matched Ion Intensities_large, Matched Ion Counts_large, Matched Ion Mass Diff (Ppm)_large, b_peaks_large, y_peaks_large, diff_total, diff_y, diff_b, intensity_small, intensity_large, top3_small, bottom3_small, top3_large, bottom3_large, intensity_diff_small, intensity_diff_large, intensity_diff_ratio]\n",
       "Index: []\n",
       "\n",
       "[0 rows x 30 columns]"
      ]
     },
     "execution_count": 29,
     "metadata": {},
     "output_type": "execute_result"
    }
   ],
   "source": [
    "both[both.index == \"LNWLSVDFNNWK\"]"
   ]
  },
  {
   "cell_type": "code",
   "execution_count": 30,
   "metadata": {},
   "outputs": [],
   "source": [
    "one_to_one = both[(both[\"intensity_diff_ratio\"] > 1) & (both[\"intensity_diff_ratio\"] < 1.2)]\n",
    "two_to_one = both[(both[\"intensity_diff_ratio\"] > 2) & (both[\"intensity_diff_ratio\"] < 2.5)]\n",
    "three_to_one = both[(both[\"intensity_diff_ratio\"] > 3) & (both[\"intensity_diff_ratio\"] < 3.2)]\n",
    "four_to_one = both[(both[\"intensity_diff_ratio\"] > 4) & (both[\"intensity_diff_ratio\"] < 4.5)]"
   ]
  },
  {
   "cell_type": "code",
   "execution_count": 31,
   "metadata": {},
   "outputs": [
    {
     "data": {
      "text/html": [
       "<div>\n",
       "<style scoped>\n",
       "    .dataframe tbody tr th:only-of-type {\n",
       "        vertical-align: middle;\n",
       "    }\n",
       "\n",
       "    .dataframe tbody tr th {\n",
       "        vertical-align: top;\n",
       "    }\n",
       "\n",
       "    .dataframe thead th {\n",
       "        text-align: right;\n",
       "    }\n",
       "</style>\n",
       "<table border=\"1\" class=\"dataframe\">\n",
       "  <thead>\n",
       "    <tr style=\"text-align: right;\">\n",
       "      <th></th>\n",
       "      <th>scan_small</th>\n",
       "      <th>scan_large</th>\n",
       "      <th>probability_small</th>\n",
       "      <th>probability_large</th>\n",
       "    </tr>\n",
       "    <tr>\n",
       "      <th>peptide</th>\n",
       "      <th></th>\n",
       "      <th></th>\n",
       "      <th></th>\n",
       "      <th></th>\n",
       "    </tr>\n",
       "  </thead>\n",
       "  <tbody>\n",
       "    <tr>\n",
       "      <th>AAAAADLANR</th>\n",
       "      <td>13639</td>\n",
       "      <td>19083</td>\n",
       "      <td>0.000006</td>\n",
       "      <td>0.000977</td>\n",
       "    </tr>\n",
       "    <tr>\n",
       "      <th>AAILPTSIFLTNK</th>\n",
       "      <td>33075</td>\n",
       "      <td>80487</td>\n",
       "      <td>0.000026</td>\n",
       "      <td>0.000098</td>\n",
       "    </tr>\n",
       "    <tr>\n",
       "      <th>AALAHSEEVTASQVAATK</th>\n",
       "      <td>17232</td>\n",
       "      <td>30157</td>\n",
       "      <td>0.000001</td>\n",
       "      <td>0.000019</td>\n",
       "    </tr>\n",
       "    <tr>\n",
       "      <th>AALEELVK</th>\n",
       "      <td>21939</td>\n",
       "      <td>44945</td>\n",
       "      <td>0.000019</td>\n",
       "      <td>0.000059</td>\n",
       "    </tr>\n",
       "    <tr>\n",
       "      <th>AAYLSDPR</th>\n",
       "      <td>16338</td>\n",
       "      <td>27082</td>\n",
       "      <td>0.000020</td>\n",
       "      <td>0.001265</td>\n",
       "    </tr>\n",
       "    <tr>\n",
       "      <th>...</th>\n",
       "      <td>...</td>\n",
       "      <td>...</td>\n",
       "      <td>...</td>\n",
       "      <td>...</td>\n",
       "    </tr>\n",
       "    <tr>\n",
       "      <th>YPVNSVNILK</th>\n",
       "      <td>23443</td>\n",
       "      <td>52488</td>\n",
       "      <td>0.000004</td>\n",
       "      <td>0.000020</td>\n",
       "    </tr>\n",
       "    <tr>\n",
       "      <th>YQLDPTASISAK</th>\n",
       "      <td>21619</td>\n",
       "      <td>50878</td>\n",
       "      <td>0.000005</td>\n",
       "      <td>0.000032</td>\n",
       "    </tr>\n",
       "    <tr>\n",
       "      <th>YQQGDFGYCPR</th>\n",
       "      <td>20095</td>\n",
       "      <td>38998</td>\n",
       "      <td>0.000012</td>\n",
       "      <td>0.000023</td>\n",
       "    </tr>\n",
       "    <tr>\n",
       "      <th>YSDFEWLR</th>\n",
       "      <td>30647</td>\n",
       "      <td>68539</td>\n",
       "      <td>0.000010</td>\n",
       "      <td>0.000024</td>\n",
       "    </tr>\n",
       "    <tr>\n",
       "      <th>YSQVLANGLDNK</th>\n",
       "      <td>19958</td>\n",
       "      <td>40434</td>\n",
       "      <td>0.000009</td>\n",
       "      <td>0.000027</td>\n",
       "    </tr>\n",
       "  </tbody>\n",
       "</table>\n",
       "<p>530 rows × 4 columns</p>\n",
       "</div>"
      ],
      "text/plain": [
       "                    scan_small  scan_large  probability_small  \\\n",
       "peptide                                                         \n",
       "AAAAADLANR               13639       19083           0.000006   \n",
       "AAILPTSIFLTNK            33075       80487           0.000026   \n",
       "AALAHSEEVTASQVAATK       17232       30157           0.000001   \n",
       "AALEELVK                 21939       44945           0.000019   \n",
       "AAYLSDPR                 16338       27082           0.000020   \n",
       "...                        ...         ...                ...   \n",
       "YPVNSVNILK               23443       52488           0.000004   \n",
       "YQLDPTASISAK             21619       50878           0.000005   \n",
       "YQQGDFGYCPR              20095       38998           0.000012   \n",
       "YSDFEWLR                 30647       68539           0.000010   \n",
       "YSQVLANGLDNK             19958       40434           0.000009   \n",
       "\n",
       "                    probability_large  \n",
       "peptide                                \n",
       "AAAAADLANR                   0.000977  \n",
       "AAILPTSIFLTNK                0.000098  \n",
       "AALAHSEEVTASQVAATK           0.000019  \n",
       "AALEELVK                     0.000059  \n",
       "AAYLSDPR                     0.001265  \n",
       "...                               ...  \n",
       "YPVNSVNILK                   0.000020  \n",
       "YQLDPTASISAK                 0.000032  \n",
       "YQQGDFGYCPR                  0.000023  \n",
       "YSDFEWLR                     0.000024  \n",
       "YSQVLANGLDNK                 0.000027  \n",
       "\n",
       "[530 rows x 4 columns]"
      ]
     },
     "execution_count": 31,
     "metadata": {},
     "output_type": "execute_result"
    }
   ],
   "source": [
    "one_to_one[[\"scan_small\", \"scan_large\", \"probability_small\", \"probability_large\"]]"
   ]
  },
  {
   "cell_type": "code",
   "execution_count": 32,
   "metadata": {},
   "outputs": [
    {
     "data": {
      "text/html": [
       "<div>\n",
       "<style scoped>\n",
       "    .dataframe tbody tr th:only-of-type {\n",
       "        vertical-align: middle;\n",
       "    }\n",
       "\n",
       "    .dataframe tbody tr th {\n",
       "        vertical-align: top;\n",
       "    }\n",
       "\n",
       "    .dataframe thead th {\n",
       "        text-align: right;\n",
       "    }\n",
       "</style>\n",
       "<table border=\"1\" class=\"dataframe\">\n",
       "  <thead>\n",
       "    <tr style=\"text-align: right;\">\n",
       "      <th></th>\n",
       "      <th>scan_small</th>\n",
       "      <th>scan_large</th>\n",
       "    </tr>\n",
       "    <tr>\n",
       "      <th>peptide</th>\n",
       "      <th></th>\n",
       "      <th></th>\n",
       "    </tr>\n",
       "  </thead>\n",
       "  <tbody>\n",
       "    <tr>\n",
       "      <th>AADALEEQQR</th>\n",
       "      <td>13554</td>\n",
       "      <td>17742</td>\n",
       "    </tr>\n",
       "    <tr>\n",
       "      <th>ADATNVNNWHWTER</th>\n",
       "      <td>22488</td>\n",
       "      <td>44567</td>\n",
       "    </tr>\n",
       "    <tr>\n",
       "      <th>AEGLGDGYR</th>\n",
       "      <td>15941</td>\n",
       "      <td>23778</td>\n",
       "    </tr>\n",
       "    <tr>\n",
       "      <th>AGDMENAENILTVMR</th>\n",
       "      <td>31053</td>\n",
       "      <td>75093</td>\n",
       "    </tr>\n",
       "    <tr>\n",
       "      <th>AGEVFIHK</th>\n",
       "      <td>15245</td>\n",
       "      <td>19578</td>\n",
       "    </tr>\n",
       "    <tr>\n",
       "      <th>...</th>\n",
       "      <td>...</td>\n",
       "      <td>...</td>\n",
       "    </tr>\n",
       "    <tr>\n",
       "      <th>YIMVPSGNMGVFDPTEIHNR</th>\n",
       "      <td>29781</td>\n",
       "      <td>73857</td>\n",
       "    </tr>\n",
       "    <tr>\n",
       "      <th>YPALTKPENQDIDWTLLEGETR</th>\n",
       "      <td>30468</td>\n",
       "      <td>74496</td>\n",
       "    </tr>\n",
       "    <tr>\n",
       "      <th>YRDPTTVTTLR</th>\n",
       "      <td>17252</td>\n",
       "      <td>31093</td>\n",
       "    </tr>\n",
       "    <tr>\n",
       "      <th>YSGSEGSTQTLTK</th>\n",
       "      <td>13373</td>\n",
       "      <td>19619</td>\n",
       "    </tr>\n",
       "    <tr>\n",
       "      <th>YVLHCQGTEEEK</th>\n",
       "      <td>13498</td>\n",
       "      <td>16608</td>\n",
       "    </tr>\n",
       "  </tbody>\n",
       "</table>\n",
       "<p>343 rows × 2 columns</p>\n",
       "</div>"
      ],
      "text/plain": [
       "                        scan_small  scan_large\n",
       "peptide                                       \n",
       "AADALEEQQR                   13554       17742\n",
       "ADATNVNNWHWTER               22488       44567\n",
       "AEGLGDGYR                    15941       23778\n",
       "AGDMENAENILTVMR              31053       75093\n",
       "AGEVFIHK                     15245       19578\n",
       "...                            ...         ...\n",
       "YIMVPSGNMGVFDPTEIHNR         29781       73857\n",
       "YPALTKPENQDIDWTLLEGETR       30468       74496\n",
       "YRDPTTVTTLR                  17252       31093\n",
       "YSGSEGSTQTLTK                13373       19619\n",
       "YVLHCQGTEEEK                 13498       16608\n",
       "\n",
       "[343 rows x 2 columns]"
      ]
     },
     "execution_count": 32,
     "metadata": {},
     "output_type": "execute_result"
    }
   ],
   "source": [
    "two_to_one[[\"scan_small\", \"scan_large\"]]"
   ]
  },
  {
   "cell_type": "code",
   "execution_count": 33,
   "metadata": {},
   "outputs": [
    {
     "data": {
      "text/html": [
       "<div>\n",
       "<style scoped>\n",
       "    .dataframe tbody tr th:only-of-type {\n",
       "        vertical-align: middle;\n",
       "    }\n",
       "\n",
       "    .dataframe tbody tr th {\n",
       "        vertical-align: top;\n",
       "    }\n",
       "\n",
       "    .dataframe thead th {\n",
       "        text-align: right;\n",
       "    }\n",
       "</style>\n",
       "<table border=\"1\" class=\"dataframe\">\n",
       "  <thead>\n",
       "    <tr style=\"text-align: right;\">\n",
       "      <th></th>\n",
       "      <th>scan_small</th>\n",
       "      <th>scan_large</th>\n",
       "    </tr>\n",
       "    <tr>\n",
       "      <th>peptide</th>\n",
       "      <th></th>\n",
       "      <th></th>\n",
       "    </tr>\n",
       "  </thead>\n",
       "  <tbody>\n",
       "    <tr>\n",
       "      <th>ALLTPVAIAAGR</th>\n",
       "      <td>26795</td>\n",
       "      <td>65215</td>\n",
       "    </tr>\n",
       "    <tr>\n",
       "      <th>APVPASELLASGVLSR</th>\n",
       "      <td>30279</td>\n",
       "      <td>74687</td>\n",
       "    </tr>\n",
       "    <tr>\n",
       "      <th>AQLEPVASPAK</th>\n",
       "      <td>15768</td>\n",
       "      <td>30093</td>\n",
       "    </tr>\n",
       "    <tr>\n",
       "      <th>DAEDAMDAMDGAVLDGR</th>\n",
       "      <td>30115</td>\n",
       "      <td>79252</td>\n",
       "    </tr>\n",
       "    <tr>\n",
       "      <th>DLEAHIDSANK</th>\n",
       "      <td>15711</td>\n",
       "      <td>25794</td>\n",
       "    </tr>\n",
       "    <tr>\n",
       "      <th>EGGDGEEQDVGDAGR</th>\n",
       "      <td>12651</td>\n",
       "      <td>19337</td>\n",
       "    </tr>\n",
       "    <tr>\n",
       "      <th>EGIPALDNFLDKL</th>\n",
       "      <td>40702</td>\n",
       "      <td>99846</td>\n",
       "    </tr>\n",
       "    <tr>\n",
       "      <th>FCLGLLSNVNR</th>\n",
       "      <td>30621</td>\n",
       "      <td>71745</td>\n",
       "    </tr>\n",
       "    <tr>\n",
       "      <th>FGEVVDCTIK|FGEVVDCTIK|FGEVVDCTLK</th>\n",
       "      <td>21192</td>\n",
       "      <td>47667</td>\n",
       "    </tr>\n",
       "    <tr>\n",
       "      <th>FQMAYSNLLR</th>\n",
       "      <td>29057</td>\n",
       "      <td>66361</td>\n",
       "    </tr>\n",
       "    <tr>\n",
       "      <th>FSPNSSNPIIVSCGWDK</th>\n",
       "      <td>27269</td>\n",
       "      <td>66969</td>\n",
       "    </tr>\n",
       "    <tr>\n",
       "      <th>FTQAGSEVSALLGR</th>\n",
       "      <td>28025</td>\n",
       "      <td>65107</td>\n",
       "    </tr>\n",
       "    <tr>\n",
       "      <th>FVHDNYVIR</th>\n",
       "      <td>18187</td>\n",
       "      <td>30736</td>\n",
       "    </tr>\n",
       "    <tr>\n",
       "      <th>GDGPICLVLAPTR</th>\n",
       "      <td>28831</td>\n",
       "      <td>72357</td>\n",
       "    </tr>\n",
       "    <tr>\n",
       "      <th>GEAGVPAEFSIWTR</th>\n",
       "      <td>32038</td>\n",
       "      <td>75778</td>\n",
       "    </tr>\n",
       "    <tr>\n",
       "      <th>GLYDGPVCEVSVTPK</th>\n",
       "      <td>23961</td>\n",
       "      <td>61142</td>\n",
       "    </tr>\n",
       "    <tr>\n",
       "      <th>GNTAAQMAQILSFNK</th>\n",
       "      <td>30595</td>\n",
       "      <td>71364</td>\n",
       "    </tr>\n",
       "    <tr>\n",
       "      <th>HTVDDGLDIR</th>\n",
       "      <td>17880</td>\n",
       "      <td>31448</td>\n",
       "    </tr>\n",
       "    <tr>\n",
       "      <th>HYNGEAYEDDEHHPR</th>\n",
       "      <td>11035</td>\n",
       "      <td>8744</td>\n",
       "    </tr>\n",
       "    <tr>\n",
       "      <th>IAIPGLAGAGNSVLLVSNLNPER</th>\n",
       "      <td>38014</td>\n",
       "      <td>92389</td>\n",
       "    </tr>\n",
       "    <tr>\n",
       "      <th>IPVDTYNNILTVLK</th>\n",
       "      <td>34652</td>\n",
       "      <td>83504</td>\n",
       "    </tr>\n",
       "    <tr>\n",
       "      <th>KEDGTFYEFGEDIPEAPER</th>\n",
       "      <td>27238</td>\n",
       "      <td>66113</td>\n",
       "    </tr>\n",
       "    <tr>\n",
       "      <th>KYEEIDNAPEER</th>\n",
       "      <td>14443</td>\n",
       "      <td>21905</td>\n",
       "    </tr>\n",
       "    <tr>\n",
       "      <th>LESEEEGVPSTAIR</th>\n",
       "      <td>19044</td>\n",
       "      <td>41762</td>\n",
       "    </tr>\n",
       "    <tr>\n",
       "      <th>LEYCEALAMLR</th>\n",
       "      <td>32238</td>\n",
       "      <td>75714</td>\n",
       "    </tr>\n",
       "    <tr>\n",
       "      <th>LNCQVIGASVDSHFCHLAWVNTPK</th>\n",
       "      <td>28132</td>\n",
       "      <td>65200</td>\n",
       "    </tr>\n",
       "    <tr>\n",
       "      <th>LSLDGQNIYNACCTLR</th>\n",
       "      <td>26398</td>\n",
       "      <td>64683</td>\n",
       "    </tr>\n",
       "    <tr>\n",
       "      <th>NGHVGISFVPK</th>\n",
       "      <td>20020</td>\n",
       "      <td>34991</td>\n",
       "    </tr>\n",
       "    <tr>\n",
       "      <th>NNQFQALLQYADPVSAQHAK</th>\n",
       "      <td>31936</td>\n",
       "      <td>72467</td>\n",
       "    </tr>\n",
       "    <tr>\n",
       "      <th>NSRPEANEALER</th>\n",
       "      <td>12501</td>\n",
       "      <td>14715</td>\n",
       "    </tr>\n",
       "    <tr>\n",
       "      <th>NSTFSEIFKK</th>\n",
       "      <td>22771</td>\n",
       "      <td>40127</td>\n",
       "    </tr>\n",
       "    <tr>\n",
       "      <th>NTELAVFHDETEIQNQTDLLSLSGK</th>\n",
       "      <td>31732</td>\n",
       "      <td>78200</td>\n",
       "    </tr>\n",
       "    <tr>\n",
       "      <th>QHPVPPPAQNQNQVR</th>\n",
       "      <td>11596</td>\n",
       "      <td>15391</td>\n",
       "    </tr>\n",
       "    <tr>\n",
       "      <th>QQVPSGESAILDR</th>\n",
       "      <td>20295</td>\n",
       "      <td>42735</td>\n",
       "    </tr>\n",
       "    <tr>\n",
       "      <th>RAEDGSVIDYELIDQDAR</th>\n",
       "      <td>25499</td>\n",
       "      <td>61666</td>\n",
       "    </tr>\n",
       "    <tr>\n",
       "      <th>SCVEEPEPEPEAAEGDGDKK</th>\n",
       "      <td>14798</td>\n",
       "      <td>26962</td>\n",
       "    </tr>\n",
       "    <tr>\n",
       "      <th>SDALETLGFLNHYQMK</th>\n",
       "      <td>31643</td>\n",
       "      <td>73829</td>\n",
       "    </tr>\n",
       "    <tr>\n",
       "      <th>SGAVEETFR</th>\n",
       "      <td>16991</td>\n",
       "      <td>26844</td>\n",
       "    </tr>\n",
       "    <tr>\n",
       "      <th>SGSMDPSGAHPSVR</th>\n",
       "      <td>12879</td>\n",
       "      <td>18654</td>\n",
       "    </tr>\n",
       "    <tr>\n",
       "      <th>SQSAAVTPSSTTSSTR</th>\n",
       "      <td>11842</td>\n",
       "      <td>17339</td>\n",
       "    </tr>\n",
       "    <tr>\n",
       "      <th>SVFPEQANNNEWAR</th>\n",
       "      <td>23624</td>\n",
       "      <td>52251</td>\n",
       "    </tr>\n",
       "    <tr>\n",
       "      <th>TGEAIVDAALSALR</th>\n",
       "      <td>38235</td>\n",
       "      <td>86677</td>\n",
       "    </tr>\n",
       "    <tr>\n",
       "      <th>TLETANCMSSQTK</th>\n",
       "      <td>14769</td>\n",
       "      <td>23638</td>\n",
       "    </tr>\n",
       "    <tr>\n",
       "      <th>TMGVMFTPLTVK</th>\n",
       "      <td>30948</td>\n",
       "      <td>74219</td>\n",
       "    </tr>\n",
       "    <tr>\n",
       "      <th>TVEAEAAHGTVTR</th>\n",
       "      <td>12292</td>\n",
       "      <td>15270</td>\n",
       "    </tr>\n",
       "    <tr>\n",
       "      <th>TVGVEPAADGK</th>\n",
       "      <td>13229</td>\n",
       "      <td>21350</td>\n",
       "    </tr>\n",
       "    <tr>\n",
       "      <th>VNPALAELNLR</th>\n",
       "      <td>26214</td>\n",
       "      <td>60523</td>\n",
       "    </tr>\n",
       "    <tr>\n",
       "      <th>VTAQGPGLEPSGNIANK</th>\n",
       "      <td>18063</td>\n",
       "      <td>38797</td>\n",
       "    </tr>\n",
       "    <tr>\n",
       "      <th>YGGELVPHFPAR</th>\n",
       "      <td>23281</td>\n",
       "      <td>49465</td>\n",
       "    </tr>\n",
       "    <tr>\n",
       "      <th>YLAEFATGNDRK</th>\n",
       "      <td>18682</td>\n",
       "      <td>31356</td>\n",
       "    </tr>\n",
       "  </tbody>\n",
       "</table>\n",
       "</div>"
      ],
      "text/plain": [
       "                                  scan_small  scan_large\n",
       "peptide                                                 \n",
       "ALLTPVAIAAGR                           26795       65215\n",
       "APVPASELLASGVLSR                       30279       74687\n",
       "AQLEPVASPAK                            15768       30093\n",
       "DAEDAMDAMDGAVLDGR                      30115       79252\n",
       "DLEAHIDSANK                            15711       25794\n",
       "EGGDGEEQDVGDAGR                        12651       19337\n",
       "EGIPALDNFLDKL                          40702       99846\n",
       "FCLGLLSNVNR                            30621       71745\n",
       "FGEVVDCTIK|FGEVVDCTIK|FGEVVDCTLK       21192       47667\n",
       "FQMAYSNLLR                             29057       66361\n",
       "FSPNSSNPIIVSCGWDK                      27269       66969\n",
       "FTQAGSEVSALLGR                         28025       65107\n",
       "FVHDNYVIR                              18187       30736\n",
       "GDGPICLVLAPTR                          28831       72357\n",
       "GEAGVPAEFSIWTR                         32038       75778\n",
       "GLYDGPVCEVSVTPK                        23961       61142\n",
       "GNTAAQMAQILSFNK                        30595       71364\n",
       "HTVDDGLDIR                             17880       31448\n",
       "HYNGEAYEDDEHHPR                        11035        8744\n",
       "IAIPGLAGAGNSVLLVSNLNPER                38014       92389\n",
       "IPVDTYNNILTVLK                         34652       83504\n",
       "KEDGTFYEFGEDIPEAPER                    27238       66113\n",
       "KYEEIDNAPEER                           14443       21905\n",
       "LESEEEGVPSTAIR                         19044       41762\n",
       "LEYCEALAMLR                            32238       75714\n",
       "LNCQVIGASVDSHFCHLAWVNTPK               28132       65200\n",
       "LSLDGQNIYNACCTLR                       26398       64683\n",
       "NGHVGISFVPK                            20020       34991\n",
       "NNQFQALLQYADPVSAQHAK                   31936       72467\n",
       "NSRPEANEALER                           12501       14715\n",
       "NSTFSEIFKK                             22771       40127\n",
       "NTELAVFHDETEIQNQTDLLSLSGK              31732       78200\n",
       "QHPVPPPAQNQNQVR                        11596       15391\n",
       "QQVPSGESAILDR                          20295       42735\n",
       "RAEDGSVIDYELIDQDAR                     25499       61666\n",
       "SCVEEPEPEPEAAEGDGDKK                   14798       26962\n",
       "SDALETLGFLNHYQMK                       31643       73829\n",
       "SGAVEETFR                              16991       26844\n",
       "SGSMDPSGAHPSVR                         12879       18654\n",
       "SQSAAVTPSSTTSSTR                       11842       17339\n",
       "SVFPEQANNNEWAR                         23624       52251\n",
       "TGEAIVDAALSALR                         38235       86677\n",
       "TLETANCMSSQTK                          14769       23638\n",
       "TMGVMFTPLTVK                           30948       74219\n",
       "TVEAEAAHGTVTR                          12292       15270\n",
       "TVGVEPAADGK                            13229       21350\n",
       "VNPALAELNLR                            26214       60523\n",
       "VTAQGPGLEPSGNIANK                      18063       38797\n",
       "YGGELVPHFPAR                           23281       49465\n",
       "YLAEFATGNDRK                           18682       31356"
      ]
     },
     "execution_count": 33,
     "metadata": {},
     "output_type": "execute_result"
    }
   ],
   "source": [
    "three_to_one[[\"scan_small\", \"scan_large\"]]"
   ]
  },
  {
   "cell_type": "code",
   "execution_count": 34,
   "metadata": {},
   "outputs": [
    {
     "data": {
      "text/html": [
       "<div>\n",
       "<style scoped>\n",
       "    .dataframe tbody tr th:only-of-type {\n",
       "        vertical-align: middle;\n",
       "    }\n",
       "\n",
       "    .dataframe tbody tr th {\n",
       "        vertical-align: top;\n",
       "    }\n",
       "\n",
       "    .dataframe thead th {\n",
       "        text-align: right;\n",
       "    }\n",
       "</style>\n",
       "<table border=\"1\" class=\"dataframe\">\n",
       "  <thead>\n",
       "    <tr style=\"text-align: right;\">\n",
       "      <th></th>\n",
       "      <th>scan_small</th>\n",
       "      <th>scan_large</th>\n",
       "    </tr>\n",
       "    <tr>\n",
       "      <th>peptide</th>\n",
       "      <th></th>\n",
       "      <th></th>\n",
       "    </tr>\n",
       "  </thead>\n",
       "  <tbody>\n",
       "    <tr>\n",
       "      <th>AAQDRDQIYR</th>\n",
       "      <td>12667</td>\n",
       "      <td>12415</td>\n",
       "    </tr>\n",
       "    <tr>\n",
       "      <th>ADGGTQVIDTK</th>\n",
       "      <td>13875</td>\n",
       "      <td>22274</td>\n",
       "    </tr>\n",
       "    <tr>\n",
       "      <th>AENNSEVGASGYGVPGPTWDR</th>\n",
       "      <td>24412</td>\n",
       "      <td>59610</td>\n",
       "    </tr>\n",
       "    <tr>\n",
       "      <th>AEPPQAMNALMR</th>\n",
       "      <td>23171</td>\n",
       "      <td>51129</td>\n",
       "    </tr>\n",
       "    <tr>\n",
       "      <th>AQFEGIVTDLIR</th>\n",
       "      <td>34031</td>\n",
       "      <td>80205</td>\n",
       "    </tr>\n",
       "    <tr>\n",
       "      <th>DAVTYTEHAK</th>\n",
       "      <td>12487</td>\n",
       "      <td>14816</td>\n",
       "    </tr>\n",
       "    <tr>\n",
       "      <th>EHVIEALR</th>\n",
       "      <td>16451</td>\n",
       "      <td>24686</td>\n",
       "    </tr>\n",
       "    <tr>\n",
       "      <th>EIEDPEDR</th>\n",
       "      <td>13970</td>\n",
       "      <td>20427</td>\n",
       "    </tr>\n",
       "    <tr>\n",
       "      <th>GFGFITFTNPEHASVAMR</th>\n",
       "      <td>30828</td>\n",
       "      <td>71010</td>\n",
       "    </tr>\n",
       "    <tr>\n",
       "      <th>GIVVYTGDR</th>\n",
       "      <td>19048</td>\n",
       "      <td>36920</td>\n",
       "    </tr>\n",
       "    <tr>\n",
       "      <th>GMSLNLEPDNVGVVVFGNDK</th>\n",
       "      <td>34430</td>\n",
       "      <td>87259</td>\n",
       "    </tr>\n",
       "    <tr>\n",
       "      <th>GTEDITSPHGIPLDLLDR</th>\n",
       "      <td>29994</td>\n",
       "      <td>75155</td>\n",
       "    </tr>\n",
       "    <tr>\n",
       "      <th>GVLMYGPPGTGK</th>\n",
       "      <td>22233</td>\n",
       "      <td>49086</td>\n",
       "    </tr>\n",
       "    <tr>\n",
       "      <th>HGESAWNLENR</th>\n",
       "      <td>18442</td>\n",
       "      <td>27250</td>\n",
       "    </tr>\n",
       "    <tr>\n",
       "      <th>HIYYITGETK</th>\n",
       "      <td>17824</td>\n",
       "      <td>28538</td>\n",
       "    </tr>\n",
       "    <tr>\n",
       "      <th>HTAMVSWGGVSIPNSPFR</th>\n",
       "      <td>30485</td>\n",
       "      <td>71974</td>\n",
       "    </tr>\n",
       "    <tr>\n",
       "      <th>IDSLSAQLSQLQK</th>\n",
       "      <td>26266</td>\n",
       "      <td>62131</td>\n",
       "    </tr>\n",
       "    <tr>\n",
       "      <th>IGAEVYHNLK</th>\n",
       "      <td>16587</td>\n",
       "      <td>26975</td>\n",
       "    </tr>\n",
       "    <tr>\n",
       "      <th>IGGIGTVPVGR</th>\n",
       "      <td>20595</td>\n",
       "      <td>46323</td>\n",
       "    </tr>\n",
       "    <tr>\n",
       "      <th>IILDLISESPIK</th>\n",
       "      <td>34272</td>\n",
       "      <td>85335</td>\n",
       "    </tr>\n",
       "    <tr>\n",
       "      <th>ILAIGLINEALDEGDAQK</th>\n",
       "      <td>39032</td>\n",
       "      <td>89964</td>\n",
       "    </tr>\n",
       "    <tr>\n",
       "      <th>IPGMLIIDTPGHESFSNLR</th>\n",
       "      <td>29928</td>\n",
       "      <td>72674</td>\n",
       "    </tr>\n",
       "    <tr>\n",
       "      <th>LAYLQILSEETSVK</th>\n",
       "      <td>33432</td>\n",
       "      <td>78304</td>\n",
       "    </tr>\n",
       "    <tr>\n",
       "      <th>LCFSTAQHAS</th>\n",
       "      <td>18012</td>\n",
       "      <td>30619</td>\n",
       "    </tr>\n",
       "    <tr>\n",
       "      <th>LVLSDLHLLTQSQVR</th>\n",
       "      <td>29964</td>\n",
       "      <td>70285</td>\n",
       "    </tr>\n",
       "    <tr>\n",
       "      <th>LYGPSSVSFADDFVR</th>\n",
       "      <td>31424</td>\n",
       "      <td>76171</td>\n",
       "    </tr>\n",
       "    <tr>\n",
       "      <th>NCTIVSPDAGGAK</th>\n",
       "      <td>15417</td>\n",
       "      <td>27997</td>\n",
       "    </tr>\n",
       "    <tr>\n",
       "      <th>NECDPALALLSDYVLHNSNTMR</th>\n",
       "      <td>39130</td>\n",
       "      <td>89478</td>\n",
       "    </tr>\n",
       "    <tr>\n",
       "      <th>NPDDITQEEYGEFYK</th>\n",
       "      <td>25387</td>\n",
       "      <td>61850</td>\n",
       "    </tr>\n",
       "    <tr>\n",
       "      <th>NQIIACNGSIQSIPEIPDDLK</th>\n",
       "      <td>30145</td>\n",
       "      <td>77891</td>\n",
       "    </tr>\n",
       "    <tr>\n",
       "      <th>QFLQAAEAIDDIPFGITSNSDVFSK</th>\n",
       "      <td>39803</td>\n",
       "      <td>100534</td>\n",
       "    </tr>\n",
       "    <tr>\n",
       "      <th>QIVLTGILEQVVNCR</th>\n",
       "      <td>39414</td>\n",
       "      <td>91112</td>\n",
       "    </tr>\n",
       "    <tr>\n",
       "      <th>QVHPDTGISSK</th>\n",
       "      <td>11479</td>\n",
       "      <td>11624</td>\n",
       "    </tr>\n",
       "    <tr>\n",
       "      <th>RPQYSNPPVQGEVMEGADNQGAGEQGRPVR</th>\n",
       "      <td>18027</td>\n",
       "      <td>35794</td>\n",
       "    </tr>\n",
       "    <tr>\n",
       "      <th>SEAHLTELLEEICDR</th>\n",
       "      <td>32361</td>\n",
       "      <td>73950</td>\n",
       "    </tr>\n",
       "    <tr>\n",
       "      <th>SIAFPSIGSGR</th>\n",
       "      <td>25086</td>\n",
       "      <td>57669</td>\n",
       "    </tr>\n",
       "    <tr>\n",
       "      <th>SSLGPVGLDK</th>\n",
       "      <td>19851</td>\n",
       "      <td>42000</td>\n",
       "    </tr>\n",
       "    <tr>\n",
       "      <th>TALAMGADR</th>\n",
       "      <td>15851</td>\n",
       "      <td>25744</td>\n",
       "    </tr>\n",
       "    <tr>\n",
       "      <th>TITGFQTHTTPVLLAHGER</th>\n",
       "      <td>21485</td>\n",
       "      <td>43831</td>\n",
       "    </tr>\n",
       "    <tr>\n",
       "      <th>TLFGLHLSQK</th>\n",
       "      <td>24708</td>\n",
       "      <td>48514</td>\n",
       "    </tr>\n",
       "    <tr>\n",
       "      <th>TLTAVHDAILEDLVFPSEIVGK</th>\n",
       "      <td>39254</td>\n",
       "      <td>93078</td>\n",
       "    </tr>\n",
       "    <tr>\n",
       "      <th>TREEIQEVR</th>\n",
       "      <td>12670</td>\n",
       "      <td>13003</td>\n",
       "    </tr>\n",
       "    <tr>\n",
       "      <th>TSFFQALGITTK</th>\n",
       "      <td>35124</td>\n",
       "      <td>79274</td>\n",
       "    </tr>\n",
       "    <tr>\n",
       "      <th>VALVYGQMNEPPGAR</th>\n",
       "      <td>22640</td>\n",
       "      <td>53715</td>\n",
       "    </tr>\n",
       "    <tr>\n",
       "      <th>VAQLEQVYIR</th>\n",
       "      <td>23022</td>\n",
       "      <td>50334</td>\n",
       "    </tr>\n",
       "    <tr>\n",
       "      <th>VDCTAHSDVCSAQGVR</th>\n",
       "      <td>12992</td>\n",
       "      <td>20031</td>\n",
       "    </tr>\n",
       "    <tr>\n",
       "      <th>VLENAEGAR</th>\n",
       "      <td>12479</td>\n",
       "      <td>15918</td>\n",
       "    </tr>\n",
       "    <tr>\n",
       "      <th>VSVHVIEGDHR</th>\n",
       "      <td>13913</td>\n",
       "      <td>18076</td>\n",
       "    </tr>\n",
       "    <tr>\n",
       "      <th>YAICSALAASALPALVMSK</th>\n",
       "      <td>38501</td>\n",
       "      <td>90850</td>\n",
       "    </tr>\n",
       "    <tr>\n",
       "      <th>YLAPSGPSGTLK</th>\n",
       "      <td>18464</td>\n",
       "      <td>37680</td>\n",
       "    </tr>\n",
       "  </tbody>\n",
       "</table>\n",
       "</div>"
      ],
      "text/plain": [
       "                                scan_small  scan_large\n",
       "peptide                                               \n",
       "AAQDRDQIYR                           12667       12415\n",
       "ADGGTQVIDTK                          13875       22274\n",
       "AENNSEVGASGYGVPGPTWDR                24412       59610\n",
       "AEPPQAMNALMR                         23171       51129\n",
       "AQFEGIVTDLIR                         34031       80205\n",
       "DAVTYTEHAK                           12487       14816\n",
       "EHVIEALR                             16451       24686\n",
       "EIEDPEDR                             13970       20427\n",
       "GFGFITFTNPEHASVAMR                   30828       71010\n",
       "GIVVYTGDR                            19048       36920\n",
       "GMSLNLEPDNVGVVVFGNDK                 34430       87259\n",
       "GTEDITSPHGIPLDLLDR                   29994       75155\n",
       "GVLMYGPPGTGK                         22233       49086\n",
       "HGESAWNLENR                          18442       27250\n",
       "HIYYITGETK                           17824       28538\n",
       "HTAMVSWGGVSIPNSPFR                   30485       71974\n",
       "IDSLSAQLSQLQK                        26266       62131\n",
       "IGAEVYHNLK                           16587       26975\n",
       "IGGIGTVPVGR                          20595       46323\n",
       "IILDLISESPIK                         34272       85335\n",
       "ILAIGLINEALDEGDAQK                   39032       89964\n",
       "IPGMLIIDTPGHESFSNLR                  29928       72674\n",
       "LAYLQILSEETSVK                       33432       78304\n",
       "LCFSTAQHAS                           18012       30619\n",
       "LVLSDLHLLTQSQVR                      29964       70285\n",
       "LYGPSSVSFADDFVR                      31424       76171\n",
       "NCTIVSPDAGGAK                        15417       27997\n",
       "NECDPALALLSDYVLHNSNTMR               39130       89478\n",
       "NPDDITQEEYGEFYK                      25387       61850\n",
       "NQIIACNGSIQSIPEIPDDLK                30145       77891\n",
       "QFLQAAEAIDDIPFGITSNSDVFSK            39803      100534\n",
       "QIVLTGILEQVVNCR                      39414       91112\n",
       "QVHPDTGISSK                          11479       11624\n",
       "RPQYSNPPVQGEVMEGADNQGAGEQGRPVR       18027       35794\n",
       "SEAHLTELLEEICDR                      32361       73950\n",
       "SIAFPSIGSGR                          25086       57669\n",
       "SSLGPVGLDK                           19851       42000\n",
       "TALAMGADR                            15851       25744\n",
       "TITGFQTHTTPVLLAHGER                  21485       43831\n",
       "TLFGLHLSQK                           24708       48514\n",
       "TLTAVHDAILEDLVFPSEIVGK               39254       93078\n",
       "TREEIQEVR                            12670       13003\n",
       "TSFFQALGITTK                         35124       79274\n",
       "VALVYGQMNEPPGAR                      22640       53715\n",
       "VAQLEQVYIR                           23022       50334\n",
       "VDCTAHSDVCSAQGVR                     12992       20031\n",
       "VLENAEGAR                            12479       15918\n",
       "VSVHVIEGDHR                          13913       18076\n",
       "YAICSALAASALPALVMSK                  38501       90850\n",
       "YLAPSGPSGTLK                         18464       37680"
      ]
     },
     "execution_count": 34,
     "metadata": {},
     "output_type": "execute_result"
    }
   ],
   "source": [
    "four_to_one[[\"scan_small\", \"scan_large\"]]"
   ]
  },
  {
   "cell_type": "code",
   "execution_count": 35,
   "metadata": {},
   "outputs": [
    {
     "name": "stderr",
     "output_type": "stream",
     "text": [
      "/opt/anaconda3/lib/python3.8/site-packages/pandas/core/ops/array_ops.py:253: FutureWarning: elementwise comparison failed; returning scalar instead, but in the future will perform elementwise comparison\n",
      "  res_values = method(rvalues)\n"
     ]
    },
    {
     "data": {
      "text/html": [
       "<div>\n",
       "<style scoped>\n",
       "    .dataframe tbody tr th:only-of-type {\n",
       "        vertical-align: middle;\n",
       "    }\n",
       "\n",
       "    .dataframe tbody tr th {\n",
       "        vertical-align: top;\n",
       "    }\n",
       "\n",
       "    .dataframe thead th {\n",
       "        text-align: right;\n",
       "    }\n",
       "</style>\n",
       "<table border=\"1\" class=\"dataframe\">\n",
       "  <thead>\n",
       "    <tr style=\"text-align: right;\">\n",
       "      <th></th>\n",
       "      <th>decoy_small</th>\n",
       "      <th>scan_small</th>\n",
       "      <th>probability_small</th>\n",
       "      <th>Matched Ion Series_small</th>\n",
       "      <th>Matched Ion Intensities_small</th>\n",
       "      <th>Matched Ion Counts_small</th>\n",
       "      <th>Matched Ion Mass Diff (Ppm)_small</th>\n",
       "      <th>b_peaks_small</th>\n",
       "      <th>y_peaks_small</th>\n",
       "      <th>decoy_large</th>\n",
       "      <th>...</th>\n",
       "      <th>diff_b</th>\n",
       "      <th>intensity_small</th>\n",
       "      <th>intensity_large</th>\n",
       "      <th>top3_small</th>\n",
       "      <th>bottom3_small</th>\n",
       "      <th>top3_large</th>\n",
       "      <th>bottom3_large</th>\n",
       "      <th>intensity_diff_small</th>\n",
       "      <th>intensity_diff_large</th>\n",
       "      <th>intensity_diff_ratio</th>\n",
       "    </tr>\n",
       "    <tr>\n",
       "      <th>peptide</th>\n",
       "      <th></th>\n",
       "      <th></th>\n",
       "      <th></th>\n",
       "      <th></th>\n",
       "      <th></th>\n",
       "      <th></th>\n",
       "      <th></th>\n",
       "      <th></th>\n",
       "      <th></th>\n",
       "      <th></th>\n",
       "      <th></th>\n",
       "      <th></th>\n",
       "      <th></th>\n",
       "      <th></th>\n",
       "      <th></th>\n",
       "      <th></th>\n",
       "      <th></th>\n",
       "      <th></th>\n",
       "      <th></th>\n",
       "      <th></th>\n",
       "      <th></th>\n",
       "    </tr>\n",
       "  </thead>\n",
       "  <tbody>\n",
       "  </tbody>\n",
       "</table>\n",
       "<p>0 rows × 30 columns</p>\n",
       "</div>"
      ],
      "text/plain": [
       "Empty DataFrame\n",
       "Columns: [decoy_small, scan_small, probability_small, Matched Ion Series_small, Matched Ion Intensities_small, Matched Ion Counts_small, Matched Ion Mass Diff (Ppm)_small, b_peaks_small, y_peaks_small, decoy_large, scan_large, probability_large, Matched Ion Series_large, Matched Ion Intensities_large, Matched Ion Counts_large, Matched Ion Mass Diff (Ppm)_large, b_peaks_large, y_peaks_large, diff_total, diff_y, diff_b, intensity_small, intensity_large, top3_small, bottom3_small, top3_large, bottom3_large, intensity_diff_small, intensity_diff_large, intensity_diff_ratio]\n",
       "Index: []\n",
       "\n",
       "[0 rows x 30 columns]"
      ]
     },
     "execution_count": 35,
     "metadata": {},
     "output_type": "execute_result"
    }
   ],
   "source": [
    "both[both['scan_small']==\"35078\"]"
   ]
  },
  {
   "cell_type": "code",
   "execution_count": 36,
   "metadata": {},
   "outputs": [],
   "source": [
    "def count_len(row):\n",
    "    length = len(row[\"peptide\"])\n",
    "    return length\n",
    "\n",
    "small[\"len\"]= small.apply(lambda row: count_len(row), axis=1)\n",
    "small_7to14 = small[(small['len'] >=7) & (small['len'] <=14)]\n",
    "small_14to21 = small[(small['len'] >14) & (small['len'] <=21)]\n",
    "small_21to44 = small[(small['len'] >21) & (small['len'] <=44)]\n",
    "\n",
    "large[\"len\"]= large.apply(lambda row: count_len(row), axis=1)\n",
    "large_7to14 = large[(large['len'] >=7) & (large['len'] <=14)]\n",
    "large_14to21 = large[(large['len'] >14) & (large['len'] <=21)]\n",
    "large_21to44 = large[(large['len'] >21) & (large['len'] <=44)]"
   ]
  },
  {
   "cell_type": "code",
   "execution_count": 37,
   "metadata": {},
   "outputs": [
    {
     "data": {
      "image/png": "[encoded data removed]",
      "text/plain": [
       "<Figure size 576x288 with 1 Axes>"
      ]
     },
     "metadata": {
      "needs_background": "light"
     },
     "output_type": "display_data"
    }
   ],
   "source": [
    "plot = sns.catplot(x=\"diff_b\", color= '#abc9ea', hue=None,\n",
    "                data=both, kind=\"count\",\n",
    "                height=4, aspect=2).set(title=\"b peaks in sc - b peaks in bulk\")"
   ]
  },
  {
   "cell_type": "code",
   "execution_count": 38,
   "metadata": {},
   "outputs": [
    {
     "data": {
      "image/png": "[encoded data removed]",
      "text/plain": [
       "<Figure size 432x288 with 1 Axes>"
      ]
     },
     "metadata": {
      "needs_background": "light"
     },
     "output_type": "display_data"
    }
   ],
   "source": [
    "x = small[\"b_peaks\"]\n",
    "y = large[\"b_peaks\"]\n",
    "plt.hist([x, y], bins = 20)\n",
    "plt.legend(['SC', 'bulk'])\n",
    "plt.title(\"b peaks--peptide length: all\")\n",
    "\n",
    "plt.show()"
   ]
  },
  {
   "cell_type": "code",
   "execution_count": 39,
   "metadata": {},
   "outputs": [
    {
     "data": {
      "image/png": "[encoded data removed]",
      "text/plain": [
       "<Figure size 432x288 with 1 Axes>"
      ]
     },
     "metadata": {
      "needs_background": "light"
     },
     "output_type": "display_data"
    }
   ],
   "source": [
    "x = small_7to14[\"b_peaks\"]\n",
    "y = large_7to14[\"b_peaks\"]\n",
    "plt.hist([x, y], bins = 20)\n",
    "plt.legend(['SC', 'bulk'])\n",
    "plt.title(\"b peaks--peptide length: 7-14\")\n",
    "plt.show()"
   ]
  },
  {
   "cell_type": "code",
   "execution_count": 40,
   "metadata": {},
   "outputs": [
    {
     "data": {
      "image/png": "[encoded data removed]",
      "text/plain": [
       "<Figure size 432x288 with 1 Axes>"
      ]
     },
     "metadata": {
      "needs_background": "light"
     },
     "output_type": "display_data"
    }
   ],
   "source": [
    "x = small_14to21[\"b_peaks\"]\n",
    "y = large_14to21[\"b_peaks\"]\n",
    "plt.hist([x, y], bins = 20)\n",
    "plt.legend(['SC', 'bulk'])\n",
    "plt.title(\"b peaks--peptide length: 14-21\")\n",
    "plt.show()"
   ]
  },
  {
   "cell_type": "code",
   "execution_count": 41,
   "metadata": {},
   "outputs": [
    {
     "data": {
      "image/png": "[encoded data removed]",
      "text/plain": [
       "<Figure size 432x288 with 1 Axes>"
      ]
     },
     "metadata": {
      "needs_background": "light"
     },
     "output_type": "display_data"
    }
   ],
   "source": [
    "x = small_21to44[\"b_peaks\"]\n",
    "y = large_21to44[\"b_peaks\"]\n",
    "plt.hist([x, y], bins = 20)\n",
    "plt.legend(['SC', 'bulk'])\n",
    "plt.title(\"b peaks--peptide length: 21-44\")\n",
    "plt.show()"
   ]
  },
  {
   "cell_type": "code",
   "execution_count": 42,
   "metadata": {},
   "outputs": [
    {
     "data": {
      "image/png": "[encoded data removed]",
      "text/plain": [
       "<Figure size 432x288 with 1 Axes>"
      ]
     },
     "metadata": {
      "needs_background": "light"
     },
     "output_type": "display_data"
    }
   ],
   "source": [
    "x = small[\"y_peaks\"]\n",
    "y = large[\"y_peaks\"]\n",
    "plt.hist([x, y], bins = 20)\n",
    "plt.legend(['SC', 'bulk'])\n",
    "plt.title(\"y peaks--peptide length: all\")\n",
    "plt.show()"
   ]
  },
  {
   "cell_type": "code",
   "execution_count": 43,
   "metadata": {},
   "outputs": [
    {
     "data": {
      "image/png": "[encoded data removed]",
      "text/plain": [
       "<Figure size 432x288 with 1 Axes>"
      ]
     },
     "metadata": {
      "needs_background": "light"
     },
     "output_type": "display_data"
    }
   ],
   "source": [
    "x = small_7to14[\"y_peaks\"]\n",
    "y = large_7to14[\"y_peaks\"]\n",
    "plt.hist([x, y], bins = 20)\n",
    "plt.legend(['SC', 'bulk'])\n",
    "plt.title(\"y peaks--peptide length: 7-14\")\n",
    "plt.show()"
   ]
  },
  {
   "cell_type": "code",
   "execution_count": 44,
   "metadata": {},
   "outputs": [
    {
     "data": {
      "image/png": "[encoded data removed]",
      "text/plain": [
       "<Figure size 432x288 with 1 Axes>"
      ]
     },
     "metadata": {
      "needs_background": "light"
     },
     "output_type": "display_data"
    }
   ],
   "source": [
    "x = small_14to21[\"y_peaks\"]\n",
    "y = large_14to21[\"y_peaks\"]\n",
    "plt.hist([x, y], bins = 20)\n",
    "plt.legend(['SC', 'bulk'])\n",
    "plt.title(\"y peaks--peptide length: 14-21\")\n",
    "plt.show()"
   ]
  },
  {
   "cell_type": "code",
   "execution_count": 45,
   "metadata": {},
   "outputs": [
    {
     "data": {
      "image/png": "[encoded data removed]",
      "text/plain": [
       "<Figure size 432x288 with 1 Axes>"
      ]
     },
     "metadata": {
      "needs_background": "light"
     },
     "output_type": "display_data"
    }
   ],
   "source": [
    "x = small_21to44[\"y_peaks\"]\n",
    "y = large_21to44[\"y_peaks\"]\n",
    "plt.hist([x, y], bins = 20)\n",
    "plt.legend(['SC', 'bulk'])\n",
    "plt.title(\"y peaks--peptide length: 21-44\")\n",
    "plt.show()"
   ]
  },
  {
   "cell_type": "code",
   "execution_count": 46,
   "metadata": {},
   "outputs": [
    {
     "data": {
      "image/png": "[encoded data removed]",
      "text/plain": [
       "<Figure size 432x288 with 1 Axes>"
      ]
     },
     "metadata": {
      "needs_background": "light"
     },
     "output_type": "display_data"
    }
   ],
   "source": [
    "x = small[\"Matched Ion Counts\"]\n",
    "y = large[\"Matched Ion Counts\"]\n",
    "plt.hist([x, y], bins=20)\n",
    "plt.legend(['sc', 'bulk'])\n",
    "plt.title(\"y and b peaks\")\n",
    "plt.show()\n"
   ]
  }
 ],
 "metadata": {
  "kernelspec": {
   "display_name": "Python 3",
   "language": "python",
   "name": "python3"
  },
  "language_info": {
   "codemirror_mode": {
    "name": "ipython",
    "version": 3
   },
   "file_extension": ".py",
   "mimetype": "text/x-python",
   "name": "python",
   "nbconvert_exporter": "python",
   "pygments_lexer": "ipython3",
   "version": "3.8.3"
  }
 },
 "nbformat": 4,
 "nbformat_minor": 4
}
