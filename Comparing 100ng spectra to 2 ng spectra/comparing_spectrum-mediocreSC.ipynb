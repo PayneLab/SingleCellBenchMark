{
 "cells": [
  {
   "cell_type": "code",
   "execution_count": 5,
   "metadata": {},
   "outputs": [],
   "source": [
    "import pandas as pd\n",
    "import numpy as np\n",
    "import matplotlib.pyplot as plt\n",
    "import statistics as st\n",
    "import seaborn as sns\n",
    "import sys\n",
    "sys.path.append(\"..\")\n",
    "import data_loader"
   ]
  },
  {
   "cell_type": "code",
   "execution_count": null,
   "metadata": {},
   "outputs": [],
   "source": []
  },
  {
   "cell_type": "code",
   "execution_count": 6,
   "metadata": {},
   "outputs": [],
   "source": [
    "def format_oxidation(row, column, to_replace):\n",
    "    peptide = row[column]\n",
    "#     print(to_replace)\n",
    "    replace_with = \"+15.995\"\n",
    "    if pd.isna(peptide):\n",
    "        new_pep = peptide\n",
    "    else:\n",
    "        if to_replace in peptide:\n",
    "            new_pep = peptide.replace(to_replace, replace_with)\n",
    "        else:\n",
    "            new_pep = peptide\n",
    "    return new_pep\n",
    "\n",
    "def format_carbamidomethyl(row, column, to_replace):\n",
    "    peptide = row[column]\n",
    "#     print(to_replace)\n",
    "    replace_with = \"\"\n",
    "    if pd.isna(peptide):\n",
    "        new_pep = peptide\n",
    "    else:\n",
    "        if to_replace in peptide:\n",
    "            new_pep = peptide.replace(to_replace, replace_with)\n",
    "        else:\n",
    "            new_pep = peptide\n",
    "    return new_pep\n"
   ]
  },
  {
   "cell_type": "code",
   "execution_count": 7,
   "metadata": {},
   "outputs": [],
   "source": [
    "def clean_MM(input_file):\n",
    "    data = pd.read_csv(input_file, sep = '\\t')\n",
    "\n",
    "    #make a new col that includes modifide peptides\n",
    "    data['temp_peptide'] = data.apply(lambda row: format_oxidation(row, \"Full Sequence\", \"[Common Variable:Oxidation on M]\"), axis=1)\n",
    "    data[\"temp2\"] = data.apply(lambda row: format_carbamidomethyl(row, \"temp_peptide\", \"[Common Fixed:Carbamidomethyl on C]\"), axis=1)\n",
    "\n",
    "    data = data.replace({\"Decoy\": {'Y': True, 'N': False}})\n",
    "    #uniform naming\n",
    "    data_new = data.rename({\"Decoy\": \"decoy\", \"Scan Number\": \"scan\", \"temp2\": \"peptide\", 'PEP_QValue': 'probability'}, axis=1)\n",
    "    data_new = data_new.filter((['decoy', 'scan', 'peptide','probability', \n",
    "                                 \"Matched Ion Series\", 'Matched Ion Intensities', 'Matched Ion Counts', 'Matched Ion Mass Diff (Ppm)']))\n",
    "\n",
    "    return data_new\n"
   ]
  },
  {
   "cell_type": "code",
   "execution_count": 8,
   "metadata": {},
   "outputs": [],
   "source": [
    "def filter_data(df, SC):\n",
    "    df = df[df[\"decoy\"]==False]\n",
    "    df = df.sort_values(\"probability\")\n",
    "    df = df.drop_duplicates(subset=[\"scan\"], keep=\"first\") #keep highest scoring\n",
    "    df = df.sort_values(\"probability\")\n",
    "    df = df.drop_duplicates(subset=[\"peptide\"], keep=\"first\")#I only want unique peptides \n",
    "    if SC==True: \n",
    "        df = df[(df[\"probability\"] <= .1) & (df[\"probability\"] > .01)]\n",
    "    else:\n",
    "        df = df[df[\"probability\"] <= .01]\n",
    "    return df\n"
   ]
  },
  {
   "cell_type": "code",
   "execution_count": 5,
   "metadata": {},
   "outputs": [
    {
     "name": "stderr",
     "output_type": "stream",
     "text": [
      "/opt/anaconda3/lib/python3.8/site-packages/IPython/core/interactiveshell.py:3263: DtypeWarning: Columns (11,19,20,21,22,23) have mixed types.Specify dtype option on import or set low_memory=False.\n",
      "  if (await self.run_code(code, result,  async_=asy)):\n"
     ]
    }
   ],
   "source": [
    "small = clean_MM(\"~/Payne/bulk_data_vs_2ng/Ex_Auto_DrM3_30umT4_2ngQC_60m_half_PSMs.psmtsv.gz\")\n",
    "large = clean_MM(\"~/Payne/bulk_data_vs_2ng/metamorpheus_output/AllPSMs2.psmtsv\")\n",
    "\n",
    "small = filter_data(small, SC=True)\n",
    "large = filter_data(large, SC=False)"
   ]
  },
  {
   "cell_type": "code",
   "execution_count": 6,
   "metadata": {},
   "outputs": [
    {
     "data": {
      "text/html": [
       "<div>\n",
       "<style scoped>\n",
       "    .dataframe tbody tr th:only-of-type {\n",
       "        vertical-align: middle;\n",
       "    }\n",
       "\n",
       "    .dataframe tbody tr th {\n",
       "        vertical-align: top;\n",
       "    }\n",
       "\n",
       "    .dataframe thead th {\n",
       "        text-align: right;\n",
       "    }\n",
       "</style>\n",
       "<table border=\"1\" class=\"dataframe\">\n",
       "  <thead>\n",
       "    <tr style=\"text-align: right;\">\n",
       "      <th></th>\n",
       "      <th>decoy</th>\n",
       "      <th>scan</th>\n",
       "      <th>peptide</th>\n",
       "      <th>probability</th>\n",
       "      <th>Matched Ion Series</th>\n",
       "      <th>Matched Ion Intensities</th>\n",
       "      <th>Matched Ion Counts</th>\n",
       "      <th>Matched Ion Mass Diff (Ppm)</th>\n",
       "    </tr>\n",
       "  </thead>\n",
       "  <tbody>\n",
       "    <tr>\n",
       "      <th>23305</th>\n",
       "      <td>False</td>\n",
       "      <td>16600</td>\n",
       "      <td>QEIFELCIK</td>\n",
       "      <td>0.098739</td>\n",
       "      <td>[b1+1, b2+1, b3+1];[y1+1, y2+1]</td>\n",
       "      <td>[b1+1:7668, b2+1:5556, b3+1:1848];[y1+1:5975, ...</td>\n",
       "      <td>5</td>\n",
       "      <td>[b1+1:3.36, b2+1:2.90, b3+1:1.80];[y1+1:4.73, ...</td>\n",
       "    </tr>\n",
       "    <tr>\n",
       "      <th>19253</th>\n",
       "      <td>False</td>\n",
       "      <td>33360</td>\n",
       "      <td>GFGFVTFADPASVDK</td>\n",
       "      <td>0.099120</td>\n",
       "      <td>[b2+1, b3+1];[y6+1, y9+1, y10+1]</td>\n",
       "      <td>[b2+1:755, b3+1:1272];[y6+1:2993, y9+1:1113, y...</td>\n",
       "      <td>5</td>\n",
       "      <td>[b2+1:4.11, b3+1:4.46];[y6+1:3.59, y9+1:-1.17,...</td>\n",
       "    </tr>\n",
       "    <tr>\n",
       "      <th>19996</th>\n",
       "      <td>False</td>\n",
       "      <td>11542</td>\n",
       "      <td>KPAPPPAPPQATK</td>\n",
       "      <td>0.099349</td>\n",
       "      <td>[b1+1, b2+1, b4+1];[y5+1, y6+1]</td>\n",
       "      <td>[b1+1:1754, b2+1:670, b4+1:1946];[y5+1:837, y6...</td>\n",
       "      <td>5</td>\n",
       "      <td>[b1+1:3.17, b2+1:4.11, b4+1:4.95];[y5+1:2.18, ...</td>\n",
       "    </tr>\n",
       "    <tr>\n",
       "      <th>19207</th>\n",
       "      <td>False</td>\n",
       "      <td>22905</td>\n",
       "      <td>VIVGALLR</td>\n",
       "      <td>0.099387</td>\n",
       "      <td>[b2+1, b3+1];[y1+1, y5+1, y6+1]</td>\n",
       "      <td>[b2+1:17206, b3+1:1990];[y1+1:6105, y5+1:15344...</td>\n",
       "      <td>5</td>\n",
       "      <td>[b2+1:4.80, b3+1:5.04];[y1+1:3.10, y5+1:0.72, ...</td>\n",
       "    </tr>\n",
       "    <tr>\n",
       "      <th>19286</th>\n",
       "      <td>False</td>\n",
       "      <td>34105</td>\n",
       "      <td>TLTDELAALQITGVK</td>\n",
       "      <td>0.099806</td>\n",
       "      <td>[b2+1];[y4+1, y8+1, y9+1, y10+1]</td>\n",
       "      <td>[b2+1:1720];[y4+1:850, y8+1:1893, y9+1:2452, y...</td>\n",
       "      <td>5</td>\n",
       "      <td>[b2+1:0.87];[y4+1:5.62, y8+1:1.45, y9+1:1.60, ...</td>\n",
       "    </tr>\n",
       "  </tbody>\n",
       "</table>\n",
       "</div>"
      ],
      "text/plain": [
       "       decoy   scan          peptide  probability  \\\n",
       "23305  False  16600        QEIFELCIK     0.098739   \n",
       "19253  False  33360  GFGFVTFADPASVDK     0.099120   \n",
       "19996  False  11542    KPAPPPAPPQATK     0.099349   \n",
       "19207  False  22905         VIVGALLR     0.099387   \n",
       "19286  False  34105  TLTDELAALQITGVK     0.099806   \n",
       "\n",
       "                     Matched Ion Series  \\\n",
       "23305   [b1+1, b2+1, b3+1];[y1+1, y2+1]   \n",
       "19253  [b2+1, b3+1];[y6+1, y9+1, y10+1]   \n",
       "19996   [b1+1, b2+1, b4+1];[y5+1, y6+1]   \n",
       "19207   [b2+1, b3+1];[y1+1, y5+1, y6+1]   \n",
       "19286  [b2+1];[y4+1, y8+1, y9+1, y10+1]   \n",
       "\n",
       "                                 Matched Ion Intensities  Matched Ion Counts  \\\n",
       "23305  [b1+1:7668, b2+1:5556, b3+1:1848];[y1+1:5975, ...                   5   \n",
       "19253  [b2+1:755, b3+1:1272];[y6+1:2993, y9+1:1113, y...                   5   \n",
       "19996  [b1+1:1754, b2+1:670, b4+1:1946];[y5+1:837, y6...                   5   \n",
       "19207  [b2+1:17206, b3+1:1990];[y1+1:6105, y5+1:15344...                   5   \n",
       "19286  [b2+1:1720];[y4+1:850, y8+1:1893, y9+1:2452, y...                   5   \n",
       "\n",
       "                             Matched Ion Mass Diff (Ppm)  \n",
       "23305  [b1+1:3.36, b2+1:2.90, b3+1:1.80];[y1+1:4.73, ...  \n",
       "19253  [b2+1:4.11, b3+1:4.46];[y6+1:3.59, y9+1:-1.17,...  \n",
       "19996  [b1+1:3.17, b2+1:4.11, b4+1:4.95];[y5+1:2.18, ...  \n",
       "19207  [b2+1:4.80, b3+1:5.04];[y1+1:3.10, y5+1:0.72, ...  \n",
       "19286  [b2+1:0.87];[y4+1:5.62, y8+1:1.45, y9+1:1.60, ...  "
      ]
     },
     "execution_count": 6,
     "metadata": {},
     "output_type": "execute_result"
    }
   ],
   "source": [
    "small.tail()"
   ]
  },
  {
   "cell_type": "code",
   "execution_count": 7,
   "metadata": {},
   "outputs": [
    {
     "data": {
      "text/plain": [
       "149"
      ]
     },
     "execution_count": 7,
     "metadata": {},
     "output_type": "execute_result"
    }
   ],
   "source": [
    "#how many match?\n",
    "pep_in_both = list(set(small[\"peptide\"]).intersection(set(large[\"peptide\"])))\n",
    "len(pep_in_both)"
   ]
  },
  {
   "cell_type": "code",
   "execution_count": 8,
   "metadata": {},
   "outputs": [],
   "source": [
    "small = small.loc[small['peptide'].isin(pep_in_both)]\n",
    "large = large.loc[large['peptide'].isin(pep_in_both)]"
   ]
  },
  {
   "cell_type": "code",
   "execution_count": 9,
   "metadata": {},
   "outputs": [],
   "source": [
    "def count_Y(row):\n",
    "    count = row['Matched Ion Series'].count(\"y\")\n",
    "    return(count)\n",
    "\n",
    "def count_B(row):\n",
    "    count = row['Matched Ion Series'].count(\"b\")\n",
    "    return(count)"
   ]
  },
  {
   "cell_type": "code",
   "execution_count": 10,
   "metadata": {},
   "outputs": [],
   "source": [
    "#count y and b peaks\n",
    "small[\"b_peaks\"] = small.apply(count_B, axis=1)\n",
    "small[\"y_peaks\"] = small.apply(count_Y, axis=1)\n",
    "small[\"y_peaks\"] = small.apply(count_Y, axis=1)\n",
    "\n",
    "#count y and b peaks\n",
    "large[\"b_peaks\"] = large.apply(count_B, axis=1)\n",
    "large[\"y_peaks\"] = large.apply(count_Y, axis=1)\n"
   ]
  },
  {
   "cell_type": "code",
   "execution_count": 91,
   "metadata": {},
   "outputs": [
    {
     "data": {
      "image/png": "[encoded data removed]",
      "text/plain": [
       "<Figure size 576x288 with 1 Axes>"
      ]
     },
     "metadata": {
      "needs_background": "light"
     },
     "output_type": "display_data"
    }
   ],
   "source": [
    "#How many y and b peaks are there on average?\n",
    "plot = sns.catplot(x=\"y_peaks\", color= '#abc9ea', hue=None,\n",
    "                data=large, kind=\"count\",\n",
    "                height=4, aspect=2).set(title='How many Y peaks there are in bulk')"
   ]
  },
  {
   "cell_type": "code",
   "execution_count": 92,
   "metadata": {},
   "outputs": [
    {
     "data": {
      "image/png": "[encoded data removed]",
      "text/plain": [
       "<Figure size 576x288 with 1 Axes>"
      ]
     },
     "metadata": {
      "needs_background": "light"
     },
     "output_type": "display_data"
    }
   ],
   "source": [
    "plot = sns.catplot(x=\"b_peaks\", color= '#abc9ea', hue=None,\n",
    "                data=large, kind=\"count\",\n",
    "                height=4, aspect=2).set(title='How many B peaks there are in bulk')"
   ]
  },
  {
   "cell_type": "code",
   "execution_count": 50,
   "metadata": {},
   "outputs": [],
   "source": [
    "#for each protein count number of peaks for bulk and single cell, and get the difference\n",
    "\n",
    "#give them the same index (index by peptide name)\n",
    "new_small = small.set_index(\"peptide\")\n",
    "new_large = large.set_index(\"peptide\")\n",
    "both = pd.merge(left=new_small, right=new_large,suffixes=('_small', '_large'), left_index=True, right_index=True, how=\"outer\")\n",
    "# # small[\"Matched Ion Counts\"]- large[\"Matched Ion Counts\"]\n",
    "both[\"diff_total\"] = both[\"Matched Ion Counts_large\"] - both[\"Matched Ion Counts_small\"] \n",
    "both[\"diff_y\"] = both[\"y_peaks_large\"] - both[\"y_peaks_small\"]\n",
    "both[\"diff_b\"] = both[\"b_peaks_large\"] - both[\"b_peaks_small\"]\n",
    "####\n",
    "#0 mean that they have the same number of peaks\n",
    "# positive means that sc spectrum had more peaks\n",
    "# negative means that bulk had more peaks"
   ]
  },
  {
   "cell_type": "code",
   "execution_count": 51,
   "metadata": {},
   "outputs": [
    {
     "data": {
      "text/plain": [
       "149"
      ]
     },
     "execution_count": 51,
     "metadata": {},
     "output_type": "execute_result"
    }
   ],
   "source": [
    "len(both)"
   ]
  },
  {
   "cell_type": "code",
   "execution_count": 52,
   "metadata": {},
   "outputs": [
    {
     "data": {
      "image/png": "[encoded data removed]",
      "text/plain": [
       "<Figure size 576x288 with 1 Axes>"
      ]
     },
     "metadata": {
      "needs_background": "light"
     },
     "output_type": "display_data"
    }
   ],
   "source": [
    "plot = sns.catplot(x=\"diff_total\", color= '#abc9ea', hue=None,\n",
    "                data=both, kind=\"count\",\n",
    "                height=4, aspect=2).set(title='all peaks in bulk - all peaks in sc')"
   ]
  },
  {
   "cell_type": "code",
   "execution_count": 53,
   "metadata": {},
   "outputs": [
    {
     "data": {
      "image/png": "[encoded data removed]",
      "text/plain": [
       "<Figure size 576x288 with 1 Axes>"
      ]
     },
     "metadata": {
      "needs_background": "light"
     },
     "output_type": "display_data"
    }
   ],
   "source": [
    "plot = sns.catplot(x=\"diff_y\", color= '#abc9ea', hue=None,\n",
    "                data=both, kind=\"count\",\n",
    "                height=4, aspect=2).set(title=\"y peaks in bulk - y peaks in sc\")"
   ]
  },
  {
   "cell_type": "code",
   "execution_count": 97,
   "metadata": {},
   "outputs": [
    {
     "data": {
      "text/plain": [
       "53.02013422818792"
      ]
     },
     "execution_count": 97,
     "metadata": {},
     "output_type": "execute_result"
    }
   ],
   "source": [
    "(len(both[both['diff_y']>=3]) *100)/len(both)"
   ]
  },
  {
   "cell_type": "code",
   "execution_count": 98,
   "metadata": {},
   "outputs": [
    {
     "data": {
      "text/plain": [
       "18.79194630872483"
      ]
     },
     "execution_count": 98,
     "metadata": {},
     "output_type": "execute_result"
    }
   ],
   "source": [
    "(len(both[both['diff_b']>=3]) *100)/len(both)"
   ]
  },
  {
   "cell_type": "code",
   "execution_count": 54,
   "metadata": {},
   "outputs": [
    {
     "data": {
      "image/png": "[encoded data removed]",
      "text/plain": [
       "<Figure size 576x288 with 1 Axes>"
      ]
     },
     "metadata": {
      "needs_background": "light"
     },
     "output_type": "display_data"
    }
   ],
   "source": [
    "plot = sns.catplot(x=\"diff_b\", color= '#abc9ea', hue=None,\n",
    "                data=both, kind=\"count\",\n",
    "                height=4, aspect=2).set(title=\"b peaks in bulk - b peaks in sc\")"
   ]
  },
  {
   "cell_type": "code",
   "execution_count": 83,
   "metadata": {},
   "outputs": [
    {
     "data": {
      "text/html": [
       "<div>\n",
       "<style scoped>\n",
       "    .dataframe tbody tr th:only-of-type {\n",
       "        vertical-align: middle;\n",
       "    }\n",
       "\n",
       "    .dataframe tbody tr th {\n",
       "        vertical-align: top;\n",
       "    }\n",
       "\n",
       "    .dataframe thead th {\n",
       "        text-align: right;\n",
       "    }\n",
       "</style>\n",
       "<table border=\"1\" class=\"dataframe\">\n",
       "  <thead>\n",
       "    <tr style=\"text-align: right;\">\n",
       "      <th></th>\n",
       "      <th>scan_small</th>\n",
       "      <th>scan_large</th>\n",
       "    </tr>\n",
       "    <tr>\n",
       "      <th>peptide</th>\n",
       "      <th></th>\n",
       "      <th></th>\n",
       "    </tr>\n",
       "  </thead>\n",
       "  <tbody>\n",
       "    <tr>\n",
       "      <th>AISSSAISR</th>\n",
       "      <td>13974</td>\n",
       "      <td>19331</td>\n",
       "    </tr>\n",
       "    <tr>\n",
       "      <th>AMGIMNSFLNDIFER</th>\n",
       "      <td>39156</td>\n",
       "      <td>90361</td>\n",
       "    </tr>\n",
       "    <tr>\n",
       "      <th>DAAFQNVLTHVCLD</th>\n",
       "      <td>33813</td>\n",
       "      <td>85875</td>\n",
       "    </tr>\n",
       "    <tr>\n",
       "      <th>DIMLATGK</th>\n",
       "      <td>19663</td>\n",
       "      <td>42674</td>\n",
       "    </tr>\n",
       "    <tr>\n",
       "      <th>ECFYQPMPLK</th>\n",
       "      <td>24934</td>\n",
       "      <td>58444</td>\n",
       "    </tr>\n",
       "    <tr>\n",
       "      <th>ELQEQMSR</th>\n",
       "      <td>13718</td>\n",
       "      <td>19072</td>\n",
       "    </tr>\n",
       "    <tr>\n",
       "      <th>ESYPVFYLFR</th>\n",
       "      <td>39231</td>\n",
       "      <td>87696</td>\n",
       "    </tr>\n",
       "    <tr>\n",
       "      <th>EVPGPDCR</th>\n",
       "      <td>12677</td>\n",
       "      <td>17753</td>\n",
       "    </tr>\n",
       "    <tr>\n",
       "      <th>EVQMGDFVR</th>\n",
       "      <td>23510</td>\n",
       "      <td>51163</td>\n",
       "    </tr>\n",
       "    <tr>\n",
       "      <th>FNQTYQLAHGTAEEK</th>\n",
       "      <td>16833</td>\n",
       "      <td>27400</td>\n",
       "    </tr>\n",
       "    <tr>\n",
       "      <th>GLMPDGTSR</th>\n",
       "      <td>17166</td>\n",
       "      <td>31095</td>\n",
       "    </tr>\n",
       "    <tr>\n",
       "      <th>GTLDPVEK</th>\n",
       "      <td>15402</td>\n",
       "      <td>25970</td>\n",
       "    </tr>\n",
       "    <tr>\n",
       "      <th>HTLEKEELR</th>\n",
       "      <td>14548</td>\n",
       "      <td>20989</td>\n",
       "    </tr>\n",
       "    <tr>\n",
       "      <th>IELEEMGPSLDLVLR</th>\n",
       "      <td>38228</td>\n",
       "      <td>92035</td>\n",
       "    </tr>\n",
       "    <tr>\n",
       "      <th>IM+15.995LPWDPTGK</th>\n",
       "      <td>30196</td>\n",
       "      <td>72314</td>\n",
       "    </tr>\n",
       "    <tr>\n",
       "      <th>LVDQSGPPHEPK</th>\n",
       "      <td>12185</td>\n",
       "      <td>17333</td>\n",
       "    </tr>\n",
       "    <tr>\n",
       "      <th>NGGQILIADLR</th>\n",
       "      <td>30738</td>\n",
       "      <td>59769</td>\n",
       "    </tr>\n",
       "    <tr>\n",
       "      <th>NMLLTLEQEAK</th>\n",
       "      <td>29608</td>\n",
       "      <td>65080</td>\n",
       "    </tr>\n",
       "    <tr>\n",
       "      <th>NTNPNFVR</th>\n",
       "      <td>15380</td>\n",
       "      <td>21668</td>\n",
       "    </tr>\n",
       "    <tr>\n",
       "      <th>QNINLSAPIMSR</th>\n",
       "      <td>24251</td>\n",
       "      <td>57383</td>\n",
       "    </tr>\n",
       "    <tr>\n",
       "      <th>QVEVELLSR</th>\n",
       "      <td>23408</td>\n",
       "      <td>52463</td>\n",
       "    </tr>\n",
       "    <tr>\n",
       "      <th>SSASAPDVDDPEAFPALA</th>\n",
       "      <td>31293</td>\n",
       "      <td>85341</td>\n",
       "    </tr>\n",
       "    <tr>\n",
       "      <th>SVGPDFGK</th>\n",
       "      <td>16995</td>\n",
       "      <td>28455</td>\n",
       "    </tr>\n",
       "    <tr>\n",
       "      <th>TLVLLM+15.995GK</th>\n",
       "      <td>27353</td>\n",
       "      <td>48495</td>\n",
       "    </tr>\n",
       "    <tr>\n",
       "      <th>TWGADVINMTTVPEVVLAK</th>\n",
       "      <td>39012</td>\n",
       "      <td>93285</td>\n",
       "    </tr>\n",
       "    <tr>\n",
       "      <th>VGQGYPHDPPK</th>\n",
       "      <td>12198</td>\n",
       "      <td>14960</td>\n",
       "    </tr>\n",
       "    <tr>\n",
       "      <th>VPENTMHAMQQK</th>\n",
       "      <td>13321</td>\n",
       "      <td>16564</td>\n",
       "    </tr>\n",
       "    <tr>\n",
       "      <th>VVADGAGLPGEDWVFVSSK</th>\n",
       "      <td>32756</td>\n",
       "      <td>82057</td>\n",
       "    </tr>\n",
       "    <tr>\n",
       "      <th>YLGLLENLR</th>\n",
       "      <td>31325</td>\n",
       "      <td>71347</td>\n",
       "    </tr>\n",
       "  </tbody>\n",
       "</table>\n",
       "</div>"
      ],
      "text/plain": [
       "                     scan_small  scan_large\n",
       "peptide                                    \n",
       "AISSSAISR                 13974       19331\n",
       "AMGIMNSFLNDIFER           39156       90361\n",
       "DAAFQNVLTHVCLD            33813       85875\n",
       "DIMLATGK                  19663       42674\n",
       "ECFYQPMPLK                24934       58444\n",
       "ELQEQMSR                  13718       19072\n",
       "ESYPVFYLFR                39231       87696\n",
       "EVPGPDCR                  12677       17753\n",
       "EVQMGDFVR                 23510       51163\n",
       "FNQTYQLAHGTAEEK           16833       27400\n",
       "GLMPDGTSR                 17166       31095\n",
       "GTLDPVEK                  15402       25970\n",
       "HTLEKEELR                 14548       20989\n",
       "IELEEMGPSLDLVLR           38228       92035\n",
       "IM+15.995LPWDPTGK         30196       72314\n",
       "LVDQSGPPHEPK              12185       17333\n",
       "NGGQILIADLR               30738       59769\n",
       "NMLLTLEQEAK               29608       65080\n",
       "NTNPNFVR                  15380       21668\n",
       "QNINLSAPIMSR              24251       57383\n",
       "QVEVELLSR                 23408       52463\n",
       "SSASAPDVDDPEAFPALA        31293       85341\n",
       "SVGPDFGK                  16995       28455\n",
       "TLVLLM+15.995GK           27353       48495\n",
       "TWGADVINMTTVPEVVLAK       39012       93285\n",
       "VGQGYPHDPPK               12198       14960\n",
       "VPENTMHAMQQK              13321       16564\n",
       "VVADGAGLPGEDWVFVSSK       32756       82057\n",
       "YLGLLENLR                 31325       71347"
      ]
     },
     "execution_count": 83,
     "metadata": {},
     "output_type": "execute_result"
    }
   ],
   "source": [
    "# get exmaple spectra\n",
    "missing_1y = both[both['diff_y']==1]\n",
    "missing_1y[[\"scan_small\", \"scan_large\"]]"
   ]
  },
  {
   "cell_type": "code",
   "execution_count": 84,
   "metadata": {},
   "outputs": [
    {
     "data": {
      "text/html": [
       "<div>\n",
       "<style scoped>\n",
       "    .dataframe tbody tr th:only-of-type {\n",
       "        vertical-align: middle;\n",
       "    }\n",
       "\n",
       "    .dataframe tbody tr th {\n",
       "        vertical-align: top;\n",
       "    }\n",
       "\n",
       "    .dataframe thead th {\n",
       "        text-align: right;\n",
       "    }\n",
       "</style>\n",
       "<table border=\"1\" class=\"dataframe\">\n",
       "  <thead>\n",
       "    <tr style=\"text-align: right;\">\n",
       "      <th></th>\n",
       "      <th>scan_small</th>\n",
       "      <th>scan_large</th>\n",
       "    </tr>\n",
       "    <tr>\n",
       "      <th>peptide</th>\n",
       "      <th></th>\n",
       "      <th></th>\n",
       "    </tr>\n",
       "  </thead>\n",
       "  <tbody>\n",
       "    <tr>\n",
       "      <th>AIAYLFPSGLFEK</th>\n",
       "      <td>38715</td>\n",
       "      <td>88390</td>\n",
       "    </tr>\n",
       "    <tr>\n",
       "      <th>FLAVGLVDNTVR</th>\n",
       "      <td>28557</td>\n",
       "      <td>69777</td>\n",
       "    </tr>\n",
       "    <tr>\n",
       "      <th>FVFSLVDAMNGK</th>\n",
       "      <td>35064</td>\n",
       "      <td>82453</td>\n",
       "    </tr>\n",
       "    <tr>\n",
       "      <th>GFAFVYFENVDDAK</th>\n",
       "      <td>34781</td>\n",
       "      <td>82297</td>\n",
       "    </tr>\n",
       "    <tr>\n",
       "      <th>GPVKPTGGPGGGGTQTQQQMNQLK</th>\n",
       "      <td>15559</td>\n",
       "      <td>26466</td>\n",
       "    </tr>\n",
       "    <tr>\n",
       "      <th>HPQPGAVELAAK</th>\n",
       "      <td>14701</td>\n",
       "      <td>22689</td>\n",
       "    </tr>\n",
       "    <tr>\n",
       "      <th>IQSTVTQPGGK</th>\n",
       "      <td>12286</td>\n",
       "      <td>17253</td>\n",
       "    </tr>\n",
       "    <tr>\n",
       "      <th>KPGGFDISLFYR</th>\n",
       "      <td>30548</td>\n",
       "      <td>68351</td>\n",
       "    </tr>\n",
       "    <tr>\n",
       "      <th>LDRETEELHHDR</th>\n",
       "      <td>10887</td>\n",
       "      <td>8262</td>\n",
       "    </tr>\n",
       "    <tr>\n",
       "      <th>LNSLMSLVNK</th>\n",
       "      <td>27586</td>\n",
       "      <td>61391</td>\n",
       "    </tr>\n",
       "    <tr>\n",
       "      <th>NNLAGAEELFAR</th>\n",
       "      <td>31923</td>\n",
       "      <td>61354</td>\n",
       "    </tr>\n",
       "    <tr>\n",
       "      <th>QQSAQSQVSTTAENK</th>\n",
       "      <td>11764</td>\n",
       "      <td>14093</td>\n",
       "    </tr>\n",
       "    <tr>\n",
       "      <th>SLEQNIQLPAALLSR</th>\n",
       "      <td>32966</td>\n",
       "      <td>80660</td>\n",
       "    </tr>\n",
       "    <tr>\n",
       "      <th>TLTDELAALQITGVK</th>\n",
       "      <td>34105</td>\n",
       "      <td>84653</td>\n",
       "    </tr>\n",
       "    <tr>\n",
       "      <th>TSAGTTDPEEATR</th>\n",
       "      <td>12012</td>\n",
       "      <td>16543</td>\n",
       "    </tr>\n",
       "    <tr>\n",
       "      <th>VELSDVQNPAISITENVLHFK</th>\n",
       "      <td>38835</td>\n",
       "      <td>88650</td>\n",
       "    </tr>\n",
       "    <tr>\n",
       "      <th>YFTLGLPTGSTPLGCYK</th>\n",
       "      <td>33591</td>\n",
       "      <td>81654</td>\n",
       "    </tr>\n",
       "  </tbody>\n",
       "</table>\n",
       "</div>"
      ],
      "text/plain": [
       "                          scan_small  scan_large\n",
       "peptide                                         \n",
       "AIAYLFPSGLFEK                  38715       88390\n",
       "FLAVGLVDNTVR                   28557       69777\n",
       "FVFSLVDAMNGK                   35064       82453\n",
       "GFAFVYFENVDDAK                 34781       82297\n",
       "GPVKPTGGPGGGGTQTQQQMNQLK       15559       26466\n",
       "HPQPGAVELAAK                   14701       22689\n",
       "IQSTVTQPGGK                    12286       17253\n",
       "KPGGFDISLFYR                   30548       68351\n",
       "LDRETEELHHDR                   10887        8262\n",
       "LNSLMSLVNK                     27586       61391\n",
       "NNLAGAEELFAR                   31923       61354\n",
       "QQSAQSQVSTTAENK                11764       14093\n",
       "SLEQNIQLPAALLSR                32966       80660\n",
       "TLTDELAALQITGVK                34105       84653\n",
       "TSAGTTDPEEATR                  12012       16543\n",
       "VELSDVQNPAISITENVLHFK          38835       88650\n",
       "YFTLGLPTGSTPLGCYK              33591       81654"
      ]
     },
     "execution_count": 84,
     "metadata": {},
     "output_type": "execute_result"
    }
   ],
   "source": [
    "missing_4y = both[both['diff_y']==4]\n",
    "missing_4y[[\"scan_small\", \"scan_large\"]]"
   ]
  },
  {
   "cell_type": "code",
   "execution_count": 55,
   "metadata": {},
   "outputs": [],
   "source": [
    "import numbers\n",
    "def get_intensities(row, small):\n",
    "    intensities = []\n",
    "    if small == True:\n",
    "        line = row[\"Matched Ion Intensities_small\"].split(\";\")\n",
    "    else:\n",
    "        line = row[\"Matched Ion Intensities_large\"].split(\";\")\n",
    "    for el in line:\n",
    "        el = el.strip('][').split(\",\")\n",
    "        for sub_el in el:\n",
    "            sub_el = sub_el.split(\":\")[1]\n",
    "            intensities.append(sub_el)\n",
    "    return intensities\n",
    "\n",
    "both[\"intensity_small\"] = both.apply(lambda row: get_intensities(row, small=True), axis=1)\n",
    "both[\"intensity_large\"] = both.apply(lambda row: get_intensities(row, small=False), axis=1)"
   ]
  },
  {
   "cell_type": "code",
   "execution_count": 56,
   "metadata": {},
   "outputs": [],
   "source": [
    "#get top 3 intensities\n",
    "def get_top3(row, size, top):\n",
    "    row['intensity_'+size].sort(key=int, reverse=True)\n",
    "    if top==True:\n",
    "        return3 = row['intensity_'+size][:3]\n",
    "        return3 = [float(i) for i in return3]\n",
    "    else:\n",
    "        return3 = row['intensity_'+size][-3:]\n",
    "        return3 = [float(i) for i in return3]\n",
    "        \n",
    "    return return3\n",
    "\n",
    "\n",
    "both[\"top3_small\"] = both.apply(lambda row: get_top3(row, size=\"small\", top=True), axis=1)\n",
    "both[\"bottom3_small\"] = both.apply(lambda row: get_top3(row, size='small', top=False), axis=1)\n",
    "both[\"top3_large\"] = both.apply(lambda row: get_top3(row, size=\"large\", top=True), axis=1)\n",
    "both[\"bottom3_large\"] = both.apply(lambda row: get_top3(row, size='large', top=False), axis=1)\n"
   ]
  },
  {
   "cell_type": "code",
   "execution_count": 57,
   "metadata": {},
   "outputs": [],
   "source": [
    "def get_intensity_diff(row, size):\n",
    "    intensity_diff = st.mean(row[\"top3_\"+size])/st.mean(row[\"bottom3_\"+size])\n",
    "    return intensity_diff\n",
    "\n",
    "both['intensity_diff_small'] = both.apply(lambda row: get_intensity_diff(row, size=\"small\"), axis=1)\n",
    "both['intensity_diff_large'] = both.apply(lambda row: get_intensity_diff(row, size=\"large\"), axis=1)\n"
   ]
  },
  {
   "cell_type": "code",
   "execution_count": 58,
   "metadata": {},
   "outputs": [
    {
     "data": {
      "image/png": "[encoded data removed]",
      "text/plain": [
       "<Figure size 432x288 with 1 Axes>"
      ]
     },
     "metadata": {
      "needs_background": "light"
     },
     "output_type": "display_data"
    }
   ],
   "source": [
    "x = both[\"intensity_diff_small\"]\n",
    "y = both[\"intensity_diff_large\"]\n",
    "plt.hist([x, y], bins = 20)\n",
    "plt.legend(['SC intensity difference', 'bulk intensity difference'])\n",
    "plt.title(\"intensity differennce\")\n",
    "plt.xlim([0,15])\n",
    "plt.show()"
   ]
  },
  {
   "cell_type": "code",
   "execution_count": 59,
   "metadata": {},
   "outputs": [
    {
     "data": {
      "image/png": "[encoded data removed]",
      "text/plain": [
       "<Figure size 432x288 with 1 Axes>"
      ]
     },
     "metadata": {
      "needs_background": "light"
     },
     "output_type": "display_data"
    }
   ],
   "source": [
    "both[\"intensity_diff_ratio\"] = both[\"intensity_diff_large\"]/both[\"intensity_diff_small\"]\n",
    "\n",
    "\n",
    "plt.hist([both[\"intensity_diff_ratio\"]])\n",
    "plt.title(\"intensity differennce ratio\")\n",
    "plt.show()"
   ]
  },
  {
   "cell_type": "code",
   "execution_count": 60,
   "metadata": {},
   "outputs": [
    {
     "data": {
      "text/plain": [
       "peptide\n",
       "AAAGAVGLER              0.739560\n",
       "AEFGPPGPGAGSR           2.544400\n",
       "AELNPWPEYIYTR           8.524909\n",
       "AGFAGDQIPK              5.606697\n",
       "AIAYLFPSGLFEK           2.942312\n",
       "                         ...    \n",
       "YFTLGLPTGSTPLGCYK       1.139329\n",
       "YGDGGSSFQSTTGHCVHMR     1.062347\n",
       "YLGLLENLR               1.267557\n",
       "YNGEPEHIER              0.904361\n",
       "YSNFVSFPLYLNGR         11.145661\n",
       "Name: intensity_diff_ratio, Length: 149, dtype: float64"
      ]
     },
     "execution_count": 60,
     "metadata": {},
     "output_type": "execute_result"
    }
   ],
   "source": [
    "both['intensity_diff_ratio']"
   ]
  },
  {
   "cell_type": "code",
   "execution_count": 62,
   "metadata": {},
   "outputs": [],
   "source": [
    "#example of 1:1 and 2:1"
   ]
  },
  {
   "cell_type": "code",
   "execution_count": 105,
   "metadata": {},
   "outputs": [
    {
     "data": {
      "text/html": [
       "<div>\n",
       "<style scoped>\n",
       "    .dataframe tbody tr th:only-of-type {\n",
       "        vertical-align: middle;\n",
       "    }\n",
       "\n",
       "    .dataframe tbody tr th {\n",
       "        vertical-align: top;\n",
       "    }\n",
       "\n",
       "    .dataframe thead th {\n",
       "        text-align: right;\n",
       "    }\n",
       "</style>\n",
       "<table border=\"1\" class=\"dataframe\">\n",
       "  <thead>\n",
       "    <tr style=\"text-align: right;\">\n",
       "      <th></th>\n",
       "      <th>decoy_small</th>\n",
       "      <th>scan_small</th>\n",
       "      <th>probability_small</th>\n",
       "      <th>Matched Ion Series_small</th>\n",
       "      <th>Matched Ion Intensities_small</th>\n",
       "      <th>Matched Ion Counts_small</th>\n",
       "      <th>Matched Ion Mass Diff (Ppm)_small</th>\n",
       "      <th>b_peaks_small</th>\n",
       "      <th>y_peaks_small</th>\n",
       "      <th>len_small</th>\n",
       "      <th>...</th>\n",
       "      <th>diff_b</th>\n",
       "      <th>intensity_small</th>\n",
       "      <th>intensity_large</th>\n",
       "      <th>top3_small</th>\n",
       "      <th>bottom3_small</th>\n",
       "      <th>top3_large</th>\n",
       "      <th>bottom3_large</th>\n",
       "      <th>intensity_diff_small</th>\n",
       "      <th>intensity_diff_large</th>\n",
       "      <th>intensity_diff_ratio</th>\n",
       "    </tr>\n",
       "    <tr>\n",
       "      <th>peptide</th>\n",
       "      <th></th>\n",
       "      <th></th>\n",
       "      <th></th>\n",
       "      <th></th>\n",
       "      <th></th>\n",
       "      <th></th>\n",
       "      <th></th>\n",
       "      <th></th>\n",
       "      <th></th>\n",
       "      <th></th>\n",
       "      <th></th>\n",
       "      <th></th>\n",
       "      <th></th>\n",
       "      <th></th>\n",
       "      <th></th>\n",
       "      <th></th>\n",
       "      <th></th>\n",
       "      <th></th>\n",
       "      <th></th>\n",
       "      <th></th>\n",
       "      <th></th>\n",
       "    </tr>\n",
       "  </thead>\n",
       "  <tbody>\n",
       "    <tr>\n",
       "      <th>LNWLSVDFNNWK</th>\n",
       "      <td>False</td>\n",
       "      <td>38969</td>\n",
       "      <td>0.044362</td>\n",
       "      <td>[b2+1, b3+1];[y6+1, y7+1, y8+1, y9+1]</td>\n",
       "      <td>[b2+1:2414, b3+1:1207];[y6+1:1124, y7+1:1044, ...</td>\n",
       "      <td>6</td>\n",
       "      <td>[b2+1:2.26, b3+1:1.51];[y6+1:-2.64, y7+1:5.66,...</td>\n",
       "      <td>2</td>\n",
       "      <td>4</td>\n",
       "      <td>12</td>\n",
       "      <td>...</td>\n",
       "      <td>0</td>\n",
       "      <td>[2414, 2408, 1828, 1207, 1124, 1044]</td>\n",
       "      <td>[60892, 56791, 33374, 31815, 20774, 20536, 168...</td>\n",
       "      <td>[2414.0, 2408.0, 1828.0]</td>\n",
       "      <td>[1207.0, 1124.0, 1044.0]</td>\n",
       "      <td>[60892.0, 56791.0, 33374.0]</td>\n",
       "      <td>[13067.0, 11499.0, 9174.0]</td>\n",
       "      <td>1.97037</td>\n",
       "      <td>4.47709</td>\n",
       "      <td>2.272207</td>\n",
       "    </tr>\n",
       "  </tbody>\n",
       "</table>\n",
       "<p>1 rows × 32 columns</p>\n",
       "</div>"
      ],
      "text/plain": [
       "             decoy_small  scan_small  probability_small  \\\n",
       "peptide                                                   \n",
       "LNWLSVDFNNWK       False       38969           0.044362   \n",
       "\n",
       "                           Matched Ion Series_small  \\\n",
       "peptide                                               \n",
       "LNWLSVDFNNWK  [b2+1, b3+1];[y6+1, y7+1, y8+1, y9+1]   \n",
       "\n",
       "                                  Matched Ion Intensities_small  \\\n",
       "peptide                                                           \n",
       "LNWLSVDFNNWK  [b2+1:2414, b3+1:1207];[y6+1:1124, y7+1:1044, ...   \n",
       "\n",
       "              Matched Ion Counts_small  \\\n",
       "peptide                                  \n",
       "LNWLSVDFNNWK                         6   \n",
       "\n",
       "                              Matched Ion Mass Diff (Ppm)_small  \\\n",
       "peptide                                                           \n",
       "LNWLSVDFNNWK  [b2+1:2.26, b3+1:1.51];[y6+1:-2.64, y7+1:5.66,...   \n",
       "\n",
       "              b_peaks_small  y_peaks_small  len_small  ... diff_b  \\\n",
       "peptide                                                ...          \n",
       "LNWLSVDFNNWK              2              4         12  ...      0   \n",
       "\n",
       "                                   intensity_small  \\\n",
       "peptide                                              \n",
       "LNWLSVDFNNWK  [2414, 2408, 1828, 1207, 1124, 1044]   \n",
       "\n",
       "                                                intensity_large  \\\n",
       "peptide                                                           \n",
       "LNWLSVDFNNWK  [60892, 56791, 33374, 31815, 20774, 20536, 168...   \n",
       "\n",
       "                            top3_small             bottom3_small  \\\n",
       "peptide                                                            \n",
       "LNWLSVDFNNWK  [2414.0, 2408.0, 1828.0]  [1207.0, 1124.0, 1044.0]   \n",
       "\n",
       "                               top3_large               bottom3_large  \\\n",
       "peptide                                                                 \n",
       "LNWLSVDFNNWK  [60892.0, 56791.0, 33374.0]  [13067.0, 11499.0, 9174.0]   \n",
       "\n",
       "              intensity_diff_small  intensity_diff_large  intensity_diff_ratio  \n",
       "peptide                                                                         \n",
       "LNWLSVDFNNWK               1.97037               4.47709              2.272207  \n",
       "\n",
       "[1 rows x 32 columns]"
      ]
     },
     "execution_count": 105,
     "metadata": {},
     "output_type": "execute_result"
    }
   ],
   "source": [
    "both[both.index == \"LNWLSVDFNNWK\"]"
   ]
  },
  {
   "cell_type": "code",
   "execution_count": 99,
   "metadata": {},
   "outputs": [],
   "source": [
    "one_to_one = both[(both[\"intensity_diff_ratio\"] > 1) & (both[\"intensity_diff_ratio\"] < 1.2)]\n",
    "two_to_one = both[(both[\"intensity_diff_ratio\"] > 2) & (both[\"intensity_diff_ratio\"] < 2.5)]\n",
    "three_to_one = both[(both[\"intensity_diff_ratio\"] > 3) & (both[\"intensity_diff_ratio\"] < 3.2)]\n",
    "four_to_one = both[(both[\"intensity_diff_ratio\"] > 4) & (both[\"intensity_diff_ratio\"] < 4.5)]"
   ]
  },
  {
   "cell_type": "code",
   "execution_count": 65,
   "metadata": {},
   "outputs": [
    {
     "data": {
      "text/html": [
       "<div>\n",
       "<style scoped>\n",
       "    .dataframe tbody tr th:only-of-type {\n",
       "        vertical-align: middle;\n",
       "    }\n",
       "\n",
       "    .dataframe tbody tr th {\n",
       "        vertical-align: top;\n",
       "    }\n",
       "\n",
       "    .dataframe thead th {\n",
       "        text-align: right;\n",
       "    }\n",
       "</style>\n",
       "<table border=\"1\" class=\"dataframe\">\n",
       "  <thead>\n",
       "    <tr style=\"text-align: right;\">\n",
       "      <th></th>\n",
       "      <th>scan_small</th>\n",
       "      <th>scan_large</th>\n",
       "      <th>probability_small</th>\n",
       "      <th>probability_large</th>\n",
       "    </tr>\n",
       "    <tr>\n",
       "      <th>peptide</th>\n",
       "      <th></th>\n",
       "      <th></th>\n",
       "      <th></th>\n",
       "      <th></th>\n",
       "    </tr>\n",
       "  </thead>\n",
       "  <tbody>\n",
       "    <tr>\n",
       "      <th>AMGIMNSFLNDIFER</th>\n",
       "      <td>39156</td>\n",
       "      <td>90361</td>\n",
       "      <td>0.021406</td>\n",
       "      <td>0.000580</td>\n",
       "    </tr>\n",
       "    <tr>\n",
       "      <th>DIMLATGK</th>\n",
       "      <td>19663</td>\n",
       "      <td>42674</td>\n",
       "      <td>0.036955</td>\n",
       "      <td>0.000099</td>\n",
       "    </tr>\n",
       "    <tr>\n",
       "      <th>ESYPVFYLFR</th>\n",
       "      <td>39231</td>\n",
       "      <td>87696</td>\n",
       "      <td>0.093251</td>\n",
       "      <td>0.001142</td>\n",
       "    </tr>\n",
       "    <tr>\n",
       "      <th>LLPLNDCR</th>\n",
       "      <td>20049</td>\n",
       "      <td>41512</td>\n",
       "      <td>0.040816</td>\n",
       "      <td>0.000185</td>\n",
       "    </tr>\n",
       "    <tr>\n",
       "      <th>NMLLTLEQEAK</th>\n",
       "      <td>29608</td>\n",
       "      <td>65080</td>\n",
       "      <td>0.013672</td>\n",
       "      <td>0.006502</td>\n",
       "    </tr>\n",
       "    <tr>\n",
       "      <th>SYSDPPLK</th>\n",
       "      <td>15633</td>\n",
       "      <td>26631</td>\n",
       "      <td>0.019618</td>\n",
       "      <td>0.005276</td>\n",
       "    </tr>\n",
       "    <tr>\n",
       "      <th>VVLLHGPPGTGK</th>\n",
       "      <td>17818</td>\n",
       "      <td>31684</td>\n",
       "      <td>0.047687</td>\n",
       "      <td>0.000066</td>\n",
       "    </tr>\n",
       "    <tr>\n",
       "      <th>YFTLGLPTGSTPLGCYK</th>\n",
       "      <td>33591</td>\n",
       "      <td>81654</td>\n",
       "      <td>0.044282</td>\n",
       "      <td>0.000224</td>\n",
       "    </tr>\n",
       "    <tr>\n",
       "      <th>YGDGGSSFQSTTGHCVHMR</th>\n",
       "      <td>16005</td>\n",
       "      <td>24877</td>\n",
       "      <td>0.014752</td>\n",
       "      <td>0.000031</td>\n",
       "    </tr>\n",
       "  </tbody>\n",
       "</table>\n",
       "</div>"
      ],
      "text/plain": [
       "                     scan_small  scan_large  probability_small  \\\n",
       "peptide                                                          \n",
       "AMGIMNSFLNDIFER           39156       90361           0.021406   \n",
       "DIMLATGK                  19663       42674           0.036955   \n",
       "ESYPVFYLFR                39231       87696           0.093251   \n",
       "LLPLNDCR                  20049       41512           0.040816   \n",
       "NMLLTLEQEAK               29608       65080           0.013672   \n",
       "SYSDPPLK                  15633       26631           0.019618   \n",
       "VVLLHGPPGTGK              17818       31684           0.047687   \n",
       "YFTLGLPTGSTPLGCYK         33591       81654           0.044282   \n",
       "YGDGGSSFQSTTGHCVHMR       16005       24877           0.014752   \n",
       "\n",
       "                     probability_large  \n",
       "peptide                                 \n",
       "AMGIMNSFLNDIFER               0.000580  \n",
       "DIMLATGK                      0.000099  \n",
       "ESYPVFYLFR                    0.001142  \n",
       "LLPLNDCR                      0.000185  \n",
       "NMLLTLEQEAK                   0.006502  \n",
       "SYSDPPLK                      0.005276  \n",
       "VVLLHGPPGTGK                  0.000066  \n",
       "YFTLGLPTGSTPLGCYK             0.000224  \n",
       "YGDGGSSFQSTTGHCVHMR           0.000031  "
      ]
     },
     "execution_count": 65,
     "metadata": {},
     "output_type": "execute_result"
    }
   ],
   "source": [
    "one_to_one[[\"scan_small\", \"scan_large\", \"probability_small\", \"probability_large\"]]"
   ]
  },
  {
   "cell_type": "code",
   "execution_count": 100,
   "metadata": {},
   "outputs": [
    {
     "data": {
      "text/html": [
       "<div>\n",
       "<style scoped>\n",
       "    .dataframe tbody tr th:only-of-type {\n",
       "        vertical-align: middle;\n",
       "    }\n",
       "\n",
       "    .dataframe tbody tr th {\n",
       "        vertical-align: top;\n",
       "    }\n",
       "\n",
       "    .dataframe thead th {\n",
       "        text-align: right;\n",
       "    }\n",
       "</style>\n",
       "<table border=\"1\" class=\"dataframe\">\n",
       "  <thead>\n",
       "    <tr style=\"text-align: right;\">\n",
       "      <th></th>\n",
       "      <th>scan_small</th>\n",
       "      <th>scan_large</th>\n",
       "    </tr>\n",
       "    <tr>\n",
       "      <th>peptide</th>\n",
       "      <th></th>\n",
       "      <th></th>\n",
       "    </tr>\n",
       "  </thead>\n",
       "  <tbody>\n",
       "    <tr>\n",
       "      <th>ANGMGVIGQDGLLFK</th>\n",
       "      <td>31217</td>\n",
       "      <td>75392</td>\n",
       "    </tr>\n",
       "    <tr>\n",
       "      <th>AVQFTEEK</th>\n",
       "      <td>15834</td>\n",
       "      <td>22145</td>\n",
       "    </tr>\n",
       "    <tr>\n",
       "      <th>EAELLEPLMPAIR</th>\n",
       "      <td>33789</td>\n",
       "      <td>84647</td>\n",
       "    </tr>\n",
       "    <tr>\n",
       "      <th>ECFYQPMPLK</th>\n",
       "      <td>24934</td>\n",
       "      <td>58444</td>\n",
       "    </tr>\n",
       "    <tr>\n",
       "      <th>EVPGPDCR</th>\n",
       "      <td>12677</td>\n",
       "      <td>17753</td>\n",
       "    </tr>\n",
       "    <tr>\n",
       "      <th>EVQMGDFVR</th>\n",
       "      <td>23510</td>\n",
       "      <td>51163</td>\n",
       "    </tr>\n",
       "    <tr>\n",
       "      <th>FQQQLEQLSAMGFLNR</th>\n",
       "      <td>34100</td>\n",
       "      <td>81625</td>\n",
       "    </tr>\n",
       "    <tr>\n",
       "      <th>FSVSPVVR</th>\n",
       "      <td>20899</td>\n",
       "      <td>43790</td>\n",
       "    </tr>\n",
       "    <tr>\n",
       "      <th>HPQPGAVELAAK</th>\n",
       "      <td>14701</td>\n",
       "      <td>22689</td>\n",
       "    </tr>\n",
       "    <tr>\n",
       "      <th>IDATQVEVNPFGETPEGQVVCFDAK</th>\n",
       "      <td>32298</td>\n",
       "      <td>85213</td>\n",
       "    </tr>\n",
       "    <tr>\n",
       "      <th>IELEEMGPSLDLVLR</th>\n",
       "      <td>38228</td>\n",
       "      <td>92035</td>\n",
       "    </tr>\n",
       "    <tr>\n",
       "      <th>LFECDRDQMYYNLLK</th>\n",
       "      <td>29225</td>\n",
       "      <td>69458</td>\n",
       "    </tr>\n",
       "    <tr>\n",
       "      <th>LNWLSVDFNNWK</th>\n",
       "      <td>38969</td>\n",
       "      <td>88717</td>\n",
       "    </tr>\n",
       "    <tr>\n",
       "      <th>NGGQILIADLR</th>\n",
       "      <td>30738</td>\n",
       "      <td>59769</td>\n",
       "    </tr>\n",
       "    <tr>\n",
       "      <th>NLPIYSEEIVEMYK</th>\n",
       "      <td>33338</td>\n",
       "      <td>79648</td>\n",
       "    </tr>\n",
       "    <tr>\n",
       "      <th>QQSAQSQVSTTAENK</th>\n",
       "      <td>11764</td>\n",
       "      <td>14093</td>\n",
       "    </tr>\n",
       "    <tr>\n",
       "      <th>TSAGTTDPEEATR</th>\n",
       "      <td>12012</td>\n",
       "      <td>16543</td>\n",
       "    </tr>\n",
       "    <tr>\n",
       "      <th>VLVAQHDVYK</th>\n",
       "      <td>15296</td>\n",
       "      <td>23864</td>\n",
       "    </tr>\n",
       "  </tbody>\n",
       "</table>\n",
       "</div>"
      ],
      "text/plain": [
       "                           scan_small  scan_large\n",
       "peptide                                          \n",
       "ANGMGVIGQDGLLFK                 31217       75392\n",
       "AVQFTEEK                        15834       22145\n",
       "EAELLEPLMPAIR                   33789       84647\n",
       "ECFYQPMPLK                      24934       58444\n",
       "EVPGPDCR                        12677       17753\n",
       "EVQMGDFVR                       23510       51163\n",
       "FQQQLEQLSAMGFLNR                34100       81625\n",
       "FSVSPVVR                        20899       43790\n",
       "HPQPGAVELAAK                    14701       22689\n",
       "IDATQVEVNPFGETPEGQVVCFDAK       32298       85213\n",
       "IELEEMGPSLDLVLR                 38228       92035\n",
       "LFECDRDQMYYNLLK                 29225       69458\n",
       "LNWLSVDFNNWK                    38969       88717\n",
       "NGGQILIADLR                     30738       59769\n",
       "NLPIYSEEIVEMYK                  33338       79648\n",
       "QQSAQSQVSTTAENK                 11764       14093\n",
       "TSAGTTDPEEATR                   12012       16543\n",
       "VLVAQHDVYK                      15296       23864"
      ]
     },
     "execution_count": 100,
     "metadata": {},
     "output_type": "execute_result"
    }
   ],
   "source": [
    "two_to_one[[\"scan_small\", \"scan_large\"]]"
   ]
  },
  {
   "cell_type": "code",
   "execution_count": 67,
   "metadata": {},
   "outputs": [
    {
     "data": {
      "text/html": [
       "<div>\n",
       "<style scoped>\n",
       "    .dataframe tbody tr th:only-of-type {\n",
       "        vertical-align: middle;\n",
       "    }\n",
       "\n",
       "    .dataframe tbody tr th {\n",
       "        vertical-align: top;\n",
       "    }\n",
       "\n",
       "    .dataframe thead th {\n",
       "        text-align: right;\n",
       "    }\n",
       "</style>\n",
       "<table border=\"1\" class=\"dataframe\">\n",
       "  <thead>\n",
       "    <tr style=\"text-align: right;\">\n",
       "      <th></th>\n",
       "      <th>scan_small</th>\n",
       "      <th>scan_large</th>\n",
       "    </tr>\n",
       "    <tr>\n",
       "      <th>peptide</th>\n",
       "      <th></th>\n",
       "      <th></th>\n",
       "    </tr>\n",
       "  </thead>\n",
       "  <tbody>\n",
       "    <tr>\n",
       "      <th>APLPDLYPFGTMR</th>\n",
       "      <td>33701</td>\n",
       "      <td>81910</td>\n",
       "    </tr>\n",
       "    <tr>\n",
       "      <th>KPGGFDISLFYR</th>\n",
       "      <td>30548</td>\n",
       "      <td>68351</td>\n",
       "    </tr>\n",
       "    <tr>\n",
       "      <th>LFVYDPNNPPSSEVLR</th>\n",
       "      <td>28094</td>\n",
       "      <td>71613</td>\n",
       "    </tr>\n",
       "    <tr>\n",
       "      <th>LGGTIDDCELVEGLVLTQK</th>\n",
       "      <td>34774</td>\n",
       "      <td>86622</td>\n",
       "    </tr>\n",
       "    <tr>\n",
       "      <th>LSSCDSFTSTINELNHCLSLR</th>\n",
       "      <td>34108</td>\n",
       "      <td>78348</td>\n",
       "    </tr>\n",
       "  </tbody>\n",
       "</table>\n",
       "</div>"
      ],
      "text/plain": [
       "                       scan_small  scan_large\n",
       "peptide                                      \n",
       "APLPDLYPFGTMR               33701       81910\n",
       "KPGGFDISLFYR                30548       68351\n",
       "LFVYDPNNPPSSEVLR            28094       71613\n",
       "LGGTIDDCELVEGLVLTQK         34774       86622\n",
       "LSSCDSFTSTINELNHCLSLR       34108       78348"
      ]
     },
     "execution_count": 67,
     "metadata": {},
     "output_type": "execute_result"
    }
   ],
   "source": [
    "three_to_one[[\"scan_small\", \"scan_large\"]]"
   ]
  },
  {
   "cell_type": "code",
   "execution_count": 68,
   "metadata": {},
   "outputs": [
    {
     "data": {
      "text/html": [
       "<div>\n",
       "<style scoped>\n",
       "    .dataframe tbody tr th:only-of-type {\n",
       "        vertical-align: middle;\n",
       "    }\n",
       "\n",
       "    .dataframe tbody tr th {\n",
       "        vertical-align: top;\n",
       "    }\n",
       "\n",
       "    .dataframe thead th {\n",
       "        text-align: right;\n",
       "    }\n",
       "</style>\n",
       "<table border=\"1\" class=\"dataframe\">\n",
       "  <thead>\n",
       "    <tr style=\"text-align: right;\">\n",
       "      <th></th>\n",
       "      <th>scan_small</th>\n",
       "      <th>scan_large</th>\n",
       "    </tr>\n",
       "    <tr>\n",
       "      <th>peptide</th>\n",
       "      <th></th>\n",
       "      <th></th>\n",
       "    </tr>\n",
       "  </thead>\n",
       "  <tbody>\n",
       "    <tr>\n",
       "      <th>ASTNAMLISAGLPPLK</th>\n",
       "      <td>30084</td>\n",
       "      <td>75555</td>\n",
       "    </tr>\n",
       "    <tr>\n",
       "      <th>ILDVLEEIPK</th>\n",
       "      <td>32393</td>\n",
       "      <td>79258</td>\n",
       "    </tr>\n",
       "  </tbody>\n",
       "</table>\n",
       "</div>"
      ],
      "text/plain": [
       "                  scan_small  scan_large\n",
       "peptide                                 \n",
       "ASTNAMLISAGLPPLK       30084       75555\n",
       "ILDVLEEIPK             32393       79258"
      ]
     },
     "execution_count": 68,
     "metadata": {},
     "output_type": "execute_result"
    }
   ],
   "source": [
    "four_to_one[[\"scan_small\", \"scan_large\"]]"
   ]
  },
  {
   "cell_type": "code",
   "execution_count": 69,
   "metadata": {},
   "outputs": [
    {
     "name": "stderr",
     "output_type": "stream",
     "text": [
      "/opt/anaconda3/lib/python3.8/site-packages/pandas/core/ops/array_ops.py:253: FutureWarning: elementwise comparison failed; returning scalar instead, but in the future will perform elementwise comparison\n",
      "  res_values = method(rvalues)\n"
     ]
    },
    {
     "data": {
      "text/html": [
       "<div>\n",
       "<style scoped>\n",
       "    .dataframe tbody tr th:only-of-type {\n",
       "        vertical-align: middle;\n",
       "    }\n",
       "\n",
       "    .dataframe tbody tr th {\n",
       "        vertical-align: top;\n",
       "    }\n",
       "\n",
       "    .dataframe thead th {\n",
       "        text-align: right;\n",
       "    }\n",
       "</style>\n",
       "<table border=\"1\" class=\"dataframe\">\n",
       "  <thead>\n",
       "    <tr style=\"text-align: right;\">\n",
       "      <th></th>\n",
       "      <th>decoy_small</th>\n",
       "      <th>scan_small</th>\n",
       "      <th>probability_small</th>\n",
       "      <th>Matched Ion Series_small</th>\n",
       "      <th>Matched Ion Intensities_small</th>\n",
       "      <th>Matched Ion Counts_small</th>\n",
       "      <th>Matched Ion Mass Diff (Ppm)_small</th>\n",
       "      <th>b_peaks_small</th>\n",
       "      <th>y_peaks_small</th>\n",
       "      <th>len_small</th>\n",
       "      <th>...</th>\n",
       "      <th>diff_b</th>\n",
       "      <th>intensity_small</th>\n",
       "      <th>intensity_large</th>\n",
       "      <th>top3_small</th>\n",
       "      <th>bottom3_small</th>\n",
       "      <th>top3_large</th>\n",
       "      <th>bottom3_large</th>\n",
       "      <th>intensity_diff_small</th>\n",
       "      <th>intensity_diff_large</th>\n",
       "      <th>intensity_diff_ratio</th>\n",
       "    </tr>\n",
       "    <tr>\n",
       "      <th>peptide</th>\n",
       "      <th></th>\n",
       "      <th></th>\n",
       "      <th></th>\n",
       "      <th></th>\n",
       "      <th></th>\n",
       "      <th></th>\n",
       "      <th></th>\n",
       "      <th></th>\n",
       "      <th></th>\n",
       "      <th></th>\n",
       "      <th></th>\n",
       "      <th></th>\n",
       "      <th></th>\n",
       "      <th></th>\n",
       "      <th></th>\n",
       "      <th></th>\n",
       "      <th></th>\n",
       "      <th></th>\n",
       "      <th></th>\n",
       "      <th></th>\n",
       "      <th></th>\n",
       "    </tr>\n",
       "  </thead>\n",
       "  <tbody>\n",
       "  </tbody>\n",
       "</table>\n",
       "<p>0 rows × 32 columns</p>\n",
       "</div>"
      ],
      "text/plain": [
       "Empty DataFrame\n",
       "Columns: [decoy_small, scan_small, probability_small, Matched Ion Series_small, Matched Ion Intensities_small, Matched Ion Counts_small, Matched Ion Mass Diff (Ppm)_small, b_peaks_small, y_peaks_small, len_small, decoy_large, scan_large, probability_large, Matched Ion Series_large, Matched Ion Intensities_large, Matched Ion Counts_large, Matched Ion Mass Diff (Ppm)_large, b_peaks_large, y_peaks_large, len_large, diff_total, diff_y, diff_b, intensity_small, intensity_large, top3_small, bottom3_small, top3_large, bottom3_large, intensity_diff_small, intensity_diff_large, intensity_diff_ratio]\n",
       "Index: []\n",
       "\n",
       "[0 rows x 32 columns]"
      ]
     },
     "execution_count": 69,
     "metadata": {},
     "output_type": "execute_result"
    }
   ],
   "source": [
    "both[both['scan_small']==\"35078\"]"
   ]
  },
  {
   "cell_type": "code",
   "execution_count": 70,
   "metadata": {},
   "outputs": [],
   "source": [
    "def count_len(row):\n",
    "    length = len(row[\"peptide\"])\n",
    "    return length\n",
    "\n",
    "small[\"len\"]= small.apply(lambda row: count_len(row), axis=1)\n",
    "small_7to14 = small[(small['len'] >=7) & (small['len'] <=14)]\n",
    "small_14to21 = small[(small['len'] >14) & (small['len'] <=21)]\n",
    "small_21to44 = small[(small['len'] >21) & (small['len'] <=44)]\n",
    "\n",
    "large[\"len\"]= large.apply(lambda row: count_len(row), axis=1)\n",
    "large_7to14 = large[(large['len'] >=7) & (large['len'] <=14)]\n",
    "large_14to21 = large[(large['len'] >14) & (large['len'] <=21)]\n",
    "large_21to44 = large[(large['len'] >21) & (large['len'] <=44)]"
   ]
  },
  {
   "cell_type": "code",
   "execution_count": 71,
   "metadata": {},
   "outputs": [
    {
     "data": {
      "image/png": "[encoded data removed]",
      "text/plain": [
       "<Figure size 576x288 with 1 Axes>"
      ]
     },
     "metadata": {
      "needs_background": "light"
     },
     "output_type": "display_data"
    }
   ],
   "source": [
    "plot = sns.catplot(x=\"diff_b\", color= '#abc9ea', hue=None,\n",
    "                data=both, kind=\"count\",\n",
    "                height=4, aspect=2).set(title=\"b peaks in sc - b peaks in bulk\")"
   ]
  },
  {
   "cell_type": "code",
   "execution_count": 72,
   "metadata": {},
   "outputs": [
    {
     "data": {
      "image/png": "[encoded data removed]",
      "text/plain": [
       "<Figure size 432x288 with 1 Axes>"
      ]
     },
     "metadata": {
      "needs_background": "light"
     },
     "output_type": "display_data"
    }
   ],
   "source": [
    "x = small[\"b_peaks\"]\n",
    "y = large[\"b_peaks\"]\n",
    "plt.hist([x, y], bins = 20)\n",
    "plt.legend(['SC', 'bulk'])\n",
    "plt.title(\"b peaks--peptide length: all\")\n",
    "\n",
    "plt.show()"
   ]
  },
  {
   "cell_type": "code",
   "execution_count": 73,
   "metadata": {},
   "outputs": [
    {
     "data": {
      "image/png": "[encoded data removed]",
      "text/plain": [
       "<Figure size 432x288 with 1 Axes>"
      ]
     },
     "metadata": {
      "needs_background": "light"
     },
     "output_type": "display_data"
    }
   ],
   "source": [
    "x = small_7to14[\"b_peaks\"]\n",
    "y = large_7to14[\"b_peaks\"]\n",
    "plt.hist([x, y], bins = 20)\n",
    "plt.legend(['SC', 'bulk'])\n",
    "plt.title(\"b peaks--peptide length: 7-14\")\n",
    "plt.show()"
   ]
  },
  {
   "cell_type": "code",
   "execution_count": 74,
   "metadata": {},
   "outputs": [
    {
     "data": {
      "image/png": "[encoded data removed]",
      "text/plain": [
       "<Figure size 432x288 with 1 Axes>"
      ]
     },
     "metadata": {
      "needs_background": "light"
     },
     "output_type": "display_data"
    }
   ],
   "source": [
    "x = small_14to21[\"b_peaks\"]\n",
    "y = large_14to21[\"b_peaks\"]\n",
    "plt.hist([x, y], bins = 20)\n",
    "plt.legend(['SC', 'bulk'])\n",
    "plt.title(\"b peaks--peptide length: 14-21\")\n",
    "plt.show()"
   ]
  },
  {
   "cell_type": "code",
   "execution_count": 75,
   "metadata": {},
   "outputs": [
    {
     "data": {
      "image/png": "[encoded data removed]",
      "text/plain": [
       "<Figure size 432x288 with 1 Axes>"
      ]
     },
     "metadata": {
      "needs_background": "light"
     },
     "output_type": "display_data"
    }
   ],
   "source": [
    "x = small_21to44[\"b_peaks\"]\n",
    "y = large_21to44[\"b_peaks\"]\n",
    "plt.hist([x, y], bins = 20)\n",
    "plt.legend(['SC', 'bulk'])\n",
    "plt.title(\"b peaks--peptide length: 21-44\")\n",
    "plt.show()"
   ]
  },
  {
   "cell_type": "code",
   "execution_count": 76,
   "metadata": {},
   "outputs": [
    {
     "data": {
      "image/png": "[encoded data removed]",
      "text/plain": [
       "<Figure size 432x288 with 1 Axes>"
      ]
     },
     "metadata": {
      "needs_background": "light"
     },
     "output_type": "display_data"
    }
   ],
   "source": [
    "x = small[\"y_peaks\"]\n",
    "y = large[\"y_peaks\"]\n",
    "plt.hist([x, y], bins = 20)\n",
    "plt.legend(['SC', 'bulk'])\n",
    "plt.title(\"y peaks--peptide length: all\")\n",
    "plt.show()"
   ]
  },
  {
   "cell_type": "code",
   "execution_count": 77,
   "metadata": {},
   "outputs": [
    {
     "data": {
      "image/png": "[encoded data removed]",
      "text/plain": [
       "<Figure size 432x288 with 1 Axes>"
      ]
     },
     "metadata": {
      "needs_background": "light"
     },
     "output_type": "display_data"
    }
   ],
   "source": [
    "x = small_7to14[\"y_peaks\"]\n",
    "y = large_7to14[\"y_peaks\"]\n",
    "plt.hist([x, y], bins = 20)\n",
    "plt.legend(['SC', 'bulk'])\n",
    "plt.title(\"y peaks--peptide length: 7-14\")\n",
    "plt.show()"
   ]
  },
  {
   "cell_type": "code",
   "execution_count": 78,
   "metadata": {},
   "outputs": [
    {
     "data": {
      "image/png": "[encoded data removed]",
      "text/plain": [
       "<Figure size 432x288 with 1 Axes>"
      ]
     },
     "metadata": {
      "needs_background": "light"
     },
     "output_type": "display_data"
    }
   ],
   "source": [
    "x = small_14to21[\"y_peaks\"]\n",
    "y = large_14to21[\"y_peaks\"]\n",
    "plt.hist([x, y], bins = 20)\n",
    "plt.legend(['SC', 'bulk'])\n",
    "plt.title(\"y peaks--peptide length: 14-21\")\n",
    "plt.show()"
   ]
  },
  {
   "cell_type": "code",
   "execution_count": 79,
   "metadata": {},
   "outputs": [
    {
     "data": {
      "image/png": "[encoded data removed]",
      "text/plain": [
       "<Figure size 432x288 with 1 Axes>"
      ]
     },
     "metadata": {
      "needs_background": "light"
     },
     "output_type": "display_data"
    }
   ],
   "source": [
    "x = small_21to44[\"y_peaks\"]\n",
    "y = large_21to44[\"y_peaks\"]\n",
    "plt.hist([x, y], bins = 20)\n",
    "plt.legend(['SC', 'bulk'])\n",
    "plt.title(\"y peaks--peptide length: 21-44\")\n",
    "plt.show()"
   ]
  },
  {
   "cell_type": "code",
   "execution_count": 80,
   "metadata": {},
   "outputs": [
    {
     "data": {
      "image/png": "[encoded data removed]",
      "text/plain": [
       "<Figure size 432x288 with 1 Axes>"
      ]
     },
     "metadata": {
      "needs_background": "light"
     },
     "output_type": "display_data"
    }
   ],
   "source": [
    "x = small[\"Matched Ion Counts\"]\n",
    "y = large[\"Matched Ion Counts\"]\n",
    "plt.hist([x, y], bins=20)\n",
    "plt.legend(['sc', 'bulk'])\n",
    "plt.title(\"y and b peaks\")\n",
    "plt.show()\n"
   ]
  }
 ],
 "metadata": {
  "kernelspec": {
   "display_name": "Python 3",
   "language": "python",
   "name": "python3"
  },
  "language_info": {
   "codemirror_mode": {
    "name": "ipython",
    "version": 3
   },
   "file_extension": ".py",
   "mimetype": "text/x-python",
   "name": "python",
   "nbconvert_exporter": "python",
   "pygments_lexer": "ipython3",
   "version": "3.8.3"
  }
 },
 "nbformat": 4,
 "nbformat_minor": 4
}
