{
 "cells": [
  {
   "cell_type": "code",
   "execution_count": 1,
   "metadata": {},
   "outputs": [],
   "source": [
    "import pandas as pd"
   ]
  },
  {
   "cell_type": "code",
   "execution_count": 2,
   "metadata": {},
   "outputs": [],
   "source": [
    "import data_loader"
   ]
  },
  {
   "cell_type": "code",
   "execution_count": 19,
   "metadata": {},
   "outputs": [
    {
     "name": "stdout",
     "output_type": "stream",
     "text": [
      "Number of unique peptides:  8277 Number of unique spectra:  8778\n",
      "Number of unique peptides:  5437 Number of unique spectra:  5774\n"
     ]
    }
   ],
   "source": [
    "df = data_loader.load_and_clean(\"2ng_2_after_outage\") #decoys dropped. Oonly unique scan numbers\n",
    "data_loader.print_stats(df)\n",
    "\n",
    "df2 = data_loader.set_cutoff(.01, df)\n",
    "data_loader.print_stats(df2)"
   ]
  },
  {
   "cell_type": "code",
   "execution_count": 21,
   "metadata": {},
   "outputs": [
    {
     "name": "stdout",
     "output_type": "stream",
     "text": [
      "Number of unique peptides:  5833 Number of unique spectra:  6053\n",
      "Number of unique peptides:  607 Number of unique spectra:  624\n"
     ]
    }
   ],
   "source": [
    "df = data_loader.load_and_clean(\"2ng_1\") #decoys dropped. Oonly unique scan numbers\n",
    "data_loader.print_stats(df)\n",
    "\n",
    "df2 = data_loader.set_cutoff(.01, df)\n",
    "data_loader.print_stats(df2)"
   ]
  },
  {
   "cell_type": "code",
   "execution_count": null,
   "metadata": {},
   "outputs": [],
   "source": [
    "#single cell"
   ]
  },
  {
   "cell_type": "code",
   "execution_count": 22,
   "metadata": {},
   "outputs": [
    {
     "name": "stdout",
     "output_type": "stream",
     "text": [
      "Number of unique peptides:  5325 Number of unique spectra:  5759\n",
      "Number of unique peptides:  2068 Number of unique spectra:  2290\n"
     ]
    }
   ],
   "source": [
    "df = data_loader.load_and_clean(\"singleCell_1\") #decoys dropped. Oonly unique scan numbers\n",
    "data_loader.print_stats(df)\n",
    "\n",
    "df2 = data_loader.set_cutoff(.01, df)\n",
    "data_loader.print_stats(df2)"
   ]
  },
  {
   "cell_type": "code",
   "execution_count": 23,
   "metadata": {},
   "outputs": [
    {
     "name": "stdout",
     "output_type": "stream",
     "text": [
      "Number of unique peptides:  5140 Number of unique spectra:  5503\n",
      "Number of unique peptides:  1641 Number of unique spectra:  1759\n"
     ]
    }
   ],
   "source": [
    "df = data_loader.load_and_clean(\"singleCell_2\") #decoys dropped. Oonly unique scan numbers\n",
    "data_loader.print_stats(df)\n",
    "\n",
    "df2 = data_loader.set_cutoff(.01, df)\n",
    "data_loader.print_stats(df2)"
   ]
  },
  {
   "cell_type": "code",
   "execution_count": 24,
   "metadata": {},
   "outputs": [
    {
     "name": "stdout",
     "output_type": "stream",
     "text": [
      "Number of unique peptides:  5097 Number of unique spectra:  5413\n",
      "Number of unique peptides:  1446 Number of unique spectra:  1547\n"
     ]
    }
   ],
   "source": [
    "df = data_loader.load_and_clean(\"singleCell_3\")\n",
    "data_loader.print_stats(df)\n",
    "\n",
    "df2 = data_loader.set_cutoff(.01, df)\n",
    "data_loader.print_stats(df2)"
   ]
  },
  {
   "cell_type": "code",
   "execution_count": null,
   "metadata": {},
   "outputs": [],
   "source": [
    "#50 ng"
   ]
  },
  {
   "cell_type": "code",
   "execution_count": 27,
   "metadata": {},
   "outputs": [
    {
     "name": "stdout",
     "output_type": "stream",
     "text": [
      "Number of unique peptides:  12826 Number of unique spectra:  13894\n",
      "Number of unique peptides:  8755 Number of unique spectra:  9577\n"
     ]
    }
   ],
   "source": [
    "df = data_loader.load_and_clean(\"50ng_1\")\n",
    "data_loader.print_stats(df)\n",
    "\n",
    "df2 = data_loader.set_cutoff(.01, df)\n",
    "data_loader.print_stats(df2)\n",
    "\n",
    "#should be getting 14-15 thounsand peptides"
   ]
  },
  {
   "cell_type": "code",
   "execution_count": 28,
   "metadata": {},
   "outputs": [
    {
     "name": "stdout",
     "output_type": "stream",
     "text": [
      "Number of unique peptides:  12662 Number of unique spectra:  13792\n",
      "Number of unique peptides:  8653 Number of unique spectra:  9521\n"
     ]
    }
   ],
   "source": [
    "df = data_loader.load_and_clean(\"50ng_2\")\n",
    "data_loader.print_stats(df)\n",
    "\n",
    "df2 = data_loader.set_cutoff(.01, df)\n",
    "data_loader.print_stats(df2)"
   ]
  },
  {
   "cell_type": "code",
   "execution_count": 30,
   "metadata": {},
   "outputs": [
    {
     "name": "stdout",
     "output_type": "stream",
     "text": [
      "Number of unique peptides:  12629 Number of unique spectra:  13796\n",
      "Number of unique peptides:  8911 Number of unique spectra:  9800\n"
     ]
    }
   ],
   "source": [
    "df = data_loader.load_and_clean(\"50ng_3\")\n",
    "data_loader.print_stats(df)\n",
    "\n",
    "df2 = data_loader.set_cutoff(.01, df)\n",
    "data_loader.print_stats(df2)"
   ]
  },
  {
   "cell_type": "code",
   "execution_count": 31,
   "metadata": {},
   "outputs": [
    {
     "name": "stdout",
     "output_type": "stream",
     "text": [
      "Number of unique peptides:  12609 Number of unique spectra:  13738\n",
      "Number of unique peptides:  8752 Number of unique spectra:  9595\n"
     ]
    }
   ],
   "source": [
    "df = data_loader.load_and_clean(\"50ng_4\")\n",
    "data_loader.print_stats(df)\n",
    "\n",
    "df2 = data_loader.set_cutoff(.01, df)\n",
    "data_loader.print_stats(df2)"
   ]
  },
  {
   "cell_type": "code",
   "execution_count": 32,
   "metadata": {},
   "outputs": [
    {
     "name": "stdout",
     "output_type": "stream",
     "text": [
      "Number of unique peptides:  12826 Number of unique spectra:  13894\n",
      "Number of unique peptides:  8755 Number of unique spectra:  9577\n"
     ]
    }
   ],
   "source": [
    "df = data_loader.load_and_clean(\"50ng_1\")\n",
    "data_loader.print_stats(df)\n",
    "\n",
    "df2 = data_loader.set_cutoff(.01, df)\n",
    "data_loader.print_stats(df2)"
   ]
  },
  {
   "cell_type": "code",
   "execution_count": null,
   "metadata": {},
   "outputs": [],
   "source": []
  },
  {
   "cell_type": "code",
   "execution_count": null,
   "metadata": {},
   "outputs": [],
   "source": []
  },
  {
   "cell_type": "code",
   "execution_count": null,
   "metadata": {},
   "outputs": [],
   "source": []
  },
  {
   "cell_type": "code",
   "execution_count": null,
   "metadata": {},
   "outputs": [],
   "source": []
  },
  {
   "cell_type": "code",
   "execution_count": null,
   "metadata": {},
   "outputs": [],
   "source": []
  },
  {
   "cell_type": "code",
   "execution_count": null,
   "metadata": {},
   "outputs": [],
   "source": [
    "df = data_loader.load_and_clean(\"singleCell_4\")\n",
    "data_loader.print_stats(df)\n",
    "\n",
    "df2 = data_loader.set_cutoff(.01, df)\n",
    "data_loader.print_stats(df2)"
   ]
  },
  {
   "cell_type": "code",
   "execution_count": 5,
   "metadata": {},
   "outputs": [
    {
     "name": "stdout",
     "output_type": "stream",
     "text": [
      "Number of unique peptides:  5325 Number of unique spectra:  5759\n"
     ]
    }
   ],
   "source": [
    "df = data_loader.load_and_clean(\"singleCell_1\")\n",
    "data_loader.print_stats(df)"
   ]
  },
  {
   "cell_type": "code",
   "execution_count": 6,
   "metadata": {},
   "outputs": [
    {
     "name": "stdout",
     "output_type": "stream",
     "text": [
      "Number of unique peptides:  5140 Number of unique spectra:  5503\n"
     ]
    }
   ],
   "source": [
    "df = data_loader.load_and_clean(\"singleCell_2\")\n",
    "data_loader.print_stats(df)"
   ]
  },
  {
   "cell_type": "code",
   "execution_count": 7,
   "metadata": {},
   "outputs": [
    {
     "name": "stdout",
     "output_type": "stream",
     "text": [
      "Number of unique peptides:  5097 Number of unique spectra:  5413\n"
     ]
    }
   ],
   "source": [
    "df = data_loader.load_and_clean(\"singleCell_3\")\n",
    "data_loader.print_stats(df)"
   ]
  },
  {
   "cell_type": "code",
   "execution_count": 8,
   "metadata": {},
   "outputs": [
    {
     "name": "stdout",
     "output_type": "stream",
     "text": [
      "Number of unique peptides:  4646 Number of unique spectra:  5104\n"
     ]
    }
   ],
   "source": [
    "df = data_loader.load_and_clean(\"singleCell_4\")\n",
    "data_loader.print_stats(df)"
   ]
  },
  {
   "cell_type": "code",
   "execution_count": 9,
   "metadata": {},
   "outputs": [
    {
     "name": "stdout",
     "output_type": "stream",
     "text": [
      "Number of unique peptides:  12826 Number of unique spectra:  13894\n"
     ]
    }
   ],
   "source": [
    "df = data_loader.load_and_clean(\"50ng_1\")\n",
    "data_loader.print_stats(df)"
   ]
  },
  {
   "cell_type": "code",
   "execution_count": 10,
   "metadata": {},
   "outputs": [
    {
     "name": "stdout",
     "output_type": "stream",
     "text": [
      "Number of unique peptides:  12662 Number of unique spectra:  13792\n"
     ]
    }
   ],
   "source": [
    "df = data_loader.load_and_clean(\"50ng_2\")\n",
    "data_loader.print_stats(df)"
   ]
  },
  {
   "cell_type": "code",
   "execution_count": 11,
   "metadata": {},
   "outputs": [
    {
     "name": "stdout",
     "output_type": "stream",
     "text": [
      "Number of unique peptides:  12629 Number of unique spectra:  13796\n"
     ]
    }
   ],
   "source": [
    "df = data_loader.load_and_clean(\"50ng_3\")\n",
    "data_loader.print_stats(df)"
   ]
  },
  {
   "cell_type": "code",
   "execution_count": 12,
   "metadata": {},
   "outputs": [
    {
     "name": "stdout",
     "output_type": "stream",
     "text": [
      "Number of unique peptides:  12609 Number of unique spectra:  13738\n"
     ]
    }
   ],
   "source": [
    "df = data_loader.load_and_clean(\"50ng_4\")\n",
    "data_loader.print_stats(df)"
   ]
  },
  {
   "cell_type": "code",
   "execution_count": 13,
   "metadata": {},
   "outputs": [
    {
     "name": "stdout",
     "output_type": "stream",
     "text": [
      "Number of unique peptides:  12401 Number of unique spectra:  13536\n"
     ]
    }
   ],
   "source": [
    "df = data_loader.load_and_clean(\"50ng_5\")\n",
    "data_loader.print_stats(df)"
   ]
  },
  {
   "cell_type": "code",
   "execution_count": 14,
   "metadata": {},
   "outputs": [
    {
     "name": "stdout",
     "output_type": "stream",
     "text": [
      "Number of unique peptides:  5833 Number of unique spectra:  6053\n"
     ]
    }
   ],
   "source": [
    "df = data_loader.load_and_clean(\"2ng_1\")\n",
    "data_loader.print_stats(df)"
   ]
  },
  {
   "cell_type": "code",
   "execution_count": 15,
   "metadata": {},
   "outputs": [
    {
     "name": "stdout",
     "output_type": "stream",
     "text": [
      "Number of unique peptides:  8277 Number of unique spectra:  8778\n"
     ]
    }
   ],
   "source": [
    "df = data_loader.load_and_clean(\"2ng_2_after_outage\")\n",
    "data_loader.print_stats(df)"
   ]
  },
  {
   "cell_type": "code",
   "execution_count": null,
   "metadata": {},
   "outputs": [],
   "source": []
  },
  {
   "cell_type": "code",
   "execution_count": null,
   "metadata": {},
   "outputs": [],
   "source": []
  },
  {
   "cell_type": "code",
   "execution_count": null,
   "metadata": {},
   "outputs": [],
   "source": []
  },
  {
   "cell_type": "code",
   "execution_count": null,
   "metadata": {},
   "outputs": [],
   "source": []
  },
  {
   "cell_type": "code",
   "execution_count": null,
   "metadata": {},
   "outputs": [],
   "source": []
  },
  {
   "cell_type": "code",
   "execution_count": 16,
   "metadata": {},
   "outputs": [],
   "source": [
    "#Find how many unique peptides there are\n",
    "unique_pep = df['new_peptide'].nunique()\n",
    "number_uniq_pep = df['new_peptide'].nunique()\n",
    "\n",
    "#fine how many unique spectra there are\n",
    "number_spectra = df[\"SpecID\"].nunique()"
   ]
  },
  {
   "cell_type": "code",
   "execution_count": 17,
   "metadata": {},
   "outputs": [
    {
     "name": "stdout",
     "output_type": "stream",
     "text": [
      "8277 8778\n"
     ]
    }
   ],
   "source": [
    "print(number_uniq_pep, number_spectra)"
   ]
  }
 ],
 "metadata": {
  "kernelspec": {
   "display_name": "Python 3",
   "language": "python",
   "name": "python3"
  },
  "language_info": {
   "codemirror_mode": {
    "name": "ipython",
    "version": 3
   },
   "file_extension": ".py",
   "mimetype": "text/x-python",
   "name": "python",
   "nbconvert_exporter": "python",
   "pygments_lexer": "ipython3",
   "version": "3.8.3"
  }
 },
 "nbformat": 4,
 "nbformat_minor": 4
}
