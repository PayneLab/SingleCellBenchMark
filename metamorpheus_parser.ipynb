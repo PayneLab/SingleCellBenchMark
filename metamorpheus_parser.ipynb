{
 "cells": [
  {
   "cell_type": "code",
   "execution_count": 65,
   "metadata": {},
   "outputs": [],
   "source": [
    "import pandas as pd\n"
   ]
  },
  {
   "cell_type": "code",
   "execution_count": 66,
   "metadata": {},
   "outputs": [],
   "source": [
    "mm_files = {}\n",
    "\n",
    "mm_files[\"2ng\"] = 'Ex_Auto_DrM3_30umT4_02ngQC_60m_half_PSMs.psmtsv.gz'\n",
    "mm_files[\".2ng\"] = 'Ex_Auto_DrM3_30umT4_2ngQC_60m_half_PSMs.psmtsv.gz'\n",
    "\n",
    "input_file = mm_files.get('2ng')\n",
    "data = pd.read_csv('Ex_Auto_DrM3_30umT4_2ngQC_60m_half_PSMs.psmtsv.gz', sep = '\\t')"
   ]
  },
  {
   "cell_type": "code",
   "execution_count": 67,
   "metadata": {},
   "outputs": [
    {
     "data": {
      "text/plain": [
       "Index(['File Name', 'Scan Number', 'Scan Retention Time',\n",
       "       'Num Experimental Peaks', 'Total Ion Current', 'Precursor Scan Number',\n",
       "       'Precursor Charge', 'Precursor MZ', 'Precursor Mass', 'Score',\n",
       "       'Delta Score', 'Notch', 'Base Sequence', 'Full Sequence',\n",
       "       'Essential Sequence', 'PSM Count (unambiguous, <0.01 q-value)', 'Mods',\n",
       "       'Mods Chemical Formulas', 'Mods Combined Chemical Formula',\n",
       "       'Num Variable Mods', 'Missed Cleavages', 'Peptide Monoisotopic Mass',\n",
       "       'Mass Diff (Da)', 'Mass Diff (ppm)', 'Protein Accession',\n",
       "       'Protein Name', 'Gene Name', 'Organism Name',\n",
       "       'Identified Sequence Variations', 'Splice Sites', 'Contaminant',\n",
       "       'Decoy', 'Peptide Description', 'Start and End Residues In Protein',\n",
       "       'Previous Amino Acid', 'Next Amino Acid', 'Theoreticals Searched',\n",
       "       'Decoy/Contaminant/Target', 'Matched Ion Series',\n",
       "       'Matched Ion Mass-To-Charge Ratios', 'Matched Ion Mass Diff (Da)',\n",
       "       'Matched Ion Mass Diff (Ppm)', 'Matched Ion Intensities',\n",
       "       'Matched Ion Counts', 'Normalized Spectral Angle', 'Localized Scores',\n",
       "       'Improvement Possible', 'Cumulative Target', 'Cumulative Decoy',\n",
       "       'QValue', 'Cumulative Target Notch', 'Cumulative Decoy Notch',\n",
       "       'QValue Notch', 'PEP', 'PEP_QValue'],\n",
       "      dtype='object')"
      ]
     },
     "execution_count": 67,
     "metadata": {},
     "output_type": "execute_result"
    }
   ],
   "source": [
    "data.columns"
   ]
  },
  {
   "cell_type": "code",
   "execution_count": 68,
   "metadata": {},
   "outputs": [],
   "source": [
    "#uniform naming\n",
    "data_new = data.rename({\"Decoy\": \"decoy\", \"Scan Number\": \"scan\", \"Base Sequence\": \"peptide\"}, axis=1)"
   ]
  },
  {
   "cell_type": "code",
   "execution_count": 69,
   "metadata": {},
   "outputs": [
    {
     "data": {
      "text/html": [
       "<div>\n",
       "<style scoped>\n",
       "    .dataframe tbody tr th:only-of-type {\n",
       "        vertical-align: middle;\n",
       "    }\n",
       "\n",
       "    .dataframe tbody tr th {\n",
       "        vertical-align: top;\n",
       "    }\n",
       "\n",
       "    .dataframe thead th {\n",
       "        text-align: right;\n",
       "    }\n",
       "</style>\n",
       "<table border=\"1\" class=\"dataframe\">\n",
       "  <thead>\n",
       "    <tr style=\"text-align: right;\">\n",
       "      <th></th>\n",
       "      <th>decoy</th>\n",
       "      <th>scan</th>\n",
       "      <th>peptide</th>\n",
       "      <th>PEP_QValue</th>\n",
       "    </tr>\n",
       "  </thead>\n",
       "  <tbody>\n",
       "    <tr>\n",
       "      <th>0</th>\n",
       "      <td>N</td>\n",
       "      <td>38422</td>\n",
       "      <td>AEGSDVANAVLDGADCIMLSGETAK</td>\n",
       "      <td>0.000000</td>\n",
       "    </tr>\n",
       "    <tr>\n",
       "      <th>1</th>\n",
       "      <td>N</td>\n",
       "      <td>41542</td>\n",
       "      <td>SNYLLNTTIAGVEEADVVLLVGTNPR</td>\n",
       "      <td>0.000000</td>\n",
       "    </tr>\n",
       "    <tr>\n",
       "      <th>2</th>\n",
       "      <td>N</td>\n",
       "      <td>31383</td>\n",
       "      <td>TIGGGDDSFNTFFSETGAGK</td>\n",
       "      <td>0.000001</td>\n",
       "    </tr>\n",
       "    <tr>\n",
       "      <th>3</th>\n",
       "      <td>N</td>\n",
       "      <td>30597</td>\n",
       "      <td>GGMGSGGLATGIAGGLAGMGGIQNEK</td>\n",
       "      <td>0.000001</td>\n",
       "    </tr>\n",
       "    <tr>\n",
       "      <th>4</th>\n",
       "      <td>N</td>\n",
       "      <td>31529</td>\n",
       "      <td>HIADLAGNSEVILPVPAFNVINGGSHAGNK</td>\n",
       "      <td>0.000000</td>\n",
       "    </tr>\n",
       "    <tr>\n",
       "      <th>...</th>\n",
       "      <td>...</td>\n",
       "      <td>...</td>\n",
       "      <td>...</td>\n",
       "      <td>...</td>\n",
       "    </tr>\n",
       "    <tr>\n",
       "      <th>24926</th>\n",
       "      <td>N</td>\n",
       "      <td>18301</td>\n",
       "      <td>DILHATFEESLDK</td>\n",
       "      <td>0.249032</td>\n",
       "    </tr>\n",
       "    <tr>\n",
       "      <th>24927</th>\n",
       "      <td>N</td>\n",
       "      <td>24504</td>\n",
       "      <td>DVDGFHVINVGR</td>\n",
       "      <td>0.103523</td>\n",
       "    </tr>\n",
       "    <tr>\n",
       "      <th>24928</th>\n",
       "      <td>Y</td>\n",
       "      <td>41778</td>\n",
       "      <td>ANLAEQNVVHLAELEHKTRVVEAEMSDLR</td>\n",
       "      <td>0.315856</td>\n",
       "    </tr>\n",
       "    <tr>\n",
       "      <th>24929</th>\n",
       "      <td>N</td>\n",
       "      <td>40038</td>\n",
       "      <td>EIEDAEKYSFMATVTK</td>\n",
       "      <td>0.306404</td>\n",
       "    </tr>\n",
       "    <tr>\n",
       "      <th>24930</th>\n",
       "      <td>N</td>\n",
       "      <td>21601</td>\n",
       "      <td>FDDSGSWRGR</td>\n",
       "      <td>0.330270</td>\n",
       "    </tr>\n",
       "  </tbody>\n",
       "</table>\n",
       "<p>24931 rows × 4 columns</p>\n",
       "</div>"
      ],
      "text/plain": [
       "      decoy   scan                         peptide  PEP_QValue\n",
       "0         N  38422       AEGSDVANAVLDGADCIMLSGETAK    0.000000\n",
       "1         N  41542      SNYLLNTTIAGVEEADVVLLVGTNPR    0.000000\n",
       "2         N  31383            TIGGGDDSFNTFFSETGAGK    0.000001\n",
       "3         N  30597      GGMGSGGLATGIAGGLAGMGGIQNEK    0.000001\n",
       "4         N  31529  HIADLAGNSEVILPVPAFNVINGGSHAGNK    0.000000\n",
       "...     ...    ...                             ...         ...\n",
       "24926     N  18301                   DILHATFEESLDK    0.249032\n",
       "24927     N  24504                    DVDGFHVINVGR    0.103523\n",
       "24928     Y  41778   ANLAEQNVVHLAELEHKTRVVEAEMSDLR    0.315856\n",
       "24929     N  40038                EIEDAEKYSFMATVTK    0.306404\n",
       "24930     N  21601                      FDDSGSWRGR    0.330270\n",
       "\n",
       "[24931 rows x 4 columns]"
      ]
     },
     "execution_count": 69,
     "metadata": {},
     "output_type": "execute_result"
    }
   ],
   "source": [
    "data_new.filter((['decoy', 'scan', 'peptide','PEP_QValue' ]))"
   ]
  },
  {
   "cell_type": "code",
   "execution_count": 70,
   "metadata": {},
   "outputs": [],
   "source": [
    "#dropping decoys\n",
    "decoys_dropped_df = data_new[data_new.decoy != 'N']\n",
    "\n",
    "#dropping duplicate scans\n",
    "no_duplicates_df = decoys_dropped_df.drop_duplicates(subset=['scan'])\n",
    "\n",
    "#dropping duplicate sequences\n",
    "only_unique_df = no_duplicates_df.drop_duplicates(subset=['peptide'])"
   ]
  },
  {
   "cell_type": "code",
   "execution_count": 64,
   "metadata": {},
   "outputs": [
    {
     "name": "stdout",
     "output_type": "stream",
     "text": [
      "24931\n",
      "2824\n"
     ]
    }
   ],
   "source": [
    "print(len(data))\n",
    "print(len(only_unique_df))"
   ]
  },
  {
   "cell_type": "code",
   "execution_count": null,
   "metadata": {},
   "outputs": [],
   "source": []
  },
  {
   "cell_type": "code",
   "execution_count": null,
   "metadata": {},
   "outputs": [],
   "source": []
  }
 ],
 "metadata": {
  "kernelspec": {
   "display_name": "Python 3",
   "language": "python",
   "name": "python3"
  },
  "language_info": {
   "codemirror_mode": {
    "name": "ipython",
    "version": 3
   },
   "file_extension": ".py",
   "mimetype": "text/x-python",
   "name": "python",
   "nbconvert_exporter": "python",
   "pygments_lexer": "ipython3",
   "version": "3.8.3"
  }
 },
 "nbformat": 4,
 "nbformat_minor": 4
}
