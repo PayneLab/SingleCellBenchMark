{
 "cells": [
  {
   "cell_type": "markdown",
   "metadata": {},
   "source": [
    "The purpose of this notebook is to test whether adding addition features of the number of max consecutive y peaks and \"perc_in_ladder\"(need to say better) helps MokaPot to score more PSMs at or below a certain cuttoff. "
   ]
  },
  {
   "cell_type": "code",
   "execution_count": 4,
   "metadata": {},
   "outputs": [],
   "source": [
    "import os\n",
    "import mokapot\n",
    "import numpy as np\n",
    "import pandas as pd\n",
    "import matplotlib.pyplot as plt\n",
    "import sys\n",
    "sys.path.append(\"..\")\n",
    "sys.path\n",
    "import data_loader as dl\n",
    "import scipy.stats as stats"
   ]
  },
  {
   "cell_type": "markdown",
   "metadata": {},
   "source": [
    "The purpose of this function is to clean up the original 'before' data so that we are not counting decoys or duplicate scans. AutoRT will not accept \"U\"s in the peptide sequence, so we are removing one scan from our data set that has this in it. "
   ]
  },
  {
   "cell_type": "code",
   "execution_count": 5,
   "metadata": {},
   "outputs": [],
   "source": [
    "def filter_data(df, prob_column):\n",
    "     #drop decoys\n",
    "    df = df[df[\"decoy\"]== False]\n",
    "    #sort by qvalue\n",
    "    df = df.sort_values(prob_column)\n",
    "    #Drop duplicates\n",
    "    df = df.drop_duplicates(subset=[\"scan\"], keep=\"first\") #keep highest scoring\n",
    "    \n",
    "    df = df.loc[~(df[\"Peptide\"].str.contains(\"U\"))] #removing the U\n",
    "\n",
    "    return df"
   ]
  },
  {
   "cell_type": "code",
   "execution_count": null,
   "metadata": {},
   "outputs": [],
   "source": []
  },
  {
   "cell_type": "markdown",
   "metadata": {},
   "source": [
    "This gives us the before data. It will not be run through MokaPot. It's purpose is to give us the ability to count how many PSMs originally are at or under a specific cutoff and compare that to the number we get after we run the data through MokaPot. "
   ]
  },
  {
   "cell_type": "code",
   "execution_count": 6,
   "metadata": {},
   "outputs": [],
   "source": [
    "def get_PreMokaPot_data(file):\n",
    "    data = dl.clean_metamorph(file)\n",
    "    data = filter_data(data,'QValue')\n",
    "    return data"
   ]
  },
  {
   "cell_type": "markdown",
   "metadata": {},
   "source": [
    "This reads in and cleans the data that will be run through MokaPot. MetaMorphues has a special output file that is formatted to be able to run through MokaPot."
   ]
  },
  {
   "cell_type": "code",
   "execution_count": 7,
   "metadata": {},
   "outputs": [],
   "source": [
    "def get_data_for_MokaPot(file):\n",
    "    df_2 = dl.get_pin_file(file)\n",
    "    df_2 = df_2.iloc[1: :]\n",
    "    df_2 = df_2.drop_duplicates(subset=[\"ScanNr\"], keep=\"first\")\n",
    "    \n",
    "    df_2 = df_2.loc[~(df_2[\"Peptide\"].str.contains(\"U\"))] #removing the U\n",
    "    \n",
    "    return df_2"
   ]
  },
  {
   "cell_type": "markdown",
   "metadata": {},
   "source": [
    "This function gives us the absolute difference between the actual retention time and the predicted retention time. *must be the absolute vaule, we do not want negative numbers. "
   ]
  },
  {
   "cell_type": "code",
   "execution_count": 8,
   "metadata": {},
   "outputs": [],
   "source": [
    "def calculate_diff(row):\n",
    "    num = row['y'] - row['y_pred']\n",
    "    if num < 0:\n",
    "        num = num * (-1)\n",
    "    return num"
   ]
  },
  {
   "cell_type": "markdown",
   "metadata": {},
   "source": [
    "MetaMorpheus gives an output file that is specifically formatted for MokaPot. However, this file does not have q values, which we need to compare the before and after data. However, once the decoys are dropped from both files, the regular before file and the specailly formatted file contain the same scan numbers.\n",
    "The before file is used to compute the number of max consecutive y peaks and \"perc_in_ladder\". These columns are then taken and then added to the specially formatted file. \n",
    "\n",
    "Here we read in the speically formatted file and the file that has the additional feature columns in it. Decoys are dropped from both of them, giving us the same number of scans in both file. We splice out the scan, max_consecutive_y, and \"perc_in_ladder\" columns. These columns are then joined with the formatted file based on their scan numbers. We can use this file to run through MokaPot and compare if the extra feature columns help MokaPot to score more PSMs below our cutoff. "
   ]
  },
  {
   "cell_type": "code",
   "execution_count": 9,
   "metadata": {},
   "outputs": [],
   "source": [
    "def get_peaks_data(file):\n",
    "\n",
    "    data = pd.read_csv(\"peaks_files/\" + file + \"_peaks_data.csv\", low_memory=False)\n",
    "    \n",
    "    #Removing the U to match the data coming from AutoRT\n",
    "    data = data.loc[~(data[\"peptide\"].str.contains(\"U\"))] #removing the U\n",
    "    \n",
    "    data.loc[(data[\"peptide\"].str.contains(\"U\"))] #DELETE debugging here.  \n",
    "    \n",
    "    #Change the ladder column tye to float \n",
    "    data = data.astype({\"perc_in_ladder\": float})\n",
    "    \n",
    "    #sort based on the probability column\n",
    "    data = data.sort_values('QValue')\n",
    "    #drop duplicate scans\n",
    "    data = data.drop_duplicates(subset=[\"scan\"], keep=\"first\") #keep highest scoring\n",
    "    \n",
    "    data = data.rename(columns = {\"scan\": \"ScanNr\"})\n",
    "    data = data.filter(['ScanNr', 'max_consecutive_y', 'max_consecutive_b', 'perc_in_ladder'])\n",
    "    data = data.set_index(\"ScanNr\")\n",
    "    \n",
    "    #setting up the data from the pin file\n",
    "    df_2 = dl.get_pin_file(file)\n",
    "    df_2 = df_2.iloc[1: :]\n",
    "    df_2 = df_2.loc[~(df_2[\"Peptide\"].str.contains(\"U\"))] #removing the U\n",
    "    df_2 = df_2.astype({\"ScanNr\": int})\n",
    "    df_2 = df_2.drop_duplicates(subset=[\"ScanNr\"], keep=\"first\")\n",
    "    df_2 = df_2.set_index(\"ScanNr\")\n",
    "    \n",
    "    \n",
    "    joined_df = df_2.join(data, how = \"outer\")\n",
    "    joined_df.reset_index(inplace=True)\n",
    "    \n",
    "    return joined_df\n",
    "    "
   ]
  },
  {
   "cell_type": "markdown",
   "metadata": {},
   "source": [
    "Here we read in the speically formatted file and the file that has the additional feature columns in it. Decoys are dropped from both of them, giving us the same number of scans in both file. We splice out the scan, and difference columns. These columns are then joined with the formatted file based on their scan numbers. We can use this file to run through MokaPot and compare if the extra feature columns help MokaPot to score more PSMs below our cutoff."
   ]
  },
  {
   "cell_type": "code",
   "execution_count": 10,
   "metadata": {},
   "outputs": [],
   "source": [
    "#Retriving and formatting the df that has the retention time info in it. Also doing the math to get \n",
    "#the difference colum\n",
    "\n",
    "def retrive_RT_df(file):\n",
    "    \n",
    "    file_path = \"predicted_data/\" + file + \"_predicted/test.tsv\"\n",
    "    \n",
    "    data = pd.read_csv(file_path, sep = \"\\t\", low_memory=False )    \n",
    "    \n",
    "    #sort based on the probability column\n",
    "    data = data.sort_values('QValue')\n",
    "    #drop duplicate scans\n",
    "    data = data.drop_duplicates(subset=[\"scan\"], keep=\"first\") #keep highest scoring\n",
    "    #changing the type\n",
    "    data = data.astype({'y_pred': float})\n",
    "    \n",
    "    #calculating the difference column\n",
    "    data['difference'] = data.apply(calculate_diff, axis = 1)\n",
    "    \n",
    "    data = data.rename(columns = {\"scan\": \"ScanNr\"})\n",
    "    data = data.filter(['ScanNr', 'difference'])\n",
    "    data = data.set_index(\"ScanNr\")\n",
    "    return data\n"
   ]
  },
  {
   "cell_type": "code",
   "execution_count": 11,
   "metadata": {},
   "outputs": [],
   "source": [
    "def get_retentionTime_data(file):\n",
    "\n",
    "    data = retrive_RT_df(file)\n",
    "    \n",
    "    #setting up the data from the pin file\n",
    "    df_2 = dl.get_pin_file(file)\n",
    "    df_2 = df_2.iloc[1: :]\n",
    "    df_2 = df_2.astype({\"ScanNr\": int})\n",
    "    df_2 = df_2.drop_duplicates(subset=[\"ScanNr\"], keep=\"first\")\n",
    "    df_2 = df_2.loc[~(df_2[\"Peptide\"].str.contains(\"U\"))] #removing the U\n",
    "    df_2 = df_2.set_index(\"ScanNr\")\n",
    "    \n",
    "    \n",
    "    joined_df = df_2.join(data, how = \"outer\")\n",
    "    joined_df.reset_index(inplace=True)\n",
    "    \n",
    "    return joined_df"
   ]
  },
  {
   "cell_type": "markdown",
   "metadata": {},
   "source": [
    "Taking the dataframe that has the peaks features added on and joining the additional retention time differnce column onto it. Returning the joined dataframe"
   ]
  },
  {
   "cell_type": "code",
   "execution_count": 12,
   "metadata": {},
   "outputs": [],
   "source": [
    "def get_all_features_data(peaksData, RTdata):\n",
    "    RTdata = RTdata.filter(['ScanNr', 'difference'])\n",
    "    RTdata = RTdata.set_index(\"ScanNr\")\n",
    "    RTdata = RTdata.astype({'difference': float})\n",
    "    \n",
    "    peaksData = peaksData.set_index(\"ScanNr\")\n",
    "    peaksData = peaksData.astype({'perc_in_ladder': float})\n",
    "    \n",
    "    joined_df = peaksData.join(RTdata, how = \"outer\")\n",
    "    joined_df.reset_index(inplace=True)\n",
    "    \n",
    "    return joined_df\n",
    "   \n",
    "    "
   ]
  },
  {
   "cell_type": "code",
   "execution_count": 2,
   "metadata": {},
   "outputs": [],
   "source": [
    "#Read all the files into a list here\n",
    "file_names = [\"2ng_rep1\", \"2ng_rep2\", \"2ng_rep3\", \"2ng_rep4\", \"2ng_rep5\", \"2ng_rep6\", \n",
    "              \"0.2ng_rep1\", \"0.2ng_rep2\", \"0.2ng_rep3\", \"0.2ng_rep4\", \"0.2ng_rep5\", \"0.2ng_rep6\"]"
   ]
  },
  {
   "cell_type": "markdown",
   "metadata": {},
   "source": [
    "In order to tell if the new added features are helping MokaPot to score the PSMs higher, we run the program a certain number of times and look at the average scores.\n",
    "We read in the data for the pin file, the regular data, and the data that has the added features. Because MokaPot gives an output file that is already formatted for MokaPot, we have to splice out the extra columns and joing them with the pin file."
   ]
  },
  {
   "cell_type": "code",
   "execution_count": 3,
   "metadata": {
    "scrolled": true
   },
   "outputs": [
    {
     "ename": "NameError",
     "evalue": "name 'pd' is not defined",
     "output_type": "error",
     "traceback": [
      "\u001b[0;31m---------------------------------------------------------------------------\u001b[0m",
      "\u001b[0;31mNameError\u001b[0m                                 Traceback (most recent call last)",
      "\u001b[0;32m<ipython-input-3-14e72fc4e029>\u001b[0m in \u001b[0;36m<module>\u001b[0;34m\u001b[0m\n\u001b[1;32m      1\u001b[0m \u001b[0mlimit\u001b[0m \u001b[0;34m=\u001b[0m \u001b[0;36m25\u001b[0m\u001b[0;34m\u001b[0m\u001b[0;34m\u001b[0m\u001b[0m\n\u001b[1;32m      2\u001b[0m \u001b[0mfile_number\u001b[0m \u001b[0;34m=\u001b[0m \u001b[0;36m0\u001b[0m\u001b[0;34m\u001b[0m\u001b[0;34m\u001b[0m\u001b[0m\n\u001b[0;32m----> 3\u001b[0;31m \u001b[0mall_results\u001b[0m \u001b[0;34m=\u001b[0m \u001b[0mpd\u001b[0m\u001b[0;34m.\u001b[0m\u001b[0mDataFrame\u001b[0m\u001b[0;34m(\u001b[0m\u001b[0;34m)\u001b[0m\u001b[0;34m\u001b[0m\u001b[0;34m\u001b[0m\u001b[0m\n\u001b[0m\u001b[1;32m      4\u001b[0m \u001b[0;34m\u001b[0m\u001b[0m\n\u001b[1;32m      5\u001b[0m \u001b[0;34m\u001b[0m\u001b[0m\n",
      "\u001b[0;31mNameError\u001b[0m: name 'pd' is not defined"
     ]
    }
   ],
   "source": [
    "limit = 25\n",
    "file_number = 0\n",
    "all_results = pd.DataFrame()\n",
    "\n",
    "\n",
    "for file in file_names:\n",
    "    file_number +=1\n",
    "    rounds = 0\n",
    "    print(\"running \" + file)\n",
    "    \n",
    "    no_addedFeats_list = []\n",
    "    #peaks_feature_list = []\n",
    "    #RT_feature_list = []\n",
    "    all_features_list = []\n",
    "    \n",
    "    #original_MM = get_PreMokaPot_data('2ng_rep1')\n",
    "    regular_df = get_data_for_MokaPot(file)\n",
    "    peaks_df = get_peaks_data(file)\n",
    "    RT_df = get_retentionTime_data(file)\n",
    "    all_feats_df = get_all_features_data(peaks_df, RT_df)\n",
    "\n",
    "\n",
    "    while rounds < limit:\n",
    "\n",
    "        #regular data, no additional features\n",
    "        mm_for_MP = mokapot.read_pin(regular_df) \n",
    "        regular_results, models = mokapot.brew(mm_for_MP)\n",
    "\n",
    "        #just the peaks features\n",
    "#         mm_peaksFeat_MP = mokapot.read_pin(peaks_df) \n",
    "#         peaksAdded_results, added_models = mokapot.brew(mm_peaksFeat_MP)\n",
    "\n",
    "        #just the retention time feature\n",
    "#         mm_RT_feat_MP = mokapot.read_pin(RT_df)\n",
    "#         RTadded_results, models = mokapot.brew(mm_RT_feat_MP)\n",
    "\n",
    "        #all the additional features\n",
    "        all_features_MP = mokapot.read_pin(all_feats_df)\n",
    "        allAdded_results, models = mokapot.brew(all_features_MP)\n",
    "\n",
    "\n",
    "        no_addedFeats_list.append(len(regular_results.psms[regular_results.psms['mokapot q-value'] <= 0.01]))\n",
    "        print(\"without added feat: \" + str(len(regular_results.psms[regular_results.psms['mokapot q-value'] <= 0.01])))\n",
    "\n",
    "#         peaks_feature_list.append(len(peaksAdded_results.psms[peaksAdded_results.psms['mokapot q-value'] <= 0.01]))\n",
    "#         print(\"with peaks feat: \" + str(len(peaksAdded_results.psms[peaksAdded_results.psms['mokapot q-value'] <= 0.01])))\n",
    "\n",
    "#         RT_feature_list.append(len(RTadded_results.psms[RTadded_results.psms['mokapot q-value'] <= 0.01]))\n",
    "#         print(\"with RT feat: \" + str(len(RTadded_results.psms[RTadded_results.psms['mokapot q-value'] <= 0.01])))\n",
    "\n",
    "        all_features_list.append(len(allAdded_results.psms[allAdded_results.psms['mokapot q-value'] <= 0.01]))\n",
    "        print(\"with all added feat: \" + str(len(allAdded_results.psms[allAdded_results.psms['mokapot q-value'] <= 0.01])))\n",
    "\n",
    "        rounds+= 1\n",
    "        print(\"finished round \" + str(rounds))\n",
    "    \n",
    "    #adding the new results to the df with all the PSMs found\n",
    "    all_results[file + \" None\"] = no_addedFeats_list\n",
    "    all_results[file + \" All\"] = all_features_list\n",
    "\n",
    "    "
   ]
  },
  {
   "cell_type": "markdown",
   "metadata": {},
   "source": [
    "Making the graph for the average number of PSMs at or under a 0.01 cutoff. Standard deviation is given as well."
   ]
  },
  {
   "cell_type": "code",
   "execution_count": null,
   "metadata": {},
   "outputs": [],
   "source": [
    "df = pd.DataFrame(list(zip(no_addedFeats_list, all_features_list)),\n",
    "               columns =['No Features', 'All Features'])"
   ]
  },
  {
   "cell_type": "markdown",
   "metadata": {},
   "source": [
    "This function helps us to put the error bars on the box plot"
   ]
  },
  {
   "cell_type": "code",
   "execution_count": 83,
   "metadata": {},
   "outputs": [],
   "source": [
    "def label_diff(x1, x2, pval, column):\n",
    "  # statistical annotation\n",
    "    y, h, col = column.max() + 50, 2, 'k'\n",
    "    plt.plot([x1, x1, x2, x2], [y, y+h, y+h, y], lw=1.5, c=col)\n",
    "    plt.text((x1+x2)*.5, y+h, pval, ha='center', va='bottom', color=col)  \n"
   ]
  },
  {
   "cell_type": "code",
   "execution_count": 66,
   "metadata": {},
   "outputs": [],
   "source": [
    "#calculate the t-test and return the pvalue\n",
    "from decimal import Decimal\n",
    "def calc_pval(col1, col2):\n",
    "    t_test = stats.ttest_ind(col1, col2)\n",
    "    pval = '%.2E' % Decimal((t_test.pvalue))\n",
    "    return pval"
   ]
  },
  {
   "cell_type": "code",
   "execution_count": 20,
   "metadata": {},
   "outputs": [
    {
     "data": {
      "image/png": "[encoded data removed]",
      "text/plain": [
       "<Figure size 432x288 with 1 Axes>"
      ]
     },
     "metadata": {
      "needs_background": "light"
     },
     "output_type": "display_data"
    }
   ],
   "source": [
    "import seaborn as sns\n",
    "\n",
    "# segment = all_results[['2ng_rep1 None', '2ng_rep1 All', '2ng_rep2 None', '2ng_rep2 All',\n",
    "#        '2ng_rep3 None', '2ng_rep3 All', '2ng_rep4 None', '2ng_rep4 All',\n",
    "#        '2ng_rep5 None', '2ng_rep5 All', '2ng_rep6 None', '2ng_rep6 All']]\n",
    "\n",
    "segment = all_results[['2ng_rep1 None', '2ng_rep1 All', '2ng_rep2 None', '2ng_rep2 All',\n",
    "       '2ng_rep3 None', '2ng_rep3 All', '2ng_rep4 None', '2ng_rep4 All',\n",
    "       '2ng_rep6 None', '2ng_rep6 All']]\n",
    "\n",
    "features_plot = sns.boxplot(data=segment, showfliers=False)\n",
    "features_plot = sns.stripplot(data=segment, jitter=True, color=\".3\")\n",
    "features_plot.set(ylabel = \"Number of PSMs per scan\")\n",
    "features_plot.set(xlabel = \"Presence of Features\")\n",
    "\n",
    "\n",
    "pval = calc_pval(all_results[\"2ng_rep1 None\"], all_results[\"2ng_rep1 All\"])\n",
    "label_diff(0,1, pval, \"2ng_rep1 All\")\n",
    "\n",
    "pval = calc_pval(all_results[\"2ng_rep2 None\"], all_results[\"2ng_rep2 All\"])\n",
    "label_diff(2,3, pval, \"2ng_rep2 All\")\n",
    "\n",
    "calc_pval(all_results[\"2ng_rep3 None\"], all_results[\"2ng_rep2 All\"])\n",
    "label_diff(4,5, pval, \"2ng_rep3 All\")\n",
    "\n",
    "pval = calc_pval(all_results[\"2ng_rep4 None\"], all_results[\"2ng_rep4 All\"])\n",
    "label_diff(6,7, pval, \"2ng_rep4 All\")\n",
    "\n",
    "# pval = calc_pval(all_results[\"2ng_rep5 None\"], all_results[\"2ng_rep5 All\"])\n",
    "# label_diff(8,9, pval, \"2ng_rep5 All\")\n",
    "\n",
    "pval = calc_pval(all_results[\"2ng_rep6 None\"], all_results[\"2ng_rep6 All\"])\n",
    "label_diff(10,11, pval, \"2ng_rep6 All\")\n",
    "\n",
    "\n",
    "plt.show()"
   ]
  },
  {
   "cell_type": "code",
   "execution_count": null,
   "metadata": {},
   "outputs": [],
   "source": []
  },
  {
   "cell_type": "code",
   "execution_count": 21,
   "metadata": {},
   "outputs": [
    {
     "data": {
      "image/png": "[encoded data removed]",
      "text/plain": [
       "<Figure size 432x288 with 1 Axes>"
      ]
     },
     "metadata": {
      "needs_background": "light"
     },
     "output_type": "display_data"
    }
   ],
   "source": [
    "import seaborn as sns\n",
    "\n",
    "point2ng_df = all_results[['0.2ng_rep1 None', '0.2ng_rep1 All', '0.2ng_rep2 None', \n",
    "                           '0.2ng_rep2 All', '0.2ng_rep3 None', '0.2ng_rep3 All', \n",
    "                           '0.2ng_rep4 None', '0.2ng_rep4 All', '0.2ng_rep5 None', \n",
    "                           '0.2ng_rep5 All', '0.2ng_rep6 None', '0.2ng_rep6 All']]\n",
    "test = all_results[['0.2ng_rep4 None', '0.2ng_rep4 All']]\n",
    "\n",
    "features_plot = sns.boxplot(data=point2ng_df, showfliers=False)\n",
    "features_plot = sns.stripplot(data=point2ng_df, jitter=True, color=\".3\")\n",
    "features_plot.set(ylabel = \"Number of PSMs per scan\")\n",
    "features_plot.set(xlabel = \"Presence of Features\")\n",
    "\n",
    "\n",
    "pval = calc_pval(all_results['0.2ng_rep1 None'], all_results['0.2ng_rep1 All'])\n",
    "label_diff(0,1, pval, \"0.2ng_rep1 All\")\n",
    "\n",
    "pval = calc_pval(all_results[\"0.2ng_rep2 None\"], all_results[\"0.2ng_rep2 All\"])\n",
    "label_diff(2,3, pval, \"0.2ng_rep2 All\")\n",
    "\n",
    "calc_pval(all_results[\"0.2ng_rep3 None\"], all_results[\"0.2ng_rep3 All\"])\n",
    "label_diff(4,5, pval, \"0.2ng_rep3 All\")\n",
    "\n",
    "pval = calc_pval(all_results[\"0.2ng_rep4 None\"], all_results[\"0.2ng_rep4 All\"])\n",
    "label_diff(6,7, pval, \"0.2ng_rep4 All\")\n",
    "\n",
    "pval = calc_pval(all_results[\"0.2ng_rep5 None\"], all_results[\"0.2ng_rep5 All\"])\n",
    "label_diff(8,9, pval, \"0.2ng_rep5 All\")\n",
    "\n",
    "pval = calc_pval(all_results[\"0.2ng_rep6 None\"], all_results[\"0.2ng_rep6 All\"])\n",
    "label_diff(10,11, pval, \"0.2ng_rep6 All\")\n",
    "\n",
    "plt.show()"
   ]
  },
  {
   "cell_type": "code",
   "execution_count": 25,
   "metadata": {},
   "outputs": [
    {
     "data": {
      "image/png": "[encoded data removed]",
      "text/plain": [
       "<Figure size 432x288 with 1 Axes>"
      ]
     },
     "metadata": {
      "needs_background": "light"
     },
     "output_type": "display_data"
    }
   ],
   "source": [
    "import statistics as stats\n",
    "\n",
    "avg1 = stats.mean(all_results['2ng_rep1 All']) - stats.mean(all_results['2ng_rep1 None'])\n",
    "avg2 = stats.mean(all_results['2ng_rep2 All']) - stats.mean(all_results['2ng_rep2 None'])\n",
    "avg3 = stats.mean(all_results['2ng_rep3 All']) - stats.mean(all_results['2ng_rep3 None'])\n",
    "avg4 = stats.mean(all_results['2ng_rep4 All']) - stats.mean(all_results['2ng_rep4 None'])\n",
    "#avg5 = stats.mean(all_results['2ng_rep5 All']) - stats.mean(all_results['2ng_rep5 None'])\n",
    "avg6 = stats.mean(all_results['2ng_rep6 All']) - stats.mean(all_results['2ng_rep6 None'])\n",
    "fig = plt.figure()\n",
    "ax = fig.add_axes([0,0,1,1])\n",
    "increases = [avg1, avg2, avg3, avg4, avg6] #fix rep5\n",
    "tools = [\"2ng_rep1\", \"2ng_rep2\", \"2ng_rep3\", \"2ng_rep4\",  \"2ng_rep6\"] #fix rep5\n",
    "ax.bar(tools, increases)\n",
    "plt.ylabel('average increase')\n",
    "plt.xlabel('2ng files')\n",
    "#plt.xlabel('Number of PSMs using native score and 0.01 cutoff')\n",
    "plt.title('Average increase in # PSMs after additional features and MokaPot')\n",
    "plt.show()"
   ]
  },
  {
   "cell_type": "code",
   "execution_count": null,
   "metadata": {},
   "outputs": [],
   "source": []
  }
 ],
 "metadata": {
  "kernelspec": {
   "display_name": "Python 3",
   "language": "python",
   "name": "python3"
  },
  "language_info": {
   "codemirror_mode": {
    "name": "ipython",
    "version": 3
   },
   "file_extension": ".py",
   "mimetype": "text/x-python",
   "name": "python",
   "nbconvert_exporter": "python",
   "pygments_lexer": "ipython3",
   "version": "3.8.3"
  }
 },
 "nbformat": 4,
 "nbformat_minor": 4
}
