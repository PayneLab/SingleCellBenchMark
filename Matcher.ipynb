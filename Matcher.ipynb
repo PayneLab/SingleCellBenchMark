{
 "cells": [
  {
   "cell_type": "code",
   "execution_count": 56,
   "metadata": {},
   "outputs": [],
   "source": [
    "import pandas as pd\n",
    "import numpy as np\n",
    "import data_loader as dl \n",
    "import matplotlib\n",
    "import seaborn"
   ]
  },
  {
   "cell_type": "code",
   "execution_count": 2,
   "metadata": {},
   "outputs": [],
   "source": [
    "allScanNums = {}"
   ]
  },
  {
   "cell_type": "code",
   "execution_count": 3,
   "metadata": {},
   "outputs": [],
   "source": [
    "def filter_data(df, cutoff, msfragger=False, prob_column='probability'):\n",
    "    #drop decoy\n",
    "    df = df[df[\"decoy\"]==False]\n",
    "    #sort by qvalue\n",
    "    df = df.sort_values(prob_column)\n",
    "    #drop duplicate scans\n",
    "    df = df.drop_duplicates(subset=[\"scan\"], keep=\"first\") #keep highest coring\n",
    "    #filter based on qvalue\n",
    "    if msfragger == False:\n",
    "        df = df[df[prob_column] <= cutoff]\n",
    "    else:\n",
    "        df = df[df[prob_column] >= 1-cutoff]\n",
    "    return df\n"
   ]
  },
  {
   "cell_type": "code",
   "execution_count": 4,
   "metadata": {},
   "outputs": [],
   "source": [
    "#pulling only scan numbers out\n",
    "def newScanNum(row):\n",
    "    return(int(row[35:40]))\n",
    "    \n"
   ]
  },
  {
   "cell_type": "code",
   "execution_count": 5,
   "metadata": {},
   "outputs": [
    {
     "data": {
      "text/html": [
       "<div>\n",
       "<style scoped>\n",
       "    .dataframe tbody tr th:only-of-type {\n",
       "        vertical-align: middle;\n",
       "    }\n",
       "\n",
       "    .dataframe tbody tr th {\n",
       "        vertical-align: top;\n",
       "    }\n",
       "\n",
       "    .dataframe thead th {\n",
       "        text-align: right;\n",
       "    }\n",
       "</style>\n",
       "<table border=\"1\" class=\"dataframe\">\n",
       "  <thead>\n",
       "    <tr style=\"text-align: right;\">\n",
       "      <th></th>\n",
       "      <th>scan</th>\n",
       "      <th>peptide</th>\n",
       "    </tr>\n",
       "  </thead>\n",
       "  <tbody>\n",
       "    <tr>\n",
       "      <th>0</th>\n",
       "      <td>38422</td>\n",
       "      <td>AEGSDVANAVLDGADCIMLSGETAK</td>\n",
       "    </tr>\n",
       "    <tr>\n",
       "      <th>1376</th>\n",
       "      <td>38502</td>\n",
       "      <td>VTIAQGGVLPNIQAVLLPK</td>\n",
       "    </tr>\n",
       "    <tr>\n",
       "      <th>1374</th>\n",
       "      <td>21218</td>\n",
       "      <td>KPTDGASSSNCVTDISHLVR</td>\n",
       "    </tr>\n",
       "    <tr>\n",
       "      <th>5873</th>\n",
       "      <td>32203</td>\n",
       "      <td>LVSSPCCIVTSTYGWTANMER</td>\n",
       "    </tr>\n",
       "    <tr>\n",
       "      <th>5876</th>\n",
       "      <td>15587</td>\n",
       "      <td>NMMAACDPR</td>\n",
       "    </tr>\n",
       "    <tr>\n",
       "      <th>...</th>\n",
       "      <td>...</td>\n",
       "      <td>...</td>\n",
       "    </tr>\n",
       "    <tr>\n",
       "      <th>17040</th>\n",
       "      <td>24809</td>\n",
       "      <td>SIDFPLTK</td>\n",
       "    </tr>\n",
       "    <tr>\n",
       "      <th>14587</th>\n",
       "      <td>40505</td>\n",
       "      <td>DPTAVIFGEDVAFGGVFR</td>\n",
       "    </tr>\n",
       "    <tr>\n",
       "      <th>14075</th>\n",
       "      <td>30563</td>\n",
       "      <td>EQQHVMEELFQSSFR</td>\n",
       "    </tr>\n",
       "    <tr>\n",
       "      <th>18845</th>\n",
       "      <td>13999</td>\n",
       "      <td>EGGGGKRK</td>\n",
       "    </tr>\n",
       "    <tr>\n",
       "      <th>18160</th>\n",
       "      <td>29366</td>\n",
       "      <td>GTAYTFFTPGNLK</td>\n",
       "    </tr>\n",
       "  </tbody>\n",
       "</table>\n",
       "<p>13807 rows × 2 columns</p>\n",
       "</div>"
      ],
      "text/plain": [
       "        scan                    peptide\n",
       "0      38422  AEGSDVANAVLDGADCIMLSGETAK\n",
       "1376   38502        VTIAQGGVLPNIQAVLLPK\n",
       "1374   21218       KPTDGASSSNCVTDISHLVR\n",
       "5873   32203      LVSSPCCIVTSTYGWTANMER\n",
       "5876   15587                  NMMAACDPR\n",
       "...      ...                        ...\n",
       "17040  24809                   SIDFPLTK\n",
       "14587  40505         DPTAVIFGEDVAFGGVFR\n",
       "14075  30563            EQQHVMEELFQSSFR\n",
       "18845  13999                   EGGGGKRK\n",
       "18160  29366              GTAYTFFTPGNLK\n",
       "\n",
       "[13807 rows x 2 columns]"
      ]
     },
     "execution_count": 5,
     "metadata": {},
     "output_type": "execute_result"
    }
   ],
   "source": [
    "meta = dl.clean_metamorph(\"2ng\")\n",
    "meta_df = filter_data(meta, .01)\n",
    "meta_data = meta_df.filter((['scan', 'peptide']))\n",
    "meta_data"
   ]
  },
  {
   "cell_type": "code",
   "execution_count": 6,
   "metadata": {},
   "outputs": [
    {
     "data": {
      "text/html": [
       "<div>\n",
       "<style scoped>\n",
       "    .dataframe tbody tr th:only-of-type {\n",
       "        vertical-align: middle;\n",
       "    }\n",
       "\n",
       "    .dataframe tbody tr th {\n",
       "        vertical-align: top;\n",
       "    }\n",
       "\n",
       "    .dataframe thead th {\n",
       "        text-align: right;\n",
       "    }\n",
       "</style>\n",
       "<table border=\"1\" class=\"dataframe\">\n",
       "  <thead>\n",
       "    <tr style=\"text-align: right;\">\n",
       "      <th></th>\n",
       "      <th>scan</th>\n",
       "      <th>peptide</th>\n",
       "    </tr>\n",
       "  </thead>\n",
       "  <tbody>\n",
       "    <tr>\n",
       "      <th>0</th>\n",
       "      <td>19653</td>\n",
       "      <td>NMGGPYGGGNYGPGGSGGSGGYGGR</td>\n",
       "    </tr>\n",
       "    <tr>\n",
       "      <th>6422</th>\n",
       "      <td>30100</td>\n",
       "      <td>EAAWAISNLTISGR</td>\n",
       "    </tr>\n",
       "    <tr>\n",
       "      <th>6423</th>\n",
       "      <td>28960</td>\n",
       "      <td>EEAWVIGSVVAR</td>\n",
       "    </tr>\n",
       "    <tr>\n",
       "      <th>6424</th>\n",
       "      <td>24500</td>\n",
       "      <td>DYLLC+57.021DYNR</td>\n",
       "    </tr>\n",
       "    <tr>\n",
       "      <th>6425</th>\n",
       "      <td>14802</td>\n",
       "      <td>EGETVEPYK</td>\n",
       "    </tr>\n",
       "    <tr>\n",
       "      <th>...</th>\n",
       "      <td>...</td>\n",
       "      <td>...</td>\n",
       "    </tr>\n",
       "    <tr>\n",
       "      <th>12126</th>\n",
       "      <td>12477</td>\n",
       "      <td>SETSGPQIK</td>\n",
       "    </tr>\n",
       "    <tr>\n",
       "      <th>12130</th>\n",
       "      <td>36687</td>\n",
       "      <td>KQNYMMNFSRQHGLRHFYNRR</td>\n",
       "    </tr>\n",
       "    <tr>\n",
       "      <th>28559</th>\n",
       "      <td>25034</td>\n",
       "      <td>FNTPQQPK</td>\n",
       "    </tr>\n",
       "    <tr>\n",
       "      <th>12132</th>\n",
       "      <td>13840</td>\n",
       "      <td>FNTPQQPK</td>\n",
       "    </tr>\n",
       "    <tr>\n",
       "      <th>12133</th>\n",
       "      <td>19816</td>\n",
       "      <td>LNVTPLAR</td>\n",
       "    </tr>\n",
       "  </tbody>\n",
       "</table>\n",
       "<p>12259 rows × 2 columns</p>\n",
       "</div>"
      ],
      "text/plain": [
       "        scan                    peptide\n",
       "0      19653  NMGGPYGGGNYGPGGSGGSGGYGGR\n",
       "6422   30100             EAAWAISNLTISGR\n",
       "6423   28960               EEAWVIGSVVAR\n",
       "6424   24500           DYLLC+57.021DYNR\n",
       "6425   14802                  EGETVEPYK\n",
       "...      ...                        ...\n",
       "12126  12477                  SETSGPQIK\n",
       "12130  36687      KQNYMMNFSRQHGLRHFYNRR\n",
       "28559  25034                   FNTPQQPK\n",
       "12132  13840                   FNTPQQPK\n",
       "12133  19816                   LNVTPLAR\n",
       "\n",
       "[12259 rows x 2 columns]"
      ]
     },
     "execution_count": 6,
     "metadata": {},
     "output_type": "execute_result"
    }
   ],
   "source": [
    "msgf = dl.clean_msgfplus(\"2ng\")\n",
    "msgfplus_df = filter_data(msgf, .01, )\n",
    "msgfplus_data = msgfplus_df.filter((['scan', 'peptide']))\n",
    "msgfplus_data.head()\n",
    "msgfplus_data"
   ]
  },
  {
   "cell_type": "code",
   "execution_count": 7,
   "metadata": {},
   "outputs": [
    {
     "data": {
      "text/html": [
       "<div>\n",
       "<style scoped>\n",
       "    .dataframe tbody tr th:only-of-type {\n",
       "        vertical-align: middle;\n",
       "    }\n",
       "\n",
       "    .dataframe tbody tr th {\n",
       "        vertical-align: top;\n",
       "    }\n",
       "\n",
       "    .dataframe thead th {\n",
       "        text-align: right;\n",
       "    }\n",
       "</style>\n",
       "<table border=\"1\" class=\"dataframe\">\n",
       "  <thead>\n",
       "    <tr style=\"text-align: right;\">\n",
       "      <th></th>\n",
       "      <th>scan</th>\n",
       "      <th>peptide</th>\n",
       "    </tr>\n",
       "  </thead>\n",
       "  <tbody>\n",
       "    <tr>\n",
       "      <th>2641</th>\n",
       "      <td>17615</td>\n",
       "      <td>FIMESGAK</td>\n",
       "    </tr>\n",
       "    <tr>\n",
       "      <th>13173</th>\n",
       "      <td>40365</td>\n",
       "      <td>VFLENVIR</td>\n",
       "    </tr>\n",
       "    <tr>\n",
       "      <th>7305</th>\n",
       "      <td>25429</td>\n",
       "      <td>LVVLATPQVSDSMR</td>\n",
       "    </tr>\n",
       "    <tr>\n",
       "      <th>9596</th>\n",
       "      <td>29090</td>\n",
       "      <td>QVEDDIQQLLK</td>\n",
       "    </tr>\n",
       "    <tr>\n",
       "      <th>2946</th>\n",
       "      <td>18190</td>\n",
       "      <td>CLTQSGIAGGYK</td>\n",
       "    </tr>\n",
       "    <tr>\n",
       "      <th>...</th>\n",
       "      <td>...</td>\n",
       "      <td>...</td>\n",
       "    </tr>\n",
       "    <tr>\n",
       "      <th>6754</th>\n",
       "      <td>24567</td>\n",
       "      <td>DIISDTSGDFR</td>\n",
       "    </tr>\n",
       "    <tr>\n",
       "      <th>6755</th>\n",
       "      <td>24568</td>\n",
       "      <td>GPVEGYEENEEFLR</td>\n",
       "    </tr>\n",
       "    <tr>\n",
       "      <th>6756</th>\n",
       "      <td>24569</td>\n",
       "      <td>LVLLGESAVGK</td>\n",
       "    </tr>\n",
       "    <tr>\n",
       "      <th>6750</th>\n",
       "      <td>24561</td>\n",
       "      <td>THSDQFLVAFK</td>\n",
       "    </tr>\n",
       "    <tr>\n",
       "      <th>6762</th>\n",
       "      <td>24577</td>\n",
       "      <td>EEIIPVAAEYDK</td>\n",
       "    </tr>\n",
       "  </tbody>\n",
       "</table>\n",
       "<p>11740 rows × 2 columns</p>\n",
       "</div>"
      ],
      "text/plain": [
       "        scan         peptide\n",
       "2641   17615        FIMESGAK\n",
       "13173  40365        VFLENVIR\n",
       "7305   25429  LVVLATPQVSDSMR\n",
       "9596   29090     QVEDDIQQLLK\n",
       "2946   18190    CLTQSGIAGGYK\n",
       "...      ...             ...\n",
       "6754   24567     DIISDTSGDFR\n",
       "6755   24568  GPVEGYEENEEFLR\n",
       "6756   24569     LVLLGESAVGK\n",
       "6750   24561     THSDQFLVAFK\n",
       "6762   24577    EEIIPVAAEYDK\n",
       "\n",
       "[11740 rows x 2 columns]"
      ]
     },
     "execution_count": 7,
     "metadata": {},
     "output_type": "execute_result"
    }
   ],
   "source": [
    "msf = dl.clean_msfragger(\"2ng\")\n",
    "msf['scan'] = msf['scan'].apply(newScanNum) \n",
    "msfrag_df = filter_data(msf, .01, msfragger=True)\n",
    "\n",
    "msfrag_data = msfrag_df.filter((['scan', 'peptide']))\n",
    "msfrag_data\n"
   ]
  },
  {
   "cell_type": "code",
   "execution_count": 8,
   "metadata": {},
   "outputs": [
    {
     "name": "stderr",
     "output_type": "stream",
     "text": [
      "/Users/daishavanderwatt/Payne_Lab/SingleCellBenchMark/data_loader.py:121: SettingWithCopyWarning: \n",
      "A value is trying to be set on a copy of a slice from a DataFrame.\n",
      "Try using .loc[row_indexer,col_indexer] = value instead\n",
      "\n",
      "See the caveats in the documentation: https://pandas.pydata.org/pandas-docs/stable/user_guide/indexing.html#returning-a-view-versus-a-copy\n",
      "  df[\"decoy\"] = df.apply(lambda row: make_decoy_col_maxquant(row), axis=1)\n"
     ]
    },
    {
     "data": {
      "text/html": [
       "<div>\n",
       "<style scoped>\n",
       "    .dataframe tbody tr th:only-of-type {\n",
       "        vertical-align: middle;\n",
       "    }\n",
       "\n",
       "    .dataframe tbody tr th {\n",
       "        vertical-align: top;\n",
       "    }\n",
       "\n",
       "    .dataframe thead th {\n",
       "        text-align: right;\n",
       "    }\n",
       "</style>\n",
       "<table border=\"1\" class=\"dataframe\">\n",
       "  <thead>\n",
       "    <tr style=\"text-align: right;\">\n",
       "      <th></th>\n",
       "      <th>scan</th>\n",
       "      <th>peptide</th>\n",
       "    </tr>\n",
       "  </thead>\n",
       "  <tbody>\n",
       "    <tr>\n",
       "      <th>33067</th>\n",
       "      <td>18289</td>\n",
       "      <td>PGNQNTQVTEAWNK</td>\n",
       "    </tr>\n",
       "    <tr>\n",
       "      <th>53134</th>\n",
       "      <td>40678</td>\n",
       "      <td>EILFSVDSSINQSIGGVILFHETLYQK</td>\n",
       "    </tr>\n",
       "    <tr>\n",
       "      <th>31499</th>\n",
       "      <td>16565</td>\n",
       "      <td>TNQELQEINR</td>\n",
       "    </tr>\n",
       "    <tr>\n",
       "      <th>37796</th>\n",
       "      <td>23490</td>\n",
       "      <td>VDATEESDLAQQYGVR</td>\n",
       "    </tr>\n",
       "    <tr>\n",
       "      <th>35548</th>\n",
       "      <td>21018</td>\n",
       "      <td>INEELESQYQQSMDSK</td>\n",
       "    </tr>\n",
       "    <tr>\n",
       "      <th>...</th>\n",
       "      <td>...</td>\n",
       "      <td>...</td>\n",
       "    </tr>\n",
       "    <tr>\n",
       "      <th>34912</th>\n",
       "      <td>20318</td>\n",
       "      <td>FGISSVPTK</td>\n",
       "    </tr>\n",
       "    <tr>\n",
       "      <th>47473</th>\n",
       "      <td>34134</td>\n",
       "      <td>DLEALMFDR</td>\n",
       "    </tr>\n",
       "    <tr>\n",
       "      <th>42420</th>\n",
       "      <td>28576</td>\n",
       "      <td>DIFDQLAK</td>\n",
       "    </tr>\n",
       "    <tr>\n",
       "      <th>30613</th>\n",
       "      <td>15590</td>\n",
       "      <td>VEEAFNCR</td>\n",
       "    </tr>\n",
       "    <tr>\n",
       "      <th>45408</th>\n",
       "      <td>31863</td>\n",
       "      <td>FDILCVVR</td>\n",
       "    </tr>\n",
       "  </tbody>\n",
       "</table>\n",
       "<p>8774 rows × 2 columns</p>\n",
       "</div>"
      ],
      "text/plain": [
       "        scan                      peptide\n",
       "33067  18289               PGNQNTQVTEAWNK\n",
       "53134  40678  EILFSVDSSINQSIGGVILFHETLYQK\n",
       "31499  16565                   TNQELQEINR\n",
       "37796  23490             VDATEESDLAQQYGVR\n",
       "35548  21018             INEELESQYQQSMDSK\n",
       "...      ...                          ...\n",
       "34912  20318                    FGISSVPTK\n",
       "47473  34134                    DLEALMFDR\n",
       "42420  28576                     DIFDQLAK\n",
       "30613  15590                     VEEAFNCR\n",
       "45408  31863                     FDILCVVR\n",
       "\n",
       "[8774 rows x 2 columns]"
      ]
     },
     "execution_count": 8,
     "metadata": {},
     "output_type": "execute_result"
    }
   ],
   "source": [
    "mq = dl.clean_maxquant(\"2ng\")\n",
    "maxq_df = filter_data(mq, .01)\n",
    "maxq_data = maxq_df.filter((['scan', 'peptide']))\n",
    "maxq_data\n"
   ]
  },
  {
   "cell_type": "code",
   "execution_count": 9,
   "metadata": {},
   "outputs": [],
   "source": [
    "#datalist = dictionary part changing, word = which part getting change, \n",
    "#dataSet = which data set is getting added\n",
    "def add(dataList, word, dataSet):\n",
    "    temp_list = dataList[word]\n",
    "    temp_list.append(dataSet)\n",
    "    dataList[word] = temp_list"
   ]
  },
  {
   "cell_type": "markdown",
   "metadata": {},
   "source": [
    "def scan_data(dataSet, dataNames, otherDatas):\n",
    "    for index in dataSet:\n",
    "        data_Dict = {}\n",
    "        matches = {'same': [], 'different': [], 'missing':[]}\n",
    "        scan_num = dataSet.scan[index]\n",
    "        pep =  dataSet.peptide[index]\n",
    "\n",
    "        for index in range(3):\n",
    "            file = otherDatas[index]\n",
    "            name = dataNames[index]\n",
    "            temp = file[file.scan == scan_num]\n",
    "\n",
    "            #check that df isn't empty\n",
    "            if temp.empty == False: \n",
    "                if temp.iloc[0,2] == pep: #check if peps match\n",
    "                    print(\"fnd pep: \" + temp.iloc[0,2])\n",
    "                    #print(\"found scan num: \" + str(temp.iloc[0,0]))\n",
    "                    add(matches, 'same', name)\n",
    "\n",
    "                else:\n",
    "                    #print(\"diff: \")\n",
    "                    #print(\"fnd pep: \" + temp.iloc[0,1])\n",
    "                    add(matches, 'different', name)\n",
    "\n",
    "            #when the scan number is empty\n",
    "            else:\n",
    "                add(matches, 'missing', name)\n",
    "                #print(name + ' was empty')    \n",
    "        data_Dict[scan_num] = matches\n",
    "    return data_Dict"
   ]
  },
  {
   "cell_type": "markdown",
   "metadata": {},
   "source": [
    "Temp_files = [maxq_data, msgfplus_data, msfrag_data]\n",
    "dataNames = ['MaxQuant', 'MsgfPlus', 'Msfragger']\n",
    "Meta_dict = scan_data(meta_data, dataNames, Temp_files)\n",
    "len(Meta_dict)"
   ]
  },
  {
   "cell_type": "code",
   "execution_count": null,
   "metadata": {},
   "outputs": [],
   "source": []
  },
  {
   "cell_type": "code",
   "execution_count": 10,
   "metadata": {},
   "outputs": [],
   "source": [
    "#Running everything against MM\n",
    "Meta_dict = {}\n",
    "Temp_files = [maxq_data, msgfplus_data, msfrag_data]\n",
    "dataNames = ['MaxQuant', 'MsgfPlus', 'Msfragger']\n",
    "\n",
    "for index in meta_data.index:\n",
    "    matches = {'same': [], 'different': [], 'missing':[]}\n",
    "    scan_num = meta_data.scan[index]\n",
    "    allScanNums[scan_num] = False\n",
    "    pep = meta_data.peptide[index]\n",
    "    #print(\"Scan Num: \" + str(scan_num))\n",
    "    #print(\"Peptide: \" + str(pep))\n",
    "\n",
    "    for index in range(3):\n",
    "        file = Temp_files[index]\n",
    "        name = dataNames[index]\n",
    "        temp = file[file.scan == scan_num]\n",
    "        \n",
    "        #check that df isn't empty\n",
    "        if temp.empty == False: \n",
    "            if temp.iloc[0,1] == pep: #check if peps match\n",
    "                #print(\"fnd pep: \" + temp.iloc[0,1])\n",
    "                #print(\"found scan num: \" + str(temp.iloc[0,0]))\n",
    "                add(matches, 'same', name)\n",
    "        \n",
    "            else:\n",
    "                #print(\"diff: \")\n",
    "                #print(\"fnd pep: \" + temp.iloc[0,1])\n",
    "                add(matches, 'different', name)\n",
    "                \n",
    "        #when the scan number is empty\n",
    "        else:\n",
    "            add(matches, 'missing', name)\n",
    "            #print(name + ' was empty')    \n",
    "    \n",
    "    Meta_dict[scan_num] = matches"
   ]
  },
  {
   "cell_type": "code",
   "execution_count": 11,
   "metadata": {},
   "outputs": [
    {
     "data": {
      "text/plain": [
       "13807"
      ]
     },
     "execution_count": 11,
     "metadata": {},
     "output_type": "execute_result"
    }
   ],
   "source": [
    "len(Meta_dict)\n"
   ]
  },
  {
   "cell_type": "code",
   "execution_count": null,
   "metadata": {},
   "outputs": [],
   "source": []
  },
  {
   "cell_type": "code",
   "execution_count": 12,
   "metadata": {},
   "outputs": [],
   "source": [
    "#Running everything against Msfragger\n",
    "Msfrag_dict = {}\n",
    "Temp_files = [maxq_data, msgfplus_data, meta_data]\n",
    "dataNames = ['MaxQuant', 'MsgfPlus', 'MetaMorpheus']\n",
    "\n",
    "for index in msfrag_data.index:\n",
    "    matches = {'same': [], 'different': [], 'missing':[]}\n",
    "    scan_num = msfrag_data.scan[index]\n",
    "    pep = msfrag_data.peptide[index]\n",
    "    allScanNums[scan_num] = False\n",
    "    #print(\"Scan Num: \" + str(scan_num))\n",
    "    #print(\"Peptide: \" + str(pep))\n",
    " \n",
    "    for index in range(3):\n",
    "        file = Temp_files[index]\n",
    "        name = dataNames[index]\n",
    "        temp = file[file.scan == scan_num]\n",
    "        \n",
    "        #check that df isn't empty\n",
    "        if temp.empty == False: \n",
    "            if temp.iloc[0,1] == pep: #check if peps match\n",
    "                #print(\"fnd pep: \" + temp.iloc[0,1])\n",
    "                #print(\"found scan num: \" + str(temp.iloc[0,0]))\n",
    "                add(matches, 'same', name)\n",
    "        \n",
    "            else:\n",
    "                #print(\"diff: \")\n",
    "                #print(\"fnd pep: \" + temp.iloc[0,1])\n",
    "                add(matches, 'different', name)\n",
    "                \n",
    "        #when the scan number is empty\n",
    "        else:\n",
    "            add(matches, 'missing', name)\n",
    "            #print(name + ' was empty')    \n",
    "    \n",
    "    Msfrag_dict[scan_num] = matches"
   ]
  },
  {
   "cell_type": "code",
   "execution_count": 13,
   "metadata": {},
   "outputs": [],
   "source": [
    "#print(Msfrag_dict)"
   ]
  },
  {
   "cell_type": "code",
   "execution_count": null,
   "metadata": {},
   "outputs": [],
   "source": []
  },
  {
   "cell_type": "code",
   "execution_count": null,
   "metadata": {},
   "outputs": [],
   "source": []
  },
  {
   "cell_type": "code",
   "execution_count": 14,
   "metadata": {},
   "outputs": [],
   "source": [
    "#Running everything against MsgfPlus\n",
    "MsgfPlus_dict = {}\n",
    "Temp_files = [maxq_data,  msfrag_data, meta_data]\n",
    "dataNames = ['MaxQuant', 'Msfragger', 'MetaMorpheus']\n",
    "\n",
    "\n",
    "for index in msgfplus_data.index:\n",
    "    matches = {'same': [], 'different': [], 'missing':[]}\n",
    "    scan_num = msgfplus_data.scan[index]\n",
    "    allScanNums[scan_num] = False\n",
    "    pep = msgfplus_data.peptide[index]\n",
    "    #print(\"Scan Num: \" + str(scan_num))\n",
    "    #print(\"Peptide: \" + str(pep))\n",
    "\n",
    "    for index in range(3):\n",
    "        file = Temp_files[index]\n",
    "        name = dataNames[index]\n",
    "        temp = file[file.scan == scan_num]\n",
    "        \n",
    "        #check that df isn't empty\n",
    "        if temp.empty == False: \n",
    "            if temp.iloc[0,1] == pep: #check if peps match\n",
    "                #print(\"fnd pep: \" + temp.iloc[0,1])\n",
    "                #print(\"found scan num: \" + str(temp.iloc[0,0]))\n",
    "                add(matches, 'same', name)\n",
    "        \n",
    "            else:\n",
    "                #print(\"diff: \")\n",
    "                #print(\"fnd pep: \" + temp.iloc[0,1])\n",
    "                add(matches, 'different', name)\n",
    "                \n",
    "        #when the scan number is empty\n",
    "        else:\n",
    "            add(matches, 'missing', name)\n",
    "            #print(name + ' was empty')    \n",
    "    \n",
    "    MsgfPlus_dict[scan_num] = matches"
   ]
  },
  {
   "cell_type": "code",
   "execution_count": 15,
   "metadata": {},
   "outputs": [],
   "source": [
    "#print(MsgfPlus_dict)"
   ]
  },
  {
   "cell_type": "code",
   "execution_count": null,
   "metadata": {},
   "outputs": [],
   "source": []
  },
  {
   "cell_type": "code",
   "execution_count": 16,
   "metadata": {},
   "outputs": [],
   "source": [
    "#Running everything against MaxQuant\n",
    "MaxQ_dict = {}\n",
    "Temp_files = [meta_data, msgfplus_data, msfrag_data]\n",
    "dataNames = ['MetaMorpheus', 'MsgfPlus', 'Msfragger']\n",
    "\n",
    "for index in maxq_data.index:\n",
    "    matches = {'same': [], 'different': [], 'missing':[]}\n",
    "    scan_num = maxq_data.scan[index]\n",
    "    allScanNums[scan_num] = False\n",
    "    pep =  maxq_data.peptide[index]\n",
    "    #print(\"Scan Num: \" + str(scan_num))\n",
    "    #print(\"Peptide: \" + str(pep))\n",
    "\n",
    "    for index in range(3):\n",
    "        file = Temp_files[index]\n",
    "        name = dataNames[index]\n",
    "        temp = file[file.scan == scan_num]\n",
    "        \n",
    "        #check that df isn't empty\n",
    "        if temp.empty == False: \n",
    "            if temp.iloc[0,1] == pep: #check if peps match\n",
    "                #print(\"fnd pep: \" + temp.iloc[0,1])\n",
    "                #print(\"found scan num: \" + str(temp.iloc[0,0]))\n",
    "                add(matches, 'same', name)\n",
    "        \n",
    "            else:\n",
    "                #print(\"diff: \")\n",
    "                #print(\"fnd pep: \" + temp.iloc[0,1])\n",
    "                add(matches, 'different', name)\n",
    "                \n",
    "        #when the scan number is empty\n",
    "        else:\n",
    "            add(matches, 'missing', name)\n",
    "            #print(name + ' was empty')    \n",
    "    \n",
    "    MaxQ_dict[scan_num] = matches"
   ]
  },
  {
   "cell_type": "code",
   "execution_count": 17,
   "metadata": {},
   "outputs": [],
   "source": [
    "#print(MaxQ_dict)"
   ]
  },
  {
   "cell_type": "code",
   "execution_count": null,
   "metadata": {},
   "outputs": [],
   "source": []
  },
  {
   "cell_type": "code",
   "execution_count": 18,
   "metadata": {},
   "outputs": [],
   "source": [
    "def countUniques(thisDict):\n",
    "    totalCount = 0\n",
    "    for scanKey in thisDict:\n",
    "        scanValue = thisDict[scanKey]\n",
    "        if len(scanValue['same']) == 0:\n",
    "            totalCount +=1\n",
    "    return totalCount\n",
    "            "
   ]
  },
  {
   "cell_type": "code",
   "execution_count": 19,
   "metadata": {},
   "outputs": [],
   "source": [
    "#get a list that gives scan numbers for same/different positions of dataSet in relation to another one \n",
    "#thisDict = dictionary that we are looking in, dictName = name of data dictionary came from, section = 'same'/'diff'\n",
    "#dataSet = data we are looking for number of in the dictionary, newList = list to store scan numbers\n",
    "def getCounts(thisDict, section, dataSet, newList):\n",
    "    for scanKey in thisDict:\n",
    "        scanValue = thisDict[scanKey]\n",
    "        if dataSet in scanValue[section]:\n",
    "            newList.add(scanKey)\n",
    "    print('\\t' + dataSet + \" has \" + str(len(newList)) + \" scans that are \" + section)\n",
    "    return newList"
   ]
  },
  {
   "cell_type": "code",
   "execution_count": 20,
   "metadata": {},
   "outputs": [],
   "source": [
    "#printing counts for MM\n",
    "def printMeta():\n",
    "    Msfrag_in_Meta = set()\n",
    "    msfgp_in_Meta = set()\n",
    "    MaxQ_in_Meta = set()\n",
    "    print(\"MetaMorpheus: \")\n",
    "    MaxQ_in_Meta = getCounts(Meta_dict,'same', 'MaxQuant', MaxQ_in_Meta)\n",
    "    msfgp_in_Meta = getCounts(Meta_dict,'same', 'MsgfPlus', msfgp_in_Meta)\n",
    "    Msfrag_in_Meta = getCounts(Meta_dict,'same', 'Msfragger', Msfrag_in_Meta)\n",
    "    print('\\t' + \"There are \" + str((countUniques(Meta_dict))) + \" unique scans where nothing else matches\")\n",
    "    print('\\t' + \"There are \" + str(len(MaxQ_in_Meta.intersection(msfgp_in_Meta, MaxQ_in_Meta))) + \" values where all match\")"
   ]
  },
  {
   "cell_type": "code",
   "execution_count": 21,
   "metadata": {},
   "outputs": [],
   "source": [
    "#printing counts for MsFrag\n",
    "def printMsFrag():\n",
    "    Meta_in_MsFrag = set()\n",
    "    msfgp_in_MsFrag = set()\n",
    "    MaxQ_in_MsFrag = set()\n",
    "    print(\"MsFragger: \")\n",
    "    MaxQ_in_MsFrag = getCounts(Msfrag_dict,'same', 'MaxQuant', MaxQ_in_MsFrag)\n",
    "    msfgp_in_MsFrag = getCounts(Msfrag_dict,'same', 'MsgfPlus', msfgp_in_MsFrag)\n",
    "    Meta_in_MsFrag = getCounts(Msfrag_dict,'same', 'MetaMorpheus', Meta_in_MsFrag)\n",
    "    print('\\t' + \"There are \" + str((countUniques(Msfrag_dict))) + \" unique scans where nothing else matches\")\n",
    "    print('\\t' + \"There are \" + str(len(MaxQ_in_MsFrag.intersection(msfgp_in_MsFrag, Meta_in_MsFrag))) + \" values where all match\")"
   ]
  },
  {
   "cell_type": "code",
   "execution_count": 22,
   "metadata": {},
   "outputs": [],
   "source": [
    "#printing counts for MsgfPlus\n",
    "def printMsfgPlus():\n",
    "    Msfrag_in_MsgfP = set()\n",
    "    Meta_in_MsgfP = set()\n",
    "    MaxQ_in_MsgfP = set()\n",
    "    print(\"MsgfPlus: \")\n",
    "    MaxQ_in_MsgfP = getCounts(MsgfPlus_dict,'same', 'MaxQuant', MaxQ_in_MsgfP)\n",
    "    Meta_in_MsgfP = getCounts(MsgfPlus_dict,'same', 'MetaMorpheus', Meta_in_MsgfP)\n",
    "    Msfrag_in_MsgfP = getCounts(MsgfPlus_dict,'same', 'Msfragger', Msfrag_in_MsgfP)\n",
    "    print('\\t' + \"There are \" + str((countUniques(MsgfPlus_dict))) + \" unique scans where nothing else matches\")\n",
    "    print('\\t' + \"There are \" + str(len(MaxQ_in_MsgfP.intersection(Meta_in_MsgfP, Msfrag_in_MsgfP))) + \" values where all match\")\n"
   ]
  },
  {
   "cell_type": "code",
   "execution_count": 23,
   "metadata": {},
   "outputs": [],
   "source": [
    "#printing counts for MaxQuant\n",
    "def printMaxQ():\n",
    "    Msfrag_in_MaxQ = set()\n",
    "    msfgp_in_MaxQ = set()\n",
    "    Meta_in_MaxQ = set()\n",
    "    print(\"MaxQuant: \")\n",
    "    Meta_in_MaxQ = getCounts(MaxQ_dict,'same', 'MetaMorpheus', Meta_in_MaxQ)\n",
    "    msfgp_in_MaxQ = getCounts(MaxQ_dict,'same', 'MsgfPlus', msfgp_in_MaxQ)\n",
    "    Msfrag_in_MaxQ = getCounts(MaxQ_dict,'same', 'Msfragger', Msfrag_in_MaxQ)\n",
    "    print('\\t' + \"There are \" + str((countUniques(MaxQ_dict))) + \" unique scans where nothing else matches\")\n",
    "    print('\\t' + \"There are \" + str(len(Meta_in_MaxQ.intersection(msfgp_in_MaxQ, Msfrag_in_MaxQ))) + \" values where all match\")"
   ]
  },
  {
   "cell_type": "code",
   "execution_count": 24,
   "metadata": {},
   "outputs": [
    {
     "name": "stdout",
     "output_type": "stream",
     "text": [
      "MetaMorpheus: \n",
      "\tMaxQuant has 7861 scans that are same\n",
      "\tMsgfPlus has 8405 scans that are same\n",
      "\tMsfragger has 10072 scans that are same\n",
      "\tThere are 2905 unique scans where nothing else matches\n",
      "\tThere are 6062 values where all match\n",
      "MsFragger: \n",
      "\tMaxQuant has 7991 scans that are same\n",
      "\tMsgfPlus has 8524 scans that are same\n",
      "\tMetaMorpheus has 10072 scans that are same\n",
      "\tThere are 764 unique scans where nothing else matches\n",
      "\tThere are 5885 values where all match\n",
      "MsgfPlus: \n",
      "\tMaxQuant has 6478 scans that are same\n",
      "\tMetaMorpheus has 8405 scans that are same\n",
      "\tMsfragger has 8524 scans that are same\n",
      "\tThere are 3013 unique scans where nothing else matches\n",
      "\tThere are 5885 values where all match\n",
      "MaxQuant: \n",
      "\tMetaMorpheus has 7861 scans that are same\n",
      "\tMsgfPlus has 6478 scans that are same\n",
      "\tMsfragger has 7991 scans that are same\n",
      "\tThere are 370 unique scans where nothing else matches\n",
      "\tThere are 5885 values where all match\n"
     ]
    }
   ],
   "source": [
    "#Print everything out\n",
    "printMeta()\n",
    "printMsFrag()\n",
    "printMsfgPlus()\n",
    "printMaxQ()\n"
   ]
  },
  {
   "cell_type": "code",
   "execution_count": 25,
   "metadata": {},
   "outputs": [
    {
     "data": {
      "text/plain": [
       "15428"
      ]
     },
     "execution_count": 25,
     "metadata": {},
     "output_type": "execute_result"
    }
   ],
   "source": [
    "len(allScanNums)"
   ]
  },
  {
   "cell_type": "code",
   "execution_count": 26,
   "metadata": {},
   "outputs": [],
   "source": [
    "def checkAll(num):\n",
    "    if num in Meta_dict: \n",
    "        if len(Meta_dict[num]['same']) == 3:\n",
    "            return True\n",
    "            "
   ]
  },
  {
   "cell_type": "code",
   "execution_count": 27,
   "metadata": {},
   "outputs": [],
   "source": [
    "#all except for MSGF\n",
    "def checkMSGF(num):\n",
    "    if num in Meta_dict:\n",
    "        if 'Msfragger' in Meta_dict[num]['same'] and 'MaxQuant' in Meta_dict[num]['same'] and 'MsgfPlus' not in Meta_dict[num]['same']:\n",
    "             return True\n"
   ]
  },
  {
   "cell_type": "code",
   "execution_count": 28,
   "metadata": {},
   "outputs": [],
   "source": [
    "def checkMQ(num):\n",
    "    if num in Meta_dict:\n",
    "        if 'Msfragger' in Meta_dict[num]['same'] and 'MsgfPlus' in Meta_dict[num]['same'] and 'MaxQuant' not in Meta_dict[num]['same']:\n",
    "             return True\n"
   ]
  },
  {
   "cell_type": "code",
   "execution_count": 29,
   "metadata": {},
   "outputs": [],
   "source": [
    "def checkMSF(num):\n",
    "    if num in Meta_dict:\n",
    "        if 'MaxQuant' in Meta_dict[num]['same'] and 'MsgfPlus' in Meta_dict[num]['same'] and 'Msfragger' not in Meta_dict[num]['same']:\n",
    "             return True\n"
   ]
  },
  {
   "cell_type": "code",
   "execution_count": 30,
   "metadata": {},
   "outputs": [],
   "source": [
    "def checkMM(num):\n",
    "    if num in MsgfPlus_dict:\n",
    "        if 'MaxQuant' in MsgfPlus_dict[num]['same'] and 'MsgfPlus' in MsgfPlus_dict[num]['same'] and 'MetaMorpheus' not in MsgfPlus_dict[num]['same']:\n",
    "             return True\n"
   ]
  },
  {
   "cell_type": "code",
   "execution_count": 31,
   "metadata": {},
   "outputs": [],
   "source": [
    " #Meta_dict, Msfrag_dict, MaxQ_dict, MsgfPlus_dict\n",
    "#dataNames = ['MaxQuant', 'Msfragger', 'MetaMorpheus', 'MsgfPlus', ]"
   ]
  },
  {
   "cell_type": "code",
   "execution_count": 32,
   "metadata": {},
   "outputs": [
    {
     "name": "stdout",
     "output_type": "stream",
     "text": [
      "allSame: 5885\n",
      "noMSG: 1627\n",
      "noMsF: 177\n",
      "noMM: 0\n",
      "noMQ: 1862\n"
     ]
    }
   ],
   "source": [
    "buckets = {'4Same':[], 'LessMsgf':[], 'LessFrag':[], 'LessMeta': [], 'LessMQ':[]}\n",
    "allSame = []\n",
    "noMSG = []\n",
    "noMsF = []\n",
    "noMM = []\n",
    "noMQ = []\n",
    "\n",
    "for num in allScanNums:\n",
    "    if checkAll(num) == True:\n",
    "        allSame.append(num)\n",
    "    elif checkMSGF(num) == True:\n",
    "        noMSG.append(num)\n",
    "    elif checkMQ(num) == True:\n",
    "        noMQ.append(num)\n",
    "    elif checkMSF(num) == True:\n",
    "        noMsF.append(num)\n",
    "        \n",
    "print('allSame: ' + str(len(allSame)))\n",
    "print('noMSG: ' + str(len(noMSG)))\n",
    "print('noMsF: ' + str(len(noMsF)))\n",
    "print('noMM: ' + str(len(noMM)))\n",
    "print('noMQ: ' + str(len(noMQ)))        "
   ]
  },
  {
   "cell_type": "code",
   "execution_count": 33,
   "metadata": {},
   "outputs": [
    {
     "data": {
      "image/png": "[encoded data removed]",
      "text/plain": [
       "<Figure size 432x288 with 1 Axes>"
      ]
     },
     "metadata": {
      "needs_background": "light"
     },
     "output_type": "display_data"
    }
   ],
   "source": [
    "import matplotlib.pyplot as plt\n",
    "fig = plt.figure()\n",
    "ax = fig.add_axes([0,0,1,1])\n",
    "tools = ['4 Tools Match','No MaxQuant', 'No Msfragger', 'No MetaMorpheus', 'No MsgfPlus']\n",
    "ranges = [len(allSame), len(noMQ), len(noMsF), len(noMM), len(noMSG)]\n",
    "ax.bar(tools, ranges)\n",
    "plt.title(\"Matches Between Tools\")\n",
    "plt.show()\n"
   ]
  },
  {
   "cell_type": "code",
   "execution_count": 34,
   "metadata": {
    "scrolled": true
   },
   "outputs": [
    {
     "data": {
      "image/png": "[encoded data removed]",
      "text/plain": [
       "<Figure size 432x288 with 1 Axes>"
      ]
     },
     "metadata": {
      "needs_background": "light"
     },
     "output_type": "display_data"
    }
   ],
   "source": [
    "fig = plt.figure()\n",
    "ax = fig.add_axes([0,0,1,1])\n",
    "tools = ['MaxQuant', ' Msfragger', ' MetaMorpheus', 'MsgfPlus']\n",
    "Unique_Scans = [ countUniques(MaxQ_dict), countUniques(Msfrag_dict), countUniques(Meta_dict), countUniques(MsgfPlus_dict)]\n",
    "ax.bar(tools, Unique_Scans)\n",
    "plt.title(\"Number of Unique Scans per Tool\")\n",
    "plt.show()"
   ]
  },
  {
   "cell_type": "code",
   "execution_count": 35,
   "metadata": {},
   "outputs": [],
   "source": [
    "##For each scan that's missing in only one tool, we need to graph all of the p values"
   ]
  },
  {
   "cell_type": "code",
   "execution_count": 36,
   "metadata": {},
   "outputs": [],
   "source": [
    "def find_pvals(list_without, dataSet):\n",
    "    pvals = []\n",
    "    for num in list_without:\n",
    "        tempFrame = dataSet[dataSet.scan == num]\n",
    "        if tempFrame.empty != True:\n",
    "            pValue = tempFrame.iloc[0,3]\n",
    "            pvals.append(pValue)\n",
    "    return pvals"
   ]
  },
  {
   "cell_type": "code",
   "execution_count": 37,
   "metadata": {},
   "outputs": [
    {
     "name": "stdout",
     "output_type": "stream",
     "text": [
      "1627\n",
      "1627\n"
     ]
    }
   ],
   "source": [
    "MSG_pvals = find_pvals(noMSG, msgf)\n",
    "print(len(noMSG))\n",
    "print(len(MSG_pvals))"
   ]
  },
  {
   "cell_type": "code",
   "execution_count": 62,
   "metadata": {},
   "outputs": [
    {
     "name": "stdout",
     "output_type": "stream",
     "text": [
      "177\n",
      "134\n"
     ]
    }
   ],
   "source": [
    "MsF_pvals = find_pvals(noMsF, msf)\n",
    "print(len(noMsF))\n",
    "print(len(MsF_pvals))"
   ]
  },
  {
   "cell_type": "code",
   "execution_count": null,
   "metadata": {},
   "outputs": [],
   "source": []
  },
  {
   "cell_type": "code",
   "execution_count": null,
   "metadata": {},
   "outputs": [],
   "source": []
  },
  {
   "cell_type": "code",
   "execution_count": 39,
   "metadata": {},
   "outputs": [
    {
     "name": "stdout",
     "output_type": "stream",
     "text": [
      "1862\n",
      "1862\n"
     ]
    }
   ],
   "source": [
    "MQ_pvals = find_pvals(noMQ, mq)\n",
    "print(len(noMQ))\n",
    "print(len(MQ_pvals))"
   ]
  },
  {
   "cell_type": "code",
   "execution_count": 40,
   "metadata": {},
   "outputs": [],
   "source": [
    "##Testing from here down"
   ]
  },
  {
   "cell_type": "markdown",
   "metadata": {},
   "source": [
    "#another option. Doesn't work with msf\n",
    "def find_pvals(list_without, dataSet):\n",
    "    pvals = []\n",
    "    for num in list_without:\n",
    "        if num in dataSet['scan']:\n",
    "            tempFrame = dataSet[dataSet.scan == num]\n",
    "            pValue = tempFrame.iloc[0,3]\n",
    "            pvals.append(pValue)\n",
    "    return pvals"
   ]
  },
  {
   "cell_type": "code",
   "execution_count": 57,
   "metadata": {},
   "outputs": [],
   "source": [
    "TestDF = pd.DataFrame([['MSFragger', [1,2]], ['MaxQuant',[2.5,3]], ['MsgfPlus', [1,4]]], columns = ['ToolName','P_Value'])"
   ]
  },
  {
   "cell_type": "code",
   "execution_count": 63,
   "metadata": {},
   "outputs": [
    {
     "name": "stdout",
     "output_type": "stream",
     "text": [
      "0      [1, 2]\n",
      "1    [2.5, 3]\n",
      "2      [1, 4]\n",
      "Name: P_Value, dtype: object\n"
     ]
    }
   ],
   "source": [
    "print(y)"
   ]
  },
  {
   "cell_type": "code",
   "execution_count": 65,
   "metadata": {},
   "outputs": [
    {
     "data": {
      "image/png": "[encoded data removed]",
      "text/plain": [
       "<Figure size 432x288 with 1 Axes>"
      ]
     },
     "metadata": {},
     "output_type": "display_data"
    }
   ],
   "source": [
    "import seaborn as sns\n",
    "import matplotlib.pyplot as plt\n",
    "\n",
    "sns.set(style=\"whitegrid\")\n",
    "tips = sns.load_dataset(\"tips\")\n",
    "\n",
    "ax = sns.boxplot(x=\"day\", y=\"total_bill\", data=tips, showfliers = False)\n",
    "ax = sns.swarmplot(x=\"day\", y=\"total_bill\", data=tips, color=\".25\")\n",
    "\n",
    "plt.show()"
   ]
  },
  {
   "cell_type": "code",
   "execution_count": 67,
   "metadata": {},
   "outputs": [
    {
     "data": {
      "text/html": [
       "<div>\n",
       "<style scoped>\n",
       "    .dataframe tbody tr th:only-of-type {\n",
       "        vertical-align: middle;\n",
       "    }\n",
       "\n",
       "    .dataframe tbody tr th {\n",
       "        vertical-align: top;\n",
       "    }\n",
       "\n",
       "    .dataframe thead th {\n",
       "        text-align: right;\n",
       "    }\n",
       "</style>\n",
       "<table border=\"1\" class=\"dataframe\">\n",
       "  <thead>\n",
       "    <tr style=\"text-align: right;\">\n",
       "      <th></th>\n",
       "      <th>total_bill</th>\n",
       "      <th>tip</th>\n",
       "      <th>sex</th>\n",
       "      <th>smoker</th>\n",
       "      <th>day</th>\n",
       "      <th>time</th>\n",
       "      <th>size</th>\n",
       "    </tr>\n",
       "  </thead>\n",
       "  <tbody>\n",
       "    <tr>\n",
       "      <th>0</th>\n",
       "      <td>16.99</td>\n",
       "      <td>1.01</td>\n",
       "      <td>Female</td>\n",
       "      <td>No</td>\n",
       "      <td>Sun</td>\n",
       "      <td>Dinner</td>\n",
       "      <td>2</td>\n",
       "    </tr>\n",
       "    <tr>\n",
       "      <th>1</th>\n",
       "      <td>10.34</td>\n",
       "      <td>1.66</td>\n",
       "      <td>Male</td>\n",
       "      <td>No</td>\n",
       "      <td>Sun</td>\n",
       "      <td>Dinner</td>\n",
       "      <td>3</td>\n",
       "    </tr>\n",
       "    <tr>\n",
       "      <th>2</th>\n",
       "      <td>21.01</td>\n",
       "      <td>3.50</td>\n",
       "      <td>Male</td>\n",
       "      <td>No</td>\n",
       "      <td>Sun</td>\n",
       "      <td>Dinner</td>\n",
       "      <td>3</td>\n",
       "    </tr>\n",
       "    <tr>\n",
       "      <th>3</th>\n",
       "      <td>23.68</td>\n",
       "      <td>3.31</td>\n",
       "      <td>Male</td>\n",
       "      <td>No</td>\n",
       "      <td>Sun</td>\n",
       "      <td>Dinner</td>\n",
       "      <td>2</td>\n",
       "    </tr>\n",
       "    <tr>\n",
       "      <th>4</th>\n",
       "      <td>24.59</td>\n",
       "      <td>3.61</td>\n",
       "      <td>Female</td>\n",
       "      <td>No</td>\n",
       "      <td>Sun</td>\n",
       "      <td>Dinner</td>\n",
       "      <td>4</td>\n",
       "    </tr>\n",
       "    <tr>\n",
       "      <th>...</th>\n",
       "      <td>...</td>\n",
       "      <td>...</td>\n",
       "      <td>...</td>\n",
       "      <td>...</td>\n",
       "      <td>...</td>\n",
       "      <td>...</td>\n",
       "      <td>...</td>\n",
       "    </tr>\n",
       "    <tr>\n",
       "      <th>239</th>\n",
       "      <td>29.03</td>\n",
       "      <td>5.92</td>\n",
       "      <td>Male</td>\n",
       "      <td>No</td>\n",
       "      <td>Sat</td>\n",
       "      <td>Dinner</td>\n",
       "      <td>3</td>\n",
       "    </tr>\n",
       "    <tr>\n",
       "      <th>240</th>\n",
       "      <td>27.18</td>\n",
       "      <td>2.00</td>\n",
       "      <td>Female</td>\n",
       "      <td>Yes</td>\n",
       "      <td>Sat</td>\n",
       "      <td>Dinner</td>\n",
       "      <td>2</td>\n",
       "    </tr>\n",
       "    <tr>\n",
       "      <th>241</th>\n",
       "      <td>22.67</td>\n",
       "      <td>2.00</td>\n",
       "      <td>Male</td>\n",
       "      <td>Yes</td>\n",
       "      <td>Sat</td>\n",
       "      <td>Dinner</td>\n",
       "      <td>2</td>\n",
       "    </tr>\n",
       "    <tr>\n",
       "      <th>242</th>\n",
       "      <td>17.82</td>\n",
       "      <td>1.75</td>\n",
       "      <td>Male</td>\n",
       "      <td>No</td>\n",
       "      <td>Sat</td>\n",
       "      <td>Dinner</td>\n",
       "      <td>2</td>\n",
       "    </tr>\n",
       "    <tr>\n",
       "      <th>243</th>\n",
       "      <td>18.78</td>\n",
       "      <td>3.00</td>\n",
       "      <td>Female</td>\n",
       "      <td>No</td>\n",
       "      <td>Thur</td>\n",
       "      <td>Dinner</td>\n",
       "      <td>2</td>\n",
       "    </tr>\n",
       "  </tbody>\n",
       "</table>\n",
       "<p>244 rows × 7 columns</p>\n",
       "</div>"
      ],
      "text/plain": [
       "     total_bill   tip     sex smoker   day    time  size\n",
       "0         16.99  1.01  Female     No   Sun  Dinner     2\n",
       "1         10.34  1.66    Male     No   Sun  Dinner     3\n",
       "2         21.01  3.50    Male     No   Sun  Dinner     3\n",
       "3         23.68  3.31    Male     No   Sun  Dinner     2\n",
       "4         24.59  3.61  Female     No   Sun  Dinner     4\n",
       "..          ...   ...     ...    ...   ...     ...   ...\n",
       "239       29.03  5.92    Male     No   Sat  Dinner     3\n",
       "240       27.18  2.00  Female    Yes   Sat  Dinner     2\n",
       "241       22.67  2.00    Male    Yes   Sat  Dinner     2\n",
       "242       17.82  1.75    Male     No   Sat  Dinner     2\n",
       "243       18.78  3.00  Female     No  Thur  Dinner     2\n",
       "\n",
       "[244 rows x 7 columns]"
      ]
     },
     "execution_count": 67,
     "metadata": {},
     "output_type": "execute_result"
    }
   ],
   "source": [
    "tips"
   ]
  }
 ],
 "metadata": {
  "kernelspec": {
   "display_name": "Python 3",
   "language": "python",
   "name": "python3"
  },
  "language_info": {
   "codemirror_mode": {
    "name": "ipython",
    "version": 3
   },
   "file_extension": ".py",
   "mimetype": "text/x-python",
   "name": "python",
   "nbconvert_exporter": "python",
   "pygments_lexer": "ipython3",
   "version": "3.8.3"
  }
 },
 "nbformat": 4,
 "nbformat_minor": 4
}
