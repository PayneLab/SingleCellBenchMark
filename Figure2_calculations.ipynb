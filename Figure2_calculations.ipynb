{
 "cells": [
  {
   "cell_type": "markdown",
   "metadata": {},
   "source": [
    "The purpose of this notebook is to read in and use the data from the MegaTable to calculate how the tools score relative to each other in Figure1."
   ]
  },
  {
   "cell_type": "code",
   "execution_count": 2,
   "metadata": {},
   "outputs": [],
   "source": [
    "import os\n",
    "import mokapot\n",
    "import numpy as np\n",
    "import pandas as pd\n",
    "import matplotlib.pyplot as plt\n",
    "import sys\n",
    "sys.path.append(\"..\")\n",
    "sys.path\n",
    "import data_loader as dl\n",
    "import statistics as stats"
   ]
  },
  {
   "cell_type": "code",
   "execution_count": 3,
   "metadata": {},
   "outputs": [],
   "source": [
    "#read in the megaScript and reformat it\n",
    "def clean_meagScript(file):\n",
    "    df = pd.read_csv(file, low_memory=False,  header=[0,1])\n",
    "    df.drop(columns = {\"Unnamed: 0_level_0\"})\n",
    "    return df"
   ]
  },
  {
   "cell_type": "markdown",
   "metadata": {},
   "source": [
    "Slicing out the MokaPot qvalues for each tool and counting how many are at or under the cutoff"
   ]
  },
  {
   "cell_type": "code",
   "execution_count": 4,
   "metadata": {},
   "outputs": [],
   "source": [
    "def get_msf_Qval_len(df, cutoff):\n",
    "    msf_probability = df[\"MsFragger\"]['mokapot q-value']\n",
    "    msf_probability =  msf_probability.dropna()\n",
    "    msf_under_cutoff = len(msf_probability.loc[msf_probability <= cutoff])\n",
    "    return msf_under_cutoff"
   ]
  },
  {
   "cell_type": "code",
   "execution_count": 5,
   "metadata": {},
   "outputs": [],
   "source": [
    "def get_mm_Qval_len(df, cutoff):\n",
    "    mm_qval = df[\"MetaMorpheus\"]['mokapot q-value'] \n",
    "    mm_qval =  mm_qval.dropna() \n",
    "    mm_under_cutoff = len(mm_qval.loc[mm_qval <= cutoff])\n",
    "    return mm_under_cutoff"
   ]
  },
  {
   "cell_type": "code",
   "execution_count": 6,
   "metadata": {},
   "outputs": [],
   "source": [
    "def get_msg_Qval_len(df, cutoff):\n",
    "    msg_qval = df[\"MsgfPlus\"]['mokapot q-value'] \n",
    "    msg_qval =  msg_qval.dropna() \n",
    "    msg_under_cutoff = len(msg_qval.loc[msg_qval <= cutoff])\n",
    "    return msg_under_cutoff"
   ]
  },
  {
   "cell_type": "code",
   "execution_count": 7,
   "metadata": {},
   "outputs": [],
   "source": [
    "def get_mq_Qval_len(df, cutoff):\n",
    "    mq_PEP = df[\"MaxQuant\"]['mokapot q-value'] \n",
    "    mq_PEP =  mq_PEP.dropna() \n",
    "    mq_under_cutoff = len(mq_PEP.loc[mq_PEP <= cutoff])\n",
    "    return mq_under_cutoff"
   ]
  },
  {
   "cell_type": "code",
   "execution_count": 8,
   "metadata": {},
   "outputs": [],
   "source": [
    "def get_pd_Qval_len(df, cutoff):\n",
    "    pd_qval = df[\"Proteome_Discoverer\"]['Percolator q-Value'] \n",
    "    pd_qval = pd_qval.dropna()\n",
    "    pd_under_cutoff = len(pd_qval.loc[pd_qval <= cutoff])\n",
    "    return pd_under_cutoff"
   ]
  },
  {
   "cell_type": "markdown",
   "metadata": {},
   "source": [
    "This function gets the number of scan values that were at or below the cutoff for each tool and returns them."
   ]
  },
  {
   "cell_type": "code",
   "execution_count": 10,
   "metadata": {},
   "outputs": [],
   "source": [
    "def get_file_values(file, cutoff):\n",
    "    df = clean_meagScript(file)\n",
    "    msf_QVal = get_msf_Qval_len(df, cutoff)\n",
    "    MM_QVal = get_mm_Qval_len(df, cutoff)\n",
    "    msg_QVal = get_msg_Qval_len(df, cutoff)\n",
    "    MQ_Qval = get_mq_Qval_len(df, cutoff)\n",
    "    pd_Qval = get_pd_Qval_len(df, cutoff)\n",
    "    values_list = {\"msf_QVal\" : msf_QVal, \"MM_QVal\" : MM_QVal, \"msg_QVal\" : msg_QVal, \"MQ_Qval\" : MQ_Qval, \"pd_Qval\" : pd_Qval}\n",
    "    return values_list"
   ]
  },
  {
   "cell_type": "code",
   "execution_count": null,
   "metadata": {},
   "outputs": [],
   "source": []
  },
  {
   "cell_type": "code",
   "execution_count": 25,
   "metadata": {},
   "outputs": [],
   "source": [
    "File1 = get_file_values(\"MokaPot/MegaScript_2ng_rep1.csv\", 0.01)\n",
    "File2 = get_file_values(\"MokaPot/MegaScript_2ng_rep2.csv\", 0.01)\n",
    "File3 = get_file_values(\"MokaPot/MegaScript_2ng_rep3.csv\", 0.01)\n",
    "File4 = get_file_values(\"MokaPot/MegaScript_2ng_rep4.csv\", 0.01)\n",
    "File5 = get_file_values(\"MokaPot/MegaScript_2ng_rep5.csv\", 0.01)\n",
    "File6 = get_file_values(\"MokaPot/MegaScript_2ng_rep6.csv\", 0.01)\n",
    "\n",
    "File7 = get_file_values(\"MokaPot/MegaScript_0.2ng_rep1.csv\", 0.01)\n",
    "File8 = get_file_values(\"MokaPot/MegaScript_0.2ng_rep2.csv\", 0.01)\n",
    "File9 = get_file_values(\"MokaPot/MegaScript_0.2ng_rep3.csv\", 0.01)\n",
    "File10 = get_file_values(\"MokaPot/MegaScript_0.2ng_rep4.csv\", 0.01)\n",
    "File11 = get_file_values(\"MokaPot/MegaScript_0.2ng_rep5.csv\", 0.01)\n",
    "File12 = get_file_values(\"MokaPot/MegaScript_0.2ng_rep6.csv\", 0.01)\n",
    "\n",
    "\n",
    "msf_qval_2ng = [File1['msf_QVal'], File2['msf_QVal'], File3['msf_QVal'], File4['msf_QVal'], File5['msf_QVal'], File6['msf_QVal']]            \n",
    "msf_qval_02ng = [File7['msf_QVal'], File8['msf_QVal'], File9['msf_QVal'], File10['msf_QVal'], File11['msf_QVal'], File12['msf_QVal']]\n",
    "\n",
    "MM_qval_2ng = [File1['MM_QVal'], File2['MM_QVal'], File3['MM_QVal'], File4['MM_QVal'], File5['MM_QVal'], File6['MM_QVal']]\n",
    "MM_qval_02ng = [File7['MM_QVal'], File8['MM_QVal'], File9['MM_QVal'], File10['MM_QVal'], File11['MM_QVal'], File12['MM_QVal']]\n",
    "\n",
    "PD_qval_2ng = [File1['pd_Qval'], File2['pd_Qval'], File3['pd_Qval'], File4['pd_Qval'], File5['pd_Qval'], File6['pd_Qval']]\n",
    "PD_qval_02ng = [File7['pd_Qval'], File8['pd_Qval'], File9['pd_Qval'], File10['pd_Qval'], File11['pd_Qval'], File12['pd_Qval']]\n",
    "\n",
    "msg_qval_2ng = [File1['msg_QVal'], File2['msg_QVal'], File3['msg_QVal'], File4['msg_QVal'], File5['msg_QVal'], File6['msg_QVal']]\n",
    "msg_qval_02ng = [File7['msg_QVal'], File8['msg_QVal'], File9['msg_QVal'], File10['msg_QVal'], File11['msg_QVal'], File12['msg_QVal']]\n",
    "\n",
    "mq_qval_2ng = [File1['MQ_Qval'], File2['MQ_Qval'], File3['MQ_Qval'], File4['MQ_Qval'], File5['MQ_Qval'], File6['MQ_Qval']]\n",
    "mq_qval_02ng = [File7['MQ_Qval'], File8['MQ_Qval'], File9['MQ_Qval'], File10['MQ_Qval'], File11['MQ_Qval'], File12['MQ_Qval']]\n",
    "\n"
   ]
  },
  {
   "cell_type": "markdown",
   "metadata": {},
   "source": [
    "Calculating the percent differnce between MetaMorpheus and MSGF+ native scores for 2ng data"
   ]
  },
  {
   "cell_type": "code",
   "execution_count": 13,
   "metadata": {},
   "outputs": [
    {
     "data": {
      "text/plain": [
       "0.1801535931878448"
      ]
     },
     "execution_count": 13,
     "metadata": {},
     "output_type": "execute_result"
    }
   ],
   "source": [
    "diff_msgf = []\n",
    "for i, count in enumerate(msg_qval_2ng) :\n",
    "    meta_morpheus_count = MM_qval_2ng[i]\n",
    "    var = (meta_morpheus_count - count) / meta_morpheus_count\n",
    "    diff_msgf.append(var)\n",
    "#now avg difference\n",
    "diff_msgf_average = stats.mean(diff_msgf)\n",
    "diff_msgf_average"
   ]
  },
  {
   "cell_type": "markdown",
   "metadata": {},
   "source": [
    "Calculating the percent differnce between MetaMorpheus and MsFragger native scores for 2ng data"
   ]
  },
  {
   "cell_type": "code",
   "execution_count": 14,
   "metadata": {},
   "outputs": [
    {
     "data": {
      "text/plain": [
       "0.11026397095009602"
      ]
     },
     "execution_count": 14,
     "metadata": {},
     "output_type": "execute_result"
    }
   ],
   "source": [
    "diff_msfrag = []\n",
    "for i, count in enumerate(msf_qval_2ng) :\n",
    "    meta_morpheus_count = MM_qval_2ng[i]\n",
    "    var = (meta_morpheus_count - count) / meta_morpheus_count\n",
    "    diff_msfrag.append(var)\n",
    "#now avg difference\n",
    "diff_msfrag_average = stats.mean(diff_msfrag)\n",
    "diff_msfrag_average"
   ]
  },
  {
   "cell_type": "markdown",
   "metadata": {},
   "source": [
    "Calculating the percent differnce between MetaMorpheus and Maxquant mokapot q-value scores for 2ng data"
   ]
  },
  {
   "cell_type": "code",
   "execution_count": 18,
   "metadata": {},
   "outputs": [
    {
     "data": {
      "text/plain": [
       "0.19076338921173744"
      ]
     },
     "execution_count": 18,
     "metadata": {},
     "output_type": "execute_result"
    }
   ],
   "source": [
    "diff_mq = []\n",
    "for i, count in enumerate(mq_qval_2ng) :\n",
    "    meta_morpheus_count = MM_qval_2ng[i]\n",
    "    var = (meta_morpheus_count - count) / meta_morpheus_count\n",
    "    diff_mq.append(var)\n",
    "#now avg difference\n",
    "diff_mq_average = stats.mean(diff_mq)\n",
    "diff_mq_average"
   ]
  },
  {
   "cell_type": "markdown",
   "metadata": {},
   "source": [
    "Calculating the percent differnce between MetaMorpheus mokapot q-value scores and Proteome Discoverer's percolator q-value scores for 2ng data"
   ]
  },
  {
   "cell_type": "code",
   "execution_count": 19,
   "metadata": {},
   "outputs": [
    {
     "data": {
      "text/plain": [
       "0.13998118241570598"
      ]
     },
     "execution_count": 19,
     "metadata": {},
     "output_type": "execute_result"
    }
   ],
   "source": [
    "diff_pd = []\n",
    "for i, count in enumerate(PD_qval_2ng) :\n",
    "    meta_morpheus_count = MM_qval_2ng[i]\n",
    "    var = (meta_morpheus_count - count) / meta_morpheus_count\n",
    "    diff_mq.append(var)\n",
    "#now avg difference\n",
    "diff_pd_average = stats.mean(diff_mq)\n",
    "diff_pd_average"
   ]
  },
  {
   "cell_type": "markdown",
   "metadata": {},
   "source": [
    "Calculating the percent differnce between MetaMorpheus and MSGF+ mokapot q-value scores for 0.2ng data"
   ]
  },
  {
   "cell_type": "code",
   "execution_count": 22,
   "metadata": {},
   "outputs": [
    {
     "data": {
      "text/plain": [
       "0.14761121191476012"
      ]
     },
     "execution_count": 22,
     "metadata": {},
     "output_type": "execute_result"
    }
   ],
   "source": [
    "diff_msgf = []\n",
    "for i, count in enumerate(msg_qval_02ng) :\n",
    "    meta_morpheus_count = MM_qval_02ng[i]\n",
    "    var = (meta_morpheus_count - count) / meta_morpheus_count\n",
    "    diff_msgf.append(var)\n",
    "#now avg difference\n",
    "diff_msgf_average = stats.mean(diff_msgf)\n",
    "diff_msgf_average"
   ]
  },
  {
   "cell_type": "markdown",
   "metadata": {},
   "source": [
    "Calculating the percent differnce between MetaMorpheus and MsFragger mokapot q-value scores for 0.2ng data"
   ]
  },
  {
   "cell_type": "code",
   "execution_count": 21,
   "metadata": {},
   "outputs": [
    {
     "data": {
      "text/plain": [
       "0.043400335672144984"
      ]
     },
     "execution_count": 21,
     "metadata": {},
     "output_type": "execute_result"
    }
   ],
   "source": [
    "diff_msfrag = []\n",
    "for i, count in enumerate(msf_qval_02ng) :\n",
    "    meta_morpheus_count = MM_qval_02ng[i]\n",
    "    var = (meta_morpheus_count - count) / meta_morpheus_count\n",
    "    diff_msfrag.append(var)\n",
    "#now avg difference\n",
    "diff_msfrag_average = stats.mean(diff_msfrag)\n",
    "diff_msfrag_average"
   ]
  },
  {
   "cell_type": "markdown",
   "metadata": {},
   "source": [
    "Calculating the percent differnce between MetaMorpheus and Maxquant q-value scores for 0.2ng data"
   ]
  },
  {
   "cell_type": "code",
   "execution_count": 23,
   "metadata": {},
   "outputs": [
    {
     "data": {
      "text/plain": [
       "0.16581479709140798"
      ]
     },
     "execution_count": 23,
     "metadata": {},
     "output_type": "execute_result"
    }
   ],
   "source": [
    "diff_mq = []\n",
    "for i, count in enumerate(mq_qval_02ng) :\n",
    "    meta_morpheus_count = MM_qval_02ng[i]\n",
    "    var = (meta_morpheus_count - count) / meta_morpheus_count\n",
    "    diff_mq.append(var)\n",
    "#now avg difference\n",
    "diff_mq_average = stats.mean(diff_mq)\n",
    "diff_mq_average"
   ]
  },
  {
   "cell_type": "markdown",
   "metadata": {},
   "source": [
    "Calculating the percent differnce between MetaMorpheus mokapot q-value scores and Proteome Discoverer's percolator q-value scores for 0.2ng data"
   ]
  },
  {
   "cell_type": "code",
   "execution_count": 26,
   "metadata": {},
   "outputs": [
    {
     "data": {
      "text/plain": [
       "0.11094513393086841"
      ]
     },
     "execution_count": 26,
     "metadata": {},
     "output_type": "execute_result"
    }
   ],
   "source": [
    "diff_pd = []\n",
    "for i, count in enumerate(PD_qval_02ng) :\n",
    "    meta_morpheus_count = MM_qval_02ng[i]\n",
    "    var = (meta_morpheus_count - count) / meta_morpheus_count\n",
    "    diff_mq.append(var)\n",
    "#now avg difference\n",
    "diff_pd_average = stats.mean(diff_mq)\n",
    "diff_pd_average"
   ]
  }
 ],
 "metadata": {
  "kernelspec": {
   "display_name": "Python 3",
   "language": "python",
   "name": "python3"
  },
  "language_info": {
   "codemirror_mode": {
    "name": "ipython",
    "version": 3
   },
   "file_extension": ".py",
   "mimetype": "text/x-python",
   "name": "python",
   "nbconvert_exporter": "python",
   "pygments_lexer": "ipython3",
   "version": "3.8.3"
  }
 },
 "nbformat": 4,
 "nbformat_minor": 4
}
