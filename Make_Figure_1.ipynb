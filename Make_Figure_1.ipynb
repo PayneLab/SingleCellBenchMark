{
 "cells": [
  {
   "cell_type": "markdown",
   "metadata": {},
   "source": [
    "The purpose of this notebook is to read in and use the data to make figure one. This shows us how many PSMs under a certain cutoff that each tool is finding."
   ]
  },
  {
   "cell_type": "code",
   "execution_count": 2,
   "metadata": {},
   "outputs": [],
   "source": [
    "import os\n",
    "import mokapot\n",
    "import numpy as np\n",
    "import pandas as pd\n",
    "import matplotlib.pyplot as plt\n",
    "import sys\n",
    "sys.path.append(\"..\")\n",
    "sys.path\n",
    "import data_loader as dl\n",
    "import statistics as stats"
   ]
  },
  {
   "cell_type": "markdown",
   "metadata": {},
   "source": [
    "Graphing how many peptides each tool finds at a specific cutoff"
   ]
  },
  {
   "cell_type": "code",
   "execution_count": 3,
   "metadata": {},
   "outputs": [],
   "source": [
    "#read in the megaScript and reformat it\n",
    "def clean_meagScript(file):\n",
    "    df = pd.read_csv(file, low_memory=False,  header=[0,1])\n",
    "    df.drop(columns = {\"Unnamed: 0_level_0\"})\n",
    "    return df"
   ]
  },
  {
   "cell_type": "markdown",
   "metadata": {},
   "source": [
    "Slicing out the Peptide Prophet Probability values for MsFragger. There is no qvalue or PEP, so this is the row we are using. \n",
    "Counting how many are at or under the cutoff"
   ]
  },
  {
   "cell_type": "code",
   "execution_count": 4,
   "metadata": {},
   "outputs": [],
   "source": [
    "def get_msf_prob_len(df, cutoff):\n",
    "    msf_probability = df[\"MsFragger\"]['Updated_probability']\n",
    "    msf_probability =  msf_probability.dropna()\n",
    "    msf_under_cutoff = len(msf_probability.loc[msf_probability <= cutoff])\n",
    "    return msf_under_cutoff"
   ]
  },
  {
   "cell_type": "markdown",
   "metadata": {},
   "source": [
    "Slicing out the qvalues from MetaMorpheus Counting how many are at or under the cutoff"
   ]
  },
  {
   "cell_type": "code",
   "execution_count": 5,
   "metadata": {},
   "outputs": [],
   "source": [
    "def get_mm_Qval_len(df, cutoff):\n",
    "    mm_qval = df[\"MetaMorpheus\"][\"QValue\"] \n",
    "    mm_qval =  mm_qval.dropna() \n",
    "    mm_under_cutoff = len(mm_qval.loc[mm_qval <= cutoff])\n",
    "    return mm_under_cutoff"
   ]
  },
  {
   "cell_type": "markdown",
   "metadata": {},
   "source": [
    "Slicing out the PEP values from MetaMorpheus and counting how many are at or under the cutoff"
   ]
  },
  {
   "cell_type": "code",
   "execution_count": 6,
   "metadata": {},
   "outputs": [],
   "source": [
    "def get_mm_PEP_len(df, cutoff):\n",
    "    mm_PEP = df[\"MetaMorpheus\"][\"PEP\"] \n",
    "    mm_PEP =  mm_PEP.dropna() \n",
    "    value_under_cutoff = len(mm_PEP.loc[mm_PEP <= cutoff])\n",
    "    return value_under_cutoff"
   ]
  },
  {
   "cell_type": "markdown",
   "metadata": {},
   "source": [
    "Slicing out the qvalues from MsgfPlus and counting how many are at or under the cutoff"
   ]
  },
  {
   "cell_type": "code",
   "execution_count": 7,
   "metadata": {},
   "outputs": [],
   "source": [
    "def get_msg_Qval_len(df, cutoff):\n",
    "    msg_qval = df[\"MsgfPlus\"][\"QValue\"] \n",
    "    msg_qval =  msg_qval.dropna() \n",
    "    msg_under_cutoff = len(msg_qval.loc[msg_qval <= cutoff])\n",
    "    return msg_under_cutoff"
   ]
  },
  {
   "cell_type": "markdown",
   "metadata": {},
   "source": [
    "Slicing out the PEP from MaxQuant. Counting how many are at or under the cutoff"
   ]
  },
  {
   "cell_type": "code",
   "execution_count": 8,
   "metadata": {},
   "outputs": [],
   "source": [
    "def get_mq_PEP_len(df, cutoff):\n",
    "    mq_PEP = df[\"MaxQuant\"][\"PEP\"] \n",
    "    mq_PEP =  mq_PEP.dropna() \n",
    "    mq_under_cutoff = len(mq_PEP.loc[mq_PEP <= cutoff])\n",
    "    return mq_under_cutoff"
   ]
  },
  {
   "cell_type": "markdown",
   "metadata": {},
   "source": [
    "This function gets the number of scan values that were at or below the cutoff for each tool and returns them. "
   ]
  },
  {
   "cell_type": "code",
   "execution_count": 9,
   "metadata": {},
   "outputs": [],
   "source": [
    "def get_file_values(file, cutoff):\n",
    "    df = clean_meagScript(file)\n",
    "    msf = get_msf_prob_len(df, cutoff)\n",
    "    MM_QVal = get_mm_Qval_len(df, cutoff)\n",
    "    MM_PEP = get_mm_PEP_len(df, cutoff)\n",
    "    msg_QVal = get_msg_Qval_len(df, cutoff)\n",
    "    MQ_PEP = get_mq_PEP_len(df, cutoff)\n",
    "    values_list = {\"msf\" : msf, \"MM_QVal\" : MM_QVal, \"MM_PEP\" : MM_PEP, \"msg_QVal\" : msg_QVal, \"MQ_PEP\" : MQ_PEP}\n",
    "    return values_list"
   ]
  },
  {
   "cell_type": "markdown",
   "metadata": {},
   "source": [
    "Reading in the data and making the graph for the 2ng data at a certain cutoff"
   ]
  },
  {
   "cell_type": "code",
   "execution_count": 38,
   "metadata": {},
   "outputs": [
    {
     "data": {
      "image/png": "[encoded data removed]",
      "text/plain": [
       "<Figure size 432x288 with 1 Axes>"
      ]
     },
     "metadata": {
      "needs_background": "light"
     },
     "output_type": "display_data"
    }
   ],
   "source": [
    "File1 = get_file_values(\"MokaPot/MegaScript_2ng_rep1.csv\", 0.01)\n",
    "File2 = get_file_values(\"MokaPot/MegaScript_2ng_rep2.csv\", 0.01)\n",
    "File3 = get_file_values(\"MokaPot/MegaScript_2ng_rep3.csv\", 0.01)\n",
    "File4 = get_file_values(\"MokaPot/MegaScript_2ng_rep4.csv\", 0.01)\n",
    "File5 = get_file_values(\"MokaPot/MegaScript_2ng_rep5.csv\", 0.01)\n",
    "File6 = get_file_values(\"MokaPot/MegaScript_2ng_rep6.csv\", 0.01)\n",
    "\n",
    " \n",
    "# set width of bars\n",
    "barWidth = 0.15\n",
    " \n",
    "# set heights of bars\n",
    "msf_prob_2ng = [File1['msf'], File2['msf'], File3['msf'], File4['msf'], File5['msf'], File6['msf']]\n",
    "MM_PEP_2ng = [File1['MM_PEP'], File2['MM_PEP'], File3['MM_PEP'], File4['MM_PEP'], File5['MM_PEP'], File6['MM_PEP']]\n",
    "MM_qval_2ng = [File1['MM_QVal'], File2['MM_QVal'], File3['MM_QVal'], File4['MM_QVal'], File5['MM_QVal'], File6['MM_QVal']]\n",
    "msg_qval_2ng = [File1['msg_QVal'], File2['msg_QVal'], File3['msg_QVal'], File4['msg_QVal'], File5['msg_QVal'], File6['msg_QVal']]\n",
    "mq_PEP_2ng = [File1['MQ_PEP'], File2['MQ_PEP'], File3['MQ_PEP'], File4['MQ_PEP'], File5['MQ_PEP'], File6['MQ_PEP']]\n",
    " \n",
    "# Set position of bar on X axis\n",
    "r1 = np.arange(len(msf_prob_2ng))\n",
    "r2 = [x + barWidth for x in r1]\n",
    "r3 = [x + barWidth for x in r2]\n",
    "r4 = [x + barWidth for x in r3]\n",
    "r5 = [x + barWidth for x in r4]\n",
    " \n",
    "# Make the plot\n",
    "plt.bar(r1, msf_prob_2ng, width=barWidth, edgecolor='white', label='MsFragger Peptide Prophet Probability')\n",
    "plt.bar(r2, msg_qval_2ng, width=barWidth, edgecolor='white', label='MsgfPlus Q-Value')\n",
    "plt.bar(r3, mq_PEP_2ng, width=barWidth, edgecolor='white', label='MaxQuant PEP')\n",
    "plt.bar(r4, MM_qval_2ng, width=barWidth, edgecolor='white', label='MetaMorpheus Q-Value')\n",
    "plt.bar(r5, MM_PEP_2ng, width=barWidth, color = \"#FFC0CB\", edgecolor='white', label='MetaMorpheus PEP')\n",
    " \n",
    "# Add xticks on the middle of the group bars\n",
    "plt.ylabel(' Number of PSMs \\n', size = 12)\n",
    "plt.xlabel('\\n Number of PSMs using native score and 0.01 cutoff', size = 12)\n",
    "plt.title('2ng', size =  12)\n",
    "plt.xticks([r + barWidth + 0.15 for r in range(len(msf_prob_2ng))], ['File1', 'File2', 'File3', 'File4', 'File5', 'File6'], size = 12)\n",
    " \n",
    "# Create legend & Show graphic\n",
    "plt.legend(loc = \"upper right\", bbox_to_anchor=(1.73, 1))\n",
    "figure1_1 = plt.gcf()\n",
    "figure1_1.savefig('2ng_PSM_native_score.png', dpi=300, bbox_inches='tight')\n",
    "plt.show()\n"
   ]
  },
  {
   "cell_type": "markdown",
   "metadata": {},
   "source": [
    "This graph shows the number of PSMs with a native score at or below a specific cutoff. Each tools has their own \"probability\" column that was used. For MetaMorpheus and MsgfPlus we used the q value column. MetaMorpheus also has a PEP column that was included in the graph. For MsFragger, the Peptide Prophet Prophet Probability column was used. The column used for MaxQuant was the PEP.\n",
    "This showcases the data for the 0.2ng files."
   ]
  },
  {
   "cell_type": "markdown",
   "metadata": {},
   "source": [
    "Reading in the data and making the graph for the 0.2ng data at certain cutoff"
   ]
  },
  {
   "cell_type": "code",
   "execution_count": 37,
   "metadata": {},
   "outputs": [
    {
     "data": {
      "image/png": "[encoded data removed]",
      "text/plain": [
       "<Figure size 432x288 with 1 Axes>"
      ]
     },
     "metadata": {
      "needs_background": "light"
     },
     "output_type": "display_data"
    }
   ],
   "source": [
    "File7 = get_file_values(\"MokaPot/MegaScript_0.2ng_rep1.csv\", 0.01)\n",
    "File8 = get_file_values(\"MokaPot/MegaScript_0.2ng_rep2.csv\", 0.01)\n",
    "File9 = get_file_values(\"MokaPot/MegaScript_0.2ng_rep3.csv\", 0.01)\n",
    "File10 = get_file_values(\"MokaPot/MegaScript_0.2ng_rep4.csv\", 0.01)\n",
    "File11 = get_file_values(\"MokaPot/MegaScript_0.2ng_rep5.csv\", 0.01)\n",
    "File12 = get_file_values(\"MokaPot/MegaScript_0.2ng_rep6.csv\", 0.01)\n",
    "\n",
    " \n",
    "# set width of bars\n",
    "barWidth = 0.15\n",
    " \n",
    "# set heights of bars\n",
    "msf_prob_02ng = [File7['msf'], File8['msf'], File9['msf'], File10['msf'], File11['msf'], File12['msf']]\n",
    "MM_PEP_02ng = [File7['MM_PEP'], File8['MM_PEP'], File9['MM_PEP'], File10['MM_PEP'], File11['MM_PEP'], File12['MM_PEP']]\n",
    "MM_qval_02ng = [File7['MM_QVal'], File8['MM_QVal'], File9['MM_QVal'], File10['MM_QVal'], File11['MM_QVal'], File12['MM_QVal']]\n",
    "msg_qval_02ng = [File7['msg_QVal'], File8['msg_QVal'], File9['msg_QVal'], File10['msg_QVal'], File11['msg_QVal'], File12['msg_QVal']]\n",
    "mq_PEP_02ng = [File7['MQ_PEP'], File8['MQ_PEP'], File9['MQ_PEP'], File10['MQ_PEP'], File11['MQ_PEP'], File12['MQ_PEP']]\n",
    " \n",
    "# Set position of bar on X axis\n",
    "r1 = np.arange(len(msf_prob_02ng))\n",
    "r2 = [x + barWidth for x in r1]\n",
    "r3 = [x + barWidth for x in r2]\n",
    "r4 = [x + barWidth for x in r3]\n",
    "r5 = [x + barWidth for x in r4]\n",
    "r6 = [x + barWidth for x in r5]\n",
    "r7 = [x + barWidth for x in r5]\n",
    "\n",
    "# Make the plot\n",
    "plt.bar(r1, msf_prob_02ng, width=barWidth, edgecolor='white', label='MsFragger Peptide Prophet Probability')\n",
    "plt.bar(r2, msg_qval_02ng, width=barWidth, edgecolor='white', label='MsgfPlus Q-Value')\n",
    "plt.bar(r3, mq_PEP_02ng, width=barWidth, edgecolor='white', label='MaxQuant PEP')\n",
    "plt.bar(r4, MM_qval_02ng, width=barWidth, edgecolor='white', label='MetaMorpheus Q-Value')\n",
    "plt.bar(r5, MM_PEP_02ng, width=barWidth, color = \"#FFC0CB\", edgecolor='white', label='MetaMorpheus PEP')\n",
    "\n",
    "\n",
    "# Add xticks on the middle of the group bars\n",
    "plt.ylabel('Number of PSMs \\n', size = 12)\n",
    "plt.xlabel('\\n Number of PSMs using native score and 0.01 cutoff', size = 12)\n",
    "plt.title('0.2ng', size = 12)\n",
    "plt.xticks([r + barWidth + 0.15 for r in range(len(msf_prob_02ng))], ['File1', 'File2', 'File3', 'File4', 'File5', 'File6'], size = 12)\n",
    " \n",
    "# Create legend & Show graphic\n",
    "plt.legend(loc = \"upper right\", bbox_to_anchor=(1.73, 1))\n",
    "\n",
    "figure1_2 = plt.gcf()\n",
    "figure1_2.savefig('0.2ng_PSM_native_score.png', dpi=300, bbox_inches='tight')\n",
    "plt.show()"
   ]
  },
  {
   "cell_type": "markdown",
   "metadata": {},
   "source": [
    "This graph shows the number of PSMs with a native score at or below a specific cutoff. Each tools has their own \"probability\" column that was used. For MetaMorpheus and MsgfPlus we used the q value column. MetaMorpheus also has a PEP column that was included in the graph. For MsFragger, the Peptide Prophet Prophet Probability column was used. The column used for MaxQuant was the PEP.\n",
    "This showcases the data for the 0.2ng files."
   ]
  },
  {
   "cell_type": "markdown",
   "metadata": {},
   "source": [
    "Printing out the value that MetaMorpheus finds for the 2ng_rep1 file to quote in the paper."
   ]
  },
  {
   "cell_type": "code",
   "execution_count": 11,
   "metadata": {},
   "outputs": [
    {
     "data": {
      "text/plain": [
       "12446"
      ]
     },
     "execution_count": 11,
     "metadata": {},
     "output_type": "execute_result"
    }
   ],
   "source": [
    "values = get_file_values(\"MokaPot/MegaScript_2ng_rep1.csv\", 0.01)\n",
    "values['MM_QVal']"
   ]
  },
  {
   "cell_type": "markdown",
   "metadata": {},
   "source": [
    "# Calculating the perfect differences between MetaMorpheus, the highest scorer, and all the other tools"
   ]
  },
  {
   "cell_type": "markdown",
   "metadata": {},
   "source": [
    "Calculating the percent differnce between MetaMorpheus and MSGF+ native scores for 2ng data"
   ]
  },
  {
   "cell_type": "code",
   "execution_count": 17,
   "metadata": {},
   "outputs": [
    {
     "data": {
      "text/plain": [
       "0.08706647201446314"
      ]
     },
     "execution_count": 17,
     "metadata": {},
     "output_type": "execute_result"
    }
   ],
   "source": [
    "diff_msgf = []\n",
    "for i, count in enumerate(msg_qval_2ng) :\n",
    "    meta_morpheus_count = MM_qval_2ng[i]\n",
    "    var = (meta_morpheus_count - count) / meta_morpheus_count\n",
    "    diff_msgf.append(var)\n",
    "#now avg difference\n",
    "diff_msgf_average = stats.mean(diff_msgf)\n",
    "diff_msgf_average"
   ]
  },
  {
   "cell_type": "markdown",
   "metadata": {},
   "source": [
    "Calculating the percent differnce between MetaMorpheus and MsFragger native scores for 2ng data"
   ]
  },
  {
   "cell_type": "code",
   "execution_count": 18,
   "metadata": {},
   "outputs": [
    {
     "data": {
      "text/plain": [
       "0.16034284510387223"
      ]
     },
     "execution_count": 18,
     "metadata": {},
     "output_type": "execute_result"
    }
   ],
   "source": [
    "diff_msfrag = []\n",
    "for i, count in enumerate(msf_prob_2ng) :\n",
    "    meta_morpheus_count = MM_qval_2ng[i]\n",
    "    var = (meta_morpheus_count - count) / meta_morpheus_count\n",
    "    diff_msfrag.append(var)\n",
    "#now avg difference\n",
    "diff_msfrag_average = stats.mean(diff_msfrag)\n",
    "diff_msfrag_average"
   ]
  },
  {
   "cell_type": "markdown",
   "metadata": {},
   "source": [
    "Calculating the percent differnce between MetaMorpheus and Maxquant native scores for 2ng data"
   ]
  },
  {
   "cell_type": "code",
   "execution_count": 20,
   "metadata": {},
   "outputs": [
    {
     "data": {
      "text/plain": [
       "0.34278443986269486"
      ]
     },
     "execution_count": 20,
     "metadata": {},
     "output_type": "execute_result"
    }
   ],
   "source": [
    "diff_mq = []\n",
    "for i, count in enumerate(mq_PEP_2ng) :\n",
    "    meta_morpheus_count = MM_PEP_2ng[i]\n",
    "    var = (meta_morpheus_count - count) / meta_morpheus_count\n",
    "    diff_mq.append(var)\n",
    "#now avg difference\n",
    "diff_mq_average = stats.mean(diff_mq)\n",
    "diff_mq_average"
   ]
  },
  {
   "cell_type": "markdown",
   "metadata": {},
   "source": [
    "Calculating the percent differnce between MetaMorpheus and MSGF+ native scores for 0.2ng data"
   ]
  },
  {
   "cell_type": "code",
   "execution_count": 22,
   "metadata": {},
   "outputs": [
    {
     "data": {
      "text/plain": [
       "0.08316024043169966"
      ]
     },
     "execution_count": 22,
     "metadata": {},
     "output_type": "execute_result"
    }
   ],
   "source": [
    "diff_msgf = []\n",
    "for i, count in enumerate(msg_qval_02ng) :\n",
    "    meta_morpheus_count = MM_qval_02ng[i]\n",
    "    var = (meta_morpheus_count - count) / meta_morpheus_count\n",
    "    diff_msgf.append(var)\n",
    "#now avg difference\n",
    "diff_msgf_average = stats.mean(diff_msgf)\n",
    "diff_msgf_average"
   ]
  },
  {
   "cell_type": "markdown",
   "metadata": {},
   "source": [
    "Calculating the percent differnce between MetaMorpheus and MsFragger native scores for 0.2ng data"
   ]
  },
  {
   "cell_type": "code",
   "execution_count": 23,
   "metadata": {},
   "outputs": [
    {
     "data": {
      "text/plain": [
       "0.1419361783941286"
      ]
     },
     "execution_count": 23,
     "metadata": {},
     "output_type": "execute_result"
    }
   ],
   "source": [
    "diff_msfrag = []\n",
    "for i, count in enumerate(msf_prob_02ng) :\n",
    "    meta_morpheus_count = MM_qval_02ng[i]\n",
    "    var = (meta_morpheus_count - count) / meta_morpheus_count\n",
    "    diff_msfrag.append(var)\n",
    "#now avg difference\n",
    "diff_msfrag_average = stats.mean(diff_msfrag)\n",
    "diff_msfrag_average"
   ]
  },
  {
   "cell_type": "markdown",
   "metadata": {},
   "source": [
    "Calculating the percent differnce between MetaMorpheus and Maxquant native scores for 0.2ng data"
   ]
  },
  {
   "cell_type": "code",
   "execution_count": 25,
   "metadata": {},
   "outputs": [
    {
     "data": {
      "text/plain": [
       "0.40812329140992776"
      ]
     },
     "execution_count": 25,
     "metadata": {},
     "output_type": "execute_result"
    }
   ],
   "source": [
    "diff_mq = []\n",
    "for i, count in enumerate(mq_PEP_02ng) :\n",
    "    meta_morpheus_count = MM_PEP_02ng[i]\n",
    "    var = (meta_morpheus_count - count) / meta_morpheus_count\n",
    "    diff_mq.append(var)\n",
    "#now avg difference\n",
    "diff_mq_average = stats.mean(diff_mq)\n",
    "diff_mq_average"
   ]
  },
  {
   "cell_type": "code",
   "execution_count": null,
   "metadata": {},
   "outputs": [],
   "source": []
  }
 ],
 "metadata": {
  "kernelspec": {
   "display_name": "Python 3",
   "language": "python",
   "name": "python3"
  },
  "language_info": {
   "codemirror_mode": {
    "name": "ipython",
    "version": 3
   },
   "file_extension": ".py",
   "mimetype": "text/x-python",
   "name": "python",
   "nbconvert_exporter": "python",
   "pygments_lexer": "ipython3",
   "version": "3.8.3"
  }
 },
 "nbformat": 4,
 "nbformat_minor": 4
}
