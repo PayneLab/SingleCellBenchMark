{
 "cells": [
  {
   "cell_type": "code",
   "execution_count": 1,
   "metadata": {},
   "outputs": [],
   "source": [
    "import pandas as pd\n",
    "import data_loader"
   ]
  },
  {
   "cell_type": "code",
   "execution_count": null,
   "metadata": {},
   "outputs": [],
   "source": []
  },
  {
   "cell_type": "code",
   "execution_count": 22,
   "metadata": {},
   "outputs": [],
   "source": [
    "msfragger_files = {}\n",
    "\n",
    "#2 ng\n",
    "msfragger_files[\"2ng\"] = \"data/msfragger/Ex_Auto_DrM3_30umT4_2ngQC_60m_halfpsm.tsv.gz\"\n",
    "msfragger_files[\".2ng\"] = \"data/msfragger/Ex_Auto_DrM3_30umT4_02ngQC_60m_halfpsm.tsv.gz\"\n"
   ]
  },
  {
   "cell_type": "code",
   "execution_count": 27,
   "metadata": {},
   "outputs": [],
   "source": [
    "file_path = msfragger_files.get(\"2ng\")\n",
    "\n",
    "df = pd.read_csv(file_path, sep='\\t')#, sep='\\t', header=0, index_col=0)\n"
   ]
  },
  {
   "cell_type": "code",
   "execution_count": 33,
   "metadata": {},
   "outputs": [],
   "source": [
    "df = df.rename({\"Peptide\":\"peptide\", \"Spectrum\":\"scan\"}, axis=1)"
   ]
  },
  {
   "cell_type": "code",
   "execution_count": 35,
   "metadata": {},
   "outputs": [],
   "source": [
    "def make_decoy_col_msfragger(row):\n",
    "    if row[\"Protein\"].startswith(\"rev\"):\n",
    "        return True\n",
    "    else:\n",
    "        return False\n"
   ]
  },
  {
   "cell_type": "code",
   "execution_count": 36,
   "metadata": {},
   "outputs": [],
   "source": [
    "df[\"decoy\"] = df.apply(lambda row: make_decoy_col_msfragger(row), axis=1)"
   ]
  },
  {
   "cell_type": "code",
   "execution_count": 37,
   "metadata": {},
   "outputs": [
    {
     "data": {
      "text/html": [
       "<div>\n",
       "<style scoped>\n",
       "    .dataframe tbody tr th:only-of-type {\n",
       "        vertical-align: middle;\n",
       "    }\n",
       "\n",
       "    .dataframe tbody tr th {\n",
       "        vertical-align: top;\n",
       "    }\n",
       "\n",
       "    .dataframe thead th {\n",
       "        text-align: right;\n",
       "    }\n",
       "</style>\n",
       "<table border=\"1\" class=\"dataframe\">\n",
       "  <thead>\n",
       "    <tr style=\"text-align: right;\">\n",
       "      <th></th>\n",
       "      <th>decoy</th>\n",
       "      <th>scan</th>\n",
       "      <th>peptide</th>\n",
       "      <th>PeptideProphet Probability</th>\n",
       "    </tr>\n",
       "  </thead>\n",
       "  <tbody>\n",
       "    <tr>\n",
       "      <th>0</th>\n",
       "      <td>False</td>\n",
       "      <td>Ex_Auto_DrM3_30umT4_2ngQC_60m_half.10427.10427.2</td>\n",
       "      <td>KLSAPVSQK</td>\n",
       "      <td>0.1059</td>\n",
       "    </tr>\n",
       "    <tr>\n",
       "      <th>1</th>\n",
       "      <td>False</td>\n",
       "      <td>Ex_Auto_DrM3_30umT4_2ngQC_60m_half.10531.10531.4</td>\n",
       "      <td>KSHWDVVRSIVMFGK</td>\n",
       "      <td>0.2933</td>\n",
       "    </tr>\n",
       "    <tr>\n",
       "      <th>2</th>\n",
       "      <td>False</td>\n",
       "      <td>Ex_Auto_DrM3_30umT4_2ngQC_60m_half.10551.10551.3</td>\n",
       "      <td>EDTEEHHLR</td>\n",
       "      <td>0.9912</td>\n",
       "    </tr>\n",
       "    <tr>\n",
       "      <th>3</th>\n",
       "      <td>False</td>\n",
       "      <td>Ex_Auto_DrM3_30umT4_2ngQC_60m_half.10576.10576.2</td>\n",
       "      <td>LSSAMSAAK</td>\n",
       "      <td>0.9973</td>\n",
       "    </tr>\n",
       "    <tr>\n",
       "      <th>4</th>\n",
       "      <td>False</td>\n",
       "      <td>Ex_Auto_DrM3_30umT4_2ngQC_60m_half.10589.10589.3</td>\n",
       "      <td>QVDGDNSHVEMK</td>\n",
       "      <td>0.9816</td>\n",
       "    </tr>\n",
       "    <tr>\n",
       "      <th>...</th>\n",
       "      <td>...</td>\n",
       "      <td>...</td>\n",
       "      <td>...</td>\n",
       "      <td>...</td>\n",
       "    </tr>\n",
       "    <tr>\n",
       "      <th>13511</th>\n",
       "      <td>False</td>\n",
       "      <td>Ex_Auto_DrM3_30umT4_2ngQC_60m_half.44019.44019.2</td>\n",
       "      <td>GSDIIVDLEVTLEEVYAGNFVEVVR</td>\n",
       "      <td>1.0000</td>\n",
       "    </tr>\n",
       "    <tr>\n",
       "      <th>13512</th>\n",
       "      <td>False</td>\n",
       "      <td>Ex_Auto_DrM3_30umT4_2ngQC_60m_half.44027.44027.3</td>\n",
       "      <td>GSDIIVDLEVTLEEVYAGNFVEVVR</td>\n",
       "      <td>0.9978</td>\n",
       "    </tr>\n",
       "    <tr>\n",
       "      <th>13513</th>\n",
       "      <td>False</td>\n",
       "      <td>Ex_Auto_DrM3_30umT4_2ngQC_60m_half.44041.44041.3</td>\n",
       "      <td>VGAGAPVYMAAVLEYLTAEILELAGNAAR</td>\n",
       "      <td>1.0000</td>\n",
       "    </tr>\n",
       "    <tr>\n",
       "      <th>13514</th>\n",
       "      <td>False</td>\n",
       "      <td>Ex_Auto_DrM3_30umT4_2ngQC_60m_half.44062.44062.3</td>\n",
       "      <td>VGAGAPVYMAAVLEYLTAEILELAGNAAR</td>\n",
       "      <td>0.9989</td>\n",
       "    </tr>\n",
       "    <tr>\n",
       "      <th>13515</th>\n",
       "      <td>False</td>\n",
       "      <td>Ex_Auto_DrM3_30umT4_2ngQC_60m_half.46777.46777.3</td>\n",
       "      <td>TLSSSTQASIEIDSLYEGIDFYTSITR</td>\n",
       "      <td>0.9895</td>\n",
       "    </tr>\n",
       "  </tbody>\n",
       "</table>\n",
       "<p>13516 rows × 4 columns</p>\n",
       "</div>"
      ],
      "text/plain": [
       "       decoy                                              scan  \\\n",
       "0      False  Ex_Auto_DrM3_30umT4_2ngQC_60m_half.10427.10427.2   \n",
       "1      False  Ex_Auto_DrM3_30umT4_2ngQC_60m_half.10531.10531.4   \n",
       "2      False  Ex_Auto_DrM3_30umT4_2ngQC_60m_half.10551.10551.3   \n",
       "3      False  Ex_Auto_DrM3_30umT4_2ngQC_60m_half.10576.10576.2   \n",
       "4      False  Ex_Auto_DrM3_30umT4_2ngQC_60m_half.10589.10589.3   \n",
       "...      ...                                               ...   \n",
       "13511  False  Ex_Auto_DrM3_30umT4_2ngQC_60m_half.44019.44019.2   \n",
       "13512  False  Ex_Auto_DrM3_30umT4_2ngQC_60m_half.44027.44027.3   \n",
       "13513  False  Ex_Auto_DrM3_30umT4_2ngQC_60m_half.44041.44041.3   \n",
       "13514  False  Ex_Auto_DrM3_30umT4_2ngQC_60m_half.44062.44062.3   \n",
       "13515  False  Ex_Auto_DrM3_30umT4_2ngQC_60m_half.46777.46777.3   \n",
       "\n",
       "                             peptide  PeptideProphet Probability  \n",
       "0                          KLSAPVSQK                      0.1059  \n",
       "1                    KSHWDVVRSIVMFGK                      0.2933  \n",
       "2                          EDTEEHHLR                      0.9912  \n",
       "3                          LSSAMSAAK                      0.9973  \n",
       "4                       QVDGDNSHVEMK                      0.9816  \n",
       "...                              ...                         ...  \n",
       "13511      GSDIIVDLEVTLEEVYAGNFVEVVR                      1.0000  \n",
       "13512      GSDIIVDLEVTLEEVYAGNFVEVVR                      0.9978  \n",
       "13513  VGAGAPVYMAAVLEYLTAEILELAGNAAR                      1.0000  \n",
       "13514  VGAGAPVYMAAVLEYLTAEILELAGNAAR                      0.9989  \n",
       "13515    TLSSSTQASIEIDSLYEGIDFYTSITR                      0.9895  \n",
       "\n",
       "[13516 rows x 4 columns]"
      ]
     },
     "execution_count": 37,
     "metadata": {},
     "output_type": "execute_result"
    }
   ],
   "source": [
    "df = df.filter(['decoy', 'scan', 'peptide', 'PeptideProphet Probability'])\n",
    "df"
   ]
  }
 ],
 "metadata": {
  "kernelspec": {
   "display_name": "Python 3",
   "language": "python",
   "name": "python3"
  },
  "language_info": {
   "codemirror_mode": {
    "name": "ipython",
    "version": 3
   },
   "file_extension": ".py",
   "mimetype": "text/x-python",
   "name": "python",
   "nbconvert_exporter": "python",
   "pygments_lexer": "ipython3",
   "version": "3.8.3"
  }
 },
 "nbformat": 4,
 "nbformat_minor": 4
}
