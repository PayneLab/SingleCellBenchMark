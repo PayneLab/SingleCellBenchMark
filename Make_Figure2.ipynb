{
 "cells": [
  {
   "cell_type": "code",
   "execution_count": 1,
   "metadata": {},
   "outputs": [],
   "source": [
    "import mokapot\n",
    "import numpy as np\n",
    "import pandas as pd\n",
    "import matplotlib.pyplot as plt\n",
    "import statistics as stats"
   ]
  },
  {
   "cell_type": "markdown",
   "metadata": {},
   "source": [
    "Reading in the megascript and reformatting it"
   ]
  },
  {
   "cell_type": "code",
   "execution_count": 2,
   "metadata": {},
   "outputs": [],
   "source": [
    "#read in the megaScript and reformat it\n",
    "def clean_meagScript(file):\n",
    "    df = pd.read_csv(file, low_memory=False,  header=[0,1])\n",
    "    df.drop(columns = {\"Unnamed: 0_level_0\"})\n",
    "    return df"
   ]
  },
  {
   "cell_type": "markdown",
   "metadata": {},
   "source": [
    "Slicing out the MokaPot qvalues for MsFragger. Counting how many are at or under the cutoff"
   ]
  },
  {
   "cell_type": "code",
   "execution_count": 3,
   "metadata": {},
   "outputs": [],
   "source": [
    "def get_msf_Qval_len(df, cutoff):\n",
    "    msf_probability = df[\"MsFragger\"]['mokapot q-value']\n",
    "    msf_probability =  msf_probability.dropna()\n",
    "    msf_under_cutoff = len(msf_probability.loc[msf_probability <= cutoff])\n",
    "    return msf_under_cutoff"
   ]
  },
  {
   "cell_type": "markdown",
   "metadata": {},
   "source": [
    "Slicing out the MokaPot qvalues for each tool and counting how many are at or under the cutoff"
   ]
  },
  {
   "cell_type": "code",
   "execution_count": 4,
   "metadata": {},
   "outputs": [],
   "source": [
    "def get_mm_Qval_len(df, cutoff):\n",
    "    mm_qval = df[\"MetaMorpheus\"]['mokapot q-value'] \n",
    "    mm_qval =  mm_qval.dropna() \n",
    "    mm_under_cutoff = len(mm_qval.loc[mm_qval <= cutoff])\n",
    "    #print(mm_qval.loc[mm_qval <= 0.01])\n",
    "    return mm_under_cutoff"
   ]
  },
  {
   "cell_type": "code",
   "execution_count": 5,
   "metadata": {},
   "outputs": [],
   "source": [
    "def get_msg_Qval_len(df, cutoff):\n",
    "    msg_qval = df[\"MsgfPlus\"]['mokapot q-value'] \n",
    "    msg_qval =  msg_qval.dropna() \n",
    "    msg_under_cutoff = len(msg_qval.loc[msg_qval <= cutoff])\n",
    "    return msg_under_cutoff"
   ]
  },
  {
   "cell_type": "code",
   "execution_count": 6,
   "metadata": {},
   "outputs": [],
   "source": [
    "def get_mq_Qval_len(df, cutoff):\n",
    "    mq_PEP = df[\"MaxQuant\"]['mokapot q-value'] \n",
    "    mq_PEP =  mq_PEP.dropna() \n",
    "    mq_under_cutoff = len(mq_PEP.loc[mq_PEP <= cutoff])\n",
    "    return mq_under_cutoff"
   ]
  },
  {
   "cell_type": "code",
   "execution_count": 7,
   "metadata": {},
   "outputs": [],
   "source": [
    "def get_pd_Qval_len(df, cutoff):\n",
    "    pd_qval = df[\"Proteome_Discoverer\"]['Percolator q-Value'] \n",
    "    pd_qval = pd_qval.dropna()\n",
    "    pd_under_cutoff = len(pd_qval.loc[pd_qval <= cutoff])\n",
    "    return pd_under_cutoff"
   ]
  },
  {
   "cell_type": "code",
   "execution_count": 8,
   "metadata": {},
   "outputs": [],
   "source": [
    "def get_file_values(file, cutoff):\n",
    "    df = clean_meagScript(file)\n",
    "    msf_QVal = get_msf_Qval_len(df, cutoff)\n",
    "    MM_QVal = get_mm_Qval_len(df, cutoff)\n",
    "    msg_QVal = get_msg_Qval_len(df, cutoff)\n",
    "    MQ_Qval = get_mq_Qval_len(df, cutoff)\n",
    "    pd_Qval = get_pd_Qval_len(df, cutoff)\n",
    "    values_list = {\"msf_QVal\" : msf_QVal, \"MM_QVal\" : MM_QVal, \"msg_QVal\" : msg_QVal, \"MQ_Qval\" : MQ_Qval, \"pd_Qval\" : pd_Qval}\n",
    "    return values_list"
   ]
  },
  {
   "cell_type": "markdown",
   "metadata": {},
   "source": [
    "Reading in the data and making the graph for the 2ng data"
   ]
  },
  {
   "cell_type": "code",
   "execution_count": 9,
   "metadata": {},
   "outputs": [
    {
     "name": "stderr",
     "output_type": "stream",
     "text": [
      "/Users/daishavanderwatt/anaconda3/lib/python3.8/site-packages/pandas/core/generic.py:3936: PerformanceWarning: dropping on a non-lexsorted multi-index without a level parameter may impact performance.\n",
      "  obj = obj._drop_axis(labels, axis, level=level, errors=errors)\n"
     ]
    },
    {
     "data": {
      "image/png": "[encoded data removed]",
      "text/plain": [
       "<Figure size 432x288 with 1 Axes>"
      ]
     },
     "metadata": {
      "needs_background": "light"
     },
     "output_type": "display_data"
    }
   ],
   "source": [
    "File1 = get_file_values(\"MokaPot/MegaScript_2ng_rep1.csv\", 0.01)\n",
    "File2 = get_file_values(\"MokaPot/MegaScript_2ng_rep2.csv\", 0.01)\n",
    "File3 = get_file_values(\"MokaPot/MegaScript_2ng_rep3.csv\", 0.01)\n",
    "File4 = get_file_values(\"MokaPot/MegaScript_2ng_rep4.csv\", 0.01)\n",
    "File5 = get_file_values(\"MokaPot/MegaScript_2ng_rep5.csv\", 0.01)\n",
    "File6 = get_file_values(\"MokaPot/MegaScript_2ng_rep6.csv\", 0.01)\n",
    "\n",
    " \n",
    "# set width of bars\n",
    "barWidth = 0.15\n",
    " \n",
    "# set heights of bars\n",
    "msf_qval_2ng = [File1['msf_QVal'], File2['msf_QVal'], File3['msf_QVal'], File4['msf_QVal'], File5['msf_QVal'], File6['msf_QVal']]\n",
    "MM_qval_2ng = [File1['MM_QVal'], File2['MM_QVal'], File3['MM_QVal'], File4['MM_QVal'], File5['MM_QVal'], File6['MM_QVal']]\n",
    "msg_qval_2ng = [File1['msg_QVal'], File2['msg_QVal'], File3['msg_QVal'], File4['msg_QVal'], File5['msg_QVal'], File6['msg_QVal']]\n",
    "mq_qval_2ng = [File1['MQ_Qval'], File2['MQ_Qval'], File3['MQ_Qval'], File4['MQ_Qval'], File5['MQ_Qval'], File6['MQ_Qval']]\n",
    "pd_qval_2ng = [File1['pd_Qval'], File2['pd_Qval'], File3['pd_Qval'], File4['pd_Qval'], File5['pd_Qval'], File6['pd_Qval']]\n",
    "  \n",
    "# Set position of bar on X axis\n",
    "r1 = np.arange(len(msf_qval_2ng))\n",
    "r2 = [x + barWidth for x in r1]\n",
    "r3 = [x + barWidth for x in r2]\n",
    "r4 = [x + barWidth for x in r3]\n",
    "r5 = [x + barWidth for x in r4]\n",
    " \n",
    "# Make the plot\n",
    "plt.bar(r1, msf_qval_2ng, width=barWidth, edgecolor='white', label='mokapot q value for MsFragger')\n",
    "plt.bar(r2, MM_qval_2ng, width=barWidth, edgecolor='white', label='mokapot q value for MetaMorpheus')\n",
    "plt.bar(r3, msg_qval_2ng, width=barWidth, edgecolor='white', label='mokapot q value for MsgfPlus')\n",
    "plt.bar(r4, mq_qval_2ng, width=barWidth, edgecolor='white', label='mokapot q value for MaxQuant')\n",
    "plt.bar(r5, pd_qval_2ng, width=barWidth, edgecolor='white', label='Percolator q value for Proteome Discoverer')\n",
    " \n",
    "# Add xticks on the middle of the group bars\n",
    "plt.ylabel('Number of PSMs')\n",
    "plt.xlabel('Number of PSMs after mokapot at a 0.01 cutoff')\n",
    "plt.title('2ng')\n",
    "plt.xticks([r + barWidth for r in range(len(msf_qval_2ng))], ['File1', 'File2', 'File3', 'File4', 'File5', 'File6'])\n",
    " \n",
    "# Create legend & Show graphic\n",
    "plt.legend(loc = \"upper right\", bbox_to_anchor=(1.8, 1))\n",
    "figure2_1 = plt.gcf()\n",
    "figure2_1.savefig('2ng_PSM_after_MP.png', dpi=300, bbox_inches='tight')\n",
    "plt.show()"
   ]
  },
  {
   "cell_type": "markdown",
   "metadata": {},
   "source": [
    "This graph shows the number of PSMs with a MokaPot qvalue  at or below a specific cutoff after a tool's output has been ran through MokaPot. This showcases the data for the 2ng files. "
   ]
  },
  {
   "cell_type": "code",
   "execution_count": 10,
   "metadata": {},
   "outputs": [
    {
     "data": {
      "image/png": "[encoded data removed]",
      "text/plain": [
       "<Figure size 432x288 with 1 Axes>"
      ]
     },
     "metadata": {
      "needs_background": "light"
     },
     "output_type": "display_data"
    }
   ],
   "source": [
    "File7 = get_file_values(\"MokaPot/MegaScript_0.2ng_rep1.csv\", 0.01)\n",
    "File8 = get_file_values(\"MokaPot/MegaScript_0.2ng_rep2.csv\", 0.01)\n",
    "File9 = get_file_values(\"MokaPot/MegaScript_0.2ng_rep3.csv\", 0.01)\n",
    "File10 = get_file_values(\"MokaPot/MegaScript_0.2ng_rep4.csv\", 0.01)\n",
    "File11 = get_file_values(\"MokaPot/MegaScript_0.2ng_rep5.csv\", 0.01)\n",
    "File12 = get_file_values(\"MokaPot/MegaScript_0.2ng_rep6.csv\", 0.01)\n",
    "\n",
    " \n",
    "# set width of bars\n",
    "barWidth = 0.15\n",
    " \n",
    "# set heights of bars\n",
    "msf_qval_02ng = [File7['msf_QVal'], File8['msf_QVal'], File9['msf_QVal'], File10['msf_QVal'], File11['msf_QVal'], File12['msf_QVal']]\n",
    "MM_qval_02ng = [File7['MM_QVal'], File8['MM_QVal'], File9['MM_QVal'], File10['MM_QVal'], File11['MM_QVal'], File12['MM_QVal']]\n",
    "msg_qval_02ng = [File7['msg_QVal'], File8['msg_QVal'], File9['msg_QVal'], File10['msg_QVal'], File11['msg_QVal'], File12['msg_QVal']]\n",
    "mq_qval_02ng = [File7['MQ_Qval'], File8['MQ_Qval'], File9['MQ_Qval'], File10['MQ_Qval'], File11['MQ_Qval'], File12['MQ_Qval']]\n",
    "pd_qval_02ng = [File7['pd_Qval'], File8['pd_Qval'], File9['pd_Qval'], File10['pd_Qval'], File11['pd_Qval'], File12['pd_Qval']]\n",
    "    \n",
    "# Set position of bar on X axis\n",
    "r1 = np.arange(len(msf_qval_02ng))\n",
    "r2 = [x + barWidth for x in r1]\n",
    "r3 = [x + barWidth for x in r2]\n",
    "r4 = [x + barWidth for x in r3]\n",
    "r5 = [x + barWidth for x in r4]\n",
    " \n",
    "# Make the plot\n",
    "plt.bar(r1, msf_qval_02ng, width=barWidth, edgecolor='white', label='mokapot q value for MsFragger')\n",
    "plt.bar(r2, MM_qval_02ng, width=barWidth, edgecolor='white', label='mokapot q value for MetaMorpheus')\n",
    "plt.bar(r3, msg_qval_02ng, width=barWidth, edgecolor='white', label='mokapot q value for MsgfPlus')\n",
    "plt.bar(r4, mq_qval_02ng, width=barWidth, edgecolor='white', label='mokapot q value for MaxQuant')\n",
    "plt.bar(r5, pd_qval_02ng, width=barWidth, edgecolor='white', label='Percolator q value for Proteome Discoverer')\n",
    "\n",
    " \n",
    "# Add xticks on the middle of the group bars\n",
    "plt.ylabel('Number of PSMs')\n",
    "plt.xlabel('Number of PSMs after mokapot at a 0.01 cutoff')\n",
    "plt.title('0.2ng')\n",
    "plt.xticks([r + barWidth for r in range(len(msf_qval_02ng))], ['File1', 'File2', 'File3', 'File4', 'File5', 'File6'])\n",
    " \n",
    "# Create legend & Show graphic\n",
    "plt.legend(loc = \"upper right\", bbox_to_anchor=(1.8, 1))\n",
    "figure2_2 = plt.gcf()\n",
    "figure2_2.savefig('0.2ng_PSM_after_MP.png', dpi=300, bbox_inches='tight')\n",
    "plt.show()"
   ]
  },
  {
   "cell_type": "markdown",
   "metadata": {},
   "source": [
    "This graph shows the number of PSMs with a MokaPot qvalue  at or below a specific cutoff after a tool's output has been ran through MokaPot. Proteome Discoverer automatically runs its data through Percolator, so it's output is the percolator q value. \n",
    "This showcases the data for the 0.2ng files."
   ]
  },
  {
   "cell_type": "code",
   "execution_count": null,
   "metadata": {},
   "outputs": [],
   "source": []
  },
  {
   "cell_type": "markdown",
   "metadata": {},
   "source": [
    "Calculating the percent differnce between MetaMorpheus and MSGF+ mokapot q-value scores for 2ng data"
   ]
  },
  {
   "cell_type": "code",
   "execution_count": 11,
   "metadata": {},
   "outputs": [
    {
     "data": {
      "text/plain": [
       "0.1801535931878448"
      ]
     },
     "execution_count": 11,
     "metadata": {},
     "output_type": "execute_result"
    }
   ],
   "source": [
    "diff_msgf = []\n",
    "for i, count in enumerate(msg_qval_2ng) :\n",
    "    meta_morpheus_count = MM_qval_2ng[i]\n",
    "    var = (meta_morpheus_count - count) / meta_morpheus_count\n",
    "    diff_msgf.append(var)\n",
    "#now avg difference\n",
    "diff_msgf_average = stats.mean(diff_msgf)\n",
    "diff_msgf_average"
   ]
  },
  {
   "cell_type": "markdown",
   "metadata": {},
   "source": [
    "Calculating the percent differnce between MetaMorpheus and MsFragger mokapot q-value scores for 2ng data"
   ]
  },
  {
   "cell_type": "code",
   "execution_count": 12,
   "metadata": {},
   "outputs": [
    {
     "data": {
      "text/plain": [
       "0.11026397095009602"
      ]
     },
     "execution_count": 12,
     "metadata": {},
     "output_type": "execute_result"
    }
   ],
   "source": [
    "diff_msfrag = []\n",
    "for i, count in enumerate(msf_qval_2ng) :\n",
    "    meta_morpheus_count = MM_qval_2ng[i]\n",
    "    var = (meta_morpheus_count - count) / meta_morpheus_count\n",
    "    diff_msfrag.append(var)\n",
    "#now avg difference\n",
    "diff_msfrag_average = stats.mean(diff_msfrag)\n",
    "diff_msfrag_average"
   ]
  },
  {
   "cell_type": "markdown",
   "metadata": {},
   "source": [
    "Calculating the percent differnce between MetaMorpheus and Maxquant mokapot q-value scores for 2ng data"
   ]
  },
  {
   "cell_type": "code",
   "execution_count": 13,
   "metadata": {},
   "outputs": [
    {
     "data": {
      "text/plain": [
       "0.19076338921173744"
      ]
     },
     "execution_count": 13,
     "metadata": {},
     "output_type": "execute_result"
    }
   ],
   "source": [
    "diff_mq = []\n",
    "for i, count in enumerate(mq_qval_2ng) :\n",
    "    meta_morpheus_count = MM_qval_2ng[i]\n",
    "    var = (meta_morpheus_count - count) / meta_morpheus_count\n",
    "    diff_mq.append(var)\n",
    "#now avg difference\n",
    "diff_mq_average = stats.mean(diff_mq)\n",
    "diff_mq_average"
   ]
  },
  {
   "cell_type": "markdown",
   "metadata": {},
   "source": [
    "Calculating the percent differnce between MetaMorpheus mokapot q-value scores and Proteome Discoverer's percolator q-value scores for 2ng data"
   ]
  },
  {
   "cell_type": "code",
   "execution_count": 14,
   "metadata": {},
   "outputs": [
    {
     "data": {
      "text/plain": [
       "0.13998118241570598"
      ]
     },
     "execution_count": 14,
     "metadata": {},
     "output_type": "execute_result"
    }
   ],
   "source": [
    "diff_pd = []\n",
    "for i, count in enumerate(pd_qval_2ng) :\n",
    "    meta_morpheus_count = MM_qval_2ng[i]\n",
    "    var = (meta_morpheus_count - count) / meta_morpheus_count\n",
    "    diff_mq.append(var)\n",
    "#now avg difference\n",
    "diff_pd_average = stats.mean(diff_mq)\n",
    "diff_pd_average"
   ]
  },
  {
   "cell_type": "markdown",
   "metadata": {},
   "source": [
    "Calculating the percent differnce between MetaMorpheus and MSGF+ mokapot q-value scores for 0.2ng data"
   ]
  },
  {
   "cell_type": "code",
   "execution_count": 15,
   "metadata": {},
   "outputs": [
    {
     "data": {
      "text/plain": [
       "0.14761121191476012"
      ]
     },
     "execution_count": 15,
     "metadata": {},
     "output_type": "execute_result"
    }
   ],
   "source": [
    "diff_msgf = []\n",
    "for i, count in enumerate(msg_qval_02ng) :\n",
    "    meta_morpheus_count = MM_qval_02ng[i]\n",
    "    var = (meta_morpheus_count - count) / meta_morpheus_count\n",
    "    diff_msgf.append(var)\n",
    "#now avg difference\n",
    "diff_msgf_average = stats.mean(diff_msgf)\n",
    "diff_msgf_average"
   ]
  },
  {
   "cell_type": "markdown",
   "metadata": {},
   "source": [
    "Calculating the percent differnce between MetaMorpheus and MsFragger mokapot q-value scores for 0.2ng data"
   ]
  },
  {
   "cell_type": "code",
   "execution_count": 16,
   "metadata": {},
   "outputs": [
    {
     "data": {
      "text/plain": [
       "0.043400335672144984"
      ]
     },
     "execution_count": 16,
     "metadata": {},
     "output_type": "execute_result"
    }
   ],
   "source": [
    "diff_msfrag = []\n",
    "for i, count in enumerate(msf_qval_02ng) :\n",
    "    meta_morpheus_count = MM_qval_02ng[i]\n",
    "    var = (meta_morpheus_count - count) / meta_morpheus_count\n",
    "    diff_msfrag.append(var)\n",
    "#now avg difference\n",
    "diff_msfrag_average = stats.mean(diff_msfrag)\n",
    "diff_msfrag_average"
   ]
  },
  {
   "cell_type": "markdown",
   "metadata": {},
   "source": [
    "Calculating the percent differnce between MetaMorpheus and Maxquant q-value scores for 0.2ng data"
   ]
  },
  {
   "cell_type": "code",
   "execution_count": 17,
   "metadata": {},
   "outputs": [
    {
     "data": {
      "text/plain": [
       "0.16581479709140798"
      ]
     },
     "execution_count": 17,
     "metadata": {},
     "output_type": "execute_result"
    }
   ],
   "source": [
    "diff_mq = []\n",
    "for i, count in enumerate(mq_qval_02ng) :\n",
    "    meta_morpheus_count = MM_qval_02ng[i]\n",
    "    var = (meta_morpheus_count - count) / meta_morpheus_count\n",
    "    diff_mq.append(var)\n",
    "#now avg difference\n",
    "diff_mq_average = stats.mean(diff_mq)\n",
    "diff_mq_average"
   ]
  },
  {
   "cell_type": "markdown",
   "metadata": {},
   "source": [
    "Calculating the percent differnce between MetaMorpheus mokapot q-value scores and Proteome Discoverer's percolator q-value scores for 0.2ng data"
   ]
  },
  {
   "cell_type": "code",
   "execution_count": 18,
   "metadata": {},
   "outputs": [
    {
     "data": {
      "text/plain": [
       "0.11094513393086841"
      ]
     },
     "execution_count": 18,
     "metadata": {},
     "output_type": "execute_result"
    }
   ],
   "source": [
    "diff_pd = []\n",
    "for i, count in enumerate(pd_qval_02ng) :\n",
    "    meta_morpheus_count = MM_qval_02ng[i]\n",
    "    var = (meta_morpheus_count - count) / meta_morpheus_count\n",
    "    diff_mq.append(var)\n",
    "#now avg difference\n",
    "diff_pd_average = stats.mean(diff_mq)\n",
    "diff_pd_average"
   ]
  },
  {
   "cell_type": "code",
   "execution_count": null,
   "metadata": {},
   "outputs": [],
   "source": []
  }
 ],
 "metadata": {
  "kernelspec": {
   "display_name": "Python 3",
   "language": "python",
   "name": "python3"
  },
  "language_info": {
   "codemirror_mode": {
    "name": "ipython",
    "version": 3
   },
   "file_extension": ".py",
   "mimetype": "text/x-python",
   "name": "python",
   "nbconvert_exporter": "python",
   "pygments_lexer": "ipython3",
   "version": "3.8.3"
  }
 },
 "nbformat": 4,
 "nbformat_minor": 4
}
