{
 "cells": [
  {
   "cell_type": "code",
   "execution_count": 1,
   "metadata": {},
   "outputs": [],
   "source": [
    "import os\n",
    "import mokapot\n",
    "import numpy as np\n",
    "import pandas as pd\n",
    "import matplotlib.pyplot as plt\n",
    "import sys\n",
    "sys.path.append(\"..\")\n",
    "sys.path\n",
    "import data_loader as dl"
   ]
  },
  {
   "cell_type": "code",
   "execution_count": 2,
   "metadata": {},
   "outputs": [],
   "source": [
    "def filter_data(df, prob_column='QValue'):\n",
    "     #drop decoys\n",
    "    df = df[df[\"decoy\"]==False]\n",
    "    #sort by qvalue\n",
    "    df = df.sort_values(prob_column)\n",
    "    #Drop duplicates\n",
    "    df = df.drop_duplicates(subset=[\"scan\"], keep=\"first\") #keep highest scoring\n",
    "\n",
    "    return df"
   ]
  },
  {
   "cell_type": "code",
   "execution_count": 3,
   "metadata": {},
   "outputs": [],
   "source": [
    "def get_PreMokaPot_data(file):\n",
    "    mm_df = dl.clean_metamorph(file)\n",
    "    mm_df = filter_data(mm_df,\"QValue\")\n",
    "    return mm_df\n"
   ]
  },
  {
   "cell_type": "markdown",
   "metadata": {},
   "source": [
    "Reading in the data. MetaMorpheus gives an output file that is specifically designed for Percolator, that's the file we are using here."
   ]
  },
  {
   "cell_type": "code",
   "execution_count": 13,
   "metadata": {},
   "outputs": [],
   "source": [
    "def get_data_for_MokaPot(file):\n",
    "    df = dl.get_pin_file(file)\n",
    "\n",
    "    #Dropping because this is not a a real row\n",
    "    df = df.iloc[1: :]\n",
    "    return df"
   ]
  },
  {
   "cell_type": "markdown",
   "metadata": {},
   "source": [
    "Using code from MokaPot to make the pre and post graph"
   ]
  },
  {
   "cell_type": "code",
   "execution_count": 5,
   "metadata": {},
   "outputs": [],
   "source": [
    "def plot_qvalues(qvalues, threshold=0.01, ax=None, **kwargs):\n",
    "    if ax is None:\n",
    "        ax = plt.gca()\n",
    "\n",
    "    # Calculate cumulative targets at each q-value\n",
    "    qvals = pd.Series(qvalues, name=\"qvalue\")\n",
    "    qvals = qvals.sort_values(ascending=True).to_frame()\n",
    "    qvals[\"target\"] = 1\n",
    "    qvals[\"num\"] = qvals[\"target\"].cumsum()\n",
    "    qvals = qvals.groupby([\"qvalue\"]).max().reset_index()\n",
    "    qvals = qvals[[\"qvalue\", \"num\"]]\n",
    "\n",
    "    zero = pd.DataFrame({\"qvalue\": qvals[\"qvalue\"][0], \"num\": 0}, index=[-1])\n",
    "    qvals = pd.concat([zero, qvals], sort=True).reset_index(drop=True)\n",
    "\n",
    "    xmargin = threshold * 0.05\n",
    "    ymax = qvals.num[qvals[\"qvalue\"] <= (threshold + xmargin)].max()\n",
    "    ymargin = ymax * 0.05\n",
    "\n",
    "    # Set margins\n",
    "    curr_ylims = ax.get_ylim()\n",
    "    if curr_ylims[1] < ymax + ymargin:\n",
    "        ax.set_ylim(0 - ymargin, ymax + ymargin)\n",
    "\n",
    "    ax.set_xlim(0 - xmargin, threshold + xmargin)\n",
    "    ax.set_xlabel(\"q-value\")\n",
    "    ax.set_ylabel(f\"Discoveries\")\n",
    "\n",
    "    ax.step(qvals[\"qvalue\"].values, qvals.num.values, where=\"post\", **kwargs)\n",
    "\n",
    "    return ax"
   ]
  },
  {
   "cell_type": "code",
   "execution_count": 6,
   "metadata": {},
   "outputs": [],
   "source": [
    "def plot_qvalues(qvalues, threshold=0.01, ax=None, **kwargs):\n",
    "    if ax is None:\n",
    "        ax = plt.gca()\n",
    "\n",
    "    # Calculate cumulative targets at each q-value\n",
    "    qvals = pd.Series(qvalues, name=\"qvalue\")\n",
    "    qvals = qvals.sort_values(ascending=True).to_frame()\n",
    "    qvals[\"target\"] = 1\n",
    "    qvals[\"num\"] = qvals[\"target\"].cumsum()\n",
    "    qvals = qvals.groupby([\"qvalue\"]).max().reset_index()\n",
    "    qvals = qvals[[\"qvalue\", \"num\"]]\n",
    "\n",
    "    zero = pd.DataFrame({\"qvalue\": qvals[\"qvalue\"][0], \"num\": 0}, index=[-1])\n",
    "    qvals = pd.concat([zero, qvals], sort=True).reset_index(drop=True)\n",
    "\n",
    "    xmargin = threshold * 0.05\n",
    "    ymax = qvals.num[qvals[\"qvalue\"] <= (threshold + xmargin)].max()\n",
    "    ymargin = ymax * 0.05\n",
    "\n",
    "    # Set margins\n",
    "    curr_ylims = ax.get_ylim()\n",
    "    if curr_ylims[1] < ymax + ymargin:\n",
    "        ax.set_ylim(0 - ymargin, ymax + ymargin)\n",
    "\n",
    "    ax.set_xlim(0 - xmargin, threshold + xmargin)\n",
    "    ax.set_xlabel(\"q-value\")\n",
    "    ax.set_ylabel(f\"Discoveries\")\n",
    "\n",
    "    ax.step(qvals[\"qvalue\"].values, qvals.num.values, where=\"post\", **kwargs)\n",
    "\n",
    "    return ax"
   ]
  },
  {
   "cell_type": "code",
   "execution_count": 7,
   "metadata": {},
   "outputs": [],
   "source": [
    "#Read all the files into a list here\n",
    "file_names = [\"2ng\"]"
   ]
  },
  {
   "cell_type": "markdown",
   "metadata": {},
   "source": [
    "Here we are going to start our data processing\n",
    "\n",
    "1. we have to get the 'before' data. It is from a 2 ng file from metamorpheus\n",
    "We have to use a different file for 'before' than the one we send to mokapot, because\n",
    "the one we send to mokapot does not have any probability values."
   ]
  },
  {
   "cell_type": "code",
   "execution_count": 8,
   "metadata": {},
   "outputs": [],
   "source": [
    "file_names = [\"2ng_rep1\", \"2ng_rep2\", \"2ng_rep3\", \"2ng_rep4\", \"2ng_rep5\", \"2ng_rep6\",\n",
    "             \"0.2ng_rep1\", \"0.2ng_rep2\", \"0.2ng_rep3\", \"0.2ng_rep4\", \"0.2ng_rep5\", \"0.2ng_rep6\"]"
   ]
  },
  {
   "cell_type": "markdown",
   "metadata": {},
   "source": [
    "Now we're getting a data file to send into mokapot"
   ]
  },
  {
   "cell_type": "code",
   "execution_count": 9,
   "metadata": {},
   "outputs": [
    {
     "name": "stderr",
     "output_type": "stream",
     "text": [
      "/Users/daishavanderwatt/anaconda3/lib/python3.8/site-packages/IPython/core/interactiveshell.py:3343: DtypeWarning: Columns (19) have mixed types.Specify dtype option on import or set low_memory=False.\n",
      "  exec(code_obj, self.user_global_ns, self.user_ns)\n",
      "/Users/daishavanderwatt/anaconda3/lib/python3.8/site-packages/IPython/core/interactiveshell.py:3343: DtypeWarning: Columns (11,19,20,21,22,23) have mixed types.Specify dtype option on import or set low_memory=False.\n",
      "  exec(code_obj, self.user_global_ns, self.user_ns)\n",
      "/Users/daishavanderwatt/anaconda3/lib/python3.8/site-packages/IPython/core/interactiveshell.py:3343: DtypeWarning: Columns (11,19,21,22,23) have mixed types.Specify dtype option on import or set low_memory=False.\n",
      "  exec(code_obj, self.user_global_ns, self.user_ns)\n",
      "/Users/daishavanderwatt/anaconda3/lib/python3.8/site-packages/IPython/core/interactiveshell.py:3343: DtypeWarning: Columns (20) have mixed types.Specify dtype option on import or set low_memory=False.\n",
      "  exec(code_obj, self.user_global_ns, self.user_ns)\n",
      "/Users/daishavanderwatt/anaconda3/lib/python3.8/site-packages/IPython/core/interactiveshell.py:3343: DtypeWarning: Columns (11,19,20,21,22,23) have mixed types.Specify dtype option on import or set low_memory=False.\n",
      "  exec(code_obj, self.user_global_ns, self.user_ns)\n",
      "/Users/daishavanderwatt/anaconda3/lib/python3.8/site-packages/IPython/core/interactiveshell.py:3343: DtypeWarning: Columns (19,20) have mixed types.Specify dtype option on import or set low_memory=False.\n",
      "  exec(code_obj, self.user_global_ns, self.user_ns)\n"
     ]
    }
   ],
   "source": [
    "for file in file_names:\n",
    "    mm_df = get_PreMokaPot_data(file)\n",
    "    df = get_data_for_MokaPot(file)\n",
    "    psms = mokapot.read_pin(df)\n",
    "    results, models = mokapot.brew(psms)\n",
    "    results_df = results.psms\n",
    "    results_df.to_csv(\"MokaPot_Output/MetaMorpheus/mm_\" + file + \".csv\")"
   ]
  },
  {
   "cell_type": "markdown",
   "metadata": {},
   "source": [
    "Graphing the results from the data comparing it before it was run through MokaPot versus after it was run through MokaPot"
   ]
  },
  {
   "cell_type": "code",
   "execution_count": 10,
   "metadata": {},
   "outputs": [
    {
     "data": {
      "image/png": "[encoded data removed]",
      "text/plain": [
       "<Figure size 432x288 with 1 Axes>"
      ]
     },
     "metadata": {
      "needs_background": "light"
     },
     "output_type": "display_data"
    }
   ],
   "source": [
    "plot_qvalues(mm_df[\"QValue\"], label=\"Pre-mokapot\")\n",
    "plt.title(\"Mokapot vs MetaMorpheus\")\n",
    "results.plot_qvalues(label=\"mokapot\")\n",
    "plt.legend([\"preMoka\", \"Mokapot\"])\n",
    "#plt.vlines(x = 0.01, ymin = 0, ymax = 16000)\n",
    "plt.tight_layout()\n",
    "\n",
    "plt.show()"
   ]
  },
  {
   "cell_type": "code",
   "execution_count": 11,
   "metadata": {},
   "outputs": [
    {
     "name": "stdout",
     "output_type": "stream",
     "text": [
      "The number of PSMs found at or above 0.01: \n",
      "\tMetaMorpheus: 4760\n",
      "\tMetaMorpheus and MokaPot: 5312\n"
     ]
    }
   ],
   "source": [
    "print(\"The number of PSMs found at or above 0.01: \") \n",
    "      \n",
    "print(\"\\t\" + \"MetaMorpheus: \" + str(len(mm_df[mm_df['QValue'] <= 0.01])))\n",
    "\n",
    "print(\"\\t\"\"MetaMorpheus and MokaPot: \" + str(len(results.psms[results.psms['mokapot q-value'] <= 0.01])))"
   ]
  },
  {
   "cell_type": "code",
   "execution_count": null,
   "metadata": {},
   "outputs": [],
   "source": []
  }
 ],
 "metadata": {
  "kernelspec": {
   "display_name": "Python 3",
   "language": "python",
   "name": "python3"
  },
  "language_info": {
   "codemirror_mode": {
    "name": "ipython",
    "version": 3
   },
   "file_extension": ".py",
   "mimetype": "text/x-python",
   "name": "python",
   "nbconvert_exporter": "python",
   "pygments_lexer": "ipython3",
   "version": "3.8.3"
  }
 },
 "nbformat": 4,
 "nbformat_minor": 4
}
