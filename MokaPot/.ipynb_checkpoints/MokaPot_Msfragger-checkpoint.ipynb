{
 "cells": [
  {
   "cell_type": "code",
   "execution_count": 1,
   "metadata": {},
   "outputs": [],
   "source": [
    "import os\n",
    "import mokapot\n",
    "import numpy as np\n",
    "import pandas as pd\n",
    "import matplotlib.pyplot as plt\n",
    "import sys\n",
    "sys.path.append(\"..\")\n",
    "sys.path\n",
    "import data_loader\n"
   ]
  },
  {
   "cell_type": "code",
   "execution_count": 2,
   "metadata": {},
   "outputs": [],
   "source": [
    "def filter_data(df, prob_column='probability'):\n",
    "     #drop decoy\n",
    "    df = df[df[\"decoy\"]==False]\n",
    "    #sort by qvalue\n",
    "    df = df.sort_values(prob_column)\n",
    "    #drop duplicate scans\n",
    "    df = df.drop_duplicates(subset=[\"scan\"], keep=\"first\") #keep highest scoring\n",
    "    return df"
   ]
  },
  {
   "cell_type": "code",
   "execution_count": 3,
   "metadata": {},
   "outputs": [],
   "source": [
    "def set_probablility(row):\n",
    "    new_prob = 1 - row.probability\n",
    "    return new_prob"
   ]
  },
  {
   "cell_type": "code",
   "execution_count": null,
   "metadata": {},
   "outputs": [],
   "source": []
  },
  {
   "cell_type": "markdown",
   "metadata": {},
   "source": [
    "Reading an PSMS file into a dataframe, turning it into LinearPsmDataSet, and running it through MokaPot"
   ]
  },
  {
   "cell_type": "code",
   "execution_count": 4,
   "metadata": {},
   "outputs": [],
   "source": [
    "def make_target_col_msfragger(row):\n",
    "    if row[\"Protein\"].startswith(\"rev\"):\n",
    "        return False\n",
    "    else:\n",
    "        return True\n",
    "    \n",
    "    \n",
    "#pulling only scan numbers out\n",
    "def extractScanNum(row):\n",
    "    return(int(row[35:40]))"
   ]
  },
  {
   "cell_type": "code",
   "execution_count": 5,
   "metadata": {},
   "outputs": [],
   "source": [
    "def get_PreMokaPot_data(file):\n",
    "    msf_df = data_loader.clean_msfragger(file)\n",
    "    msf_df = filter_data(msf_df)\n",
    "    \n",
    "    #Changing the probabilities to the same scale all the other tools use \n",
    "    msf_df[\"Updated_probability\"] = msf_df.apply(set_probablility, 1)\n",
    "    return msf_df"
   ]
  },
  {
   "cell_type": "code",
   "execution_count": 6,
   "metadata": {},
   "outputs": [],
   "source": [
    "def get_data_for_MokaPot(file):\n",
    "    msf_df = data_loader.clean_msfragger(file)\n",
    "    \n",
    "    msf_df[\"target_column\"] = msf_df.apply(make_target_col_msfragger, axis = 1)\n",
    "    \n",
    "     #Extracting scan number from file number\n",
    "    msf_df['scan'] =msf_df['scan'].apply(extractScanNum) \n",
    "    \n",
    "    msf_df = msf_df.rename(columns = {\"scan\": \"ScanNr\"})\n",
    "    \n",
    "    #Dropping columns that are not numerical values\n",
    "    msf_df = msf_df.drop(columns = {'Peptide', 'Spectrum File','Modified Peptide','Assigned Modifications',\n",
    "       'Observed Modifications', 'Gene', 'Mapped Genes', 'Mapped Proteins','Protein Description', \n",
    "       'Is Unique','Protein', 'Protein ID', 'Entry Name', 'Protein Description', 'temp_peptide', 'decoy'})\n",
    "    \n",
    "    #Changing the probabilities to the same scale all the other tools use. Dropping the old probability column\n",
    "    msf_df[\"Updated_probability\"] = msf_df.apply(set_probablility, 1)\n",
    "    msf_df = msf_df.drop(columns = 'probability')\n",
    "    \n",
    "    return msf_df\n",
    "    \n",
    "    "
   ]
  },
  {
   "cell_type": "code",
   "execution_count": 7,
   "metadata": {},
   "outputs": [],
   "source": [
    "def plot_qvalues(df, level=\"psms\", threshold=0.01, ax=None, **kwargs):\n",
    "    qvals = df[\"probability\"]\n",
    "\n",
    "    ax = plot_qvalues(qvals, threshold=threshold, ax=ax, **kwargs)\n",
    "    ax.set_xlabel(\"q-value\")\n",
    "    ax.set_ylabel(f\"Accepted {self._level_labs[level]}\")\n",
    "\n",
    "    return ax"
   ]
  },
  {
   "cell_type": "code",
   "execution_count": 8,
   "metadata": {},
   "outputs": [],
   "source": [
    "def plot_qvalues(qvalues, threshold=0.01, ax=None, **kwargs):\n",
    "    if ax is None:\n",
    "        ax = plt.gca()\n",
    "\n",
    "    # Calculate cumulative targets at each q-value\n",
    "    qvals = pd.Series(qvalues, name=\"qvalue\")\n",
    "    qvals = qvals.sort_values(ascending=True).to_frame()\n",
    "    qvals[\"target\"] = 1\n",
    "    qvals[\"num\"] = qvals[\"target\"].cumsum()\n",
    "    qvals = qvals.groupby([\"qvalue\"]).max().reset_index()\n",
    "    qvals = qvals[[\"qvalue\", \"num\"]]\n",
    "\n",
    "    zero = pd.DataFrame({\"qvalue\": qvals[\"qvalue\"][0], \"num\": 0}, index=[-1])\n",
    "    qvals = pd.concat([zero, qvals], sort=True).reset_index(drop=True)\n",
    "\n",
    "    xmargin = threshold * 0.05\n",
    "    ymax = qvals.num[qvals[\"qvalue\"] <= (threshold + xmargin)].max()\n",
    "    ymargin = ymax * 0.05\n",
    "\n",
    "    # Set margins\n",
    "    curr_ylims = ax.get_ylim()\n",
    "    if curr_ylims[1] < ymax + ymargin:\n",
    "        ax.set_ylim(0 - ymargin, ymax + ymargin)\n",
    "\n",
    "    ax.set_xlim(0 - xmargin, threshold + xmargin)\n",
    "    ax.set_xlabel(\"q-value\")\n",
    "    ax.set_ylabel(f\"Discoveries\")\n",
    "\n",
    "    ax.step(qvals[\"qvalue\"].values, qvals.num.values, where=\"post\", **kwargs)\n",
    "\n",
    "    return ax"
   ]
  },
  {
   "cell_type": "code",
   "execution_count": null,
   "metadata": {},
   "outputs": [],
   "source": []
  },
  {
   "cell_type": "code",
   "execution_count": 9,
   "metadata": {},
   "outputs": [
    {
     "name": "stdout",
     "output_type": "stream",
     "text": [
      "2ng\n"
     ]
    }
   ],
   "source": [
    "#Read all the files into a list here\n",
    "file_names = [\"2ng\"]\n",
    "\n",
    "for file in file_names:\n",
    "    print(file)"
   ]
  },
  {
   "cell_type": "code",
   "execution_count": 10,
   "metadata": {},
   "outputs": [],
   "source": [
    "for file in file_names:\n",
    "    msf_cleaned_df = get_PreMokaPot_data(file)\n",
    "    msf_df = get_data_for_MokaPot(file)\n",
    "    msf_for_MP = mokapot.dataset.LinearPsmDataset(msf_df, target_column = \"target_column\", spectrum_columns = \"ScanNr\", \n",
    "                                                 peptide_column = \"peptide\", protein_column=None, \n",
    "                                                 group_column=None, feature_columns=None, copy_data=True)\n",
    "\n",
    "    results, models = mokapot.brew(msf_for_MP)\n",
    "\n",
    "    results_df = results.psms\n",
    "    results_df.to_csv(\"MokaPot_Output/msfragger_\" + file + \".csv\")"
   ]
  },
  {
   "cell_type": "code",
   "execution_count": null,
   "metadata": {},
   "outputs": [],
   "source": []
  },
  {
   "cell_type": "code",
   "execution_count": 11,
   "metadata": {},
   "outputs": [
    {
     "data": {
      "text/plain": [
       "A mokapot.confidence.LinearConfidence object:\n",
       "\t- PSMs at q<=0.01: 13487\n",
       "\t- Peptides at q<=0.01: 11945"
      ]
     },
     "execution_count": 11,
     "metadata": {},
     "output_type": "execute_result"
    }
   ],
   "source": [
    "results"
   ]
  },
  {
   "cell_type": "code",
   "execution_count": 12,
   "metadata": {},
   "outputs": [
    {
     "data": {
      "image/png": "[encoded data removed]",
      "text/plain": [
       "<Figure size 432x288 with 1 Axes>"
      ]
     },
     "metadata": {
      "needs_background": "light"
     },
     "output_type": "display_data"
    }
   ],
   "source": [
    "plot_qvalues(msf_cleaned_df[\"Updated_probability\"], label=\"Pre-mokapot\")\n",
    "plt.title(\"Mokapot vs MsFragger\")\n",
    "results.plot_qvalues(label=\"mokapot\")\n",
    "plt.legend([\"preMoka\", \"Mokapot\"])\n",
    "\n",
    "plt.tight_layout()\n",
    "\n",
    "plt.show()"
   ]
  },
  {
   "cell_type": "code",
   "execution_count": 13,
   "metadata": {},
   "outputs": [
    {
     "name": "stdout",
     "output_type": "stream",
     "text": [
      "The number of PSMs found at or above 0.01: \n",
      "\tMsFragger: 11740\n",
      "\tMsFragger: 11733\n",
      "\tMsFragger and MokaPot: 13487\n"
     ]
    }
   ],
   "source": [
    "print(\"The number of PSMs found at or above 0.01: \") \n",
    "      \n",
    "print(\"\\t\" + \"MsFragger: \" + str(len(msf_cleaned_df[msf_cleaned_df['probability'] >= 0.99])))\n",
    "\n",
    "print(\"\\t\" + \"MsFragger: \" + str(len(msf_cleaned_df[msf_cleaned_df['Updated_probability'] <= 0.01])))\n",
    "\n",
    "print(\"\\t\"\"MsFragger and MokaPot: \" + str(len(results.psms[results.psms['mokapot q-value'] <= 0.01])))"
   ]
  },
  {
   "cell_type": "code",
   "execution_count": null,
   "metadata": {},
   "outputs": [],
   "source": []
  },
  {
   "cell_type": "code",
   "execution_count": null,
   "metadata": {},
   "outputs": [],
   "source": []
  },
  {
   "cell_type": "code",
   "execution_count": null,
   "metadata": {},
   "outputs": [],
   "source": []
  }
 ],
 "metadata": {
  "kernelspec": {
   "display_name": "Python 3",
   "language": "python",
   "name": "python3"
  },
  "language_info": {
   "codemirror_mode": {
    "name": "ipython",
    "version": 3
   },
   "file_extension": ".py",
   "mimetype": "text/x-python",
   "name": "python",
   "nbconvert_exporter": "python",
   "pygments_lexer": "ipython3",
   "version": "3.8.3"
  }
 },
 "nbformat": 4,
 "nbformat_minor": 4
}
