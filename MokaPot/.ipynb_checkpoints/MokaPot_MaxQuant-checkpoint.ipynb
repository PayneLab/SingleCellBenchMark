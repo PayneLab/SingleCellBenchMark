{
 "cells": [
  {
   "cell_type": "code",
   "execution_count": 1,
   "metadata": {},
   "outputs": [],
   "source": [
    "import os\n",
    "import mokapot\n",
    "import numpy as np\n",
    "import pandas as pd\n",
    "import matplotlib.pyplot as plt\n",
    "import sys\n",
    "sys.path.append(\"..\")\n",
    "sys.path\n",
    "import data_loader as dl"
   ]
  },
  {
   "cell_type": "markdown",
   "metadata": {},
   "source": [
    "The purpose of this function is to clean up the original 'before' data so that we are not counting decoys or duplicate scans. Mokapot needs the decoys, so they are only removed from the 'before' data."
   ]
  },
  {
   "cell_type": "code",
   "execution_count": 2,
   "metadata": {},
   "outputs": [],
   "source": [
    "def filter_data(df, cutoff, prob_column='PEP'):\n",
    "    #drop decoys\n",
    "    df = df[df[\"decoy\"]==False]\n",
    "    #sort by qvalue\n",
    "    df = df.sort_values(prob_column)\n",
    "    #drop duplicate scans\n",
    "    df = df.drop_duplicates(subset=[\"scan\"], keep=\"first\") #keep highest scoring\n",
    "\n",
    "    return df"
   ]
  },
  {
   "cell_type": "markdown",
   "metadata": {},
   "source": [
    "MokaPot needs a column that notates whether a scan was decoy or not. The \"make_decoy_col_maxquant\" function generates that column."
   ]
  },
  {
   "cell_type": "code",
   "execution_count": 3,
   "metadata": {},
   "outputs": [],
   "source": [
    "def make_decoy_col_maxquant(row):\n",
    "    if row[\"Reverse\"].startswith(\"+\"):\n",
    "        return False\n",
    "    else:\n",
    "        return True"
   ]
  },
  {
   "cell_type": "markdown",
   "metadata": {},
   "source": [
    "Here we read in the data and clean it up before we run it thorugh MokaPot. \n",
    "We drop any duplicate scans before the data is fed into MokaPot. We also change the scan number name so that all of our files will match in the end so we can merge them into one megascript. "
   ]
  },
  {
   "cell_type": "code",
   "execution_count": 4,
   "metadata": {},
   "outputs": [],
   "source": [
    "#Reading in the data and formatting it for MokaPot\n",
    "def get_data_for_MokaPot(filename):\n",
    "    mq_df =  dl.clean_maxquant(filename)\n",
    "    mq_df[\"target_column\"] = mq_df.apply(make_decoy_col_maxquant, axis = 1)\n",
    "    \n",
    "    \n",
    "    #Dropping any rows that are missing the sequence\n",
    "    mq_df['Sequence'].replace(' ', np.nan, inplace = True)\n",
    "    mq_df.dropna(subset=['Sequence'], inplace=True)\n",
    "    \n",
    "    #sort and drop duplicate scans\n",
    "    mq_df = mq_df.sort_values('PEP')\n",
    "    mq_df = mq_df.drop_duplicates(subset=[\"scan\"], keep=\"first\") #keep highest coring\n",
    "    \n",
    "    \n",
    "    mq_df = mq_df.rename(columns = {\"scan\": \"ScanNr\"})\n",
    "    \n",
    "    return mq_df"
   ]
  },
  {
   "cell_type": "markdown",
   "metadata": {},
   "source": [
    "This gives us back a dataset that drops the decoys, duplicate scans, and rows without a sequence number. It has not been ran through MokaPot. The purpose of this is to be able to count how many scans we originally have at or under a specific cutoff. "
   ]
  },
  {
   "cell_type": "code",
   "execution_count": 5,
   "metadata": {},
   "outputs": [],
   "source": [
    "def get_PreMokaPot_data(filename):\n",
    "    mq_df =  dl.clean_maxquant(filename)\n",
    "    \n",
    "#Formatting and dropping any rows that are missing the sequence (Do we still want this??)\n",
    "    mq_df['Sequence'].replace(' ', np.nan, inplace = True)\n",
    "    mq_df.dropna(subset=['Sequence'], inplace=True)\n",
    "    \n",
    "    mq_df = filter_data(mq_df, 0.01)\n",
    "    \n",
    "    return  mq_df\n"
   ]
  },
  {
   "cell_type": "markdown",
   "metadata": {},
   "source": [
    "This is code that was taken from the MokaPot program. It formats the data for the graphs. THe purpose of the graphs is to compare the preMokaPot data to the postMokaPot data and compare if we are getting more scans at or below a certain cutoff after running data through MokaPot. \n",
    "MaxQuant does not have a q value, so instead we are using the PEP. "
   ]
  },
  {
   "cell_type": "code",
   "execution_count": 6,
   "metadata": {},
   "outputs": [],
   "source": [
    "def plot_qvalues(df, level=\"psms\", threshold=0.01, ax=None, **kwargs):\n",
    "    qvals = df[\"PEP\"]\n",
    "\n",
    "    ax = plot_qvalues(qvals, threshold=threshold, ax=ax, **kwargs)\n",
    "    ax.set_xlabel(\"q-value\")\n",
    "    ax.set_ylabel(f\"Accepted {self._level_labs[level]}\")\n",
    "\n",
    "    return ax"
   ]
  },
  {
   "cell_type": "code",
   "execution_count": 7,
   "metadata": {},
   "outputs": [],
   "source": [
    "def plot_qvalues(qvalues, threshold=0.01, ax=None, **kwargs):\n",
    "    if ax is None:\n",
    "        ax = plt.gca()\n",
    "\n",
    "    # Calculate cumulative targets at each q-value\n",
    "    qvals = pd.Series(qvalues, name=\"qvalue\")\n",
    "    qvals = qvals.sort_values(ascending=True).to_frame()\n",
    "    qvals[\"target\"] = 1\n",
    "    qvals[\"num\"] = qvals[\"target\"].cumsum()\n",
    "    qvals = qvals.groupby([\"qvalue\"]).max().reset_index()\n",
    "    qvals = qvals[[\"qvalue\", \"num\"]]\n",
    "\n",
    "    zero = pd.DataFrame({\"qvalue\": qvals[\"qvalue\"][0], \"num\": 0}, index=[-1])\n",
    "    qvals = pd.concat([zero, qvals], sort=True).reset_index(drop=True)\n",
    "\n",
    "    xmargin = threshold * 0.05\n",
    "    ymax = qvals.num[qvals[\"qvalue\"] <= (threshold + xmargin)].max()\n",
    "    ymargin = ymax * 0.05\n",
    "\n",
    "    # Set margins\n",
    "    curr_ylims = ax.get_ylim()\n",
    "    if curr_ylims[1] < ymax + ymargin:\n",
    "        ax.set_ylim(0 - ymargin, ymax + ymargin)\n",
    "\n",
    "    ax.set_xlim(0 - xmargin, threshold + xmargin)\n",
    "    ax.set_xlabel(\"q-value\")\n",
    "    ax.set_ylabel(f\"Discoveries\")\n",
    "\n",
    "    ax.step(qvals[\"qvalue\"].values, qvals.num.values, where=\"post\", **kwargs)\n",
    "\n",
    "    return ax"
   ]
  },
  {
   "cell_type": "code",
   "execution_count": 8,
   "metadata": {},
   "outputs": [],
   "source": [
    "#all the files we want to run through MokaPot here \n",
    "file_names = [\"2ng_rep1\", \"2ng_rep2\", \"2ng_rep3\", \"2ng_rep4\", \"2ng_rep5\", \"2ng_rep6\",\n",
    "             \"0.2ng_rep1\", \"0.2ng_rep2\", \"0.2ng_rep3\", \"0.2ng_rep4\", \"0.2ng_rep5\", \"0.2ng_rep6\"]"
   ]
  },
  {
   "cell_type": "markdown",
   "metadata": {},
   "source": [
    "This is where we run each input file through MokaPot. Each file we read in is analyzed and the results are saved in a seperate output file.\n",
    "\n",
    "MokaPot requires feature columns that it uses to give each scan a new q value score. The columns from MaxQuant that we have chosen to use as features are: 'Precursor Intensity', 'Score','Length', 'Missed cleavages', 'm/z', 'Mass', 'Retention time', and 'Delta score'. 'Charge' is also used as an one hot encoding per the recommendation of the writer of MokaPot. "
   ]
  },
  {
   "cell_type": "code",
   "execution_count": 14,
   "metadata": {},
   "outputs": [
    {
     "name": "stderr",
     "output_type": "stream",
     "text": [
      "../data_loader.py:202: SettingWithCopyWarning: \n",
      "A value is trying to be set on a copy of a slice from a DataFrame.\n",
      "Try using .loc[row_indexer,col_indexer] = value instead\n",
      "\n",
      "See the caveats in the documentation: https://pandas.pydata.org/pandas-docs/stable/user_guide/indexing.html#returning-a-view-versus-a-copy\n",
      "  df['temp_peptide'] = df.apply(lambda row: format_oxidation(row, \"Modified sequence\", \"(Oxidation (M))\"), axis=1)\n",
      "../data_loader.py:203: SettingWithCopyWarning: \n",
      "A value is trying to be set on a copy of a slice from a DataFrame.\n",
      "Try using .loc[row_indexer,col_indexer] = value instead\n",
      "\n",
      "See the caveats in the documentation: https://pandas.pydata.org/pandas-docs/stable/user_guide/indexing.html#returning-a-view-versus-a-copy\n",
      "  df[\"temp_peptide\"] = df[\"temp_peptide\"].str[1:-1]\n",
      "../data_loader.py:205: SettingWithCopyWarning: \n",
      "A value is trying to be set on a copy of a slice from a DataFrame.\n",
      "Try using .loc[row_indexer,col_indexer] = value instead\n",
      "\n",
      "See the caveats in the documentation: https://pandas.pydata.org/pandas-docs/stable/user_guide/indexing.html#returning-a-view-versus-a-copy\n",
      "  df['Reverse'] = df['Reverse'].astype(str)\n",
      "../data_loader.py:206: SettingWithCopyWarning: \n",
      "A value is trying to be set on a copy of a slice from a DataFrame.\n",
      "Try using .loc[row_indexer,col_indexer] = value instead\n",
      "\n",
      "See the caveats in the documentation: https://pandas.pydata.org/pandas-docs/stable/user_guide/indexing.html#returning-a-view-versus-a-copy\n",
      "  df[\"decoy\"] = df.apply(lambda row: make_decoy_col_maxquant(row), axis=1)\n",
      "Missing values detected in the following features:\n",
      "  - Precursor Intensity\n",
      "Dropping features with missing values...\n"
     ]
    },
    {
     "name": "stdout",
     "output_type": "stream",
     "text": [
      "\n",
      "The number of PSMs found at or above 0.01 for file 2ng_rep1:\n",
      "\tMaxQuant: 7900\n",
      "\tMaxQuant and MokaPot: 11720\n"
     ]
    },
    {
     "name": "stderr",
     "output_type": "stream",
     "text": [
      "../data_loader.py:202: SettingWithCopyWarning: \n",
      "A value is trying to be set on a copy of a slice from a DataFrame.\n",
      "Try using .loc[row_indexer,col_indexer] = value instead\n",
      "\n",
      "See the caveats in the documentation: https://pandas.pydata.org/pandas-docs/stable/user_guide/indexing.html#returning-a-view-versus-a-copy\n",
      "  df['temp_peptide'] = df.apply(lambda row: format_oxidation(row, \"Modified sequence\", \"(Oxidation (M))\"), axis=1)\n",
      "../data_loader.py:203: SettingWithCopyWarning: \n",
      "A value is trying to be set on a copy of a slice from a DataFrame.\n",
      "Try using .loc[row_indexer,col_indexer] = value instead\n",
      "\n",
      "See the caveats in the documentation: https://pandas.pydata.org/pandas-docs/stable/user_guide/indexing.html#returning-a-view-versus-a-copy\n",
      "  df[\"temp_peptide\"] = df[\"temp_peptide\"].str[1:-1]\n",
      "../data_loader.py:205: SettingWithCopyWarning: \n",
      "A value is trying to be set on a copy of a slice from a DataFrame.\n",
      "Try using .loc[row_indexer,col_indexer] = value instead\n",
      "\n",
      "See the caveats in the documentation: https://pandas.pydata.org/pandas-docs/stable/user_guide/indexing.html#returning-a-view-versus-a-copy\n",
      "  df['Reverse'] = df['Reverse'].astype(str)\n",
      "../data_loader.py:206: SettingWithCopyWarning: \n",
      "A value is trying to be set on a copy of a slice from a DataFrame.\n",
      "Try using .loc[row_indexer,col_indexer] = value instead\n",
      "\n",
      "See the caveats in the documentation: https://pandas.pydata.org/pandas-docs/stable/user_guide/indexing.html#returning-a-view-versus-a-copy\n",
      "  df[\"decoy\"] = df.apply(lambda row: make_decoy_col_maxquant(row), axis=1)\n",
      "Missing values detected in the following features:\n",
      "  - Precursor Intensity\n",
      "Dropping features with missing values...\n"
     ]
    },
    {
     "name": "stdout",
     "output_type": "stream",
     "text": [
      "Warning: IRLS did not converge with maxIter = 50\n",
      "Warning: IRLS did not converge with maxIter = 50\n",
      "\n",
      "The number of PSMs found at or above 0.01 for file 2ng_rep2:\n",
      "\tMaxQuant: 8210\n",
      "\tMaxQuant and MokaPot: 11101\n"
     ]
    },
    {
     "name": "stderr",
     "output_type": "stream",
     "text": [
      "../data_loader.py:202: SettingWithCopyWarning: \n",
      "A value is trying to be set on a copy of a slice from a DataFrame.\n",
      "Try using .loc[row_indexer,col_indexer] = value instead\n",
      "\n",
      "See the caveats in the documentation: https://pandas.pydata.org/pandas-docs/stable/user_guide/indexing.html#returning-a-view-versus-a-copy\n",
      "  df['temp_peptide'] = df.apply(lambda row: format_oxidation(row, \"Modified sequence\", \"(Oxidation (M))\"), axis=1)\n",
      "../data_loader.py:203: SettingWithCopyWarning: \n",
      "A value is trying to be set on a copy of a slice from a DataFrame.\n",
      "Try using .loc[row_indexer,col_indexer] = value instead\n",
      "\n",
      "See the caveats in the documentation: https://pandas.pydata.org/pandas-docs/stable/user_guide/indexing.html#returning-a-view-versus-a-copy\n",
      "  df[\"temp_peptide\"] = df[\"temp_peptide\"].str[1:-1]\n",
      "../data_loader.py:205: SettingWithCopyWarning: \n",
      "A value is trying to be set on a copy of a slice from a DataFrame.\n",
      "Try using .loc[row_indexer,col_indexer] = value instead\n",
      "\n",
      "See the caveats in the documentation: https://pandas.pydata.org/pandas-docs/stable/user_guide/indexing.html#returning-a-view-versus-a-copy\n",
      "  df['Reverse'] = df['Reverse'].astype(str)\n",
      "../data_loader.py:206: SettingWithCopyWarning: \n",
      "A value is trying to be set on a copy of a slice from a DataFrame.\n",
      "Try using .loc[row_indexer,col_indexer] = value instead\n",
      "\n",
      "See the caveats in the documentation: https://pandas.pydata.org/pandas-docs/stable/user_guide/indexing.html#returning-a-view-versus-a-copy\n",
      "  df[\"decoy\"] = df.apply(lambda row: make_decoy_col_maxquant(row), axis=1)\n",
      "Missing values detected in the following features:\n",
      "  - Precursor Intensity\n",
      "Dropping features with missing values...\n"
     ]
    },
    {
     "name": "stdout",
     "output_type": "stream",
     "text": [
      "\n",
      "The number of PSMs found at or above 0.01 for file 2ng_rep3:\n",
      "\tMaxQuant: 6067\n",
      "\tMaxQuant and MokaPot: 9407\n"
     ]
    },
    {
     "name": "stderr",
     "output_type": "stream",
     "text": [
      "../data_loader.py:202: SettingWithCopyWarning: \n",
      "A value is trying to be set on a copy of a slice from a DataFrame.\n",
      "Try using .loc[row_indexer,col_indexer] = value instead\n",
      "\n",
      "See the caveats in the documentation: https://pandas.pydata.org/pandas-docs/stable/user_guide/indexing.html#returning-a-view-versus-a-copy\n",
      "  df['temp_peptide'] = df.apply(lambda row: format_oxidation(row, \"Modified sequence\", \"(Oxidation (M))\"), axis=1)\n",
      "../data_loader.py:203: SettingWithCopyWarning: \n",
      "A value is trying to be set on a copy of a slice from a DataFrame.\n",
      "Try using .loc[row_indexer,col_indexer] = value instead\n",
      "\n",
      "See the caveats in the documentation: https://pandas.pydata.org/pandas-docs/stable/user_guide/indexing.html#returning-a-view-versus-a-copy\n",
      "  df[\"temp_peptide\"] = df[\"temp_peptide\"].str[1:-1]\n",
      "../data_loader.py:205: SettingWithCopyWarning: \n",
      "A value is trying to be set on a copy of a slice from a DataFrame.\n",
      "Try using .loc[row_indexer,col_indexer] = value instead\n",
      "\n",
      "See the caveats in the documentation: https://pandas.pydata.org/pandas-docs/stable/user_guide/indexing.html#returning-a-view-versus-a-copy\n",
      "  df['Reverse'] = df['Reverse'].astype(str)\n",
      "../data_loader.py:206: SettingWithCopyWarning: \n",
      "A value is trying to be set on a copy of a slice from a DataFrame.\n",
      "Try using .loc[row_indexer,col_indexer] = value instead\n",
      "\n",
      "See the caveats in the documentation: https://pandas.pydata.org/pandas-docs/stable/user_guide/indexing.html#returning-a-view-versus-a-copy\n",
      "  df[\"decoy\"] = df.apply(lambda row: make_decoy_col_maxquant(row), axis=1)\n",
      "Missing values detected in the following features:\n",
      "  - Precursor Intensity\n",
      "Dropping features with missing values...\n"
     ]
    },
    {
     "name": "stdout",
     "output_type": "stream",
     "text": [
      "\n",
      "The number of PSMs found at or above 0.01 for file 2ng_rep4:\n",
      "\tMaxQuant: 6401\n",
      "\tMaxQuant and MokaPot: 9052\n"
     ]
    },
    {
     "name": "stderr",
     "output_type": "stream",
     "text": [
      "../data_loader.py:202: SettingWithCopyWarning: \n",
      "A value is trying to be set on a copy of a slice from a DataFrame.\n",
      "Try using .loc[row_indexer,col_indexer] = value instead\n",
      "\n",
      "See the caveats in the documentation: https://pandas.pydata.org/pandas-docs/stable/user_guide/indexing.html#returning-a-view-versus-a-copy\n",
      "  df['temp_peptide'] = df.apply(lambda row: format_oxidation(row, \"Modified sequence\", \"(Oxidation (M))\"), axis=1)\n",
      "../data_loader.py:203: SettingWithCopyWarning: \n",
      "A value is trying to be set on a copy of a slice from a DataFrame.\n",
      "Try using .loc[row_indexer,col_indexer] = value instead\n",
      "\n",
      "See the caveats in the documentation: https://pandas.pydata.org/pandas-docs/stable/user_guide/indexing.html#returning-a-view-versus-a-copy\n",
      "  df[\"temp_peptide\"] = df[\"temp_peptide\"].str[1:-1]\n",
      "../data_loader.py:205: SettingWithCopyWarning: \n",
      "A value is trying to be set on a copy of a slice from a DataFrame.\n",
      "Try using .loc[row_indexer,col_indexer] = value instead\n",
      "\n",
      "See the caveats in the documentation: https://pandas.pydata.org/pandas-docs/stable/user_guide/indexing.html#returning-a-view-versus-a-copy\n",
      "  df['Reverse'] = df['Reverse'].astype(str)\n",
      "../data_loader.py:206: SettingWithCopyWarning: \n",
      "A value is trying to be set on a copy of a slice from a DataFrame.\n",
      "Try using .loc[row_indexer,col_indexer] = value instead\n",
      "\n",
      "See the caveats in the documentation: https://pandas.pydata.org/pandas-docs/stable/user_guide/indexing.html#returning-a-view-versus-a-copy\n",
      "  df[\"decoy\"] = df.apply(lambda row: make_decoy_col_maxquant(row), axis=1)\n",
      "Missing values detected in the following features:\n",
      "  - Precursor Intensity\n",
      "Dropping features with missing values...\n"
     ]
    },
    {
     "name": "stdout",
     "output_type": "stream",
     "text": [
      "\n",
      "The number of PSMs found at or above 0.01 for file 2ng_rep5:\n",
      "\tMaxQuant: 11196\n",
      "\tMaxQuant and MokaPot: 14040\n"
     ]
    },
    {
     "name": "stderr",
     "output_type": "stream",
     "text": [
      "../data_loader.py:202: SettingWithCopyWarning: \n",
      "A value is trying to be set on a copy of a slice from a DataFrame.\n",
      "Try using .loc[row_indexer,col_indexer] = value instead\n",
      "\n",
      "See the caveats in the documentation: https://pandas.pydata.org/pandas-docs/stable/user_guide/indexing.html#returning-a-view-versus-a-copy\n",
      "  df['temp_peptide'] = df.apply(lambda row: format_oxidation(row, \"Modified sequence\", \"(Oxidation (M))\"), axis=1)\n",
      "../data_loader.py:203: SettingWithCopyWarning: \n",
      "A value is trying to be set on a copy of a slice from a DataFrame.\n",
      "Try using .loc[row_indexer,col_indexer] = value instead\n",
      "\n",
      "See the caveats in the documentation: https://pandas.pydata.org/pandas-docs/stable/user_guide/indexing.html#returning-a-view-versus-a-copy\n",
      "  df[\"temp_peptide\"] = df[\"temp_peptide\"].str[1:-1]\n",
      "../data_loader.py:205: SettingWithCopyWarning: \n",
      "A value is trying to be set on a copy of a slice from a DataFrame.\n",
      "Try using .loc[row_indexer,col_indexer] = value instead\n",
      "\n",
      "See the caveats in the documentation: https://pandas.pydata.org/pandas-docs/stable/user_guide/indexing.html#returning-a-view-versus-a-copy\n",
      "  df['Reverse'] = df['Reverse'].astype(str)\n",
      "../data_loader.py:206: SettingWithCopyWarning: \n",
      "A value is trying to be set on a copy of a slice from a DataFrame.\n",
      "Try using .loc[row_indexer,col_indexer] = value instead\n",
      "\n",
      "See the caveats in the documentation: https://pandas.pydata.org/pandas-docs/stable/user_guide/indexing.html#returning-a-view-versus-a-copy\n",
      "  df[\"decoy\"] = df.apply(lambda row: make_decoy_col_maxquant(row), axis=1)\n",
      "Missing values detected in the following features:\n",
      "  - Precursor Intensity\n",
      "Dropping features with missing values...\n"
     ]
    },
    {
     "name": "stdout",
     "output_type": "stream",
     "text": [
      "Warning: IRLS did not converge with maxIter = 50\n",
      "Warning: IRLS did not converge with maxIter = 50\n",
      "Warning: IRLS did not converge with maxIter = 50\n",
      "Warning: IRLS did not converge with maxIter = 50\n",
      "Warning: IRLS did not converge with maxIter = 50\n",
      "Warning: IRLS did not converge with maxIter = 50\n",
      "Warning: IRLS did not converge with maxIter = 50\n",
      "Warning: IRLS did not converge with maxIter = 50\n",
      "\n",
      "The number of PSMs found at or above 0.01 for file 2ng_rep6:\n",
      "\tMaxQuant: 10361\n",
      "\tMaxQuant and MokaPot: 13151\n"
     ]
    },
    {
     "name": "stderr",
     "output_type": "stream",
     "text": [
      "../data_loader.py:202: SettingWithCopyWarning: \n",
      "A value is trying to be set on a copy of a slice from a DataFrame.\n",
      "Try using .loc[row_indexer,col_indexer] = value instead\n",
      "\n",
      "See the caveats in the documentation: https://pandas.pydata.org/pandas-docs/stable/user_guide/indexing.html#returning-a-view-versus-a-copy\n",
      "  df['temp_peptide'] = df.apply(lambda row: format_oxidation(row, \"Modified sequence\", \"(Oxidation (M))\"), axis=1)\n",
      "../data_loader.py:203: SettingWithCopyWarning: \n",
      "A value is trying to be set on a copy of a slice from a DataFrame.\n",
      "Try using .loc[row_indexer,col_indexer] = value instead\n",
      "\n",
      "See the caveats in the documentation: https://pandas.pydata.org/pandas-docs/stable/user_guide/indexing.html#returning-a-view-versus-a-copy\n",
      "  df[\"temp_peptide\"] = df[\"temp_peptide\"].str[1:-1]\n",
      "../data_loader.py:205: SettingWithCopyWarning: \n",
      "A value is trying to be set on a copy of a slice from a DataFrame.\n",
      "Try using .loc[row_indexer,col_indexer] = value instead\n",
      "\n",
      "See the caveats in the documentation: https://pandas.pydata.org/pandas-docs/stable/user_guide/indexing.html#returning-a-view-versus-a-copy\n",
      "  df['Reverse'] = df['Reverse'].astype(str)\n",
      "../data_loader.py:206: SettingWithCopyWarning: \n",
      "A value is trying to be set on a copy of a slice from a DataFrame.\n",
      "Try using .loc[row_indexer,col_indexer] = value instead\n",
      "\n",
      "See the caveats in the documentation: https://pandas.pydata.org/pandas-docs/stable/user_guide/indexing.html#returning-a-view-versus-a-copy\n",
      "  df[\"decoy\"] = df.apply(lambda row: make_decoy_col_maxquant(row), axis=1)\n",
      "Missing values detected in the following features:\n",
      "  - Precursor Intensity\n",
      "Dropping features with missing values...\n"
     ]
    },
    {
     "name": "stdout",
     "output_type": "stream",
     "text": [
      "\n",
      "The number of PSMs found at or above 0.01 for file 0.2ng_rep1:\n",
      "\tMaxQuant: 4096\n",
      "\tMaxQuant and MokaPot: 6012\n"
     ]
    },
    {
     "name": "stderr",
     "output_type": "stream",
     "text": [
      "../data_loader.py:202: SettingWithCopyWarning: \n",
      "A value is trying to be set on a copy of a slice from a DataFrame.\n",
      "Try using .loc[row_indexer,col_indexer] = value instead\n",
      "\n",
      "See the caveats in the documentation: https://pandas.pydata.org/pandas-docs/stable/user_guide/indexing.html#returning-a-view-versus-a-copy\n",
      "  df['temp_peptide'] = df.apply(lambda row: format_oxidation(row, \"Modified sequence\", \"(Oxidation (M))\"), axis=1)\n",
      "../data_loader.py:203: SettingWithCopyWarning: \n",
      "A value is trying to be set on a copy of a slice from a DataFrame.\n",
      "Try using .loc[row_indexer,col_indexer] = value instead\n",
      "\n",
      "See the caveats in the documentation: https://pandas.pydata.org/pandas-docs/stable/user_guide/indexing.html#returning-a-view-versus-a-copy\n",
      "  df[\"temp_peptide\"] = df[\"temp_peptide\"].str[1:-1]\n",
      "../data_loader.py:205: SettingWithCopyWarning: \n",
      "A value is trying to be set on a copy of a slice from a DataFrame.\n",
      "Try using .loc[row_indexer,col_indexer] = value instead\n",
      "\n",
      "See the caveats in the documentation: https://pandas.pydata.org/pandas-docs/stable/user_guide/indexing.html#returning-a-view-versus-a-copy\n",
      "  df['Reverse'] = df['Reverse'].astype(str)\n",
      "../data_loader.py:206: SettingWithCopyWarning: \n",
      "A value is trying to be set on a copy of a slice from a DataFrame.\n",
      "Try using .loc[row_indexer,col_indexer] = value instead\n",
      "\n",
      "See the caveats in the documentation: https://pandas.pydata.org/pandas-docs/stable/user_guide/indexing.html#returning-a-view-versus-a-copy\n",
      "  df[\"decoy\"] = df.apply(lambda row: make_decoy_col_maxquant(row), axis=1)\n",
      "Missing values detected in the following features:\n",
      "  - Precursor Intensity\n",
      "Dropping features with missing values...\n"
     ]
    },
    {
     "name": "stdout",
     "output_type": "stream",
     "text": [
      "\n",
      "The number of PSMs found at or above 0.01 for file 0.2ng_rep2:\n",
      "\tMaxQuant: 4077\n",
      "\tMaxQuant and MokaPot: 6007\n"
     ]
    },
    {
     "name": "stderr",
     "output_type": "stream",
     "text": [
      "../data_loader.py:202: SettingWithCopyWarning: \n",
      "A value is trying to be set on a copy of a slice from a DataFrame.\n",
      "Try using .loc[row_indexer,col_indexer] = value instead\n",
      "\n",
      "See the caveats in the documentation: https://pandas.pydata.org/pandas-docs/stable/user_guide/indexing.html#returning-a-view-versus-a-copy\n",
      "  df['temp_peptide'] = df.apply(lambda row: format_oxidation(row, \"Modified sequence\", \"(Oxidation (M))\"), axis=1)\n",
      "../data_loader.py:203: SettingWithCopyWarning: \n",
      "A value is trying to be set on a copy of a slice from a DataFrame.\n",
      "Try using .loc[row_indexer,col_indexer] = value instead\n",
      "\n",
      "See the caveats in the documentation: https://pandas.pydata.org/pandas-docs/stable/user_guide/indexing.html#returning-a-view-versus-a-copy\n",
      "  df[\"temp_peptide\"] = df[\"temp_peptide\"].str[1:-1]\n",
      "../data_loader.py:205: SettingWithCopyWarning: \n",
      "A value is trying to be set on a copy of a slice from a DataFrame.\n",
      "Try using .loc[row_indexer,col_indexer] = value instead\n",
      "\n",
      "See the caveats in the documentation: https://pandas.pydata.org/pandas-docs/stable/user_guide/indexing.html#returning-a-view-versus-a-copy\n",
      "  df['Reverse'] = df['Reverse'].astype(str)\n",
      "../data_loader.py:206: SettingWithCopyWarning: \n",
      "A value is trying to be set on a copy of a slice from a DataFrame.\n",
      "Try using .loc[row_indexer,col_indexer] = value instead\n",
      "\n",
      "See the caveats in the documentation: https://pandas.pydata.org/pandas-docs/stable/user_guide/indexing.html#returning-a-view-versus-a-copy\n",
      "  df[\"decoy\"] = df.apply(lambda row: make_decoy_col_maxquant(row), axis=1)\n",
      "Missing values detected in the following features:\n",
      "  - Precursor Intensity\n",
      "Dropping features with missing values...\n"
     ]
    },
    {
     "name": "stdout",
     "output_type": "stream",
     "text": [
      "\n",
      "The number of PSMs found at or above 0.01 for file 0.2ng_rep3:\n",
      "\tMaxQuant: 2809\n",
      "\tMaxQuant and MokaPot: 4358\n"
     ]
    },
    {
     "name": "stderr",
     "output_type": "stream",
     "text": [
      "../data_loader.py:202: SettingWithCopyWarning: \n",
      "A value is trying to be set on a copy of a slice from a DataFrame.\n",
      "Try using .loc[row_indexer,col_indexer] = value instead\n",
      "\n",
      "See the caveats in the documentation: https://pandas.pydata.org/pandas-docs/stable/user_guide/indexing.html#returning-a-view-versus-a-copy\n",
      "  df['temp_peptide'] = df.apply(lambda row: format_oxidation(row, \"Modified sequence\", \"(Oxidation (M))\"), axis=1)\n",
      "../data_loader.py:203: SettingWithCopyWarning: \n",
      "A value is trying to be set on a copy of a slice from a DataFrame.\n",
      "Try using .loc[row_indexer,col_indexer] = value instead\n",
      "\n",
      "See the caveats in the documentation: https://pandas.pydata.org/pandas-docs/stable/user_guide/indexing.html#returning-a-view-versus-a-copy\n",
      "  df[\"temp_peptide\"] = df[\"temp_peptide\"].str[1:-1]\n",
      "../data_loader.py:205: SettingWithCopyWarning: \n",
      "A value is trying to be set on a copy of a slice from a DataFrame.\n",
      "Try using .loc[row_indexer,col_indexer] = value instead\n",
      "\n",
      "See the caveats in the documentation: https://pandas.pydata.org/pandas-docs/stable/user_guide/indexing.html#returning-a-view-versus-a-copy\n",
      "  df['Reverse'] = df['Reverse'].astype(str)\n",
      "../data_loader.py:206: SettingWithCopyWarning: \n",
      "A value is trying to be set on a copy of a slice from a DataFrame.\n",
      "Try using .loc[row_indexer,col_indexer] = value instead\n",
      "\n",
      "See the caveats in the documentation: https://pandas.pydata.org/pandas-docs/stable/user_guide/indexing.html#returning-a-view-versus-a-copy\n",
      "  df[\"decoy\"] = df.apply(lambda row: make_decoy_col_maxquant(row), axis=1)\n",
      "Missing values detected in the following features:\n",
      "  - Precursor Intensity\n",
      "Dropping features with missing values...\n"
     ]
    },
    {
     "name": "stdout",
     "output_type": "stream",
     "text": [
      "\n",
      "The number of PSMs found at or above 0.01 for file 0.2ng_rep4:\n",
      "\tMaxQuant: 2637\n",
      "\tMaxQuant and MokaPot: 4212\n"
     ]
    },
    {
     "name": "stderr",
     "output_type": "stream",
     "text": [
      "../data_loader.py:202: SettingWithCopyWarning: \n",
      "A value is trying to be set on a copy of a slice from a DataFrame.\n",
      "Try using .loc[row_indexer,col_indexer] = value instead\n",
      "\n",
      "See the caveats in the documentation: https://pandas.pydata.org/pandas-docs/stable/user_guide/indexing.html#returning-a-view-versus-a-copy\n",
      "  df['temp_peptide'] = df.apply(lambda row: format_oxidation(row, \"Modified sequence\", \"(Oxidation (M))\"), axis=1)\n",
      "../data_loader.py:203: SettingWithCopyWarning: \n",
      "A value is trying to be set on a copy of a slice from a DataFrame.\n",
      "Try using .loc[row_indexer,col_indexer] = value instead\n",
      "\n",
      "See the caveats in the documentation: https://pandas.pydata.org/pandas-docs/stable/user_guide/indexing.html#returning-a-view-versus-a-copy\n",
      "  df[\"temp_peptide\"] = df[\"temp_peptide\"].str[1:-1]\n",
      "../data_loader.py:205: SettingWithCopyWarning: \n",
      "A value is trying to be set on a copy of a slice from a DataFrame.\n",
      "Try using .loc[row_indexer,col_indexer] = value instead\n",
      "\n",
      "See the caveats in the documentation: https://pandas.pydata.org/pandas-docs/stable/user_guide/indexing.html#returning-a-view-versus-a-copy\n",
      "  df['Reverse'] = df['Reverse'].astype(str)\n",
      "../data_loader.py:206: SettingWithCopyWarning: \n",
      "A value is trying to be set on a copy of a slice from a DataFrame.\n",
      "Try using .loc[row_indexer,col_indexer] = value instead\n",
      "\n",
      "See the caveats in the documentation: https://pandas.pydata.org/pandas-docs/stable/user_guide/indexing.html#returning-a-view-versus-a-copy\n",
      "  df[\"decoy\"] = df.apply(lambda row: make_decoy_col_maxquant(row), axis=1)\n",
      "Missing values detected in the following features:\n",
      "  - Precursor Intensity\n",
      "Dropping features with missing values...\n"
     ]
    },
    {
     "name": "stdout",
     "output_type": "stream",
     "text": [
      "\n",
      "The number of PSMs found at or above 0.01 for file 0.2ng_rep5:\n",
      "\tMaxQuant: 3053\n",
      "\tMaxQuant and MokaPot: 4551\n"
     ]
    },
    {
     "name": "stderr",
     "output_type": "stream",
     "text": [
      "../data_loader.py:202: SettingWithCopyWarning: \n",
      "A value is trying to be set on a copy of a slice from a DataFrame.\n",
      "Try using .loc[row_indexer,col_indexer] = value instead\n",
      "\n",
      "See the caveats in the documentation: https://pandas.pydata.org/pandas-docs/stable/user_guide/indexing.html#returning-a-view-versus-a-copy\n",
      "  df['temp_peptide'] = df.apply(lambda row: format_oxidation(row, \"Modified sequence\", \"(Oxidation (M))\"), axis=1)\n",
      "../data_loader.py:203: SettingWithCopyWarning: \n",
      "A value is trying to be set on a copy of a slice from a DataFrame.\n",
      "Try using .loc[row_indexer,col_indexer] = value instead\n",
      "\n",
      "See the caveats in the documentation: https://pandas.pydata.org/pandas-docs/stable/user_guide/indexing.html#returning-a-view-versus-a-copy\n",
      "  df[\"temp_peptide\"] = df[\"temp_peptide\"].str[1:-1]\n",
      "../data_loader.py:205: SettingWithCopyWarning: \n",
      "A value is trying to be set on a copy of a slice from a DataFrame.\n",
      "Try using .loc[row_indexer,col_indexer] = value instead\n",
      "\n",
      "See the caveats in the documentation: https://pandas.pydata.org/pandas-docs/stable/user_guide/indexing.html#returning-a-view-versus-a-copy\n",
      "  df['Reverse'] = df['Reverse'].astype(str)\n",
      "../data_loader.py:206: SettingWithCopyWarning: \n",
      "A value is trying to be set on a copy of a slice from a DataFrame.\n",
      "Try using .loc[row_indexer,col_indexer] = value instead\n",
      "\n",
      "See the caveats in the documentation: https://pandas.pydata.org/pandas-docs/stable/user_guide/indexing.html#returning-a-view-versus-a-copy\n",
      "  df[\"decoy\"] = df.apply(lambda row: make_decoy_col_maxquant(row), axis=1)\n",
      "Missing values detected in the following features:\n",
      "  - Precursor Intensity\n",
      "Dropping features with missing values...\n"
     ]
    },
    {
     "name": "stdout",
     "output_type": "stream",
     "text": [
      "\n",
      "The number of PSMs found at or above 0.01 for file 0.2ng_rep6:\n",
      "\tMaxQuant: 2647\n",
      "\tMaxQuant and MokaPot: 4041\n"
     ]
    }
   ],
   "source": [
    "for file in file_names:\n",
    "    mq_cleaned_df = get_PreMokaPot_data(file)\n",
    "    mq_df = get_data_for_MokaPot(file)\n",
    "\n",
    "    charge_feat = pd.get_dummies(mq_df[\"Charge\"], prefix=\"Charge\")\n",
    "    mq_df = pd.concat([mq_df, charge_feat], axis=1)\n",
    "\n",
    "    mq_for_MP = mokapot.dataset.LinearPsmDataset(mq_df, target_column = \"target_column\", spectrum_columns = \"ScanNr\", \n",
    "                                                     peptide_column = \"peptide\", protein_column=None, \n",
    "                                                     group_column=None, feature_columns=(list(charge_feat.columns) + [\"Precursor Intensity\", 'Score', \n",
    "                                                                                                                      'Length', 'Missed cleavages', 'm/z', 'Mass', \n",
    "                                                                                                                      'Retention time', 'Delta score', ]), copy_data=True)\n",
    "    results, models = mokapot.brew(mq_for_MP)\n",
    "\n",
    "    results_df = results.psms\n",
    "    results_df.to_csv(\"MokaPot_Output/MaxQuant/mq_\" + file + \".csv\")\n",
    "    \n",
    "    print(\"\\n\" + \"The number of PSMs found at or above 0.01 for file \" + file + \":\")   \n",
    "    print(\"\\t\" + \"MaxQuant: \" + str(len(mq_cleaned_df[mq_cleaned_df['PEP'] <= 0.01])))\n",
    "    print(\"\\t\"\"MaxQuant and MokaPot: \" + str(len(results.psms[results.psms['mokapot q-value'] <= 0.01]))) "
   ]
  },
  {
   "cell_type": "markdown",
   "metadata": {},
   "source": [
    "Here we graph the results for pre and post MokaPot. We are plotting MaxQuant's PEP values against the q values that MokaPot improved on. "
   ]
  },
  {
   "cell_type": "code",
   "execution_count": 10,
   "metadata": {},
   "outputs": [
    {
     "data": {
      "image/png": "[encoded data removed]",
      "text/plain": [
       "<Figure size 432x288 with 1 Axes>"
      ]
     },
     "metadata": {
      "needs_background": "light"
     },
     "output_type": "display_data"
    }
   ],
   "source": [
    "plot_qvalues(mq_cleaned_df[\"PEP\"], label=\"Pre-mokapot\")\n",
    "plt.title(\"Mokapot vs MaxQuant\")\n",
    "results.plot_qvalues(label=\"mokapot\")\n",
    "plt.legend([\"preMoka\", \"Mokapot\"])\n",
    "plt.vlines(x = 0.01, ymin = 0, ymax = 12000)\n",
    "plt.tight_layout()\n",
    "\n",
    "plt.show()"
   ]
  },
  {
   "cell_type": "code",
   "execution_count": 11,
   "metadata": {},
   "outputs": [
    {
     "name": "stdout",
     "output_type": "stream",
     "text": [
      "The number of PSMs found at or above 0.01: \n",
      "\tMaxQuant: 2647\n",
      "\tMaxQuant and MokaPot: 4060\n"
     ]
    }
   ],
   "source": [
    "print(\"The number of PSMs found at or above 0.01: \") \n",
    "      \n",
    "print(\"\\t\" + \"MaxQuant: \" + str(len(mq_cleaned_df[mq_cleaned_df['PEP'] <= 0.01])))\n",
    "\n",
    "print(\"\\t\"\"MaxQuant and MokaPot: \" + str(len(results.psms[results.psms['mokapot q-value'] <= 0.01])))"
   ]
  },
  {
   "cell_type": "code",
   "execution_count": 12,
   "metadata": {},
   "outputs": [
    {
     "name": "stdout",
     "output_type": "stream",
     "text": [
      "12243\n",
      "8458\n"
     ]
    }
   ],
   "source": [
    "print(len(mq_cleaned_df))\n",
    "print(len(results.psms))"
   ]
  },
  {
   "cell_type": "code",
   "execution_count": null,
   "metadata": {},
   "outputs": [],
   "source": []
  }
 ],
 "metadata": {
  "kernelspec": {
   "display_name": "Python 3",
   "language": "python",
   "name": "python3"
  },
  "language_info": {
   "codemirror_mode": {
    "name": "ipython",
    "version": 3
   },
   "file_extension": ".py",
   "mimetype": "text/x-python",
   "name": "python",
   "nbconvert_exporter": "python",
   "pygments_lexer": "ipython3",
   "version": "3.8.3"
  }
 },
 "nbformat": 4,
 "nbformat_minor": 4
}
