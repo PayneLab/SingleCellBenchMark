{
 "cells": [
  {
   "cell_type": "code",
   "execution_count": 1,
   "metadata": {},
   "outputs": [],
   "source": [
    "import os\n",
    "import mokapot\n",
    "import numpy as np\n",
    "import pandas as pd\n",
    "import matplotlib.pyplot as plt\n",
    "import sys\n",
    "sys.path.append(\"..\")\n",
    "sys.path\n",
    "import data_loader as dl"
   ]
  },
  {
   "cell_type": "code",
   "execution_count": 2,
   "metadata": {},
   "outputs": [],
   "source": [
    "def filter_data(df, prob_column='QValue'):\n",
    "    #drop decoy\n",
    "    df = df[df[\"decoy\"]==False]\n",
    "    #sort by qvalue\n",
    "    df = df.sort_values(prob_column)\n",
    "    #drop duplicate scans\n",
    "    df = df.drop_duplicates(subset=[\"scan\"], keep=\"first\") #keep highest coring\n",
    " \n",
    "    return df"
   ]
  },
  {
   "cell_type": "code",
   "execution_count": 3,
   "metadata": {},
   "outputs": [],
   "source": [
    "def make_decoy_col_msgf(row):\n",
    "    if row[\"Protein\"].startswith(\"XXX_\"):\n",
    "        return False\n",
    "    else:\n",
    "        return True\n",
    "    "
   ]
  },
  {
   "cell_type": "code",
   "execution_count": 4,
   "metadata": {},
   "outputs": [],
   "source": [
    "def get_PreMokaPot_data(file):\n",
    "    msg_cleaned_df = dl.clean_msgfplus(file)\n",
    "    msg_cleaned_df = filter_data(msg_cleaned_df)\n",
    "    return msg_cleaned_df"
   ]
  },
  {
   "cell_type": "code",
   "execution_count": 5,
   "metadata": {},
   "outputs": [],
   "source": [
    "#Reading in the data and formatting it for MokaPot\n",
    "def get_data_for_MokaPot(file):\n",
    "    msg_df = dl.clean_msgfplus(file)\n",
    "    #adding target colum for MokaPot\n",
    "    msg_df[\"target_column\"] = msg_df.apply(make_decoy_col_msgf, axis = 1)\n",
    "    #sort by qvalue\n",
    "    msg_df = msg_df.sort_values('QValue')\n",
    "    #drop duplicate scans\n",
    "    msg_df = msg_df.drop_duplicates(subset=[\"scan\"], keep=\"first\") #keep highest scoring\n",
    "    \n",
    "    msg_df = msg_df.rename(columns = {\"scan\": \"ScanNr\"})\n",
    "    \n",
    "    #Dropping columns that do not have numerical values\n",
    "    msg_df = msg_df.drop(columns = {'Protein', 'SpecID', 'FragMethod', \n",
    "                                 '#SpecFile', 'Peptide', 'decoy'})\n",
    "    return msg_df"
   ]
  },
  {
   "cell_type": "code",
   "execution_count": 6,
   "metadata": {},
   "outputs": [],
   "source": [
    "def plot_qvalues(df, level=\"psms\", threshold=0.01, ax=None, **kwargs):\n",
    "    qvals = df[\"probability\"]\n",
    "\n",
    "    ax = plot_qvalues(qvals, threshold=threshold, ax=ax, **kwargs)\n",
    "    ax.set_xlabel(\"q-value\")\n",
    "    ax.set_ylabel(f\"Accepted {self._level_labs[level]}\")\n",
    "\n",
    "    return ax"
   ]
  },
  {
   "cell_type": "code",
   "execution_count": 7,
   "metadata": {},
   "outputs": [],
   "source": [
    "def plot_qvalues(qvalues, threshold=0.01, ax=None, **kwargs):\n",
    "    if ax is None:\n",
    "        ax = plt.gca()\n",
    "\n",
    "    # Calculate cumulative targets at each q-value\n",
    "    qvals = pd.Series(qvalues, name=\"qvalue\")\n",
    "    qvals = qvals.sort_values(ascending=True).to_frame()\n",
    "    qvals[\"target\"] = 1\n",
    "    qvals[\"num\"] = qvals[\"target\"].cumsum()\n",
    "    qvals = qvals.groupby([\"qvalue\"]).max().reset_index()\n",
    "    qvals = qvals[[\"qvalue\", \"num\"]]\n",
    "\n",
    "    zero = pd.DataFrame({\"qvalue\": qvals[\"qvalue\"][0], \"num\": 0}, index=[-1])\n",
    "    qvals = pd.concat([zero, qvals], sort=True).reset_index(drop=True)\n",
    "\n",
    "    xmargin = threshold * 0.05\n",
    "    ymax = qvals.num[qvals[\"qvalue\"] <= (threshold + xmargin)].max()\n",
    "    ymargin = ymax * 0.05\n",
    "\n",
    "    # Set margins\n",
    "    curr_ylims = ax.get_ylim()\n",
    "    if curr_ylims[1] < ymax + ymargin:\n",
    "        ax.set_ylim(0 - ymargin, ymax + ymargin)\n",
    "\n",
    "    ax.set_xlim(0 - xmargin, threshold + xmargin)\n",
    "    ax.set_xlabel(\"q-value\")\n",
    "    ax.set_ylabel(f\"Discoveries\")\n",
    "\n",
    "    ax.step(qvals[\"qvalue\"].values, qvals.num.values, where=\"post\", **kwargs)\n",
    "\n",
    "    return ax"
   ]
  },
  {
   "cell_type": "code",
   "execution_count": null,
   "metadata": {},
   "outputs": [],
   "source": [
    "\n"
   ]
  },
  {
   "cell_type": "code",
   "execution_count": 8,
   "metadata": {},
   "outputs": [
    {
     "name": "stdout",
     "output_type": "stream",
     "text": [
      "2ng_rep1\n",
      "2ng_rep2\n",
      "2ng_rep3\n",
      "2ng_rep4\n",
      "2ng_rep5\n",
      "2ng_rep6\n",
      "0.2ng_rep1\n",
      "0.2ng_rep2\n",
      "0.2ng_rep3\n",
      "0.2ng_rep4\n",
      "0.2ng_rep5\n",
      "0.2ng_rep6\n"
     ]
    }
   ],
   "source": [
    "#Read all the files into a list here\n",
    "file_names = [\"2ng_rep1\", \"2ng_rep2\", \"2ng_rep3\", \"2ng_rep4\", \"2ng_rep5\", \"2ng_rep6\",\n",
    "             \"0.2ng_rep1\", \"0.2ng_rep2\", \"0.2ng_rep3\", \"0.2ng_rep4\", \"0.2ng_rep5\", \"0.2ng_rep6\"]\n",
    "\n",
    "for file in file_names:\n",
    "    print(file)"
   ]
  },
  {
   "cell_type": "code",
   "execution_count": 9,
   "metadata": {},
   "outputs": [
    {
     "name": "stderr",
     "output_type": "stream",
     "text": [
      "WARNING:root:Learned model did not improve over the best feature. Now scoring by the best feature for each collection of PSMs.\n"
     ]
    }
   ],
   "source": [
    "for file in file_names:\n",
    "    msg_cleaned_df = get_PreMokaPot_data(file)\n",
    "    msg_df = get_data_for_MokaPot(file)\n",
    "\n",
    "    msg_for_MP = mokapot.dataset.LinearPsmDataset(msg_df, target_column = \"target_column\", spectrum_columns = \"ScanNr\", \n",
    "                                                 peptide_column = \"peptide\", protein_column=None, \n",
    "                                                 group_column=None, feature_columns=None, copy_data=True)\n",
    "    results, models = mokapot.brew(msg_for_MP)\n",
    "    \n",
    "    results_df = results.psms\n",
    "    results_df.to_csv(\"MokaPot_Output/MsgfPlus/msg_\" + file + \".csv\")"
   ]
  },
  {
   "cell_type": "code",
   "execution_count": 10,
   "metadata": {},
   "outputs": [],
   "source": [
    "\n",
    "#Handle all of this below later"
   ]
  },
  {
   "cell_type": "code",
   "execution_count": 11,
   "metadata": {},
   "outputs": [
    {
     "data": {
      "image/png": "[encoded data removed]",
      "text/plain": [
       "<Figure size 432x288 with 1 Axes>"
      ]
     },
     "metadata": {
      "needs_background": "light"
     },
     "output_type": "display_data"
    }
   ],
   "source": [
    "plot_qvalues(msg_cleaned_df[\"QValue\"], label=\"Pre-mokapot\")\n",
    "plt.title(\"Mokapot vs MsgfPlus\")\n",
    "results.plot_qvalues(label=\"mokapot\")\n",
    "plt.legend([\"preMoka\", \"Mokapot\"])\n",
    "\n",
    "plt.tight_layout()\n",
    "\n",
    "plt.show()"
   ]
  },
  {
   "cell_type": "code",
   "execution_count": 12,
   "metadata": {},
   "outputs": [
    {
     "name": "stdout",
     "output_type": "stream",
     "text": [
      "The number of PSMs found at or above 0.01: \n",
      "\tMsgfPlus: 4345\n",
      "\tMsgfPlus and MokaPot: 4548\n"
     ]
    }
   ],
   "source": [
    "print(\"The number of PSMs found at or above 0.01: \") \n",
    "      \n",
    "print(\"\\t\" + \"MsgfPlus: \" + str(len(msg_cleaned_df[msg_cleaned_df['QValue'] <= 0.01])))\n",
    "\n",
    "print(\"\\t\"\"MsgfPlus and MokaPot: \" + str(len(results.psms[results.psms['mokapot q-value'] <= 0.01])))"
   ]
  },
  {
   "cell_type": "code",
   "execution_count": null,
   "metadata": {},
   "outputs": [],
   "source": []
  },
  {
   "cell_type": "code",
   "execution_count": null,
   "metadata": {},
   "outputs": [],
   "source": [
    "\n"
   ]
  },
  {
   "cell_type": "code",
   "execution_count": null,
   "metadata": {},
   "outputs": [],
   "source": []
  },
  {
   "cell_type": "code",
   "execution_count": 13,
   "metadata": {},
   "outputs": [
    {
     "ename": "TypeError",
     "evalue": "get_data_for_MokaPot() missing 1 required positional argument: 'file'",
     "output_type": "error",
     "traceback": [
      "\u001b[0;31m---------------------------------------------------------------------------\u001b[0m",
      "\u001b[0;31mTypeError\u001b[0m                                 Traceback (most recent call last)",
      "\u001b[0;32m<ipython-input-13-b54c42a08c86>\u001b[0m in \u001b[0;36m<module>\u001b[0;34m\u001b[0m\n\u001b[0;32m----> 1\u001b[0;31m \u001b[0mmsg_df\u001b[0m \u001b[0;34m=\u001b[0m \u001b[0mget_data_for_MokaPot\u001b[0m\u001b[0;34m(\u001b[0m\u001b[0;34m)\u001b[0m\u001b[0;34m\u001b[0m\u001b[0;34m\u001b[0m\u001b[0m\n\u001b[0m\u001b[1;32m      2\u001b[0m \u001b[0;34m\u001b[0m\u001b[0m\n\u001b[1;32m      3\u001b[0m \u001b[0mmsg_df\u001b[0m \u001b[0;34m=\u001b[0m \u001b[0mdl\u001b[0m\u001b[0;34m.\u001b[0m\u001b[0mclean_msgfplus\u001b[0m\u001b[0;34m(\u001b[0m\u001b[0;34m\"2ng\"\u001b[0m\u001b[0;34m)\u001b[0m\u001b[0;34m\u001b[0m\u001b[0;34m\u001b[0m\u001b[0m\n\u001b[1;32m      4\u001b[0m     \u001b[0;31m#adding target colum for MokaPot\u001b[0m\u001b[0;34m\u001b[0m\u001b[0;34m\u001b[0m\u001b[0;34m\u001b[0m\u001b[0m\n\u001b[1;32m      5\u001b[0m \u001b[0mmsg_df\u001b[0m\u001b[0;34m[\u001b[0m\u001b[0;34m\"target_column\"\u001b[0m\u001b[0;34m]\u001b[0m \u001b[0;34m=\u001b[0m \u001b[0mmsg_df\u001b[0m\u001b[0;34m.\u001b[0m\u001b[0mapply\u001b[0m\u001b[0;34m(\u001b[0m\u001b[0mmake_decoy_col_msgf\u001b[0m\u001b[0;34m,\u001b[0m \u001b[0maxis\u001b[0m \u001b[0;34m=\u001b[0m \u001b[0;36m1\u001b[0m\u001b[0;34m)\u001b[0m\u001b[0;34m\u001b[0m\u001b[0;34m\u001b[0m\u001b[0m\n",
      "\u001b[0;31mTypeError\u001b[0m: get_data_for_MokaPot() missing 1 required positional argument: 'file'"
     ]
    }
   ],
   "source": [
    "msg_df = get_data_for_MokaPot()\n",
    "\n",
    "msg_df = dl.clean_msgfplus(\"2ng\")\n",
    "    #adding target colum for MokaPot\n",
    "msg_df[\"target_column\"] = msg_df.apply(make_decoy_col_msgf, axis = 1)\n",
    "    #sort by qvalue\n",
    "msg_df = msg_df.sort_values('QValue')\n",
    "    #drop duplicate scans\n",
    "msg_df = msg_df.drop_duplicates(subset=[\"scan\"], keep=\"first\") #keep highest coring\n",
    "    \n",
    "    #Dropping columns that do not have numerical values\n",
    "msg_df = msg_df.drop(columns = {'Protein', 'SpecID', 'FragMethod', \n",
    "                                '#SpecFile', 'Peptide', 'decoy', 'QValue', 'PepQValue'})\n",
    "    \n",
    "charge_feat = pd.get_dummies(msg_df[\"Charge\"], prefix=\"Charge\")\n",
    "msg_df = pd.concat([msg_df, charge_feat], axis=1)\n",
    "\n",
    "msg_for_MP = mokapot.dataset.LinearPsmDataset(msg_df, target_column = \"target_column\", spectrum_columns = (\"scan\"),\n",
    "                                            peptide_column = \"peptide\", protein_column=None, \n",
    "                                            group_column=None, feature_columns= (list(charge_feat.columns) + [\"IsotopeError\",  \n",
    "                                            \"PrecursorError(ppm)\", \"DeNovoScore\",\"MSGFScore\",\"SpecEValue\"]), copy_data=True)"
   ]
  },
  {
   "cell_type": "code",
   "execution_count": null,
   "metadata": {},
   "outputs": [],
   "source": [
    "results, models = mokapot.brew(msg_for_MP)"
   ]
  },
  {
   "cell_type": "code",
   "execution_count": null,
   "metadata": {},
   "outputs": [],
   "source": [
    "results"
   ]
  },
  {
   "cell_type": "code",
   "execution_count": null,
   "metadata": {},
   "outputs": [],
   "source": []
  },
  {
   "cell_type": "code",
   "execution_count": null,
   "metadata": {},
   "outputs": [],
   "source": []
  },
  {
   "cell_type": "code",
   "execution_count": null,
   "metadata": {},
   "outputs": [],
   "source": []
  },
  {
   "cell_type": "code",
   "execution_count": null,
   "metadata": {},
   "outputs": [],
   "source": []
  },
  {
   "cell_type": "code",
   "execution_count": null,
   "metadata": {},
   "outputs": [],
   "source": [
    "msgDF = get_data_for_MokaPot()\n",
    "msgDF"
   ]
  },
  {
   "cell_type": "code",
   "execution_count": null,
   "metadata": {},
   "outputs": [],
   "source": [
    "charge_feat = pd.get_dummies(msgDF[\"Charge\"], prefix=\"Charge\")\n",
    "msgDF = pd.concat([msgDF, charge_feat], axis=1)\n",
    "msgDF"
   ]
  }
 ],
 "metadata": {
  "kernelspec": {
   "display_name": "Python 3",
   "language": "python",
   "name": "python3"
  },
  "language_info": {
   "codemirror_mode": {
    "name": "ipython",
    "version": 3
   },
   "file_extension": ".py",
   "mimetype": "text/x-python",
   "name": "python",
   "nbconvert_exporter": "python",
   "pygments_lexer": "ipython3",
   "version": "3.8.3"
  }
 },
 "nbformat": 4,
 "nbformat_minor": 4
}
